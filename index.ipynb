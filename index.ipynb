{
 "cells": [
  {
   "cell_type": "code",
   "execution_count": 1,
   "id": "4fb311fb",
   "metadata": {
    "execution": {
     "iopub.execute_input": "2024-10-10T21:46:53.706144Z",
     "iopub.status.busy": "2024-10-10T21:46:53.705840Z",
     "iopub.status.idle": "2024-10-10T21:46:55.976651Z",
     "shell.execute_reply": "2024-10-10T21:46:55.975688Z"
    },
    "papermill": {
     "duration": 2.305518,
     "end_time": "2024-10-10T21:46:55.979015",
     "exception": false,
     "start_time": "2024-10-10T21:46:53.673497",
     "status": "completed"
    },
    "tags": []
   },
   "outputs": [],
   "source": [
    "import numpy as np\n",
    "import pandas as pd\n",
    "import matplotlib.pyplot as plt\n",
    "%matplotlib inline\n",
    "import seaborn as sns\n",
    "\n",
    "from sklearn.preprocessing import LabelEncoder\n",
    "from sklearn.linear_model import LogisticRegression\n",
    "from sklearn.model_selection import train_test_split\n",
    "\n",
    "import warnings as warnings\n",
    "warnings.filterwarnings('ignore')"
   ]
  },
  {
   "cell_type": "code",
   "execution_count": 2,
   "id": "8b950120",
   "metadata": {
    "execution": {
     "iopub.execute_input": "2024-10-10T21:46:56.041885Z",
     "iopub.status.busy": "2024-10-10T21:46:56.041437Z",
     "iopub.status.idle": "2024-10-10T21:47:09.705701Z",
     "shell.execute_reply": "2024-10-10T21:47:09.704756Z"
    },
    "papermill": {
     "duration": 13.698652,
     "end_time": "2024-10-10T21:47:09.708360",
     "exception": false,
     "start_time": "2024-10-10T21:46:56.009708",
     "status": "completed"
    },
    "tags": []
   },
   "outputs": [],
   "source": [
    "crashes = pd.read_csv('/kaggle/input/chicago-datasets/Traffic_Crashes_-_Crashes.csv')"
   ]
  },
  {
   "cell_type": "code",
   "execution_count": 3,
   "id": "01bb3e79",
   "metadata": {
    "execution": {
     "iopub.execute_input": "2024-10-10T21:47:09.780466Z",
     "iopub.status.busy": "2024-10-10T21:47:09.780108Z",
     "iopub.status.idle": "2024-10-10T21:47:09.818693Z",
     "shell.execute_reply": "2024-10-10T21:47:09.817695Z"
    },
    "papermill": {
     "duration": 0.077072,
     "end_time": "2024-10-10T21:47:09.820970",
     "exception": false,
     "start_time": "2024-10-10T21:47:09.743898",
     "status": "completed"
    },
    "tags": []
   },
   "outputs": [
    {
     "data": {
      "text/html": [
       "<div>\n",
       "<style scoped>\n",
       "    .dataframe tbody tr th:only-of-type {\n",
       "        vertical-align: middle;\n",
       "    }\n",
       "\n",
       "    .dataframe tbody tr th {\n",
       "        vertical-align: top;\n",
       "    }\n",
       "\n",
       "    .dataframe thead th {\n",
       "        text-align: right;\n",
       "    }\n",
       "</style>\n",
       "<table border=\"1\" class=\"dataframe\">\n",
       "  <thead>\n",
       "    <tr style=\"text-align: right;\">\n",
       "      <th></th>\n",
       "      <th>CRASH_RECORD_ID</th>\n",
       "      <th>CRASH_DATE_EST_I</th>\n",
       "      <th>CRASH_DATE</th>\n",
       "      <th>POSTED_SPEED_LIMIT</th>\n",
       "      <th>TRAFFIC_CONTROL_DEVICE</th>\n",
       "      <th>DEVICE_CONDITION</th>\n",
       "      <th>WEATHER_CONDITION</th>\n",
       "      <th>LIGHTING_CONDITION</th>\n",
       "      <th>FIRST_CRASH_TYPE</th>\n",
       "      <th>TRAFFICWAY_TYPE</th>\n",
       "      <th>...</th>\n",
       "      <th>INJURIES_NON_INCAPACITATING</th>\n",
       "      <th>INJURIES_REPORTED_NOT_EVIDENT</th>\n",
       "      <th>INJURIES_NO_INDICATION</th>\n",
       "      <th>INJURIES_UNKNOWN</th>\n",
       "      <th>CRASH_HOUR</th>\n",
       "      <th>CRASH_DAY_OF_WEEK</th>\n",
       "      <th>CRASH_MONTH</th>\n",
       "      <th>LATITUDE</th>\n",
       "      <th>LONGITUDE</th>\n",
       "      <th>LOCATION</th>\n",
       "    </tr>\n",
       "  </thead>\n",
       "  <tbody>\n",
       "    <tr>\n",
       "      <th>0</th>\n",
       "      <td>23a79931ef555d54118f64dc9be2cf2dbf59636ce253f7...</td>\n",
       "      <td>NaN</td>\n",
       "      <td>09/05/2023 07:05:00 PM</td>\n",
       "      <td>30</td>\n",
       "      <td>TRAFFIC SIGNAL</td>\n",
       "      <td>FUNCTIONING PROPERLY</td>\n",
       "      <td>CLEAR</td>\n",
       "      <td>DUSK</td>\n",
       "      <td>ANGLE</td>\n",
       "      <td>FIVE POINT, OR MORE</td>\n",
       "      <td>...</td>\n",
       "      <td>2.0</td>\n",
       "      <td>0.0</td>\n",
       "      <td>2.0</td>\n",
       "      <td>0.0</td>\n",
       "      <td>19</td>\n",
       "      <td>3</td>\n",
       "      <td>9</td>\n",
       "      <td>NaN</td>\n",
       "      <td>NaN</td>\n",
       "      <td>NaN</td>\n",
       "    </tr>\n",
       "    <tr>\n",
       "      <th>1</th>\n",
       "      <td>2675c13fd0f474d730a5b780968b3cafc7c12d7adb661f...</td>\n",
       "      <td>NaN</td>\n",
       "      <td>09/22/2023 06:45:00 PM</td>\n",
       "      <td>50</td>\n",
       "      <td>NO CONTROLS</td>\n",
       "      <td>NO CONTROLS</td>\n",
       "      <td>CLEAR</td>\n",
       "      <td>DARKNESS, LIGHTED ROAD</td>\n",
       "      <td>REAR END</td>\n",
       "      <td>DIVIDED - W/MEDIAN BARRIER</td>\n",
       "      <td>...</td>\n",
       "      <td>0.0</td>\n",
       "      <td>0.0</td>\n",
       "      <td>2.0</td>\n",
       "      <td>0.0</td>\n",
       "      <td>18</td>\n",
       "      <td>6</td>\n",
       "      <td>9</td>\n",
       "      <td>NaN</td>\n",
       "      <td>NaN</td>\n",
       "      <td>NaN</td>\n",
       "    </tr>\n",
       "    <tr>\n",
       "      <th>2</th>\n",
       "      <td>5f54a59fcb087b12ae5b1acff96a3caf4f2d37e79f8db4...</td>\n",
       "      <td>NaN</td>\n",
       "      <td>07/29/2023 02:45:00 PM</td>\n",
       "      <td>30</td>\n",
       "      <td>TRAFFIC SIGNAL</td>\n",
       "      <td>FUNCTIONING PROPERLY</td>\n",
       "      <td>CLEAR</td>\n",
       "      <td>DAYLIGHT</td>\n",
       "      <td>PARKED MOTOR VEHICLE</td>\n",
       "      <td>DIVIDED - W/MEDIAN (NOT RAISED)</td>\n",
       "      <td>...</td>\n",
       "      <td>0.0</td>\n",
       "      <td>0.0</td>\n",
       "      <td>1.0</td>\n",
       "      <td>0.0</td>\n",
       "      <td>14</td>\n",
       "      <td>7</td>\n",
       "      <td>7</td>\n",
       "      <td>41.85412</td>\n",
       "      <td>-87.665902</td>\n",
       "      <td>POINT (-87.665902342962 41.854120262952)</td>\n",
       "    </tr>\n",
       "    <tr>\n",
       "      <th>3</th>\n",
       "      <td>7ebf015016f83d09b321afd671a836d6b148330535d5df...</td>\n",
       "      <td>NaN</td>\n",
       "      <td>08/09/2023 11:00:00 PM</td>\n",
       "      <td>30</td>\n",
       "      <td>NO CONTROLS</td>\n",
       "      <td>NO CONTROLS</td>\n",
       "      <td>CLEAR</td>\n",
       "      <td>DARKNESS, LIGHTED ROAD</td>\n",
       "      <td>SIDESWIPE SAME DIRECTION</td>\n",
       "      <td>NOT DIVIDED</td>\n",
       "      <td>...</td>\n",
       "      <td>0.0</td>\n",
       "      <td>0.0</td>\n",
       "      <td>2.0</td>\n",
       "      <td>0.0</td>\n",
       "      <td>23</td>\n",
       "      <td>4</td>\n",
       "      <td>8</td>\n",
       "      <td>NaN</td>\n",
       "      <td>NaN</td>\n",
       "      <td>NaN</td>\n",
       "    </tr>\n",
       "    <tr>\n",
       "      <th>4</th>\n",
       "      <td>6c1659069e9c6285a650e70d6f9b574ed5f64c12888479...</td>\n",
       "      <td>NaN</td>\n",
       "      <td>08/18/2023 12:50:00 PM</td>\n",
       "      <td>15</td>\n",
       "      <td>OTHER</td>\n",
       "      <td>FUNCTIONING PROPERLY</td>\n",
       "      <td>CLEAR</td>\n",
       "      <td>DAYLIGHT</td>\n",
       "      <td>REAR END</td>\n",
       "      <td>OTHER</td>\n",
       "      <td>...</td>\n",
       "      <td>1.0</td>\n",
       "      <td>0.0</td>\n",
       "      <td>1.0</td>\n",
       "      <td>0.0</td>\n",
       "      <td>12</td>\n",
       "      <td>6</td>\n",
       "      <td>8</td>\n",
       "      <td>NaN</td>\n",
       "      <td>NaN</td>\n",
       "      <td>NaN</td>\n",
       "    </tr>\n",
       "  </tbody>\n",
       "</table>\n",
       "<p>5 rows × 48 columns</p>\n",
       "</div>"
      ],
      "text/plain": [
       "                                     CRASH_RECORD_ID CRASH_DATE_EST_I  \\\n",
       "0  23a79931ef555d54118f64dc9be2cf2dbf59636ce253f7...              NaN   \n",
       "1  2675c13fd0f474d730a5b780968b3cafc7c12d7adb661f...              NaN   \n",
       "2  5f54a59fcb087b12ae5b1acff96a3caf4f2d37e79f8db4...              NaN   \n",
       "3  7ebf015016f83d09b321afd671a836d6b148330535d5df...              NaN   \n",
       "4  6c1659069e9c6285a650e70d6f9b574ed5f64c12888479...              NaN   \n",
       "\n",
       "               CRASH_DATE  POSTED_SPEED_LIMIT TRAFFIC_CONTROL_DEVICE  \\\n",
       "0  09/05/2023 07:05:00 PM                  30         TRAFFIC SIGNAL   \n",
       "1  09/22/2023 06:45:00 PM                  50            NO CONTROLS   \n",
       "2  07/29/2023 02:45:00 PM                  30         TRAFFIC SIGNAL   \n",
       "3  08/09/2023 11:00:00 PM                  30            NO CONTROLS   \n",
       "4  08/18/2023 12:50:00 PM                  15                  OTHER   \n",
       "\n",
       "       DEVICE_CONDITION WEATHER_CONDITION      LIGHTING_CONDITION  \\\n",
       "0  FUNCTIONING PROPERLY             CLEAR                    DUSK   \n",
       "1           NO CONTROLS             CLEAR  DARKNESS, LIGHTED ROAD   \n",
       "2  FUNCTIONING PROPERLY             CLEAR                DAYLIGHT   \n",
       "3           NO CONTROLS             CLEAR  DARKNESS, LIGHTED ROAD   \n",
       "4  FUNCTIONING PROPERLY             CLEAR                DAYLIGHT   \n",
       "\n",
       "           FIRST_CRASH_TYPE                  TRAFFICWAY_TYPE  ...  \\\n",
       "0                     ANGLE              FIVE POINT, OR MORE  ...   \n",
       "1                  REAR END       DIVIDED - W/MEDIAN BARRIER  ...   \n",
       "2      PARKED MOTOR VEHICLE  DIVIDED - W/MEDIAN (NOT RAISED)  ...   \n",
       "3  SIDESWIPE SAME DIRECTION                      NOT DIVIDED  ...   \n",
       "4                  REAR END                            OTHER  ...   \n",
       "\n",
       "   INJURIES_NON_INCAPACITATING INJURIES_REPORTED_NOT_EVIDENT  \\\n",
       "0                          2.0                           0.0   \n",
       "1                          0.0                           0.0   \n",
       "2                          0.0                           0.0   \n",
       "3                          0.0                           0.0   \n",
       "4                          1.0                           0.0   \n",
       "\n",
       "  INJURIES_NO_INDICATION INJURIES_UNKNOWN CRASH_HOUR CRASH_DAY_OF_WEEK  \\\n",
       "0                    2.0              0.0         19                 3   \n",
       "1                    2.0              0.0         18                 6   \n",
       "2                    1.0              0.0         14                 7   \n",
       "3                    2.0              0.0         23                 4   \n",
       "4                    1.0              0.0         12                 6   \n",
       "\n",
       "  CRASH_MONTH  LATITUDE  LONGITUDE                                  LOCATION  \n",
       "0           9       NaN        NaN                                       NaN  \n",
       "1           9       NaN        NaN                                       NaN  \n",
       "2           7  41.85412 -87.665902  POINT (-87.665902342962 41.854120262952)  \n",
       "3           8       NaN        NaN                                       NaN  \n",
       "4           8       NaN        NaN                                       NaN  \n",
       "\n",
       "[5 rows x 48 columns]"
      ]
     },
     "execution_count": 3,
     "metadata": {},
     "output_type": "execute_result"
    }
   ],
   "source": [
    "crashes.head()"
   ]
  },
  {
   "cell_type": "code",
   "execution_count": 4,
   "id": "8471b511",
   "metadata": {
    "execution": {
     "iopub.execute_input": "2024-10-10T21:47:09.887819Z",
     "iopub.status.busy": "2024-10-10T21:47:09.887546Z",
     "iopub.status.idle": "2024-10-10T21:47:11.925844Z",
     "shell.execute_reply": "2024-10-10T21:47:11.924977Z"
    },
    "papermill": {
     "duration": 2.071908,
     "end_time": "2024-10-10T21:47:11.928252",
     "exception": false,
     "start_time": "2024-10-10T21:47:09.856344",
     "status": "completed"
    },
    "tags": []
   },
   "outputs": [
    {
     "name": "stdout",
     "output_type": "stream",
     "text": [
      "<class 'pandas.core.frame.DataFrame'>\n",
      "RangeIndex: 880397 entries, 0 to 880396\n",
      "Data columns (total 48 columns):\n",
      " #   Column                         Non-Null Count   Dtype  \n",
      "---  ------                         --------------   -----  \n",
      " 0   CRASH_RECORD_ID                880397 non-null  object \n",
      " 1   CRASH_DATE_EST_I               65239 non-null   object \n",
      " 2   CRASH_DATE                     880397 non-null  object \n",
      " 3   POSTED_SPEED_LIMIT             880397 non-null  int64  \n",
      " 4   TRAFFIC_CONTROL_DEVICE         880397 non-null  object \n",
      " 5   DEVICE_CONDITION               880397 non-null  object \n",
      " 6   WEATHER_CONDITION              880397 non-null  object \n",
      " 7   LIGHTING_CONDITION             880397 non-null  object \n",
      " 8   FIRST_CRASH_TYPE               880397 non-null  object \n",
      " 9   TRAFFICWAY_TYPE                880397 non-null  object \n",
      " 10  LANE_CNT                       199017 non-null  float64\n",
      " 11  ALIGNMENT                      880397 non-null  object \n",
      " 12  ROADWAY_SURFACE_COND           880397 non-null  object \n",
      " 13  ROAD_DEFECT                    880397 non-null  object \n",
      " 14  REPORT_TYPE                    853355 non-null  object \n",
      " 15  CRASH_TYPE                     880397 non-null  object \n",
      " 16  INTERSECTION_RELATED_I         201931 non-null  object \n",
      " 17  NOT_RIGHT_OF_WAY_I             40228 non-null   object \n",
      " 18  HIT_AND_RUN_I                  276057 non-null  object \n",
      " 19  DAMAGE                         880397 non-null  object \n",
      " 20  DATE_POLICE_NOTIFIED           880397 non-null  object \n",
      " 21  PRIM_CONTRIBUTORY_CAUSE        880397 non-null  object \n",
      " 22  SEC_CONTRIBUTORY_CAUSE         880397 non-null  object \n",
      " 23  STREET_NO                      880397 non-null  int64  \n",
      " 24  STREET_DIRECTION               880393 non-null  object \n",
      " 25  STREET_NAME                    880396 non-null  object \n",
      " 26  BEAT_OF_OCCURRENCE             880392 non-null  float64\n",
      " 27  PHOTOS_TAKEN_I                 11942 non-null   object \n",
      " 28  STATEMENTS_TAKEN_I             20155 non-null   object \n",
      " 29  DOORING_I                      2786 non-null    object \n",
      " 30  WORK_ZONE_I                    4967 non-null    object \n",
      " 31  WORK_ZONE_TYPE                 3837 non-null    object \n",
      " 32  WORKERS_PRESENT_I              1277 non-null    object \n",
      " 33  NUM_UNITS                      880397 non-null  int64  \n",
      " 34  MOST_SEVERE_INJURY             878441 non-null  object \n",
      " 35  INJURIES_TOTAL                 878455 non-null  float64\n",
      " 36  INJURIES_FATAL                 878455 non-null  float64\n",
      " 37  INJURIES_INCAPACITATING        878455 non-null  float64\n",
      " 38  INJURIES_NON_INCAPACITATING    878455 non-null  float64\n",
      " 39  INJURIES_REPORTED_NOT_EVIDENT  878455 non-null  float64\n",
      " 40  INJURIES_NO_INDICATION         878455 non-null  float64\n",
      " 41  INJURIES_UNKNOWN               878455 non-null  float64\n",
      " 42  CRASH_HOUR                     880397 non-null  int64  \n",
      " 43  CRASH_DAY_OF_WEEK              880397 non-null  int64  \n",
      " 44  CRASH_MONTH                    880397 non-null  int64  \n",
      " 45  LATITUDE                       874124 non-null  float64\n",
      " 46  LONGITUDE                      874124 non-null  float64\n",
      " 47  LOCATION                       874124 non-null  object \n",
      "dtypes: float64(11), int64(6), object(31)\n",
      "memory usage: 322.4+ MB\n"
     ]
    }
   ],
   "source": [
    "crashes.info()"
   ]
  },
  {
   "cell_type": "code",
   "execution_count": 5,
   "id": "4a6ff0e1",
   "metadata": {
    "execution": {
     "iopub.execute_input": "2024-10-10T21:47:11.990321Z",
     "iopub.status.busy": "2024-10-10T21:47:11.989969Z",
     "iopub.status.idle": "2024-10-10T21:47:12.492754Z",
     "shell.execute_reply": "2024-10-10T21:47:12.491872Z"
    },
    "papermill": {
     "duration": 0.536247,
     "end_time": "2024-10-10T21:47:12.495117",
     "exception": false,
     "start_time": "2024-10-10T21:47:11.958870",
     "status": "completed"
    },
    "tags": []
   },
   "outputs": [
    {
     "data": {
      "text/html": [
       "<div>\n",
       "<style scoped>\n",
       "    .dataframe tbody tr th:only-of-type {\n",
       "        vertical-align: middle;\n",
       "    }\n",
       "\n",
       "    .dataframe tbody tr th {\n",
       "        vertical-align: top;\n",
       "    }\n",
       "\n",
       "    .dataframe thead th {\n",
       "        text-align: right;\n",
       "    }\n",
       "</style>\n",
       "<table border=\"1\" class=\"dataframe\">\n",
       "  <thead>\n",
       "    <tr style=\"text-align: right;\">\n",
       "      <th></th>\n",
       "      <th>POSTED_SPEED_LIMIT</th>\n",
       "      <th>LANE_CNT</th>\n",
       "      <th>STREET_NO</th>\n",
       "      <th>BEAT_OF_OCCURRENCE</th>\n",
       "      <th>NUM_UNITS</th>\n",
       "      <th>INJURIES_TOTAL</th>\n",
       "      <th>INJURIES_FATAL</th>\n",
       "      <th>INJURIES_INCAPACITATING</th>\n",
       "      <th>INJURIES_NON_INCAPACITATING</th>\n",
       "      <th>INJURIES_REPORTED_NOT_EVIDENT</th>\n",
       "      <th>INJURIES_NO_INDICATION</th>\n",
       "      <th>INJURIES_UNKNOWN</th>\n",
       "      <th>CRASH_HOUR</th>\n",
       "      <th>CRASH_DAY_OF_WEEK</th>\n",
       "      <th>CRASH_MONTH</th>\n",
       "      <th>LATITUDE</th>\n",
       "      <th>LONGITUDE</th>\n",
       "    </tr>\n",
       "  </thead>\n",
       "  <tbody>\n",
       "    <tr>\n",
       "      <th>count</th>\n",
       "      <td>880397.000000</td>\n",
       "      <td>1.990170e+05</td>\n",
       "      <td>880397.000000</td>\n",
       "      <td>880392.000000</td>\n",
       "      <td>880397.000000</td>\n",
       "      <td>878455.000000</td>\n",
       "      <td>878455.000000</td>\n",
       "      <td>878455.000000</td>\n",
       "      <td>878455.000000</td>\n",
       "      <td>878455.000000</td>\n",
       "      <td>878455.000000</td>\n",
       "      <td>878455.0</td>\n",
       "      <td>880397.000000</td>\n",
       "      <td>880397.000000</td>\n",
       "      <td>880397.000000</td>\n",
       "      <td>874124.000000</td>\n",
       "      <td>874124.000000</td>\n",
       "    </tr>\n",
       "    <tr>\n",
       "      <th>mean</th>\n",
       "      <td>28.417869</td>\n",
       "      <td>1.332970e+01</td>\n",
       "      <td>3687.516283</td>\n",
       "      <td>1244.795019</td>\n",
       "      <td>2.035156</td>\n",
       "      <td>0.193559</td>\n",
       "      <td>0.001190</td>\n",
       "      <td>0.019827</td>\n",
       "      <td>0.108623</td>\n",
       "      <td>0.063920</td>\n",
       "      <td>2.001335</td>\n",
       "      <td>0.0</td>\n",
       "      <td>13.204423</td>\n",
       "      <td>4.121889</td>\n",
       "      <td>6.642730</td>\n",
       "      <td>41.855120</td>\n",
       "      <td>-87.673682</td>\n",
       "    </tr>\n",
       "    <tr>\n",
       "      <th>std</th>\n",
       "      <td>6.121812</td>\n",
       "      <td>2.961542e+03</td>\n",
       "      <td>2880.737882</td>\n",
       "      <td>705.003878</td>\n",
       "      <td>0.452478</td>\n",
       "      <td>0.571516</td>\n",
       "      <td>0.037385</td>\n",
       "      <td>0.164965</td>\n",
       "      <td>0.425052</td>\n",
       "      <td>0.325037</td>\n",
       "      <td>1.157204</td>\n",
       "      <td>0.0</td>\n",
       "      <td>5.573031</td>\n",
       "      <td>1.981378</td>\n",
       "      <td>3.363494</td>\n",
       "      <td>0.334126</td>\n",
       "      <td>0.678805</td>\n",
       "    </tr>\n",
       "    <tr>\n",
       "      <th>min</th>\n",
       "      <td>0.000000</td>\n",
       "      <td>0.000000e+00</td>\n",
       "      <td>0.000000</td>\n",
       "      <td>111.000000</td>\n",
       "      <td>1.000000</td>\n",
       "      <td>0.000000</td>\n",
       "      <td>0.000000</td>\n",
       "      <td>0.000000</td>\n",
       "      <td>0.000000</td>\n",
       "      <td>0.000000</td>\n",
       "      <td>0.000000</td>\n",
       "      <td>0.0</td>\n",
       "      <td>0.000000</td>\n",
       "      <td>1.000000</td>\n",
       "      <td>1.000000</td>\n",
       "      <td>0.000000</td>\n",
       "      <td>-87.936193</td>\n",
       "    </tr>\n",
       "    <tr>\n",
       "      <th>25%</th>\n",
       "      <td>30.000000</td>\n",
       "      <td>2.000000e+00</td>\n",
       "      <td>1250.000000</td>\n",
       "      <td>715.000000</td>\n",
       "      <td>2.000000</td>\n",
       "      <td>0.000000</td>\n",
       "      <td>0.000000</td>\n",
       "      <td>0.000000</td>\n",
       "      <td>0.000000</td>\n",
       "      <td>0.000000</td>\n",
       "      <td>1.000000</td>\n",
       "      <td>0.0</td>\n",
       "      <td>9.000000</td>\n",
       "      <td>2.000000</td>\n",
       "      <td>4.000000</td>\n",
       "      <td>41.783061</td>\n",
       "      <td>-87.721824</td>\n",
       "    </tr>\n",
       "    <tr>\n",
       "      <th>50%</th>\n",
       "      <td>30.000000</td>\n",
       "      <td>2.000000e+00</td>\n",
       "      <td>3201.000000</td>\n",
       "      <td>1212.000000</td>\n",
       "      <td>2.000000</td>\n",
       "      <td>0.000000</td>\n",
       "      <td>0.000000</td>\n",
       "      <td>0.000000</td>\n",
       "      <td>0.000000</td>\n",
       "      <td>0.000000</td>\n",
       "      <td>2.000000</td>\n",
       "      <td>0.0</td>\n",
       "      <td>14.000000</td>\n",
       "      <td>4.000000</td>\n",
       "      <td>7.000000</td>\n",
       "      <td>41.874952</td>\n",
       "      <td>-87.674228</td>\n",
       "    </tr>\n",
       "    <tr>\n",
       "      <th>75%</th>\n",
       "      <td>30.000000</td>\n",
       "      <td>4.000000e+00</td>\n",
       "      <td>5563.000000</td>\n",
       "      <td>1822.000000</td>\n",
       "      <td>2.000000</td>\n",
       "      <td>0.000000</td>\n",
       "      <td>0.000000</td>\n",
       "      <td>0.000000</td>\n",
       "      <td>0.000000</td>\n",
       "      <td>0.000000</td>\n",
       "      <td>2.000000</td>\n",
       "      <td>0.0</td>\n",
       "      <td>17.000000</td>\n",
       "      <td>6.000000</td>\n",
       "      <td>9.000000</td>\n",
       "      <td>41.924519</td>\n",
       "      <td>-87.633513</td>\n",
       "    </tr>\n",
       "    <tr>\n",
       "      <th>max</th>\n",
       "      <td>99.000000</td>\n",
       "      <td>1.191625e+06</td>\n",
       "      <td>451100.000000</td>\n",
       "      <td>6100.000000</td>\n",
       "      <td>18.000000</td>\n",
       "      <td>21.000000</td>\n",
       "      <td>4.000000</td>\n",
       "      <td>10.000000</td>\n",
       "      <td>21.000000</td>\n",
       "      <td>15.000000</td>\n",
       "      <td>61.000000</td>\n",
       "      <td>0.0</td>\n",
       "      <td>23.000000</td>\n",
       "      <td>7.000000</td>\n",
       "      <td>12.000000</td>\n",
       "      <td>42.022780</td>\n",
       "      <td>0.000000</td>\n",
       "    </tr>\n",
       "  </tbody>\n",
       "</table>\n",
       "</div>"
      ],
      "text/plain": [
       "       POSTED_SPEED_LIMIT      LANE_CNT      STREET_NO  BEAT_OF_OCCURRENCE  \\\n",
       "count       880397.000000  1.990170e+05  880397.000000       880392.000000   \n",
       "mean            28.417869  1.332970e+01    3687.516283         1244.795019   \n",
       "std              6.121812  2.961542e+03    2880.737882          705.003878   \n",
       "min              0.000000  0.000000e+00       0.000000          111.000000   \n",
       "25%             30.000000  2.000000e+00    1250.000000          715.000000   \n",
       "50%             30.000000  2.000000e+00    3201.000000         1212.000000   \n",
       "75%             30.000000  4.000000e+00    5563.000000         1822.000000   \n",
       "max             99.000000  1.191625e+06  451100.000000         6100.000000   \n",
       "\n",
       "           NUM_UNITS  INJURIES_TOTAL  INJURIES_FATAL  INJURIES_INCAPACITATING  \\\n",
       "count  880397.000000   878455.000000   878455.000000            878455.000000   \n",
       "mean        2.035156        0.193559        0.001190                 0.019827   \n",
       "std         0.452478        0.571516        0.037385                 0.164965   \n",
       "min         1.000000        0.000000        0.000000                 0.000000   \n",
       "25%         2.000000        0.000000        0.000000                 0.000000   \n",
       "50%         2.000000        0.000000        0.000000                 0.000000   \n",
       "75%         2.000000        0.000000        0.000000                 0.000000   \n",
       "max        18.000000       21.000000        4.000000                10.000000   \n",
       "\n",
       "       INJURIES_NON_INCAPACITATING  INJURIES_REPORTED_NOT_EVIDENT  \\\n",
       "count                878455.000000                  878455.000000   \n",
       "mean                      0.108623                       0.063920   \n",
       "std                       0.425052                       0.325037   \n",
       "min                       0.000000                       0.000000   \n",
       "25%                       0.000000                       0.000000   \n",
       "50%                       0.000000                       0.000000   \n",
       "75%                       0.000000                       0.000000   \n",
       "max                      21.000000                      15.000000   \n",
       "\n",
       "       INJURIES_NO_INDICATION  INJURIES_UNKNOWN     CRASH_HOUR  \\\n",
       "count           878455.000000          878455.0  880397.000000   \n",
       "mean                 2.001335               0.0      13.204423   \n",
       "std                  1.157204               0.0       5.573031   \n",
       "min                  0.000000               0.0       0.000000   \n",
       "25%                  1.000000               0.0       9.000000   \n",
       "50%                  2.000000               0.0      14.000000   \n",
       "75%                  2.000000               0.0      17.000000   \n",
       "max                 61.000000               0.0      23.000000   \n",
       "\n",
       "       CRASH_DAY_OF_WEEK    CRASH_MONTH       LATITUDE      LONGITUDE  \n",
       "count      880397.000000  880397.000000  874124.000000  874124.000000  \n",
       "mean            4.121889       6.642730      41.855120     -87.673682  \n",
       "std             1.981378       3.363494       0.334126       0.678805  \n",
       "min             1.000000       1.000000       0.000000     -87.936193  \n",
       "25%             2.000000       4.000000      41.783061     -87.721824  \n",
       "50%             4.000000       7.000000      41.874952     -87.674228  \n",
       "75%             6.000000       9.000000      41.924519     -87.633513  \n",
       "max             7.000000      12.000000      42.022780       0.000000  "
      ]
     },
     "execution_count": 5,
     "metadata": {},
     "output_type": "execute_result"
    }
   ],
   "source": [
    "crashes.describe()"
   ]
  },
  {
   "cell_type": "code",
   "execution_count": 6,
   "id": "067dec43",
   "metadata": {
    "execution": {
     "iopub.execute_input": "2024-10-10T21:47:12.559432Z",
     "iopub.status.busy": "2024-10-10T21:47:12.559097Z",
     "iopub.status.idle": "2024-10-10T21:47:16.346191Z",
     "shell.execute_reply": "2024-10-10T21:47:16.345157Z"
    },
    "papermill": {
     "duration": 3.820972,
     "end_time": "2024-10-10T21:47:16.348392",
     "exception": false,
     "start_time": "2024-10-10T21:47:12.527420",
     "status": "completed"
    },
    "tags": []
   },
   "outputs": [
    {
     "data": {
      "text/plain": [
       "False"
      ]
     },
     "execution_count": 6,
     "metadata": {},
     "output_type": "execute_result"
    }
   ],
   "source": [
    "#check for duplicates\n",
    "crashes.duplicated().values.any()"
   ]
  },
  {
   "cell_type": "code",
   "execution_count": 7,
   "id": "d1d9acfd",
   "metadata": {
    "execution": {
     "iopub.execute_input": "2024-10-10T21:47:16.411852Z",
     "iopub.status.busy": "2024-10-10T21:47:16.411548Z",
     "iopub.status.idle": "2024-10-10T21:47:16.415967Z",
     "shell.execute_reply": "2024-10-10T21:47:16.415177Z"
    },
    "papermill": {
     "duration": 0.038091,
     "end_time": "2024-10-10T21:47:16.417870",
     "exception": false,
     "start_time": "2024-10-10T21:47:16.379779",
     "status": "completed"
    },
    "tags": []
   },
   "outputs": [],
   "source": [
    "columns_to_drop = ['CRASH_DATE_EST_I', 'LANE_CNT', 'INTERSECTION_RELATED_I', 'NOT_RIGHT_OF_WAY_I', 'PHOTOS_TAKEN_I', 'STATEMENTS_TAKEN_I',\n",
    "                   'DOORING_I', 'WORK_ZONE_I', 'WORK_ZONE_TYPE', 'WORKERS_PRESENT_I', 'LATITUDE', 'LONGITUDE', 'LOCATION']"
   ]
  },
  {
   "cell_type": "code",
   "execution_count": 8,
   "id": "03cd2d9c",
   "metadata": {
    "execution": {
     "iopub.execute_input": "2024-10-10T21:47:16.480523Z",
     "iopub.status.busy": "2024-10-10T21:47:16.479867Z",
     "iopub.status.idle": "2024-10-10T21:47:16.655527Z",
     "shell.execute_reply": "2024-10-10T21:47:16.654727Z"
    },
    "papermill": {
     "duration": 0.209294,
     "end_time": "2024-10-10T21:47:16.657819",
     "exception": false,
     "start_time": "2024-10-10T21:47:16.448525",
     "status": "completed"
    },
    "tags": []
   },
   "outputs": [],
   "source": [
    "crashes.drop(columns=columns_to_drop, inplace=True)"
   ]
  },
  {
   "cell_type": "code",
   "execution_count": 9,
   "id": "01df6fad",
   "metadata": {
    "execution": {
     "iopub.execute_input": "2024-10-10T21:47:16.721492Z",
     "iopub.status.busy": "2024-10-10T21:47:16.721184Z",
     "iopub.status.idle": "2024-10-10T21:47:16.744659Z",
     "shell.execute_reply": "2024-10-10T21:47:16.743794Z"
    },
    "papermill": {
     "duration": 0.057028,
     "end_time": "2024-10-10T21:47:16.746525",
     "exception": false,
     "start_time": "2024-10-10T21:47:16.689497",
     "status": "completed"
    },
    "tags": []
   },
   "outputs": [
    {
     "data": {
      "text/html": [
       "<div>\n",
       "<style scoped>\n",
       "    .dataframe tbody tr th:only-of-type {\n",
       "        vertical-align: middle;\n",
       "    }\n",
       "\n",
       "    .dataframe tbody tr th {\n",
       "        vertical-align: top;\n",
       "    }\n",
       "\n",
       "    .dataframe thead th {\n",
       "        text-align: right;\n",
       "    }\n",
       "</style>\n",
       "<table border=\"1\" class=\"dataframe\">\n",
       "  <thead>\n",
       "    <tr style=\"text-align: right;\">\n",
       "      <th></th>\n",
       "      <th>CRASH_RECORD_ID</th>\n",
       "      <th>CRASH_DATE</th>\n",
       "      <th>POSTED_SPEED_LIMIT</th>\n",
       "      <th>TRAFFIC_CONTROL_DEVICE</th>\n",
       "      <th>DEVICE_CONDITION</th>\n",
       "      <th>WEATHER_CONDITION</th>\n",
       "      <th>LIGHTING_CONDITION</th>\n",
       "      <th>FIRST_CRASH_TYPE</th>\n",
       "      <th>TRAFFICWAY_TYPE</th>\n",
       "      <th>ALIGNMENT</th>\n",
       "      <th>...</th>\n",
       "      <th>INJURIES_TOTAL</th>\n",
       "      <th>INJURIES_FATAL</th>\n",
       "      <th>INJURIES_INCAPACITATING</th>\n",
       "      <th>INJURIES_NON_INCAPACITATING</th>\n",
       "      <th>INJURIES_REPORTED_NOT_EVIDENT</th>\n",
       "      <th>INJURIES_NO_INDICATION</th>\n",
       "      <th>INJURIES_UNKNOWN</th>\n",
       "      <th>CRASH_HOUR</th>\n",
       "      <th>CRASH_DAY_OF_WEEK</th>\n",
       "      <th>CRASH_MONTH</th>\n",
       "    </tr>\n",
       "  </thead>\n",
       "  <tbody>\n",
       "    <tr>\n",
       "      <th>0</th>\n",
       "      <td>23a79931ef555d54118f64dc9be2cf2dbf59636ce253f7...</td>\n",
       "      <td>09/05/2023 07:05:00 PM</td>\n",
       "      <td>30</td>\n",
       "      <td>TRAFFIC SIGNAL</td>\n",
       "      <td>FUNCTIONING PROPERLY</td>\n",
       "      <td>CLEAR</td>\n",
       "      <td>DUSK</td>\n",
       "      <td>ANGLE</td>\n",
       "      <td>FIVE POINT, OR MORE</td>\n",
       "      <td>STRAIGHT AND LEVEL</td>\n",
       "      <td>...</td>\n",
       "      <td>3.0</td>\n",
       "      <td>0.0</td>\n",
       "      <td>1.0</td>\n",
       "      <td>2.0</td>\n",
       "      <td>0.0</td>\n",
       "      <td>2.0</td>\n",
       "      <td>0.0</td>\n",
       "      <td>19</td>\n",
       "      <td>3</td>\n",
       "      <td>9</td>\n",
       "    </tr>\n",
       "    <tr>\n",
       "      <th>1</th>\n",
       "      <td>2675c13fd0f474d730a5b780968b3cafc7c12d7adb661f...</td>\n",
       "      <td>09/22/2023 06:45:00 PM</td>\n",
       "      <td>50</td>\n",
       "      <td>NO CONTROLS</td>\n",
       "      <td>NO CONTROLS</td>\n",
       "      <td>CLEAR</td>\n",
       "      <td>DARKNESS, LIGHTED ROAD</td>\n",
       "      <td>REAR END</td>\n",
       "      <td>DIVIDED - W/MEDIAN BARRIER</td>\n",
       "      <td>STRAIGHT AND LEVEL</td>\n",
       "      <td>...</td>\n",
       "      <td>0.0</td>\n",
       "      <td>0.0</td>\n",
       "      <td>0.0</td>\n",
       "      <td>0.0</td>\n",
       "      <td>0.0</td>\n",
       "      <td>2.0</td>\n",
       "      <td>0.0</td>\n",
       "      <td>18</td>\n",
       "      <td>6</td>\n",
       "      <td>9</td>\n",
       "    </tr>\n",
       "    <tr>\n",
       "      <th>2</th>\n",
       "      <td>5f54a59fcb087b12ae5b1acff96a3caf4f2d37e79f8db4...</td>\n",
       "      <td>07/29/2023 02:45:00 PM</td>\n",
       "      <td>30</td>\n",
       "      <td>TRAFFIC SIGNAL</td>\n",
       "      <td>FUNCTIONING PROPERLY</td>\n",
       "      <td>CLEAR</td>\n",
       "      <td>DAYLIGHT</td>\n",
       "      <td>PARKED MOTOR VEHICLE</td>\n",
       "      <td>DIVIDED - W/MEDIAN (NOT RAISED)</td>\n",
       "      <td>STRAIGHT AND LEVEL</td>\n",
       "      <td>...</td>\n",
       "      <td>0.0</td>\n",
       "      <td>0.0</td>\n",
       "      <td>0.0</td>\n",
       "      <td>0.0</td>\n",
       "      <td>0.0</td>\n",
       "      <td>1.0</td>\n",
       "      <td>0.0</td>\n",
       "      <td>14</td>\n",
       "      <td>7</td>\n",
       "      <td>7</td>\n",
       "    </tr>\n",
       "    <tr>\n",
       "      <th>3</th>\n",
       "      <td>7ebf015016f83d09b321afd671a836d6b148330535d5df...</td>\n",
       "      <td>08/09/2023 11:00:00 PM</td>\n",
       "      <td>30</td>\n",
       "      <td>NO CONTROLS</td>\n",
       "      <td>NO CONTROLS</td>\n",
       "      <td>CLEAR</td>\n",
       "      <td>DARKNESS, LIGHTED ROAD</td>\n",
       "      <td>SIDESWIPE SAME DIRECTION</td>\n",
       "      <td>NOT DIVIDED</td>\n",
       "      <td>STRAIGHT AND LEVEL</td>\n",
       "      <td>...</td>\n",
       "      <td>0.0</td>\n",
       "      <td>0.0</td>\n",
       "      <td>0.0</td>\n",
       "      <td>0.0</td>\n",
       "      <td>0.0</td>\n",
       "      <td>2.0</td>\n",
       "      <td>0.0</td>\n",
       "      <td>23</td>\n",
       "      <td>4</td>\n",
       "      <td>8</td>\n",
       "    </tr>\n",
       "    <tr>\n",
       "      <th>4</th>\n",
       "      <td>6c1659069e9c6285a650e70d6f9b574ed5f64c12888479...</td>\n",
       "      <td>08/18/2023 12:50:00 PM</td>\n",
       "      <td>15</td>\n",
       "      <td>OTHER</td>\n",
       "      <td>FUNCTIONING PROPERLY</td>\n",
       "      <td>CLEAR</td>\n",
       "      <td>DAYLIGHT</td>\n",
       "      <td>REAR END</td>\n",
       "      <td>OTHER</td>\n",
       "      <td>STRAIGHT AND LEVEL</td>\n",
       "      <td>...</td>\n",
       "      <td>1.0</td>\n",
       "      <td>0.0</td>\n",
       "      <td>0.0</td>\n",
       "      <td>1.0</td>\n",
       "      <td>0.0</td>\n",
       "      <td>1.0</td>\n",
       "      <td>0.0</td>\n",
       "      <td>12</td>\n",
       "      <td>6</td>\n",
       "      <td>8</td>\n",
       "    </tr>\n",
       "  </tbody>\n",
       "</table>\n",
       "<p>5 rows × 35 columns</p>\n",
       "</div>"
      ],
      "text/plain": [
       "                                     CRASH_RECORD_ID              CRASH_DATE  \\\n",
       "0  23a79931ef555d54118f64dc9be2cf2dbf59636ce253f7...  09/05/2023 07:05:00 PM   \n",
       "1  2675c13fd0f474d730a5b780968b3cafc7c12d7adb661f...  09/22/2023 06:45:00 PM   \n",
       "2  5f54a59fcb087b12ae5b1acff96a3caf4f2d37e79f8db4...  07/29/2023 02:45:00 PM   \n",
       "3  7ebf015016f83d09b321afd671a836d6b148330535d5df...  08/09/2023 11:00:00 PM   \n",
       "4  6c1659069e9c6285a650e70d6f9b574ed5f64c12888479...  08/18/2023 12:50:00 PM   \n",
       "\n",
       "   POSTED_SPEED_LIMIT TRAFFIC_CONTROL_DEVICE      DEVICE_CONDITION  \\\n",
       "0                  30         TRAFFIC SIGNAL  FUNCTIONING PROPERLY   \n",
       "1                  50            NO CONTROLS           NO CONTROLS   \n",
       "2                  30         TRAFFIC SIGNAL  FUNCTIONING PROPERLY   \n",
       "3                  30            NO CONTROLS           NO CONTROLS   \n",
       "4                  15                  OTHER  FUNCTIONING PROPERLY   \n",
       "\n",
       "  WEATHER_CONDITION      LIGHTING_CONDITION          FIRST_CRASH_TYPE  \\\n",
       "0             CLEAR                    DUSK                     ANGLE   \n",
       "1             CLEAR  DARKNESS, LIGHTED ROAD                  REAR END   \n",
       "2             CLEAR                DAYLIGHT      PARKED MOTOR VEHICLE   \n",
       "3             CLEAR  DARKNESS, LIGHTED ROAD  SIDESWIPE SAME DIRECTION   \n",
       "4             CLEAR                DAYLIGHT                  REAR END   \n",
       "\n",
       "                   TRAFFICWAY_TYPE           ALIGNMENT  ... INJURIES_TOTAL  \\\n",
       "0              FIVE POINT, OR MORE  STRAIGHT AND LEVEL  ...            3.0   \n",
       "1       DIVIDED - W/MEDIAN BARRIER  STRAIGHT AND LEVEL  ...            0.0   \n",
       "2  DIVIDED - W/MEDIAN (NOT RAISED)  STRAIGHT AND LEVEL  ...            0.0   \n",
       "3                      NOT DIVIDED  STRAIGHT AND LEVEL  ...            0.0   \n",
       "4                            OTHER  STRAIGHT AND LEVEL  ...            1.0   \n",
       "\n",
       "  INJURIES_FATAL INJURIES_INCAPACITATING INJURIES_NON_INCAPACITATING  \\\n",
       "0            0.0                     1.0                         2.0   \n",
       "1            0.0                     0.0                         0.0   \n",
       "2            0.0                     0.0                         0.0   \n",
       "3            0.0                     0.0                         0.0   \n",
       "4            0.0                     0.0                         1.0   \n",
       "\n",
       "  INJURIES_REPORTED_NOT_EVIDENT INJURIES_NO_INDICATION INJURIES_UNKNOWN  \\\n",
       "0                           0.0                    2.0              0.0   \n",
       "1                           0.0                    2.0              0.0   \n",
       "2                           0.0                    1.0              0.0   \n",
       "3                           0.0                    2.0              0.0   \n",
       "4                           0.0                    1.0              0.0   \n",
       "\n",
       "  CRASH_HOUR CRASH_DAY_OF_WEEK  CRASH_MONTH  \n",
       "0         19                 3            9  \n",
       "1         18                 6            9  \n",
       "2         14                 7            7  \n",
       "3         23                 4            8  \n",
       "4         12                 6            8  \n",
       "\n",
       "[5 rows x 35 columns]"
      ]
     },
     "execution_count": 9,
     "metadata": {},
     "output_type": "execute_result"
    }
   ],
   "source": [
    "crashes.head()"
   ]
  },
  {
   "cell_type": "code",
   "execution_count": 10,
   "id": "3c64e8b0",
   "metadata": {
    "execution": {
     "iopub.execute_input": "2024-10-10T21:47:16.810080Z",
     "iopub.status.busy": "2024-10-10T21:47:16.809756Z",
     "iopub.status.idle": "2024-10-10T21:47:18.486957Z",
     "shell.execute_reply": "2024-10-10T21:47:18.486065Z"
    },
    "papermill": {
     "duration": 1.710961,
     "end_time": "2024-10-10T21:47:18.488893",
     "exception": false,
     "start_time": "2024-10-10T21:47:16.777932",
     "status": "completed"
    },
    "tags": []
   },
   "outputs": [
    {
     "data": {
      "text/plain": [
       "CRASH_RECORD_ID                       0\n",
       "CRASH_DATE                            0\n",
       "POSTED_SPEED_LIMIT                    0\n",
       "TRAFFIC_CONTROL_DEVICE                0\n",
       "DEVICE_CONDITION                      0\n",
       "WEATHER_CONDITION                     0\n",
       "LIGHTING_CONDITION                    0\n",
       "FIRST_CRASH_TYPE                      0\n",
       "TRAFFICWAY_TYPE                       0\n",
       "ALIGNMENT                             0\n",
       "ROADWAY_SURFACE_COND                  0\n",
       "ROAD_DEFECT                           0\n",
       "REPORT_TYPE                       27042\n",
       "CRASH_TYPE                            0\n",
       "HIT_AND_RUN_I                    604340\n",
       "DAMAGE                                0\n",
       "DATE_POLICE_NOTIFIED                  0\n",
       "PRIM_CONTRIBUTORY_CAUSE               0\n",
       "SEC_CONTRIBUTORY_CAUSE                0\n",
       "STREET_NO                             0\n",
       "STREET_DIRECTION                      4\n",
       "STREET_NAME                           1\n",
       "BEAT_OF_OCCURRENCE                    5\n",
       "NUM_UNITS                             0\n",
       "MOST_SEVERE_INJURY                 1956\n",
       "INJURIES_TOTAL                     1942\n",
       "INJURIES_FATAL                     1942\n",
       "INJURIES_INCAPACITATING            1942\n",
       "INJURIES_NON_INCAPACITATING        1942\n",
       "INJURIES_REPORTED_NOT_EVIDENT      1942\n",
       "INJURIES_NO_INDICATION             1942\n",
       "INJURIES_UNKNOWN                   1942\n",
       "CRASH_HOUR                            0\n",
       "CRASH_DAY_OF_WEEK                     0\n",
       "CRASH_MONTH                           0\n",
       "dtype: int64"
      ]
     },
     "execution_count": 10,
     "metadata": {},
     "output_type": "execute_result"
    }
   ],
   "source": [
    "crashes.isnull().sum()"
   ]
  },
  {
   "cell_type": "code",
   "execution_count": 11,
   "id": "9a59a410",
   "metadata": {
    "execution": {
     "iopub.execute_input": "2024-10-10T21:47:18.552888Z",
     "iopub.status.busy": "2024-10-10T21:47:18.552592Z",
     "iopub.status.idle": "2024-10-10T21:47:18.690215Z",
     "shell.execute_reply": "2024-10-10T21:47:18.689371Z"
    },
    "papermill": {
     "duration": 0.171561,
     "end_time": "2024-10-10T21:47:18.692082",
     "exception": false,
     "start_time": "2024-10-10T21:47:18.520521",
     "status": "completed"
    },
    "tags": []
   },
   "outputs": [
    {
     "data": {
      "text/plain": [
       "REPORT_TYPE\n",
       "NOT ON SCENE (DESK REPORT)    480023\n",
       "ON SCENE                      373092\n",
       "AMENDED                          240\n",
       "Name: count, dtype: int64"
      ]
     },
     "execution_count": 11,
     "metadata": {},
     "output_type": "execute_result"
    }
   ],
   "source": [
    "crashes['REPORT_TYPE'].value_counts()"
   ]
  },
  {
   "cell_type": "code",
   "execution_count": 12,
   "id": "45d5824c",
   "metadata": {
    "execution": {
     "iopub.execute_input": "2024-10-10T21:47:18.756805Z",
     "iopub.status.busy": "2024-10-10T21:47:18.756530Z",
     "iopub.status.idle": "2024-10-10T21:47:18.768286Z",
     "shell.execute_reply": "2024-10-10T21:47:18.767594Z"
    },
    "papermill": {
     "duration": 0.045681,
     "end_time": "2024-10-10T21:47:18.770052",
     "exception": false,
     "start_time": "2024-10-10T21:47:18.724371",
     "status": "completed"
    },
    "tags": []
   },
   "outputs": [],
   "source": [
    "rows_to_remove = crashes[crashes['INJURIES_TOTAL'].isnull()].index"
   ]
  },
  {
   "cell_type": "code",
   "execution_count": 13,
   "id": "482e9362",
   "metadata": {
    "execution": {
     "iopub.execute_input": "2024-10-10T21:47:18.833881Z",
     "iopub.status.busy": "2024-10-10T21:47:18.833584Z",
     "iopub.status.idle": "2024-10-10T21:47:19.142341Z",
     "shell.execute_reply": "2024-10-10T21:47:19.141327Z"
    },
    "papermill": {
     "duration": 0.343549,
     "end_time": "2024-10-10T21:47:19.144889",
     "exception": false,
     "start_time": "2024-10-10T21:47:18.801340",
     "status": "completed"
    },
    "tags": []
   },
   "outputs": [],
   "source": [
    "crashes.drop(rows_to_remove, inplace=True)"
   ]
  },
  {
   "cell_type": "code",
   "execution_count": 14,
   "id": "33da0ee0",
   "metadata": {
    "execution": {
     "iopub.execute_input": "2024-10-10T21:47:19.210754Z",
     "iopub.status.busy": "2024-10-10T21:47:19.210393Z",
     "iopub.status.idle": "2024-10-10T21:47:20.861490Z",
     "shell.execute_reply": "2024-10-10T21:47:20.860464Z"
    },
    "papermill": {
     "duration": 1.685779,
     "end_time": "2024-10-10T21:47:20.863389",
     "exception": false,
     "start_time": "2024-10-10T21:47:19.177610",
     "status": "completed"
    },
    "tags": []
   },
   "outputs": [
    {
     "data": {
      "text/plain": [
       "CRASH_RECORD_ID                       0\n",
       "CRASH_DATE                            0\n",
       "POSTED_SPEED_LIMIT                    0\n",
       "TRAFFIC_CONTROL_DEVICE                0\n",
       "DEVICE_CONDITION                      0\n",
       "WEATHER_CONDITION                     0\n",
       "LIGHTING_CONDITION                    0\n",
       "FIRST_CRASH_TYPE                      0\n",
       "TRAFFICWAY_TYPE                       0\n",
       "ALIGNMENT                             0\n",
       "ROADWAY_SURFACE_COND                  0\n",
       "ROAD_DEFECT                           0\n",
       "REPORT_TYPE                       26992\n",
       "CRASH_TYPE                            0\n",
       "HIT_AND_RUN_I                    603201\n",
       "DAMAGE                                0\n",
       "DATE_POLICE_NOTIFIED                  0\n",
       "PRIM_CONTRIBUTORY_CAUSE               0\n",
       "SEC_CONTRIBUTORY_CAUSE                0\n",
       "STREET_NO                             0\n",
       "STREET_DIRECTION                      4\n",
       "STREET_NAME                           1\n",
       "BEAT_OF_OCCURRENCE                    5\n",
       "NUM_UNITS                             0\n",
       "MOST_SEVERE_INJURY                   14\n",
       "INJURIES_TOTAL                        0\n",
       "INJURIES_FATAL                        0\n",
       "INJURIES_INCAPACITATING               0\n",
       "INJURIES_NON_INCAPACITATING           0\n",
       "INJURIES_REPORTED_NOT_EVIDENT         0\n",
       "INJURIES_NO_INDICATION                0\n",
       "INJURIES_UNKNOWN                      0\n",
       "CRASH_HOUR                            0\n",
       "CRASH_DAY_OF_WEEK                     0\n",
       "CRASH_MONTH                           0\n",
       "dtype: int64"
      ]
     },
     "execution_count": 14,
     "metadata": {},
     "output_type": "execute_result"
    }
   ],
   "source": [
    "crashes.isnull().sum()"
   ]
  },
  {
   "cell_type": "code",
   "execution_count": 15,
   "id": "be192abd",
   "metadata": {
    "execution": {
     "iopub.execute_input": "2024-10-10T21:47:20.929913Z",
     "iopub.status.busy": "2024-10-10T21:47:20.929613Z",
     "iopub.status.idle": "2024-10-10T21:47:21.036920Z",
     "shell.execute_reply": "2024-10-10T21:47:21.036030Z"
    },
    "papermill": {
     "duration": 0.142071,
     "end_time": "2024-10-10T21:47:21.038824",
     "exception": false,
     "start_time": "2024-10-10T21:47:20.896753",
     "status": "completed"
    },
    "tags": []
   },
   "outputs": [
    {
     "data": {
      "text/plain": [
       "STREET_DIRECTION\n",
       "W    314446\n",
       "S    293477\n",
       "N    211079\n",
       "E     59449\n",
       "Name: count, dtype: int64"
      ]
     },
     "execution_count": 15,
     "metadata": {},
     "output_type": "execute_result"
    }
   ],
   "source": [
    "crashes['STREET_DIRECTION'].value_counts()"
   ]
  },
  {
   "cell_type": "code",
   "execution_count": 16,
   "id": "fb502ab8",
   "metadata": {
    "execution": {
     "iopub.execute_input": "2024-10-10T21:47:21.105493Z",
     "iopub.status.busy": "2024-10-10T21:47:21.105172Z",
     "iopub.status.idle": "2024-10-10T21:47:21.249282Z",
     "shell.execute_reply": "2024-10-10T21:47:21.248405Z"
    },
    "papermill": {
     "duration": 0.179815,
     "end_time": "2024-10-10T21:47:21.251186",
     "exception": false,
     "start_time": "2024-10-10T21:47:21.071371",
     "status": "completed"
    },
    "tags": []
   },
   "outputs": [
    {
     "data": {
      "text/plain": [
       "STREET_NAME\n",
       "WESTERN AVE        24007\n",
       "PULASKI RD         21221\n",
       "CICERO AVE         19743\n",
       "ASHLAND AVE        19095\n",
       "HALSTED ST         17013\n",
       "                   ...  \n",
       "MCCORMICK BLVD.        1\n",
       "POST 16 ST             1\n",
       "RWY 22L                1\n",
       "FRANKLIN SD            1\n",
       "SCIENCE DR             1\n",
       "Name: count, Length: 1645, dtype: int64"
      ]
     },
     "execution_count": 16,
     "metadata": {},
     "output_type": "execute_result"
    }
   ],
   "source": [
    "crashes['STREET_NAME'].value_counts()"
   ]
  },
  {
   "cell_type": "code",
   "execution_count": 17,
   "id": "eb292968",
   "metadata": {
    "execution": {
     "iopub.execute_input": "2024-10-10T21:47:21.353558Z",
     "iopub.status.busy": "2024-10-10T21:47:21.352844Z",
     "iopub.status.idle": "2024-10-10T21:47:21.494141Z",
     "shell.execute_reply": "2024-10-10T21:47:21.493210Z"
    },
    "papermill": {
     "duration": 0.176511,
     "end_time": "2024-10-10T21:47:21.496119",
     "exception": false,
     "start_time": "2024-10-10T21:47:21.319608",
     "status": "completed"
    },
    "tags": []
   },
   "outputs": [
    {
     "data": {
      "text/plain": [
       "MOST_SEVERE_INJURY\n",
       "NO INDICATION OF INJURY     755170\n",
       "NONINCAPACITATING INJURY     69320\n",
       "REPORTED, NOT EVIDENT        38189\n",
       "INCAPACITATING INJURY        14798\n",
       "FATAL                          964\n",
       "Name: count, dtype: int64"
      ]
     },
     "execution_count": 17,
     "metadata": {},
     "output_type": "execute_result"
    }
   ],
   "source": [
    "crashes['MOST_SEVERE_INJURY'].value_counts()"
   ]
  },
  {
   "cell_type": "code",
   "execution_count": 18,
   "id": "84f9a3c0",
   "metadata": {
    "execution": {
     "iopub.execute_input": "2024-10-10T21:47:21.562590Z",
     "iopub.status.busy": "2024-10-10T21:47:21.562298Z",
     "iopub.status.idle": "2024-10-10T21:47:21.585425Z",
     "shell.execute_reply": "2024-10-10T21:47:21.584552Z"
    },
    "papermill": {
     "duration": 0.058418,
     "end_time": "2024-10-10T21:47:21.587264",
     "exception": false,
     "start_time": "2024-10-10T21:47:21.528846",
     "status": "completed"
    },
    "tags": []
   },
   "outputs": [
    {
     "data": {
      "text/plain": [
       "BEAT_OF_OCCURRENCE\n",
       "1834.0    10674\n",
       "114.0      9091\n",
       "813.0      8872\n",
       "815.0      8378\n",
       "1831.0     8038\n",
       "          ...  \n",
       "1653.0      479\n",
       "1655.0      294\n",
       "1652.0      229\n",
       "1650.0       68\n",
       "6100.0        7\n",
       "Name: count, Length: 276, dtype: int64"
      ]
     },
     "execution_count": 18,
     "metadata": {},
     "output_type": "execute_result"
    }
   ],
   "source": [
    "crashes['BEAT_OF_OCCURRENCE'].value_counts()"
   ]
  },
  {
   "cell_type": "code",
   "execution_count": 19,
   "id": "daf854d9",
   "metadata": {
    "execution": {
     "iopub.execute_input": "2024-10-10T21:47:21.653419Z",
     "iopub.status.busy": "2024-10-10T21:47:21.652843Z",
     "iopub.status.idle": "2024-10-10T21:47:21.715555Z",
     "shell.execute_reply": "2024-10-10T21:47:21.714703Z"
    },
    "papermill": {
     "duration": 0.098251,
     "end_time": "2024-10-10T21:47:21.717712",
     "exception": false,
     "start_time": "2024-10-10T21:47:21.619461",
     "status": "completed"
    },
    "tags": []
   },
   "outputs": [
    {
     "data": {
      "text/plain": [
       "HIT_AND_RUN_I\n",
       "Y    263547\n",
       "N     11707\n",
       "Name: count, dtype: int64"
      ]
     },
     "execution_count": 19,
     "metadata": {},
     "output_type": "execute_result"
    }
   ],
   "source": [
    "crashes['HIT_AND_RUN_I'].value_counts()"
   ]
  },
  {
   "cell_type": "code",
   "execution_count": 20,
   "id": "7ce29e8d",
   "metadata": {
    "execution": {
     "iopub.execute_input": "2024-10-10T21:47:21.785613Z",
     "iopub.status.busy": "2024-10-10T21:47:21.784977Z",
     "iopub.status.idle": "2024-10-10T21:47:22.422900Z",
     "shell.execute_reply": "2024-10-10T21:47:22.421973Z"
    },
    "papermill": {
     "duration": 0.67394,
     "end_time": "2024-10-10T21:47:22.425283",
     "exception": false,
     "start_time": "2024-10-10T21:47:21.751343",
     "status": "completed"
    },
    "tags": []
   },
   "outputs": [],
   "source": [
    "#filling null values  with most frequent values.\n",
    "mf_street_direction = crashes['STREET_DIRECTION'].mode()[0]\n",
    "mf_most_severe_injury = crashes['MOST_SEVERE_INJURY'].mode()[0] \n",
    "mf_street_name = crashes['STREET_NAME'].mode()[0]\n",
    "\n",
    "crashes['STREET_DIRECTION'].fillna(mf_street_direction, inplace=True)\n",
    "crashes['MOST_SEVERE_INJURY'].fillna(mf_most_severe_injury, inplace=True)\n",
    "crashes['STREET_NAME'].fillna(mf_street_name, inplace=True)"
   ]
  },
  {
   "cell_type": "code",
   "execution_count": 21,
   "id": "fe3c7d57",
   "metadata": {
    "execution": {
     "iopub.execute_input": "2024-10-10T21:47:22.505321Z",
     "iopub.status.busy": "2024-10-10T21:47:22.504449Z",
     "iopub.status.idle": "2024-10-10T21:47:22.821712Z",
     "shell.execute_reply": "2024-10-10T21:47:22.820716Z"
    },
    "papermill": {
     "duration": 0.365005,
     "end_time": "2024-10-10T21:47:22.824608",
     "exception": false,
     "start_time": "2024-10-10T21:47:22.459603",
     "status": "completed"
    },
    "tags": []
   },
   "outputs": [],
   "source": [
    "crashes.drop(columns=['REPORT_TYPE', 'BEAT_OF_OCCURRENCE', 'HIT_AND_RUN_I'], inplace=True)"
   ]
  },
  {
   "cell_type": "code",
   "execution_count": 22,
   "id": "2fa3ad28",
   "metadata": {
    "execution": {
     "iopub.execute_input": "2024-10-10T21:47:22.900306Z",
     "iopub.status.busy": "2024-10-10T21:47:22.899095Z",
     "iopub.status.idle": "2024-10-10T21:47:24.415962Z",
     "shell.execute_reply": "2024-10-10T21:47:24.415061Z"
    },
    "papermill": {
     "duration": 1.55628,
     "end_time": "2024-10-10T21:47:24.418176",
     "exception": false,
     "start_time": "2024-10-10T21:47:22.861896",
     "status": "completed"
    },
    "tags": []
   },
   "outputs": [
    {
     "data": {
      "text/plain": [
       "CRASH_RECORD_ID                  0\n",
       "CRASH_DATE                       0\n",
       "POSTED_SPEED_LIMIT               0\n",
       "TRAFFIC_CONTROL_DEVICE           0\n",
       "DEVICE_CONDITION                 0\n",
       "WEATHER_CONDITION                0\n",
       "LIGHTING_CONDITION               0\n",
       "FIRST_CRASH_TYPE                 0\n",
       "TRAFFICWAY_TYPE                  0\n",
       "ALIGNMENT                        0\n",
       "ROADWAY_SURFACE_COND             0\n",
       "ROAD_DEFECT                      0\n",
       "CRASH_TYPE                       0\n",
       "DAMAGE                           0\n",
       "DATE_POLICE_NOTIFIED             0\n",
       "PRIM_CONTRIBUTORY_CAUSE          0\n",
       "SEC_CONTRIBUTORY_CAUSE           0\n",
       "STREET_NO                        0\n",
       "STREET_DIRECTION                 0\n",
       "STREET_NAME                      0\n",
       "NUM_UNITS                        0\n",
       "MOST_SEVERE_INJURY               0\n",
       "INJURIES_TOTAL                   0\n",
       "INJURIES_FATAL                   0\n",
       "INJURIES_INCAPACITATING          0\n",
       "INJURIES_NON_INCAPACITATING      0\n",
       "INJURIES_REPORTED_NOT_EVIDENT    0\n",
       "INJURIES_NO_INDICATION           0\n",
       "INJURIES_UNKNOWN                 0\n",
       "CRASH_HOUR                       0\n",
       "CRASH_DAY_OF_WEEK                0\n",
       "CRASH_MONTH                      0\n",
       "dtype: int64"
      ]
     },
     "execution_count": 22,
     "metadata": {},
     "output_type": "execute_result"
    }
   ],
   "source": [
    "crashes.isnull().sum()"
   ]
  },
  {
   "cell_type": "code",
   "execution_count": 23,
   "id": "9cd199ee",
   "metadata": {
    "execution": {
     "iopub.execute_input": "2024-10-10T21:47:24.485054Z",
     "iopub.status.busy": "2024-10-10T21:47:24.484678Z",
     "iopub.status.idle": "2024-10-10T21:47:46.845924Z",
     "shell.execute_reply": "2024-10-10T21:47:46.845035Z"
    },
    "papermill": {
     "duration": 22.397128,
     "end_time": "2024-10-10T21:47:46.848210",
     "exception": false,
     "start_time": "2024-10-10T21:47:24.451082",
     "status": "completed"
    },
    "tags": []
   },
   "outputs": [],
   "source": [
    "vehicles = pd.read_csv('/kaggle/input/chicago-datasets/Traffic_Crashes_-_Vehicles.csv')"
   ]
  },
  {
   "cell_type": "code",
   "execution_count": 24,
   "id": "b094e94d",
   "metadata": {
    "execution": {
     "iopub.execute_input": "2024-10-10T21:47:46.915488Z",
     "iopub.status.busy": "2024-10-10T21:47:46.914713Z",
     "iopub.status.idle": "2024-10-10T21:47:46.936367Z",
     "shell.execute_reply": "2024-10-10T21:47:46.935519Z"
    },
    "papermill": {
     "duration": 0.056894,
     "end_time": "2024-10-10T21:47:46.938185",
     "exception": false,
     "start_time": "2024-10-10T21:47:46.881291",
     "status": "completed"
    },
    "tags": []
   },
   "outputs": [
    {
     "data": {
      "text/html": [
       "<div>\n",
       "<style scoped>\n",
       "    .dataframe tbody tr th:only-of-type {\n",
       "        vertical-align: middle;\n",
       "    }\n",
       "\n",
       "    .dataframe tbody tr th {\n",
       "        vertical-align: top;\n",
       "    }\n",
       "\n",
       "    .dataframe thead th {\n",
       "        text-align: right;\n",
       "    }\n",
       "</style>\n",
       "<table border=\"1\" class=\"dataframe\">\n",
       "  <thead>\n",
       "    <tr style=\"text-align: right;\">\n",
       "      <th></th>\n",
       "      <th>CRASH_UNIT_ID</th>\n",
       "      <th>CRASH_RECORD_ID</th>\n",
       "      <th>CRASH_DATE</th>\n",
       "      <th>UNIT_NO</th>\n",
       "      <th>UNIT_TYPE</th>\n",
       "      <th>NUM_PASSENGERS</th>\n",
       "      <th>VEHICLE_ID</th>\n",
       "      <th>CMRC_VEH_I</th>\n",
       "      <th>MAKE</th>\n",
       "      <th>MODEL</th>\n",
       "      <th>...</th>\n",
       "      <th>TRAILER1_LENGTH</th>\n",
       "      <th>TRAILER2_LENGTH</th>\n",
       "      <th>TOTAL_VEHICLE_LENGTH</th>\n",
       "      <th>AXLE_CNT</th>\n",
       "      <th>VEHICLE_CONFIG</th>\n",
       "      <th>CARGO_BODY_TYPE</th>\n",
       "      <th>LOAD_TYPE</th>\n",
       "      <th>HAZMAT_OUT_OF_SERVICE_I</th>\n",
       "      <th>MCS_OUT_OF_SERVICE_I</th>\n",
       "      <th>HAZMAT_CLASS</th>\n",
       "    </tr>\n",
       "  </thead>\n",
       "  <tbody>\n",
       "    <tr>\n",
       "      <th>0</th>\n",
       "      <td>1727162</td>\n",
       "      <td>f5943b05f46b8d4148a63b7506a59113eae0cf1075aabc...</td>\n",
       "      <td>12/21/2023 08:57:00 AM</td>\n",
       "      <td>2</td>\n",
       "      <td>PEDESTRIAN</td>\n",
       "      <td>NaN</td>\n",
       "      <td>NaN</td>\n",
       "      <td>NaN</td>\n",
       "      <td>NaN</td>\n",
       "      <td>NaN</td>\n",
       "      <td>...</td>\n",
       "      <td>NaN</td>\n",
       "      <td>NaN</td>\n",
       "      <td>NaN</td>\n",
       "      <td>NaN</td>\n",
       "      <td>NaN</td>\n",
       "      <td>NaN</td>\n",
       "      <td>NaN</td>\n",
       "      <td>NaN</td>\n",
       "      <td>NaN</td>\n",
       "      <td>NaN</td>\n",
       "    </tr>\n",
       "    <tr>\n",
       "      <th>1</th>\n",
       "      <td>1717556</td>\n",
       "      <td>7b1763088507f77e0e552c009a6bf89a4d6330c7527706...</td>\n",
       "      <td>12/06/2023 03:24:00 PM</td>\n",
       "      <td>1</td>\n",
       "      <td>DRIVER</td>\n",
       "      <td>NaN</td>\n",
       "      <td>1634931.0</td>\n",
       "      <td>NaN</td>\n",
       "      <td>NISSAN</td>\n",
       "      <td>SENTRA</td>\n",
       "      <td>...</td>\n",
       "      <td>NaN</td>\n",
       "      <td>NaN</td>\n",
       "      <td>NaN</td>\n",
       "      <td>NaN</td>\n",
       "      <td>NaN</td>\n",
       "      <td>NaN</td>\n",
       "      <td>NaN</td>\n",
       "      <td>NaN</td>\n",
       "      <td>NaN</td>\n",
       "      <td>NaN</td>\n",
       "    </tr>\n",
       "    <tr>\n",
       "      <th>2</th>\n",
       "      <td>1717574</td>\n",
       "      <td>2603ff5a88f0b9b54576934c5ed4e4a64e8278e005687b...</td>\n",
       "      <td>12/06/2023 04:00:00 PM</td>\n",
       "      <td>2</td>\n",
       "      <td>DRIVER</td>\n",
       "      <td>NaN</td>\n",
       "      <td>1634978.0</td>\n",
       "      <td>NaN</td>\n",
       "      <td>CHRYSLER</td>\n",
       "      <td>SEBRING</td>\n",
       "      <td>...</td>\n",
       "      <td>NaN</td>\n",
       "      <td>NaN</td>\n",
       "      <td>NaN</td>\n",
       "      <td>NaN</td>\n",
       "      <td>NaN</td>\n",
       "      <td>NaN</td>\n",
       "      <td>NaN</td>\n",
       "      <td>NaN</td>\n",
       "      <td>NaN</td>\n",
       "      <td>NaN</td>\n",
       "    </tr>\n",
       "    <tr>\n",
       "      <th>3</th>\n",
       "      <td>1717579</td>\n",
       "      <td>a52ef70e33d468b855b5be44e8638a564434dcf99c0edf...</td>\n",
       "      <td>12/06/2023 04:30:00 PM</td>\n",
       "      <td>1</td>\n",
       "      <td>DRIVER</td>\n",
       "      <td>NaN</td>\n",
       "      <td>1634948.0</td>\n",
       "      <td>NaN</td>\n",
       "      <td>SUBARU</td>\n",
       "      <td>OUTBACK</td>\n",
       "      <td>...</td>\n",
       "      <td>NaN</td>\n",
       "      <td>NaN</td>\n",
       "      <td>NaN</td>\n",
       "      <td>NaN</td>\n",
       "      <td>NaN</td>\n",
       "      <td>NaN</td>\n",
       "      <td>NaN</td>\n",
       "      <td>NaN</td>\n",
       "      <td>NaN</td>\n",
       "      <td>NaN</td>\n",
       "    </tr>\n",
       "    <tr>\n",
       "      <th>4</th>\n",
       "      <td>1720118</td>\n",
       "      <td>609055f4b1a72a44d6ec40ba9036cefd7c1287a755eb6c...</td>\n",
       "      <td>12/10/2023 12:12:00 PM</td>\n",
       "      <td>1</td>\n",
       "      <td>DRIVER</td>\n",
       "      <td>NaN</td>\n",
       "      <td>1637401.0</td>\n",
       "      <td>NaN</td>\n",
       "      <td>TOYOTA</td>\n",
       "      <td>RAV4</td>\n",
       "      <td>...</td>\n",
       "      <td>NaN</td>\n",
       "      <td>NaN</td>\n",
       "      <td>NaN</td>\n",
       "      <td>NaN</td>\n",
       "      <td>NaN</td>\n",
       "      <td>NaN</td>\n",
       "      <td>NaN</td>\n",
       "      <td>NaN</td>\n",
       "      <td>NaN</td>\n",
       "      <td>NaN</td>\n",
       "    </tr>\n",
       "  </tbody>\n",
       "</table>\n",
       "<p>5 rows × 71 columns</p>\n",
       "</div>"
      ],
      "text/plain": [
       "   CRASH_UNIT_ID                                    CRASH_RECORD_ID  \\\n",
       "0        1727162  f5943b05f46b8d4148a63b7506a59113eae0cf1075aabc...   \n",
       "1        1717556  7b1763088507f77e0e552c009a6bf89a4d6330c7527706...   \n",
       "2        1717574  2603ff5a88f0b9b54576934c5ed4e4a64e8278e005687b...   \n",
       "3        1717579  a52ef70e33d468b855b5be44e8638a564434dcf99c0edf...   \n",
       "4        1720118  609055f4b1a72a44d6ec40ba9036cefd7c1287a755eb6c...   \n",
       "\n",
       "               CRASH_DATE  UNIT_NO   UNIT_TYPE  NUM_PASSENGERS  VEHICLE_ID  \\\n",
       "0  12/21/2023 08:57:00 AM        2  PEDESTRIAN             NaN         NaN   \n",
       "1  12/06/2023 03:24:00 PM        1      DRIVER             NaN   1634931.0   \n",
       "2  12/06/2023 04:00:00 PM        2      DRIVER             NaN   1634978.0   \n",
       "3  12/06/2023 04:30:00 PM        1      DRIVER             NaN   1634948.0   \n",
       "4  12/10/2023 12:12:00 PM        1      DRIVER             NaN   1637401.0   \n",
       "\n",
       "  CMRC_VEH_I      MAKE    MODEL  ... TRAILER1_LENGTH  TRAILER2_LENGTH  \\\n",
       "0        NaN       NaN      NaN  ...             NaN              NaN   \n",
       "1        NaN    NISSAN   SENTRA  ...             NaN              NaN   \n",
       "2        NaN  CHRYSLER  SEBRING  ...             NaN              NaN   \n",
       "3        NaN    SUBARU  OUTBACK  ...             NaN              NaN   \n",
       "4        NaN    TOYOTA     RAV4  ...             NaN              NaN   \n",
       "\n",
       "  TOTAL_VEHICLE_LENGTH AXLE_CNT VEHICLE_CONFIG CARGO_BODY_TYPE LOAD_TYPE  \\\n",
       "0                  NaN      NaN            NaN             NaN       NaN   \n",
       "1                  NaN      NaN            NaN             NaN       NaN   \n",
       "2                  NaN      NaN            NaN             NaN       NaN   \n",
       "3                  NaN      NaN            NaN             NaN       NaN   \n",
       "4                  NaN      NaN            NaN             NaN       NaN   \n",
       "\n",
       "  HAZMAT_OUT_OF_SERVICE_I MCS_OUT_OF_SERVICE_I  HAZMAT_CLASS  \n",
       "0                     NaN                  NaN           NaN  \n",
       "1                     NaN                  NaN           NaN  \n",
       "2                     NaN                  NaN           NaN  \n",
       "3                     NaN                  NaN           NaN  \n",
       "4                     NaN                  NaN           NaN  \n",
       "\n",
       "[5 rows x 71 columns]"
      ]
     },
     "execution_count": 24,
     "metadata": {},
     "output_type": "execute_result"
    }
   ],
   "source": [
    "vehicles.head()"
   ]
  },
  {
   "cell_type": "code",
   "execution_count": 25,
   "id": "f22f94f7",
   "metadata": {
    "execution": {
     "iopub.execute_input": "2024-10-10T21:47:47.005240Z",
     "iopub.status.busy": "2024-10-10T21:47:47.004500Z",
     "iopub.status.idle": "2024-10-10T21:47:47.017257Z",
     "shell.execute_reply": "2024-10-10T21:47:47.015949Z"
    },
    "papermill": {
     "duration": 0.04834,
     "end_time": "2024-10-10T21:47:47.019244",
     "exception": false,
     "start_time": "2024-10-10T21:47:46.970904",
     "status": "completed"
    },
    "tags": []
   },
   "outputs": [
    {
     "name": "stdout",
     "output_type": "stream",
     "text": [
      "<class 'pandas.core.frame.DataFrame'>\n",
      "RangeIndex: 1795922 entries, 0 to 1795921\n",
      "Data columns (total 71 columns):\n",
      " #   Column                    Dtype  \n",
      "---  ------                    -----  \n",
      " 0   CRASH_UNIT_ID             int64  \n",
      " 1   CRASH_RECORD_ID           object \n",
      " 2   CRASH_DATE                object \n",
      " 3   UNIT_NO                   int64  \n",
      " 4   UNIT_TYPE                 object \n",
      " 5   NUM_PASSENGERS            float64\n",
      " 6   VEHICLE_ID                float64\n",
      " 7   CMRC_VEH_I                object \n",
      " 8   MAKE                      object \n",
      " 9   MODEL                     object \n",
      " 10  LIC_PLATE_STATE           object \n",
      " 11  VEHICLE_YEAR              float64\n",
      " 12  VEHICLE_DEFECT            object \n",
      " 13  VEHICLE_TYPE              object \n",
      " 14  VEHICLE_USE               object \n",
      " 15  TRAVEL_DIRECTION          object \n",
      " 16  MANEUVER                  object \n",
      " 17  TOWED_I                   object \n",
      " 18  FIRE_I                    object \n",
      " 19  OCCUPANT_CNT              float64\n",
      " 20  EXCEED_SPEED_LIMIT_I      object \n",
      " 21  TOWED_BY                  object \n",
      " 22  TOWED_TO                  object \n",
      " 23  AREA_00_I                 object \n",
      " 24  AREA_01_I                 object \n",
      " 25  AREA_02_I                 object \n",
      " 26  AREA_03_I                 object \n",
      " 27  AREA_04_I                 object \n",
      " 28  AREA_05_I                 object \n",
      " 29  AREA_06_I                 object \n",
      " 30  AREA_07_I                 object \n",
      " 31  AREA_08_I                 object \n",
      " 32  AREA_09_I                 object \n",
      " 33  AREA_10_I                 object \n",
      " 34  AREA_11_I                 object \n",
      " 35  AREA_12_I                 object \n",
      " 36  AREA_99_I                 object \n",
      " 37  FIRST_CONTACT_POINT       object \n",
      " 38  CMV_ID                    float64\n",
      " 39  USDOT_NO                  object \n",
      " 40  CCMC_NO                   object \n",
      " 41  ILCC_NO                   object \n",
      " 42  COMMERCIAL_SRC            object \n",
      " 43  GVWR                      object \n",
      " 44  CARRIER_NAME              object \n",
      " 45  CARRIER_STATE             object \n",
      " 46  CARRIER_CITY              object \n",
      " 47  HAZMAT_PLACARDS_I         object \n",
      " 48  HAZMAT_NAME               object \n",
      " 49  UN_NO                     object \n",
      " 50  HAZMAT_PRESENT_I          object \n",
      " 51  HAZMAT_REPORT_I           object \n",
      " 52  HAZMAT_REPORT_NO          object \n",
      " 53  MCS_REPORT_I              object \n",
      " 54  MCS_REPORT_NO             object \n",
      " 55  HAZMAT_VIO_CAUSE_CRASH_I  object \n",
      " 56  MCS_VIO_CAUSE_CRASH_I     object \n",
      " 57  IDOT_PERMIT_NO            object \n",
      " 58  WIDE_LOAD_I               object \n",
      " 59  TRAILER1_WIDTH            object \n",
      " 60  TRAILER2_WIDTH            object \n",
      " 61  TRAILER1_LENGTH           float64\n",
      " 62  TRAILER2_LENGTH           float64\n",
      " 63  TOTAL_VEHICLE_LENGTH      float64\n",
      " 64  AXLE_CNT                  float64\n",
      " 65  VEHICLE_CONFIG            object \n",
      " 66  CARGO_BODY_TYPE           object \n",
      " 67  LOAD_TYPE                 object \n",
      " 68  HAZMAT_OUT_OF_SERVICE_I   object \n",
      " 69  MCS_OUT_OF_SERVICE_I      object \n",
      " 70  HAZMAT_CLASS              object \n",
      "dtypes: float64(9), int64(2), object(60)\n",
      "memory usage: 972.8+ MB\n"
     ]
    }
   ],
   "source": [
    "vehicles.info()"
   ]
  },
  {
   "cell_type": "code",
   "execution_count": 26,
   "id": "1aff0648",
   "metadata": {
    "execution": {
     "iopub.execute_input": "2024-10-10T21:47:47.087251Z",
     "iopub.status.busy": "2024-10-10T21:47:47.086943Z",
     "iopub.status.idle": "2024-10-10T21:47:59.497854Z",
     "shell.execute_reply": "2024-10-10T21:47:59.496870Z"
    },
    "papermill": {
     "duration": 12.446675,
     "end_time": "2024-10-10T21:47:59.499950",
     "exception": false,
     "start_time": "2024-10-10T21:47:47.053275",
     "status": "completed"
    },
    "tags": []
   },
   "outputs": [
    {
     "data": {
      "text/plain": [
       "False"
      ]
     },
     "execution_count": 26,
     "metadata": {},
     "output_type": "execute_result"
    }
   ],
   "source": [
    "vehicles.duplicated().values.any()"
   ]
  },
  {
   "cell_type": "code",
   "execution_count": 27,
   "id": "1129755f",
   "metadata": {
    "execution": {
     "iopub.execute_input": "2024-10-10T21:47:59.568999Z",
     "iopub.status.busy": "2024-10-10T21:47:59.568660Z",
     "iopub.status.idle": "2024-10-10T21:47:59.575118Z",
     "shell.execute_reply": "2024-10-10T21:47:59.574232Z"
    },
    "papermill": {
     "duration": 0.042293,
     "end_time": "2024-10-10T21:47:59.576950",
     "exception": false,
     "start_time": "2024-10-10T21:47:59.534657",
     "status": "completed"
    },
    "tags": []
   },
   "outputs": [
    {
     "data": {
      "text/plain": [
       "Index(['CRASH_UNIT_ID', 'CRASH_RECORD_ID', 'CRASH_DATE', 'UNIT_NO',\n",
       "       'UNIT_TYPE', 'NUM_PASSENGERS', 'VEHICLE_ID', 'CMRC_VEH_I', 'MAKE',\n",
       "       'MODEL', 'LIC_PLATE_STATE', 'VEHICLE_YEAR', 'VEHICLE_DEFECT',\n",
       "       'VEHICLE_TYPE', 'VEHICLE_USE', 'TRAVEL_DIRECTION', 'MANEUVER',\n",
       "       'TOWED_I', 'FIRE_I', 'OCCUPANT_CNT', 'EXCEED_SPEED_LIMIT_I', 'TOWED_BY',\n",
       "       'TOWED_TO', 'AREA_00_I', 'AREA_01_I', 'AREA_02_I', 'AREA_03_I',\n",
       "       'AREA_04_I', 'AREA_05_I', 'AREA_06_I', 'AREA_07_I', 'AREA_08_I',\n",
       "       'AREA_09_I', 'AREA_10_I', 'AREA_11_I', 'AREA_12_I', 'AREA_99_I',\n",
       "       'FIRST_CONTACT_POINT', 'CMV_ID', 'USDOT_NO', 'CCMC_NO', 'ILCC_NO',\n",
       "       'COMMERCIAL_SRC', 'GVWR', 'CARRIER_NAME', 'CARRIER_STATE',\n",
       "       'CARRIER_CITY', 'HAZMAT_PLACARDS_I', 'HAZMAT_NAME', 'UN_NO',\n",
       "       'HAZMAT_PRESENT_I', 'HAZMAT_REPORT_I', 'HAZMAT_REPORT_NO',\n",
       "       'MCS_REPORT_I', 'MCS_REPORT_NO', 'HAZMAT_VIO_CAUSE_CRASH_I',\n",
       "       'MCS_VIO_CAUSE_CRASH_I', 'IDOT_PERMIT_NO', 'WIDE_LOAD_I',\n",
       "       'TRAILER1_WIDTH', 'TRAILER2_WIDTH', 'TRAILER1_LENGTH',\n",
       "       'TRAILER2_LENGTH', 'TOTAL_VEHICLE_LENGTH', 'AXLE_CNT', 'VEHICLE_CONFIG',\n",
       "       'CARGO_BODY_TYPE', 'LOAD_TYPE', 'HAZMAT_OUT_OF_SERVICE_I',\n",
       "       'MCS_OUT_OF_SERVICE_I', 'HAZMAT_CLASS'],\n",
       "      dtype='object')"
      ]
     },
     "execution_count": 27,
     "metadata": {},
     "output_type": "execute_result"
    }
   ],
   "source": [
    "vehicles.columns"
   ]
  },
  {
   "cell_type": "code",
   "execution_count": 28,
   "id": "4a5c6e28",
   "metadata": {
    "execution": {
     "iopub.execute_input": "2024-10-10T21:47:59.643975Z",
     "iopub.status.busy": "2024-10-10T21:47:59.643700Z",
     "iopub.status.idle": "2024-10-10T21:47:59.648045Z",
     "shell.execute_reply": "2024-10-10T21:47:59.647147Z"
    },
    "papermill": {
     "duration": 0.039972,
     "end_time": "2024-10-10T21:47:59.649871",
     "exception": false,
     "start_time": "2024-10-10T21:47:59.609899",
     "status": "completed"
    },
    "tags": []
   },
   "outputs": [],
   "source": [
    "columns_to_drop = ['AREA_00_I', 'AREA_01_I', 'AREA_02_I', 'AREA_03_I', 'AREA_04_I', 'AREA_05_I', 'AREA_06_I', 'AREA_07_I',\n",
    "                   'AREA_08_I', 'AREA_09_I', 'AREA_10_I', 'AREA_11_I', 'AREA_12_I', 'AREA_99_I']"
   ]
  },
  {
   "cell_type": "code",
   "execution_count": 29,
   "id": "ce5b8531",
   "metadata": {
    "execution": {
     "iopub.execute_input": "2024-10-10T21:47:59.717798Z",
     "iopub.status.busy": "2024-10-10T21:47:59.717287Z",
     "iopub.status.idle": "2024-10-10T21:48:00.596211Z",
     "shell.execute_reply": "2024-10-10T21:48:00.595195Z"
    },
    "papermill": {
     "duration": 0.915787,
     "end_time": "2024-10-10T21:48:00.598626",
     "exception": false,
     "start_time": "2024-10-10T21:47:59.682839",
     "status": "completed"
    },
    "tags": []
   },
   "outputs": [],
   "source": [
    "vehicles.drop(columns=columns_to_drop, inplace=True)"
   ]
  },
  {
   "cell_type": "code",
   "execution_count": 30,
   "id": "10a9fe14",
   "metadata": {
    "execution": {
     "iopub.execute_input": "2024-10-10T21:48:00.666915Z",
     "iopub.status.busy": "2024-10-10T21:48:00.666614Z",
     "iopub.status.idle": "2024-10-10T21:48:04.733624Z",
     "shell.execute_reply": "2024-10-10T21:48:04.732691Z"
    },
    "papermill": {
     "duration": 4.103387,
     "end_time": "2024-10-10T21:48:04.735687",
     "exception": false,
     "start_time": "2024-10-10T21:48:00.632300",
     "status": "completed"
    },
    "tags": []
   },
   "outputs": [
    {
     "data": {
      "text/plain": [
       "CRASH_UNIT_ID                     0\n",
       "CRASH_RECORD_ID                   0\n",
       "CRASH_DATE                        0\n",
       "UNIT_NO                           0\n",
       "UNIT_TYPE                      2224\n",
       "NUM_PASSENGERS              1529938\n",
       "VEHICLE_ID                    41840\n",
       "CMRC_VEH_I                  1762524\n",
       "MAKE                          41845\n",
       "MODEL                         41990\n",
       "LIC_PLATE_STATE              202424\n",
       "VEHICLE_YEAR                 321275\n",
       "VEHICLE_DEFECT                41840\n",
       "VEHICLE_TYPE                  41840\n",
       "VEHICLE_USE                   41840\n",
       "TRAVEL_DIRECTION              41840\n",
       "MANEUVER                      41840\n",
       "TOWED_I                     1573081\n",
       "FIRE_I                      1794455\n",
       "OCCUPANT_CNT                  41840\n",
       "EXCEED_SPEED_LIMIT_I        1793520\n",
       "TOWED_BY                    1627522\n",
       "TOWED_TO                    1692581\n",
       "FIRST_CONTACT_POINT           44983\n",
       "CMV_ID                      1777777\n",
       "USDOT_NO                    1785808\n",
       "CCMC_NO                     1793800\n",
       "ILCC_NO                     1794468\n",
       "COMMERCIAL_SRC              1784001\n",
       "GVWR                        1785916\n",
       "CARRIER_NAME                1778583\n",
       "CARRIER_STATE               1779665\n",
       "CARRIER_CITY                1779966\n",
       "HAZMAT_PLACARDS_I           1795575\n",
       "HAZMAT_NAME                 1795859\n",
       "UN_NO                       1795321\n",
       "HAZMAT_PRESENT_I            1782660\n",
       "HAZMAT_REPORT_I             1783020\n",
       "HAZMAT_REPORT_NO            1795921\n",
       "MCS_REPORT_I                1782973\n",
       "MCS_REPORT_NO               1795915\n",
       "HAZMAT_VIO_CAUSE_CRASH_I    1782849\n",
       "MCS_VIO_CAUSE_CRASH_I       1783066\n",
       "IDOT_PERMIT_NO              1794945\n",
       "WIDE_LOAD_I                 1795761\n",
       "TRAILER1_WIDTH              1792917\n",
       "TRAILER2_WIDTH              1795560\n",
       "TRAILER1_LENGTH             1793508\n",
       "TRAILER2_LENGTH             1795852\n",
       "TOTAL_VEHICLE_LENGTH        1792986\n",
       "AXLE_CNT                    1791495\n",
       "VEHICLE_CONFIG              1780912\n",
       "CARGO_BODY_TYPE             1781575\n",
       "LOAD_TYPE                   1782209\n",
       "HAZMAT_OUT_OF_SERVICE_I     1783385\n",
       "MCS_OUT_OF_SERVICE_I        1783150\n",
       "HAZMAT_CLASS                1794772\n",
       "dtype: int64"
      ]
     },
     "execution_count": 30,
     "metadata": {},
     "output_type": "execute_result"
    }
   ],
   "source": [
    "vehicles.isnull().sum()"
   ]
  },
  {
   "cell_type": "code",
   "execution_count": 31,
   "id": "6cdc36d9",
   "metadata": {
    "execution": {
     "iopub.execute_input": "2024-10-10T21:48:04.804945Z",
     "iopub.status.busy": "2024-10-10T21:48:04.804623Z",
     "iopub.status.idle": "2024-10-10T21:48:05.274963Z",
     "shell.execute_reply": "2024-10-10T21:48:05.274147Z"
    },
    "papermill": {
     "duration": 0.507277,
     "end_time": "2024-10-10T21:48:05.277342",
     "exception": false,
     "start_time": "2024-10-10T21:48:04.770065",
     "status": "completed"
    },
    "tags": []
   },
   "outputs": [],
   "source": [
    "vehicles.drop(columns=['CMV_ID', 'USDOT_NO', 'CCMC_NO', 'ILCC_NO','COMMERCIAL_SRC', 'GVWR', 'CARRIER_NAME', 'CARRIER_STATE',      'CARRIER_CITY', 'HAZMAT_PLACARDS_I', 'HAZMAT_NAME', 'UN_NO',\n",
    "       'HAZMAT_PRESENT_I', 'HAZMAT_REPORT_I', 'HAZMAT_REPORT_NO','MCS_REPORT_I', 'MCS_REPORT_NO', 'HAZMAT_VIO_CAUSE_CRASH_I',\n",
    "       'MCS_VIO_CAUSE_CRASH_I', 'IDOT_PERMIT_NO', 'WIDE_LOAD_I','TRAILER1_WIDTH', 'TRAILER2_WIDTH', 'TRAILER1_LENGTH',\n",
    "       'TRAILER2_LENGTH', 'TOTAL_VEHICLE_LENGTH', 'AXLE_CNT', 'VEHICLE_CONFIG','CARGO_BODY_TYPE', 'LOAD_TYPE', \n",
    "       'HAZMAT_OUT_OF_SERVICE_I','MCS_OUT_OF_SERVICE_I', 'HAZMAT_CLASS','EXCEED_SPEED_LIMIT_I', 'TOWED_BY','TOWED_TO',\n",
    "       'TOWED_I', 'FIRE_I','CMRC_VEH_I','NUM_PASSENGERS'], inplace=True)"
   ]
  },
  {
   "cell_type": "code",
   "execution_count": 32,
   "id": "0cf55009",
   "metadata": {
    "execution": {
     "iopub.execute_input": "2024-10-10T21:48:05.345690Z",
     "iopub.status.busy": "2024-10-10T21:48:05.345362Z",
     "iopub.status.idle": "2024-10-10T21:48:07.309086Z",
     "shell.execute_reply": "2024-10-10T21:48:07.308100Z"
    },
    "papermill": {
     "duration": 2.000078,
     "end_time": "2024-10-10T21:48:07.311139",
     "exception": false,
     "start_time": "2024-10-10T21:48:05.311061",
     "status": "completed"
    },
    "tags": []
   },
   "outputs": [
    {
     "data": {
      "text/plain": [
       "CRASH_UNIT_ID               0\n",
       "CRASH_RECORD_ID             0\n",
       "CRASH_DATE                  0\n",
       "UNIT_NO                     0\n",
       "UNIT_TYPE                2224\n",
       "VEHICLE_ID              41840\n",
       "MAKE                    41845\n",
       "MODEL                   41990\n",
       "LIC_PLATE_STATE        202424\n",
       "VEHICLE_YEAR           321275\n",
       "VEHICLE_DEFECT          41840\n",
       "VEHICLE_TYPE            41840\n",
       "VEHICLE_USE             41840\n",
       "TRAVEL_DIRECTION        41840\n",
       "MANEUVER                41840\n",
       "OCCUPANT_CNT            41840\n",
       "FIRST_CONTACT_POINT     44983\n",
       "dtype: int64"
      ]
     },
     "execution_count": 32,
     "metadata": {},
     "output_type": "execute_result"
    }
   ],
   "source": [
    "vehicles.isnull().sum()"
   ]
  },
  {
   "cell_type": "code",
   "execution_count": 33,
   "id": "89281f6d",
   "metadata": {
    "execution": {
     "iopub.execute_input": "2024-10-10T21:48:07.379996Z",
     "iopub.status.busy": "2024-10-10T21:48:07.379691Z",
     "iopub.status.idle": "2024-10-10T21:48:07.397742Z",
     "shell.execute_reply": "2024-10-10T21:48:07.396872Z"
    },
    "papermill": {
     "duration": 0.054496,
     "end_time": "2024-10-10T21:48:07.399578",
     "exception": false,
     "start_time": "2024-10-10T21:48:07.345082",
     "status": "completed"
    },
    "tags": []
   },
   "outputs": [
    {
     "data": {
      "text/html": [
       "<div>\n",
       "<style scoped>\n",
       "    .dataframe tbody tr th:only-of-type {\n",
       "        vertical-align: middle;\n",
       "    }\n",
       "\n",
       "    .dataframe tbody tr th {\n",
       "        vertical-align: top;\n",
       "    }\n",
       "\n",
       "    .dataframe thead th {\n",
       "        text-align: right;\n",
       "    }\n",
       "</style>\n",
       "<table border=\"1\" class=\"dataframe\">\n",
       "  <thead>\n",
       "    <tr style=\"text-align: right;\">\n",
       "      <th></th>\n",
       "      <th>CRASH_UNIT_ID</th>\n",
       "      <th>CRASH_RECORD_ID</th>\n",
       "      <th>CRASH_DATE</th>\n",
       "      <th>UNIT_NO</th>\n",
       "      <th>UNIT_TYPE</th>\n",
       "      <th>VEHICLE_ID</th>\n",
       "      <th>MAKE</th>\n",
       "      <th>MODEL</th>\n",
       "      <th>LIC_PLATE_STATE</th>\n",
       "      <th>VEHICLE_YEAR</th>\n",
       "      <th>VEHICLE_DEFECT</th>\n",
       "      <th>VEHICLE_TYPE</th>\n",
       "      <th>VEHICLE_USE</th>\n",
       "      <th>TRAVEL_DIRECTION</th>\n",
       "      <th>MANEUVER</th>\n",
       "      <th>OCCUPANT_CNT</th>\n",
       "      <th>FIRST_CONTACT_POINT</th>\n",
       "    </tr>\n",
       "  </thead>\n",
       "  <tbody>\n",
       "    <tr>\n",
       "      <th>0</th>\n",
       "      <td>1727162</td>\n",
       "      <td>f5943b05f46b8d4148a63b7506a59113eae0cf1075aabc...</td>\n",
       "      <td>12/21/2023 08:57:00 AM</td>\n",
       "      <td>2</td>\n",
       "      <td>PEDESTRIAN</td>\n",
       "      <td>NaN</td>\n",
       "      <td>NaN</td>\n",
       "      <td>NaN</td>\n",
       "      <td>NaN</td>\n",
       "      <td>NaN</td>\n",
       "      <td>NaN</td>\n",
       "      <td>NaN</td>\n",
       "      <td>NaN</td>\n",
       "      <td>NaN</td>\n",
       "      <td>NaN</td>\n",
       "      <td>NaN</td>\n",
       "      <td>NaN</td>\n",
       "    </tr>\n",
       "    <tr>\n",
       "      <th>1</th>\n",
       "      <td>1717556</td>\n",
       "      <td>7b1763088507f77e0e552c009a6bf89a4d6330c7527706...</td>\n",
       "      <td>12/06/2023 03:24:00 PM</td>\n",
       "      <td>1</td>\n",
       "      <td>DRIVER</td>\n",
       "      <td>1634931.0</td>\n",
       "      <td>NISSAN</td>\n",
       "      <td>SENTRA</td>\n",
       "      <td>IL</td>\n",
       "      <td>2009.0</td>\n",
       "      <td>UNKNOWN</td>\n",
       "      <td>UNKNOWN/NA</td>\n",
       "      <td>UNKNOWN/NA</td>\n",
       "      <td>S</td>\n",
       "      <td>SLOW/STOP IN TRAFFIC</td>\n",
       "      <td>1.0</td>\n",
       "      <td>FRONT</td>\n",
       "    </tr>\n",
       "    <tr>\n",
       "      <th>2</th>\n",
       "      <td>1717574</td>\n",
       "      <td>2603ff5a88f0b9b54576934c5ed4e4a64e8278e005687b...</td>\n",
       "      <td>12/06/2023 04:00:00 PM</td>\n",
       "      <td>2</td>\n",
       "      <td>DRIVER</td>\n",
       "      <td>1634978.0</td>\n",
       "      <td>CHRYSLER</td>\n",
       "      <td>SEBRING</td>\n",
       "      <td>IL</td>\n",
       "      <td>2010.0</td>\n",
       "      <td>NONE</td>\n",
       "      <td>PASSENGER</td>\n",
       "      <td>PERSONAL</td>\n",
       "      <td>S</td>\n",
       "      <td>PASSING/OVERTAKING</td>\n",
       "      <td>1.0</td>\n",
       "      <td>REAR-RIGHT-CORNER</td>\n",
       "    </tr>\n",
       "    <tr>\n",
       "      <th>3</th>\n",
       "      <td>1717579</td>\n",
       "      <td>a52ef70e33d468b855b5be44e8638a564434dcf99c0edf...</td>\n",
       "      <td>12/06/2023 04:30:00 PM</td>\n",
       "      <td>1</td>\n",
       "      <td>DRIVER</td>\n",
       "      <td>1634948.0</td>\n",
       "      <td>SUBARU</td>\n",
       "      <td>OUTBACK</td>\n",
       "      <td>IL</td>\n",
       "      <td>2015.0</td>\n",
       "      <td>UNKNOWN</td>\n",
       "      <td>PASSENGER</td>\n",
       "      <td>PERSONAL</td>\n",
       "      <td>W</td>\n",
       "      <td>TURNING RIGHT</td>\n",
       "      <td>1.0</td>\n",
       "      <td>FRONT</td>\n",
       "    </tr>\n",
       "    <tr>\n",
       "      <th>4</th>\n",
       "      <td>1720118</td>\n",
       "      <td>609055f4b1a72a44d6ec40ba9036cefd7c1287a755eb6c...</td>\n",
       "      <td>12/10/2023 12:12:00 PM</td>\n",
       "      <td>1</td>\n",
       "      <td>DRIVER</td>\n",
       "      <td>1637401.0</td>\n",
       "      <td>TOYOTA</td>\n",
       "      <td>RAV4</td>\n",
       "      <td>IL</td>\n",
       "      <td>2018.0</td>\n",
       "      <td>UNKNOWN</td>\n",
       "      <td>PASSENGER</td>\n",
       "      <td>PERSONAL</td>\n",
       "      <td>E</td>\n",
       "      <td>STRAIGHT AHEAD</td>\n",
       "      <td>1.0</td>\n",
       "      <td>SIDE-LEFT-FRONT</td>\n",
       "    </tr>\n",
       "  </tbody>\n",
       "</table>\n",
       "</div>"
      ],
      "text/plain": [
       "   CRASH_UNIT_ID                                    CRASH_RECORD_ID  \\\n",
       "0        1727162  f5943b05f46b8d4148a63b7506a59113eae0cf1075aabc...   \n",
       "1        1717556  7b1763088507f77e0e552c009a6bf89a4d6330c7527706...   \n",
       "2        1717574  2603ff5a88f0b9b54576934c5ed4e4a64e8278e005687b...   \n",
       "3        1717579  a52ef70e33d468b855b5be44e8638a564434dcf99c0edf...   \n",
       "4        1720118  609055f4b1a72a44d6ec40ba9036cefd7c1287a755eb6c...   \n",
       "\n",
       "               CRASH_DATE  UNIT_NO   UNIT_TYPE  VEHICLE_ID      MAKE    MODEL  \\\n",
       "0  12/21/2023 08:57:00 AM        2  PEDESTRIAN         NaN       NaN      NaN   \n",
       "1  12/06/2023 03:24:00 PM        1      DRIVER   1634931.0    NISSAN   SENTRA   \n",
       "2  12/06/2023 04:00:00 PM        2      DRIVER   1634978.0  CHRYSLER  SEBRING   \n",
       "3  12/06/2023 04:30:00 PM        1      DRIVER   1634948.0    SUBARU  OUTBACK   \n",
       "4  12/10/2023 12:12:00 PM        1      DRIVER   1637401.0    TOYOTA     RAV4   \n",
       "\n",
       "  LIC_PLATE_STATE  VEHICLE_YEAR VEHICLE_DEFECT VEHICLE_TYPE VEHICLE_USE  \\\n",
       "0             NaN           NaN            NaN          NaN         NaN   \n",
       "1              IL        2009.0        UNKNOWN   UNKNOWN/NA  UNKNOWN/NA   \n",
       "2              IL        2010.0           NONE    PASSENGER    PERSONAL   \n",
       "3              IL        2015.0        UNKNOWN    PASSENGER    PERSONAL   \n",
       "4              IL        2018.0        UNKNOWN    PASSENGER    PERSONAL   \n",
       "\n",
       "  TRAVEL_DIRECTION              MANEUVER  OCCUPANT_CNT FIRST_CONTACT_POINT  \n",
       "0              NaN                   NaN           NaN                 NaN  \n",
       "1                S  SLOW/STOP IN TRAFFIC           1.0               FRONT  \n",
       "2                S    PASSING/OVERTAKING           1.0   REAR-RIGHT-CORNER  \n",
       "3                W         TURNING RIGHT           1.0               FRONT  \n",
       "4                E        STRAIGHT AHEAD           1.0     SIDE-LEFT-FRONT  "
      ]
     },
     "execution_count": 33,
     "metadata": {},
     "output_type": "execute_result"
    }
   ],
   "source": [
    "vehicles.head()"
   ]
  },
  {
   "cell_type": "code",
   "execution_count": 34,
   "id": "7326444f",
   "metadata": {
    "execution": {
     "iopub.execute_input": "2024-10-10T21:48:07.469576Z",
     "iopub.status.busy": "2024-10-10T21:48:07.469282Z",
     "iopub.status.idle": "2024-10-10T21:48:07.749535Z",
     "shell.execute_reply": "2024-10-10T21:48:07.748622Z"
    },
    "papermill": {
     "duration": 0.316668,
     "end_time": "2024-10-10T21:48:07.751438",
     "exception": false,
     "start_time": "2024-10-10T21:48:07.434770",
     "status": "completed"
    },
    "tags": []
   },
   "outputs": [
    {
     "data": {
      "text/plain": [
       "UNIT_TYPE\n",
       "DRIVER                 1503299\n",
       "PARKED                  236817\n",
       "PEDESTRIAN               22716\n",
       "DRIVERLESS               14359\n",
       "BICYCLE                  14280\n",
       "NON-MOTOR VEHICLE         1621\n",
       "NON-CONTACT VEHICLE        325\n",
       "DISABLED VEHICLE           274\n",
       "EQUESTRIAN                   7\n",
       "Name: count, dtype: int64"
      ]
     },
     "execution_count": 34,
     "metadata": {},
     "output_type": "execute_result"
    }
   ],
   "source": [
    "vehicles['UNIT_TYPE'].value_counts()"
   ]
  },
  {
   "cell_type": "code",
   "execution_count": 35,
   "id": "e68096f8",
   "metadata": {
    "execution": {
     "iopub.execute_input": "2024-10-10T21:48:07.821331Z",
     "iopub.status.busy": "2024-10-10T21:48:07.821013Z",
     "iopub.status.idle": "2024-10-10T21:48:08.102411Z",
     "shell.execute_reply": "2024-10-10T21:48:08.101442Z"
    },
    "papermill": {
     "duration": 0.317975,
     "end_time": "2024-10-10T21:48:08.104354",
     "exception": false,
     "start_time": "2024-10-10T21:48:07.786379",
     "status": "completed"
    },
    "tags": []
   },
   "outputs": [
    {
     "data": {
      "text/plain": [
       "MAKE\n",
       "CHEVROLET                                    202560\n",
       "FORD                                         175220\n",
       "UNKNOWN                                      174599\n",
       "NISSAN                                       141483\n",
       "HONDA                                        129283\n",
       "                                              ...  \n",
       "NEW IDEA ELECTRIC LAWN GARDEN TRACTOR             1\n",
       "REX                                               1\n",
       "TRAIL MASTER TRAILERS, INC., COLEMAN, OK          1\n",
       "TRANSPORT SYSTEMS, INC., DENTON, TEXAS            1\n",
       "CORN BELT MANUFACTURING, INC. (EARLY, IA)         1\n",
       "Name: count, Length: 1381, dtype: int64"
      ]
     },
     "execution_count": 35,
     "metadata": {},
     "output_type": "execute_result"
    }
   ],
   "source": [
    "vehicles['MAKE'].value_counts()"
   ]
  },
  {
   "cell_type": "code",
   "execution_count": 36,
   "id": "7bcbcc93",
   "metadata": {
    "execution": {
     "iopub.execute_input": "2024-10-10T21:48:08.190883Z",
     "iopub.status.busy": "2024-10-10T21:48:08.190386Z",
     "iopub.status.idle": "2024-10-10T21:48:08.479668Z",
     "shell.execute_reply": "2024-10-10T21:48:08.478691Z"
    },
    "papermill": {
     "duration": 0.337565,
     "end_time": "2024-10-10T21:48:08.481661",
     "exception": false,
     "start_time": "2024-10-10T21:48:08.144096",
     "status": "completed"
    },
    "tags": []
   },
   "outputs": [
    {
     "data": {
      "text/plain": [
       "MODEL\n",
       "UNKNOWN                         180803\n",
       "OTHER (EXPLAIN IN NARRATIVE)    167239\n",
       "CAMRY                            55862\n",
       "COROLLA                          35368\n",
       "CIVIC                            33651\n",
       "                                 ...  \n",
       "BRAT                                 1\n",
       "DUKE MOBILE HOMES                    1\n",
       "FERGUSON MFG. CO., INC.              1\n",
       "WAYSIDE CAMPERS                      1\n",
       "CENTURY ENGINEERING CORP.            1\n",
       "Name: count, Length: 2771, dtype: int64"
      ]
     },
     "execution_count": 36,
     "metadata": {},
     "output_type": "execute_result"
    }
   ],
   "source": [
    "vehicles['MODEL'].value_counts()"
   ]
  },
  {
   "cell_type": "code",
   "execution_count": 37,
   "id": "1aa9a124",
   "metadata": {
    "execution": {
     "iopub.execute_input": "2024-10-10T21:48:08.551818Z",
     "iopub.status.busy": "2024-10-10T21:48:08.551497Z",
     "iopub.status.idle": "2024-10-10T21:48:08.813835Z",
     "shell.execute_reply": "2024-10-10T21:48:08.812976Z"
    },
    "papermill": {
     "duration": 0.29937,
     "end_time": "2024-10-10T21:48:08.815797",
     "exception": false,
     "start_time": "2024-10-10T21:48:08.516427",
     "status": "completed"
    },
    "tags": []
   },
   "outputs": [
    {
     "data": {
      "text/plain": [
       "LIC_PLATE_STATE\n",
       "IL    1460128\n",
       "IN      32220\n",
       "XX      30652\n",
       "WI      10264\n",
       "MI       6897\n",
       "FL       6639\n",
       "TX       5094\n",
       "OH       4206\n",
       "AZ       3709\n",
       "MN       3021\n",
       "IA       2866\n",
       "CA       2710\n",
       "MO       2696\n",
       "TN       2453\n",
       "GA       2078\n",
       "OK       1472\n",
       "PA       1277\n",
       "NY       1241\n",
       "KY       1055\n",
       "VA       1041\n",
       "NC        988\n",
       "NJ        970\n",
       "CO        863\n",
       "MS        805\n",
       "MD        726\n",
       "AL        695\n",
       "NB        652\n",
       "WA        626\n",
       "KS        609\n",
       "MA        542\n",
       "LA        537\n",
       "AR        515\n",
       "SC        408\n",
       "ME        378\n",
       "NV        290\n",
       "OR        288\n",
       "CT        260\n",
       "UT        232\n",
       "MT        189\n",
       "SD        181\n",
       "ID        164\n",
       "NM        159\n",
       "ND        132\n",
       "WV        105\n",
       "NH         83\n",
       "RI         75\n",
       "DE         74\n",
       "DC         66\n",
       "VT         60\n",
       "AK         46\n",
       "WY         39\n",
       "HI         22\n",
       "Name: count, dtype: int64"
      ]
     },
     "execution_count": 37,
     "metadata": {},
     "output_type": "execute_result"
    }
   ],
   "source": [
    "vehicles['LIC_PLATE_STATE'].value_counts()"
   ]
  },
  {
   "cell_type": "code",
   "execution_count": 38,
   "id": "f4366b65",
   "metadata": {
    "execution": {
     "iopub.execute_input": "2024-10-10T21:48:08.886518Z",
     "iopub.status.busy": "2024-10-10T21:48:08.886181Z",
     "iopub.status.idle": "2024-10-10T21:48:08.918713Z",
     "shell.execute_reply": "2024-10-10T21:48:08.917915Z"
    },
    "papermill": {
     "duration": 0.070093,
     "end_time": "2024-10-10T21:48:08.920620",
     "exception": false,
     "start_time": "2024-10-10T21:48:08.850527",
     "status": "completed"
    },
    "tags": []
   },
   "outputs": [
    {
     "data": {
      "text/plain": [
       "VEHICLE_YEAR\n",
       "2015.0    108201\n",
       "2016.0    101971\n",
       "2017.0    101756\n",
       "2014.0     95887\n",
       "2013.0     88641\n",
       "           ...  \n",
       "2218.0         1\n",
       "1939.0         1\n",
       "6628.0         1\n",
       "2046.0         1\n",
       "2320.0         1\n",
       "Name: count, Length: 242, dtype: int64"
      ]
     },
     "execution_count": 38,
     "metadata": {},
     "output_type": "execute_result"
    }
   ],
   "source": [
    "vehicles['VEHICLE_YEAR'].value_counts()"
   ]
  },
  {
   "cell_type": "code",
   "execution_count": 39,
   "id": "aa282133",
   "metadata": {
    "execution": {
     "iopub.execute_input": "2024-10-10T21:48:08.990549Z",
     "iopub.status.busy": "2024-10-10T21:48:08.990233Z",
     "iopub.status.idle": "2024-10-10T21:48:09.269285Z",
     "shell.execute_reply": "2024-10-10T21:48:09.268431Z"
    },
    "papermill": {
     "duration": 0.316138,
     "end_time": "2024-10-10T21:48:09.271184",
     "exception": false,
     "start_time": "2024-10-10T21:48:08.955046",
     "status": "completed"
    },
    "tags": []
   },
   "outputs": [
    {
     "data": {
      "text/plain": [
       "FIRST_CONTACT_POINT\n",
       "FRONT                 344058\n",
       "REAR                  231752\n",
       "UNKNOWN               167342\n",
       "SIDE-LEFT             120702\n",
       "FRONT-LEFT-CORNER     115778\n",
       "SIDE-RIGHT            114848\n",
       "FRONT-RIGHT-CORNER    113423\n",
       "FRONT-LEFT             81524\n",
       "FRONT-RIGHT            76903\n",
       "REAR-LEFT              68088\n",
       "REAR-LEFT-CORNER       51510\n",
       "OTHER                  41620\n",
       "REAR-RIGHT-CORNER      37659\n",
       "REAR-RIGHT             36488\n",
       "SIDE-LEFT-REAR         29425\n",
       "TOTAL (ALL AREAS)      28019\n",
       "SIDE-RIGHT-REAR        22277\n",
       "SIDE-LEFT-FRONT        19175\n",
       "SIDE-RIGHT-FRONT       16556\n",
       "NONE                   13799\n",
       "ROOF                   11958\n",
       "UNDER CARRIAGE          5844\n",
       "TOP                     2191\n",
       "Name: count, dtype: int64"
      ]
     },
     "execution_count": 39,
     "metadata": {},
     "output_type": "execute_result"
    }
   ],
   "source": [
    "vehicles['FIRST_CONTACT_POINT'].value_counts()\n"
   ]
  },
  {
   "cell_type": "code",
   "execution_count": 40,
   "id": "4f7af673",
   "metadata": {
    "execution": {
     "iopub.execute_input": "2024-10-10T21:48:09.343364Z",
     "iopub.status.busy": "2024-10-10T21:48:09.343027Z",
     "iopub.status.idle": "2024-10-10T21:48:09.551726Z",
     "shell.execute_reply": "2024-10-10T21:48:09.550925Z"
    },
    "papermill": {
     "duration": 0.246502,
     "end_time": "2024-10-10T21:48:09.553781",
     "exception": false,
     "start_time": "2024-10-10T21:48:09.307279",
     "status": "completed"
    },
    "tags": []
   },
   "outputs": [],
   "source": [
    "rows_to_remove = vehicles[vehicles['VEHICLE_DEFECT'].isnull()].index"
   ]
  },
  {
   "cell_type": "code",
   "execution_count": 41,
   "id": "c7c11eb2",
   "metadata": {
    "execution": {
     "iopub.execute_input": "2024-10-10T21:48:09.624896Z",
     "iopub.status.busy": "2024-10-10T21:48:09.624592Z",
     "iopub.status.idle": "2024-10-10T21:48:09.961177Z",
     "shell.execute_reply": "2024-10-10T21:48:09.960150Z"
    },
    "papermill": {
     "duration": 0.374771,
     "end_time": "2024-10-10T21:48:09.963599",
     "exception": false,
     "start_time": "2024-10-10T21:48:09.588828",
     "status": "completed"
    },
    "tags": []
   },
   "outputs": [],
   "source": [
    "vehicles.drop(rows_to_remove, inplace=True)"
   ]
  },
  {
   "cell_type": "code",
   "execution_count": 42,
   "id": "6d2a59d2",
   "metadata": {
    "execution": {
     "iopub.execute_input": "2024-10-10T21:48:10.035670Z",
     "iopub.status.busy": "2024-10-10T21:48:10.035324Z",
     "iopub.status.idle": "2024-10-10T21:48:10.331354Z",
     "shell.execute_reply": "2024-10-10T21:48:10.330331Z"
    },
    "papermill": {
     "duration": 0.334654,
     "end_time": "2024-10-10T21:48:10.333819",
     "exception": false,
     "start_time": "2024-10-10T21:48:09.999165",
     "status": "completed"
    },
    "tags": []
   },
   "outputs": [],
   "source": [
    "vehicles.drop(columns=['LIC_PLATE_STATE', 'VEHICLE_YEAR'], inplace=True)"
   ]
  },
  {
   "cell_type": "code",
   "execution_count": 43,
   "id": "0329e117",
   "metadata": {
    "execution": {
     "iopub.execute_input": "2024-10-10T21:48:10.405470Z",
     "iopub.status.busy": "2024-10-10T21:48:10.405137Z",
     "iopub.status.idle": "2024-10-10T21:48:11.367635Z",
     "shell.execute_reply": "2024-10-10T21:48:11.366848Z"
    },
    "papermill": {
     "duration": 1.000957,
     "end_time": "2024-10-10T21:48:11.369915",
     "exception": false,
     "start_time": "2024-10-10T21:48:10.368958",
     "status": "completed"
    },
    "tags": []
   },
   "outputs": [],
   "source": [
    "mf_unit_type = vehicles['UNIT_TYPE'].mode()[0]\n",
    "\n",
    "vehicles['UNIT_TYPE'].fillna(mf_unit_type, inplace=True)\n",
    "vehicles['MAKE'].fillna('UNKNOWN', inplace=True)\n",
    "vehicles['MODEL'].fillna('UNKNOWN', inplace=True)\n",
    "vehicles['FIRST_CONTACT_POINT'].fillna('UNKNOWN', inplace=True)"
   ]
  },
  {
   "cell_type": "code",
   "execution_count": 44,
   "id": "518597d1",
   "metadata": {
    "execution": {
     "iopub.execute_input": "2024-10-10T21:48:11.442429Z",
     "iopub.status.busy": "2024-10-10T21:48:11.441955Z",
     "iopub.status.idle": "2024-10-10T21:48:13.185260Z",
     "shell.execute_reply": "2024-10-10T21:48:13.184312Z"
    },
    "papermill": {
     "duration": 1.781304,
     "end_time": "2024-10-10T21:48:13.187197",
     "exception": false,
     "start_time": "2024-10-10T21:48:11.405893",
     "status": "completed"
    },
    "tags": []
   },
   "outputs": [
    {
     "data": {
      "text/plain": [
       "CRASH_UNIT_ID          0\n",
       "CRASH_RECORD_ID        0\n",
       "CRASH_DATE             0\n",
       "UNIT_NO                0\n",
       "UNIT_TYPE              0\n",
       "VEHICLE_ID             0\n",
       "MAKE                   0\n",
       "MODEL                  0\n",
       "VEHICLE_DEFECT         0\n",
       "VEHICLE_TYPE           0\n",
       "VEHICLE_USE            0\n",
       "TRAVEL_DIRECTION       0\n",
       "MANEUVER               0\n",
       "OCCUPANT_CNT           0\n",
       "FIRST_CONTACT_POINT    0\n",
       "dtype: int64"
      ]
     },
     "execution_count": 44,
     "metadata": {},
     "output_type": "execute_result"
    }
   ],
   "source": [
    "vehicles.isnull().sum()"
   ]
  },
  {
   "cell_type": "code",
   "execution_count": 45,
   "id": "194edc07",
   "metadata": {
    "execution": {
     "iopub.execute_input": "2024-10-10T21:48:13.259663Z",
     "iopub.status.busy": "2024-10-10T21:48:13.259322Z",
     "iopub.status.idle": "2024-10-10T21:48:31.978066Z",
     "shell.execute_reply": "2024-10-10T21:48:31.977015Z"
    },
    "papermill": {
     "duration": 18.757302,
     "end_time": "2024-10-10T21:48:31.980592",
     "exception": false,
     "start_time": "2024-10-10T21:48:13.223290",
     "status": "completed"
    },
    "tags": []
   },
   "outputs": [],
   "source": [
    "people = pd.read_csv('/kaggle/input/chicago-datasets/Traffic_Crashes_-_People.csv')"
   ]
  },
  {
   "cell_type": "code",
   "execution_count": 46,
   "id": "d2bfddc7",
   "metadata": {
    "execution": {
     "iopub.execute_input": "2024-10-10T21:48:32.053168Z",
     "iopub.status.busy": "2024-10-10T21:48:32.052542Z",
     "iopub.status.idle": "2024-10-10T21:48:32.073941Z",
     "shell.execute_reply": "2024-10-10T21:48:32.073057Z"
    },
    "papermill": {
     "duration": 0.059783,
     "end_time": "2024-10-10T21:48:32.076071",
     "exception": false,
     "start_time": "2024-10-10T21:48:32.016288",
     "status": "completed"
    },
    "tags": []
   },
   "outputs": [
    {
     "data": {
      "text/html": [
       "<div>\n",
       "<style scoped>\n",
       "    .dataframe tbody tr th:only-of-type {\n",
       "        vertical-align: middle;\n",
       "    }\n",
       "\n",
       "    .dataframe tbody tr th {\n",
       "        vertical-align: top;\n",
       "    }\n",
       "\n",
       "    .dataframe thead th {\n",
       "        text-align: right;\n",
       "    }\n",
       "</style>\n",
       "<table border=\"1\" class=\"dataframe\">\n",
       "  <thead>\n",
       "    <tr style=\"text-align: right;\">\n",
       "      <th></th>\n",
       "      <th>PERSON_ID</th>\n",
       "      <th>PERSON_TYPE</th>\n",
       "      <th>CRASH_RECORD_ID</th>\n",
       "      <th>VEHICLE_ID</th>\n",
       "      <th>CRASH_DATE</th>\n",
       "      <th>SEAT_NO</th>\n",
       "      <th>CITY</th>\n",
       "      <th>STATE</th>\n",
       "      <th>ZIPCODE</th>\n",
       "      <th>SEX</th>\n",
       "      <th>...</th>\n",
       "      <th>EMS_RUN_NO</th>\n",
       "      <th>DRIVER_ACTION</th>\n",
       "      <th>DRIVER_VISION</th>\n",
       "      <th>PHYSICAL_CONDITION</th>\n",
       "      <th>PEDPEDAL_ACTION</th>\n",
       "      <th>PEDPEDAL_VISIBILITY</th>\n",
       "      <th>PEDPEDAL_LOCATION</th>\n",
       "      <th>BAC_RESULT</th>\n",
       "      <th>BAC_RESULT VALUE</th>\n",
       "      <th>CELL_PHONE_USE</th>\n",
       "    </tr>\n",
       "  </thead>\n",
       "  <tbody>\n",
       "    <tr>\n",
       "      <th>0</th>\n",
       "      <td>O749947</td>\n",
       "      <td>DRIVER</td>\n",
       "      <td>81dc0de2ed92aa62baccab641fa377be7feb1cc47e6554...</td>\n",
       "      <td>834816.0</td>\n",
       "      <td>09/28/2019 03:30:00 AM</td>\n",
       "      <td>NaN</td>\n",
       "      <td>CHICAGO</td>\n",
       "      <td>IL</td>\n",
       "      <td>60651</td>\n",
       "      <td>M</td>\n",
       "      <td>...</td>\n",
       "      <td>NaN</td>\n",
       "      <td>UNKNOWN</td>\n",
       "      <td>UNKNOWN</td>\n",
       "      <td>UNKNOWN</td>\n",
       "      <td>NaN</td>\n",
       "      <td>NaN</td>\n",
       "      <td>NaN</td>\n",
       "      <td>TEST NOT OFFERED</td>\n",
       "      <td>NaN</td>\n",
       "      <td>NaN</td>\n",
       "    </tr>\n",
       "    <tr>\n",
       "      <th>1</th>\n",
       "      <td>O871921</td>\n",
       "      <td>DRIVER</td>\n",
       "      <td>af84fb5c8d996fcd3aefd36593c3a02e6e7509eeb27568...</td>\n",
       "      <td>827212.0</td>\n",
       "      <td>04/13/2020 10:50:00 PM</td>\n",
       "      <td>NaN</td>\n",
       "      <td>CHICAGO</td>\n",
       "      <td>IL</td>\n",
       "      <td>60620</td>\n",
       "      <td>M</td>\n",
       "      <td>...</td>\n",
       "      <td>NaN</td>\n",
       "      <td>NONE</td>\n",
       "      <td>NOT OBSCURED</td>\n",
       "      <td>NORMAL</td>\n",
       "      <td>NaN</td>\n",
       "      <td>NaN</td>\n",
       "      <td>NaN</td>\n",
       "      <td>TEST NOT OFFERED</td>\n",
       "      <td>NaN</td>\n",
       "      <td>NaN</td>\n",
       "    </tr>\n",
       "    <tr>\n",
       "      <th>2</th>\n",
       "      <td>O10018</td>\n",
       "      <td>DRIVER</td>\n",
       "      <td>71162af7bf22799b776547132ebf134b5b438dcf3dac6b...</td>\n",
       "      <td>9579.0</td>\n",
       "      <td>11/01/2015 05:00:00 AM</td>\n",
       "      <td>NaN</td>\n",
       "      <td>NaN</td>\n",
       "      <td>NaN</td>\n",
       "      <td>NaN</td>\n",
       "      <td>X</td>\n",
       "      <td>...</td>\n",
       "      <td>NaN</td>\n",
       "      <td>IMPROPER BACKING</td>\n",
       "      <td>UNKNOWN</td>\n",
       "      <td>UNKNOWN</td>\n",
       "      <td>NaN</td>\n",
       "      <td>NaN</td>\n",
       "      <td>NaN</td>\n",
       "      <td>TEST NOT OFFERED</td>\n",
       "      <td>NaN</td>\n",
       "      <td>NaN</td>\n",
       "    </tr>\n",
       "    <tr>\n",
       "      <th>3</th>\n",
       "      <td>O10038</td>\n",
       "      <td>DRIVER</td>\n",
       "      <td>c21c476e2ccc41af550b5d858d22aaac4ffc88745a1700...</td>\n",
       "      <td>9598.0</td>\n",
       "      <td>11/01/2015 08:00:00 AM</td>\n",
       "      <td>NaN</td>\n",
       "      <td>NaN</td>\n",
       "      <td>NaN</td>\n",
       "      <td>NaN</td>\n",
       "      <td>X</td>\n",
       "      <td>...</td>\n",
       "      <td>NaN</td>\n",
       "      <td>UNKNOWN</td>\n",
       "      <td>UNKNOWN</td>\n",
       "      <td>UNKNOWN</td>\n",
       "      <td>NaN</td>\n",
       "      <td>NaN</td>\n",
       "      <td>NaN</td>\n",
       "      <td>TEST NOT OFFERED</td>\n",
       "      <td>NaN</td>\n",
       "      <td>NaN</td>\n",
       "    </tr>\n",
       "    <tr>\n",
       "      <th>4</th>\n",
       "      <td>O10039</td>\n",
       "      <td>DRIVER</td>\n",
       "      <td>eb390a4c8e114c69488f5fb8a097fe629f5a92fd528cf4...</td>\n",
       "      <td>9600.0</td>\n",
       "      <td>11/01/2015 10:15:00 AM</td>\n",
       "      <td>NaN</td>\n",
       "      <td>NaN</td>\n",
       "      <td>NaN</td>\n",
       "      <td>NaN</td>\n",
       "      <td>X</td>\n",
       "      <td>...</td>\n",
       "      <td>NaN</td>\n",
       "      <td>UNKNOWN</td>\n",
       "      <td>UNKNOWN</td>\n",
       "      <td>UNKNOWN</td>\n",
       "      <td>NaN</td>\n",
       "      <td>NaN</td>\n",
       "      <td>NaN</td>\n",
       "      <td>TEST NOT OFFERED</td>\n",
       "      <td>NaN</td>\n",
       "      <td>NaN</td>\n",
       "    </tr>\n",
       "  </tbody>\n",
       "</table>\n",
       "<p>5 rows × 29 columns</p>\n",
       "</div>"
      ],
      "text/plain": [
       "  PERSON_ID PERSON_TYPE                                    CRASH_RECORD_ID  \\\n",
       "0   O749947      DRIVER  81dc0de2ed92aa62baccab641fa377be7feb1cc47e6554...   \n",
       "1   O871921      DRIVER  af84fb5c8d996fcd3aefd36593c3a02e6e7509eeb27568...   \n",
       "2    O10018      DRIVER  71162af7bf22799b776547132ebf134b5b438dcf3dac6b...   \n",
       "3    O10038      DRIVER  c21c476e2ccc41af550b5d858d22aaac4ffc88745a1700...   \n",
       "4    O10039      DRIVER  eb390a4c8e114c69488f5fb8a097fe629f5a92fd528cf4...   \n",
       "\n",
       "   VEHICLE_ID              CRASH_DATE  SEAT_NO     CITY STATE ZIPCODE SEX  \\\n",
       "0    834816.0  09/28/2019 03:30:00 AM      NaN  CHICAGO    IL   60651   M   \n",
       "1    827212.0  04/13/2020 10:50:00 PM      NaN  CHICAGO    IL   60620   M   \n",
       "2      9579.0  11/01/2015 05:00:00 AM      NaN      NaN   NaN     NaN   X   \n",
       "3      9598.0  11/01/2015 08:00:00 AM      NaN      NaN   NaN     NaN   X   \n",
       "4      9600.0  11/01/2015 10:15:00 AM      NaN      NaN   NaN     NaN   X   \n",
       "\n",
       "   ...  EMS_RUN_NO     DRIVER_ACTION DRIVER_VISION PHYSICAL_CONDITION  \\\n",
       "0  ...         NaN           UNKNOWN       UNKNOWN            UNKNOWN   \n",
       "1  ...         NaN              NONE  NOT OBSCURED             NORMAL   \n",
       "2  ...         NaN  IMPROPER BACKING       UNKNOWN            UNKNOWN   \n",
       "3  ...         NaN           UNKNOWN       UNKNOWN            UNKNOWN   \n",
       "4  ...         NaN           UNKNOWN       UNKNOWN            UNKNOWN   \n",
       "\n",
       "  PEDPEDAL_ACTION PEDPEDAL_VISIBILITY PEDPEDAL_LOCATION        BAC_RESULT  \\\n",
       "0             NaN                 NaN               NaN  TEST NOT OFFERED   \n",
       "1             NaN                 NaN               NaN  TEST NOT OFFERED   \n",
       "2             NaN                 NaN               NaN  TEST NOT OFFERED   \n",
       "3             NaN                 NaN               NaN  TEST NOT OFFERED   \n",
       "4             NaN                 NaN               NaN  TEST NOT OFFERED   \n",
       "\n",
       "  BAC_RESULT VALUE CELL_PHONE_USE  \n",
       "0              NaN            NaN  \n",
       "1              NaN            NaN  \n",
       "2              NaN            NaN  \n",
       "3              NaN            NaN  \n",
       "4              NaN            NaN  \n",
       "\n",
       "[5 rows x 29 columns]"
      ]
     },
     "execution_count": 46,
     "metadata": {},
     "output_type": "execute_result"
    }
   ],
   "source": [
    "people.head()"
   ]
  },
  {
   "cell_type": "code",
   "execution_count": 47,
   "id": "8205d48a",
   "metadata": {
    "execution": {
     "iopub.execute_input": "2024-10-10T21:48:32.148128Z",
     "iopub.status.busy": "2024-10-10T21:48:32.147807Z",
     "iopub.status.idle": "2024-10-10T21:48:32.156835Z",
     "shell.execute_reply": "2024-10-10T21:48:32.156033Z"
    },
    "papermill": {
     "duration": 0.047849,
     "end_time": "2024-10-10T21:48:32.159656",
     "exception": false,
     "start_time": "2024-10-10T21:48:32.111807",
     "status": "completed"
    },
    "tags": []
   },
   "outputs": [
    {
     "name": "stdout",
     "output_type": "stream",
     "text": [
      "<class 'pandas.core.frame.DataFrame'>\n",
      "RangeIndex: 1933523 entries, 0 to 1933522\n",
      "Data columns (total 29 columns):\n",
      " #   Column                 Dtype  \n",
      "---  ------                 -----  \n",
      " 0   PERSON_ID              object \n",
      " 1   PERSON_TYPE            object \n",
      " 2   CRASH_RECORD_ID        object \n",
      " 3   VEHICLE_ID             float64\n",
      " 4   CRASH_DATE             object \n",
      " 5   SEAT_NO                float64\n",
      " 6   CITY                   object \n",
      " 7   STATE                  object \n",
      " 8   ZIPCODE                object \n",
      " 9   SEX                    object \n",
      " 10  AGE                    float64\n",
      " 11  DRIVERS_LICENSE_STATE  object \n",
      " 12  DRIVERS_LICENSE_CLASS  object \n",
      " 13  SAFETY_EQUIPMENT       object \n",
      " 14  AIRBAG_DEPLOYED        object \n",
      " 15  EJECTION               object \n",
      " 16  INJURY_CLASSIFICATION  object \n",
      " 17  HOSPITAL               object \n",
      " 18  EMS_AGENCY             object \n",
      " 19  EMS_RUN_NO             object \n",
      " 20  DRIVER_ACTION          object \n",
      " 21  DRIVER_VISION          object \n",
      " 22  PHYSICAL_CONDITION     object \n",
      " 23  PEDPEDAL_ACTION        object \n",
      " 24  PEDPEDAL_VISIBILITY    object \n",
      " 25  PEDPEDAL_LOCATION      object \n",
      " 26  BAC_RESULT             object \n",
      " 27  BAC_RESULT VALUE       float64\n",
      " 28  CELL_PHONE_USE         object \n",
      "dtypes: float64(4), object(25)\n",
      "memory usage: 427.8+ MB\n"
     ]
    }
   ],
   "source": [
    "people.info()"
   ]
  },
  {
   "cell_type": "code",
   "execution_count": 48,
   "id": "e2819ddf",
   "metadata": {
    "execution": {
     "iopub.execute_input": "2024-10-10T21:48:32.231732Z",
     "iopub.status.busy": "2024-10-10T21:48:32.231360Z",
     "iopub.status.idle": "2024-10-10T21:48:40.032962Z",
     "shell.execute_reply": "2024-10-10T21:48:40.032063Z"
    },
    "papermill": {
     "duration": 7.840289,
     "end_time": "2024-10-10T21:48:40.035367",
     "exception": false,
     "start_time": "2024-10-10T21:48:32.195078",
     "status": "completed"
    },
    "tags": []
   },
   "outputs": [
    {
     "data": {
      "text/plain": [
       "False"
      ]
     },
     "execution_count": 48,
     "metadata": {},
     "output_type": "execute_result"
    }
   ],
   "source": [
    "people.duplicated().values.any()"
   ]
  },
  {
   "cell_type": "code",
   "execution_count": 49,
   "id": "2d710e58",
   "metadata": {
    "execution": {
     "iopub.execute_input": "2024-10-10T21:48:40.107865Z",
     "iopub.status.busy": "2024-10-10T21:48:40.107551Z",
     "iopub.status.idle": "2024-10-10T21:48:40.113545Z",
     "shell.execute_reply": "2024-10-10T21:48:40.112708Z"
    },
    "papermill": {
     "duration": 0.043978,
     "end_time": "2024-10-10T21:48:40.115304",
     "exception": false,
     "start_time": "2024-10-10T21:48:40.071326",
     "status": "completed"
    },
    "tags": []
   },
   "outputs": [
    {
     "data": {
      "text/plain": [
       "(1933523, 29)"
      ]
     },
     "execution_count": 49,
     "metadata": {},
     "output_type": "execute_result"
    }
   ],
   "source": [
    "people.shape"
   ]
  },
  {
   "cell_type": "code",
   "execution_count": 50,
   "id": "fed20aa4",
   "metadata": {
    "execution": {
     "iopub.execute_input": "2024-10-10T21:48:40.187518Z",
     "iopub.status.busy": "2024-10-10T21:48:40.187198Z",
     "iopub.status.idle": "2024-10-10T21:48:43.579488Z",
     "shell.execute_reply": "2024-10-10T21:48:43.578576Z"
    },
    "papermill": {
     "duration": 3.431069,
     "end_time": "2024-10-10T21:48:43.581586",
     "exception": false,
     "start_time": "2024-10-10T21:48:40.150517",
     "status": "completed"
    },
    "tags": []
   },
   "outputs": [
    {
     "data": {
      "text/plain": [
       "PERSON_ID                      0\n",
       "PERSON_TYPE                    0\n",
       "CRASH_RECORD_ID                0\n",
       "VEHICLE_ID                 39465\n",
       "CRASH_DATE                     0\n",
       "SEAT_NO                  1542241\n",
       "CITY                      526764\n",
       "STATE                     505394\n",
       "ZIPCODE                   640085\n",
       "SEX                        32541\n",
       "AGE                       563607\n",
       "DRIVERS_LICENSE_STATE     801876\n",
       "DRIVERS_LICENSE_CLASS     991512\n",
       "SAFETY_EQUIPMENT            5378\n",
       "AIRBAG_DEPLOYED            37965\n",
       "EJECTION                   24133\n",
       "INJURY_CLASSIFICATION        743\n",
       "HOSPITAL                 1618492\n",
       "EMS_AGENCY               1738911\n",
       "EMS_RUN_NO               1901036\n",
       "DRIVER_ACTION             394748\n",
       "DRIVER_VISION             395340\n",
       "PHYSICAL_CONDITION        393693\n",
       "PEDPEDAL_ACTION          1895845\n",
       "PEDPEDAL_VISIBILITY      1895913\n",
       "PEDPEDAL_LOCATION        1895845\n",
       "BAC_RESULT                393802\n",
       "BAC_RESULT VALUE         1931407\n",
       "CELL_PHONE_USE           1932363\n",
       "dtype: int64"
      ]
     },
     "execution_count": 50,
     "metadata": {},
     "output_type": "execute_result"
    }
   ],
   "source": [
    "people.isnull().sum()"
   ]
  },
  {
   "cell_type": "code",
   "execution_count": 51,
   "id": "88f8a5e9",
   "metadata": {
    "execution": {
     "iopub.execute_input": "2024-10-10T21:48:43.654476Z",
     "iopub.status.busy": "2024-10-10T21:48:43.654129Z",
     "iopub.status.idle": "2024-10-10T21:48:43.660246Z",
     "shell.execute_reply": "2024-10-10T21:48:43.659430Z"
    },
    "papermill": {
     "duration": 0.044511,
     "end_time": "2024-10-10T21:48:43.662162",
     "exception": false,
     "start_time": "2024-10-10T21:48:43.617651",
     "status": "completed"
    },
    "tags": []
   },
   "outputs": [
    {
     "data": {
      "text/plain": [
       "Index(['PERSON_ID', 'PERSON_TYPE', 'CRASH_RECORD_ID', 'VEHICLE_ID',\n",
       "       'CRASH_DATE', 'SEAT_NO', 'CITY', 'STATE', 'ZIPCODE', 'SEX', 'AGE',\n",
       "       'DRIVERS_LICENSE_STATE', 'DRIVERS_LICENSE_CLASS', 'SAFETY_EQUIPMENT',\n",
       "       'AIRBAG_DEPLOYED', 'EJECTION', 'INJURY_CLASSIFICATION', 'HOSPITAL',\n",
       "       'EMS_AGENCY', 'EMS_RUN_NO', 'DRIVER_ACTION', 'DRIVER_VISION',\n",
       "       'PHYSICAL_CONDITION', 'PEDPEDAL_ACTION', 'PEDPEDAL_VISIBILITY',\n",
       "       'PEDPEDAL_LOCATION', 'BAC_RESULT', 'BAC_RESULT VALUE',\n",
       "       'CELL_PHONE_USE'],\n",
       "      dtype='object')"
      ]
     },
     "execution_count": 51,
     "metadata": {},
     "output_type": "execute_result"
    }
   ],
   "source": [
    "people.columns"
   ]
  },
  {
   "cell_type": "code",
   "execution_count": 52,
   "id": "2ead8ffa",
   "metadata": {
    "execution": {
     "iopub.execute_input": "2024-10-10T21:48:43.734581Z",
     "iopub.status.busy": "2024-10-10T21:48:43.734245Z",
     "iopub.status.idle": "2024-10-10T21:48:43.738315Z",
     "shell.execute_reply": "2024-10-10T21:48:43.737466Z"
    },
    "papermill": {
     "duration": 0.042683,
     "end_time": "2024-10-10T21:48:43.740213",
     "exception": false,
     "start_time": "2024-10-10T21:48:43.697530",
     "status": "completed"
    },
    "tags": []
   },
   "outputs": [],
   "source": [
    "columns_to_drop = ['SEAT_NO', 'HOSPITAL', 'EMS_AGENCY', 'EMS_RUN_NO','PEDPEDAL_ACTION', 'PEDPEDAL_VISIBILITY',\n",
    "       'PEDPEDAL_LOCATION', 'BAC_RESULT VALUE', 'CELL_PHONE_USE']"
   ]
  },
  {
   "cell_type": "code",
   "execution_count": 53,
   "id": "020d3897",
   "metadata": {
    "execution": {
     "iopub.execute_input": "2024-10-10T21:48:43.812558Z",
     "iopub.status.busy": "2024-10-10T21:48:43.812258Z",
     "iopub.status.idle": "2024-10-10T21:48:44.189775Z",
     "shell.execute_reply": "2024-10-10T21:48:44.188801Z"
    },
    "papermill": {
     "duration": 0.415819,
     "end_time": "2024-10-10T21:48:44.191761",
     "exception": false,
     "start_time": "2024-10-10T21:48:43.775942",
     "status": "completed"
    },
    "tags": []
   },
   "outputs": [],
   "source": [
    "people.drop(columns=columns_to_drop, inplace=True)"
   ]
  },
  {
   "cell_type": "code",
   "execution_count": 54,
   "id": "4673f446",
   "metadata": {
    "execution": {
     "iopub.execute_input": "2024-10-10T21:48:44.264955Z",
     "iopub.status.busy": "2024-10-10T21:48:44.264342Z",
     "iopub.status.idle": "2024-10-10T21:48:44.284909Z",
     "shell.execute_reply": "2024-10-10T21:48:44.284009Z"
    },
    "papermill": {
     "duration": 0.058893,
     "end_time": "2024-10-10T21:48:44.286819",
     "exception": false,
     "start_time": "2024-10-10T21:48:44.227926",
     "status": "completed"
    },
    "tags": []
   },
   "outputs": [
    {
     "data": {
      "text/html": [
       "<div>\n",
       "<style scoped>\n",
       "    .dataframe tbody tr th:only-of-type {\n",
       "        vertical-align: middle;\n",
       "    }\n",
       "\n",
       "    .dataframe tbody tr th {\n",
       "        vertical-align: top;\n",
       "    }\n",
       "\n",
       "    .dataframe thead th {\n",
       "        text-align: right;\n",
       "    }\n",
       "</style>\n",
       "<table border=\"1\" class=\"dataframe\">\n",
       "  <thead>\n",
       "    <tr style=\"text-align: right;\">\n",
       "      <th></th>\n",
       "      <th>PERSON_ID</th>\n",
       "      <th>PERSON_TYPE</th>\n",
       "      <th>CRASH_RECORD_ID</th>\n",
       "      <th>VEHICLE_ID</th>\n",
       "      <th>CRASH_DATE</th>\n",
       "      <th>CITY</th>\n",
       "      <th>STATE</th>\n",
       "      <th>ZIPCODE</th>\n",
       "      <th>SEX</th>\n",
       "      <th>AGE</th>\n",
       "      <th>DRIVERS_LICENSE_STATE</th>\n",
       "      <th>DRIVERS_LICENSE_CLASS</th>\n",
       "      <th>SAFETY_EQUIPMENT</th>\n",
       "      <th>AIRBAG_DEPLOYED</th>\n",
       "      <th>EJECTION</th>\n",
       "      <th>INJURY_CLASSIFICATION</th>\n",
       "      <th>DRIVER_ACTION</th>\n",
       "      <th>DRIVER_VISION</th>\n",
       "      <th>PHYSICAL_CONDITION</th>\n",
       "      <th>BAC_RESULT</th>\n",
       "    </tr>\n",
       "  </thead>\n",
       "  <tbody>\n",
       "    <tr>\n",
       "      <th>0</th>\n",
       "      <td>O749947</td>\n",
       "      <td>DRIVER</td>\n",
       "      <td>81dc0de2ed92aa62baccab641fa377be7feb1cc47e6554...</td>\n",
       "      <td>834816.0</td>\n",
       "      <td>09/28/2019 03:30:00 AM</td>\n",
       "      <td>CHICAGO</td>\n",
       "      <td>IL</td>\n",
       "      <td>60651</td>\n",
       "      <td>M</td>\n",
       "      <td>25.0</td>\n",
       "      <td>IL</td>\n",
       "      <td>D</td>\n",
       "      <td>NONE PRESENT</td>\n",
       "      <td>DEPLOYMENT UNKNOWN</td>\n",
       "      <td>NONE</td>\n",
       "      <td>NO INDICATION OF INJURY</td>\n",
       "      <td>UNKNOWN</td>\n",
       "      <td>UNKNOWN</td>\n",
       "      <td>UNKNOWN</td>\n",
       "      <td>TEST NOT OFFERED</td>\n",
       "    </tr>\n",
       "    <tr>\n",
       "      <th>1</th>\n",
       "      <td>O871921</td>\n",
       "      <td>DRIVER</td>\n",
       "      <td>af84fb5c8d996fcd3aefd36593c3a02e6e7509eeb27568...</td>\n",
       "      <td>827212.0</td>\n",
       "      <td>04/13/2020 10:50:00 PM</td>\n",
       "      <td>CHICAGO</td>\n",
       "      <td>IL</td>\n",
       "      <td>60620</td>\n",
       "      <td>M</td>\n",
       "      <td>37.0</td>\n",
       "      <td>IL</td>\n",
       "      <td>NaN</td>\n",
       "      <td>SAFETY BELT USED</td>\n",
       "      <td>DID NOT DEPLOY</td>\n",
       "      <td>NONE</td>\n",
       "      <td>NO INDICATION OF INJURY</td>\n",
       "      <td>NONE</td>\n",
       "      <td>NOT OBSCURED</td>\n",
       "      <td>NORMAL</td>\n",
       "      <td>TEST NOT OFFERED</td>\n",
       "    </tr>\n",
       "    <tr>\n",
       "      <th>2</th>\n",
       "      <td>O10018</td>\n",
       "      <td>DRIVER</td>\n",
       "      <td>71162af7bf22799b776547132ebf134b5b438dcf3dac6b...</td>\n",
       "      <td>9579.0</td>\n",
       "      <td>11/01/2015 05:00:00 AM</td>\n",
       "      <td>NaN</td>\n",
       "      <td>NaN</td>\n",
       "      <td>NaN</td>\n",
       "      <td>X</td>\n",
       "      <td>NaN</td>\n",
       "      <td>NaN</td>\n",
       "      <td>NaN</td>\n",
       "      <td>USAGE UNKNOWN</td>\n",
       "      <td>DEPLOYMENT UNKNOWN</td>\n",
       "      <td>NONE</td>\n",
       "      <td>NO INDICATION OF INJURY</td>\n",
       "      <td>IMPROPER BACKING</td>\n",
       "      <td>UNKNOWN</td>\n",
       "      <td>UNKNOWN</td>\n",
       "      <td>TEST NOT OFFERED</td>\n",
       "    </tr>\n",
       "    <tr>\n",
       "      <th>3</th>\n",
       "      <td>O10038</td>\n",
       "      <td>DRIVER</td>\n",
       "      <td>c21c476e2ccc41af550b5d858d22aaac4ffc88745a1700...</td>\n",
       "      <td>9598.0</td>\n",
       "      <td>11/01/2015 08:00:00 AM</td>\n",
       "      <td>NaN</td>\n",
       "      <td>NaN</td>\n",
       "      <td>NaN</td>\n",
       "      <td>X</td>\n",
       "      <td>NaN</td>\n",
       "      <td>NaN</td>\n",
       "      <td>NaN</td>\n",
       "      <td>USAGE UNKNOWN</td>\n",
       "      <td>DEPLOYMENT UNKNOWN</td>\n",
       "      <td>UNKNOWN</td>\n",
       "      <td>NO INDICATION OF INJURY</td>\n",
       "      <td>UNKNOWN</td>\n",
       "      <td>UNKNOWN</td>\n",
       "      <td>UNKNOWN</td>\n",
       "      <td>TEST NOT OFFERED</td>\n",
       "    </tr>\n",
       "    <tr>\n",
       "      <th>4</th>\n",
       "      <td>O10039</td>\n",
       "      <td>DRIVER</td>\n",
       "      <td>eb390a4c8e114c69488f5fb8a097fe629f5a92fd528cf4...</td>\n",
       "      <td>9600.0</td>\n",
       "      <td>11/01/2015 10:15:00 AM</td>\n",
       "      <td>NaN</td>\n",
       "      <td>NaN</td>\n",
       "      <td>NaN</td>\n",
       "      <td>X</td>\n",
       "      <td>NaN</td>\n",
       "      <td>NaN</td>\n",
       "      <td>NaN</td>\n",
       "      <td>USAGE UNKNOWN</td>\n",
       "      <td>DEPLOYMENT UNKNOWN</td>\n",
       "      <td>UNKNOWN</td>\n",
       "      <td>NO INDICATION OF INJURY</td>\n",
       "      <td>UNKNOWN</td>\n",
       "      <td>UNKNOWN</td>\n",
       "      <td>UNKNOWN</td>\n",
       "      <td>TEST NOT OFFERED</td>\n",
       "    </tr>\n",
       "  </tbody>\n",
       "</table>\n",
       "</div>"
      ],
      "text/plain": [
       "  PERSON_ID PERSON_TYPE                                    CRASH_RECORD_ID  \\\n",
       "0   O749947      DRIVER  81dc0de2ed92aa62baccab641fa377be7feb1cc47e6554...   \n",
       "1   O871921      DRIVER  af84fb5c8d996fcd3aefd36593c3a02e6e7509eeb27568...   \n",
       "2    O10018      DRIVER  71162af7bf22799b776547132ebf134b5b438dcf3dac6b...   \n",
       "3    O10038      DRIVER  c21c476e2ccc41af550b5d858d22aaac4ffc88745a1700...   \n",
       "4    O10039      DRIVER  eb390a4c8e114c69488f5fb8a097fe629f5a92fd528cf4...   \n",
       "\n",
       "   VEHICLE_ID              CRASH_DATE     CITY STATE ZIPCODE SEX   AGE  \\\n",
       "0    834816.0  09/28/2019 03:30:00 AM  CHICAGO    IL   60651   M  25.0   \n",
       "1    827212.0  04/13/2020 10:50:00 PM  CHICAGO    IL   60620   M  37.0   \n",
       "2      9579.0  11/01/2015 05:00:00 AM      NaN   NaN     NaN   X   NaN   \n",
       "3      9598.0  11/01/2015 08:00:00 AM      NaN   NaN     NaN   X   NaN   \n",
       "4      9600.0  11/01/2015 10:15:00 AM      NaN   NaN     NaN   X   NaN   \n",
       "\n",
       "  DRIVERS_LICENSE_STATE DRIVERS_LICENSE_CLASS  SAFETY_EQUIPMENT  \\\n",
       "0                    IL                     D      NONE PRESENT   \n",
       "1                    IL                   NaN  SAFETY BELT USED   \n",
       "2                   NaN                   NaN     USAGE UNKNOWN   \n",
       "3                   NaN                   NaN     USAGE UNKNOWN   \n",
       "4                   NaN                   NaN     USAGE UNKNOWN   \n",
       "\n",
       "      AIRBAG_DEPLOYED EJECTION    INJURY_CLASSIFICATION     DRIVER_ACTION  \\\n",
       "0  DEPLOYMENT UNKNOWN     NONE  NO INDICATION OF INJURY           UNKNOWN   \n",
       "1      DID NOT DEPLOY     NONE  NO INDICATION OF INJURY              NONE   \n",
       "2  DEPLOYMENT UNKNOWN     NONE  NO INDICATION OF INJURY  IMPROPER BACKING   \n",
       "3  DEPLOYMENT UNKNOWN  UNKNOWN  NO INDICATION OF INJURY           UNKNOWN   \n",
       "4  DEPLOYMENT UNKNOWN  UNKNOWN  NO INDICATION OF INJURY           UNKNOWN   \n",
       "\n",
       "  DRIVER_VISION PHYSICAL_CONDITION        BAC_RESULT  \n",
       "0       UNKNOWN            UNKNOWN  TEST NOT OFFERED  \n",
       "1  NOT OBSCURED             NORMAL  TEST NOT OFFERED  \n",
       "2       UNKNOWN            UNKNOWN  TEST NOT OFFERED  \n",
       "3       UNKNOWN            UNKNOWN  TEST NOT OFFERED  \n",
       "4       UNKNOWN            UNKNOWN  TEST NOT OFFERED  "
      ]
     },
     "execution_count": 54,
     "metadata": {},
     "output_type": "execute_result"
    }
   ],
   "source": [
    "people.head()"
   ]
  },
  {
   "cell_type": "code",
   "execution_count": 55,
   "id": "0c75e2af",
   "metadata": {
    "execution": {
     "iopub.execute_input": "2024-10-10T21:48:44.360158Z",
     "iopub.status.busy": "2024-10-10T21:48:44.359837Z",
     "iopub.status.idle": "2024-10-10T21:48:47.264845Z",
     "shell.execute_reply": "2024-10-10T21:48:47.263892Z"
    },
    "papermill": {
     "duration": 2.943985,
     "end_time": "2024-10-10T21:48:47.266748",
     "exception": false,
     "start_time": "2024-10-10T21:48:44.322763",
     "status": "completed"
    },
    "tags": []
   },
   "outputs": [
    {
     "data": {
      "text/plain": [
       "PERSON_ID                     0\n",
       "PERSON_TYPE                   0\n",
       "CRASH_RECORD_ID               0\n",
       "VEHICLE_ID                39465\n",
       "CRASH_DATE                    0\n",
       "CITY                     526764\n",
       "STATE                    505394\n",
       "ZIPCODE                  640085\n",
       "SEX                       32541\n",
       "AGE                      563607\n",
       "DRIVERS_LICENSE_STATE    801876\n",
       "DRIVERS_LICENSE_CLASS    991512\n",
       "SAFETY_EQUIPMENT           5378\n",
       "AIRBAG_DEPLOYED           37965\n",
       "EJECTION                  24133\n",
       "INJURY_CLASSIFICATION       743\n",
       "DRIVER_ACTION            394748\n",
       "DRIVER_VISION            395340\n",
       "PHYSICAL_CONDITION       393693\n",
       "BAC_RESULT               393802\n",
       "dtype: int64"
      ]
     },
     "execution_count": 55,
     "metadata": {},
     "output_type": "execute_result"
    }
   ],
   "source": [
    "people.isnull().sum()"
   ]
  },
  {
   "cell_type": "code",
   "execution_count": 56,
   "id": "1ef188a9",
   "metadata": {
    "execution": {
     "iopub.execute_input": "2024-10-10T21:48:47.341347Z",
     "iopub.status.busy": "2024-10-10T21:48:47.340971Z",
     "iopub.status.idle": "2024-10-10T21:48:47.568794Z",
     "shell.execute_reply": "2024-10-10T21:48:47.567898Z"
    },
    "papermill": {
     "duration": 0.267043,
     "end_time": "2024-10-10T21:48:47.570640",
     "exception": false,
     "start_time": "2024-10-10T21:48:47.303597",
     "status": "completed"
    },
    "tags": []
   },
   "outputs": [
    {
     "data": {
      "text/plain": [
       "SEX\n",
       "M    999438\n",
       "F    725948\n",
       "X    175596\n",
       "Name: count, dtype: int64"
      ]
     },
     "execution_count": 56,
     "metadata": {},
     "output_type": "execute_result"
    }
   ],
   "source": [
    "people['SEX'].value_counts()"
   ]
  },
  {
   "cell_type": "code",
   "execution_count": 57,
   "id": "25707239",
   "metadata": {
    "execution": {
     "iopub.execute_input": "2024-10-10T21:48:47.648326Z",
     "iopub.status.busy": "2024-10-10T21:48:47.647963Z",
     "iopub.status.idle": "2024-10-10T21:48:47.682105Z",
     "shell.execute_reply": "2024-10-10T21:48:47.681250Z"
    },
    "papermill": {
     "duration": 0.073886,
     "end_time": "2024-10-10T21:48:47.684171",
     "exception": false,
     "start_time": "2024-10-10T21:48:47.610285",
     "status": "completed"
    },
    "tags": []
   },
   "outputs": [
    {
     "data": {
      "text/plain": [
       "AGE\n",
       " 26.0     38330\n",
       " 25.0     38325\n",
       " 27.0     38300\n",
       " 28.0     37713\n",
       " 24.0     37143\n",
       "          ...  \n",
       "-47.0         1\n",
       "-49.0         1\n",
       "-177.0        1\n",
       "-40.0         1\n",
       "-59.0         1\n",
       "Name: count, Length: 117, dtype: int64"
      ]
     },
     "execution_count": 57,
     "metadata": {},
     "output_type": "execute_result"
    }
   ],
   "source": [
    "people['AGE'].value_counts()"
   ]
  },
  {
   "cell_type": "code",
   "execution_count": 58,
   "id": "e20fc5b7",
   "metadata": {
    "execution": {
     "iopub.execute_input": "2024-10-10T21:48:47.758589Z",
     "iopub.status.busy": "2024-10-10T21:48:47.758286Z",
     "iopub.status.idle": "2024-10-10T21:48:47.975949Z",
     "shell.execute_reply": "2024-10-10T21:48:47.974382Z"
    },
    "papermill": {
     "duration": 0.258313,
     "end_time": "2024-10-10T21:48:47.978840",
     "exception": false,
     "start_time": "2024-10-10T21:48:47.720527",
     "status": "completed"
    },
    "tags": []
   },
   "outputs": [
    {
     "data": {
      "text/plain": [
       "DRIVERS_LICENSE_STATE\n",
       "IL    1035411\n",
       "XX      25688\n",
       "IN      19273\n",
       "WI       6339\n",
       "MI       4827\n",
       "       ...   \n",
       "NN          1\n",
       "TT          1\n",
       "KN          1\n",
       "IR          1\n",
       "EY          1\n",
       "Name: count, Length: 212, dtype: int64"
      ]
     },
     "execution_count": 58,
     "metadata": {},
     "output_type": "execute_result"
    }
   ],
   "source": [
    "people['DRIVERS_LICENSE_STATE'].value_counts()"
   ]
  },
  {
   "cell_type": "code",
   "execution_count": 59,
   "id": "7779b69a",
   "metadata": {
    "execution": {
     "iopub.execute_input": "2024-10-10T21:48:48.064493Z",
     "iopub.status.busy": "2024-10-10T21:48:48.063724Z",
     "iopub.status.idle": "2024-10-10T21:48:48.234173Z",
     "shell.execute_reply": "2024-10-10T21:48:48.233187Z"
    },
    "papermill": {
     "duration": 0.210534,
     "end_time": "2024-10-10T21:48:48.236432",
     "exception": false,
     "start_time": "2024-10-10T21:48:48.025898",
     "status": "completed"
    },
    "tags": []
   },
   "outputs": [
    {
     "data": {
      "text/plain": [
       "DRIVERS_LICENSE_CLASS\n",
       "D     819699\n",
       "A      33917\n",
       "B      25860\n",
       "C      25728\n",
       "DM     13965\n",
       "       ...  \n",
       "CF         1\n",
       "12         1\n",
       "B+         1\n",
       "1G         1\n",
       "25         1\n",
       "Name: count, Length: 289, dtype: int64"
      ]
     },
     "execution_count": 59,
     "metadata": {},
     "output_type": "execute_result"
    }
   ],
   "source": [
    "people['DRIVERS_LICENSE_CLASS'].value_counts()"
   ]
  },
  {
   "cell_type": "code",
   "execution_count": 60,
   "id": "d51c44d3",
   "metadata": {
    "execution": {
     "iopub.execute_input": "2024-10-10T21:48:48.311412Z",
     "iopub.status.busy": "2024-10-10T21:48:48.311085Z",
     "iopub.status.idle": "2024-10-10T21:48:48.611707Z",
     "shell.execute_reply": "2024-10-10T21:48:48.610799Z"
    },
    "papermill": {
     "duration": 0.340117,
     "end_time": "2024-10-10T21:48:48.613629",
     "exception": false,
     "start_time": "2024-10-10T21:48:48.273512",
     "status": "completed"
    },
    "tags": []
   },
   "outputs": [
    {
     "data": {
      "text/plain": [
       "SAFETY_EQUIPMENT\n",
       "USAGE UNKNOWN                                 915385\n",
       "SAFETY BELT USED                              899835\n",
       "NONE PRESENT                                   65194\n",
       "SAFETY BELT NOT USED                           10525\n",
       "HELMET NOT USED                                 9721\n",
       "CHILD RESTRAINT USED                            7822\n",
       "CHILD RESTRAINT - FORWARD FACING                4950\n",
       "BICYCLE HELMET (PEDACYCLIST INVOLVED ONLY)      3814\n",
       "CHILD RESTRAINT - TYPE UNKNOWN                  2601\n",
       "CHILD RESTRAINT - REAR FACING                   2251\n",
       "DOT COMPLIANT MOTORCYCLE HELMET                 1530\n",
       "HELMET USED                                     1358\n",
       "BOOSTER SEAT                                    1286\n",
       "CHILD RESTRAINT NOT USED                         854\n",
       "NOT DOT COMPLIANT MOTORCYCLE HELMET              299\n",
       "SHOULD/LAP BELT USED IMPROPERLY                  270\n",
       "WHEELCHAIR                                       237\n",
       "CHILD RESTRAINT USED IMPROPERLY                  167\n",
       "STRETCHER                                         46\n",
       "Name: count, dtype: int64"
      ]
     },
     "execution_count": 60,
     "metadata": {},
     "output_type": "execute_result"
    }
   ],
   "source": [
    "people['SAFETY_EQUIPMENT'].value_counts()"
   ]
  },
  {
   "cell_type": "code",
   "execution_count": 61,
   "id": "5028755e",
   "metadata": {
    "execution": {
     "iopub.execute_input": "2024-10-10T21:48:48.688304Z",
     "iopub.status.busy": "2024-10-10T21:48:48.688012Z",
     "iopub.status.idle": "2024-10-10T21:48:48.991529Z",
     "shell.execute_reply": "2024-10-10T21:48:48.990624Z"
    },
    "papermill": {
     "duration": 0.343056,
     "end_time": "2024-10-10T21:48:48.993442",
     "exception": false,
     "start_time": "2024-10-10T21:48:48.650386",
     "status": "completed"
    },
    "tags": []
   },
   "outputs": [
    {
     "data": {
      "text/plain": [
       "AIRBAG_DEPLOYED\n",
       "DID NOT DEPLOY                            970719\n",
       "NOT APPLICABLE                            409073\n",
       "DEPLOYMENT UNKNOWN                        387679\n",
       "DEPLOYED, FRONT                            60306\n",
       "DEPLOYED, COMBINATION                      49304\n",
       "DEPLOYED, SIDE                             17527\n",
       "DEPLOYED OTHER (KNEE, AIR, BELT, ETC.)       950\n",
       "Name: count, dtype: int64"
      ]
     },
     "execution_count": 61,
     "metadata": {},
     "output_type": "execute_result"
    }
   ],
   "source": [
    "people['AIRBAG_DEPLOYED'].value_counts()"
   ]
  },
  {
   "cell_type": "code",
   "execution_count": 62,
   "id": "5d60141b",
   "metadata": {
    "execution": {
     "iopub.execute_input": "2024-10-10T21:48:49.069316Z",
     "iopub.status.busy": "2024-10-10T21:48:49.068962Z",
     "iopub.status.idle": "2024-10-10T21:48:49.367554Z",
     "shell.execute_reply": "2024-10-10T21:48:49.366695Z"
    },
    "papermill": {
     "duration": 0.338512,
     "end_time": "2024-10-10T21:48:49.369626",
     "exception": false,
     "start_time": "2024-10-10T21:48:49.031114",
     "status": "completed"
    },
    "tags": []
   },
   "outputs": [
    {
     "data": {
      "text/plain": [
       "EJECTION\n",
       "NONE                  1779455\n",
       "UNKNOWN                121542\n",
       "TOTALLY EJECTED          5796\n",
       "PARTIALLY EJECTED        1428\n",
       "TRAPPED/EXTRICATED       1169\n",
       "Name: count, dtype: int64"
      ]
     },
     "execution_count": 62,
     "metadata": {},
     "output_type": "execute_result"
    }
   ],
   "source": [
    "people['EJECTION'].value_counts()"
   ]
  },
  {
   "cell_type": "code",
   "execution_count": 63,
   "id": "c6d79bbf",
   "metadata": {
    "execution": {
     "iopub.execute_input": "2024-10-10T21:48:49.447286Z",
     "iopub.status.busy": "2024-10-10T21:48:49.446936Z",
     "iopub.status.idle": "2024-10-10T21:48:49.749278Z",
     "shell.execute_reply": "2024-10-10T21:48:49.748374Z"
    },
    "papermill": {
     "duration": 0.343726,
     "end_time": "2024-10-10T21:48:49.751224",
     "exception": false,
     "start_time": "2024-10-10T21:48:49.407498",
     "status": "completed"
    },
    "tags": []
   },
   "outputs": [
    {
     "data": {
      "text/plain": [
       "INJURY_CLASSIFICATION\n",
       "NO INDICATION OF INJURY     1761927\n",
       "NONINCAPACITATING INJURY      95855\n",
       "REPORTED, NOT EVIDENT         56380\n",
       "INCAPACITATING INJURY         17552\n",
       "FATAL                          1066\n",
       "Name: count, dtype: int64"
      ]
     },
     "execution_count": 63,
     "metadata": {},
     "output_type": "execute_result"
    }
   ],
   "source": [
    "people['INJURY_CLASSIFICATION'].value_counts()"
   ]
  },
  {
   "cell_type": "code",
   "execution_count": 64,
   "id": "ebc70f89",
   "metadata": {
    "execution": {
     "iopub.execute_input": "2024-10-10T21:48:49.827258Z",
     "iopub.status.busy": "2024-10-10T21:48:49.826952Z",
     "iopub.status.idle": "2024-10-10T21:48:50.081918Z",
     "shell.execute_reply": "2024-10-10T21:48:50.081021Z"
    },
    "papermill": {
     "duration": 0.29476,
     "end_time": "2024-10-10T21:48:50.083835",
     "exception": false,
     "start_time": "2024-10-10T21:48:49.789075",
     "status": "completed"
    },
    "tags": []
   },
   "outputs": [
    {
     "data": {
      "text/plain": [
       "DRIVER_ACTION\n",
       "NONE                                 547933\n",
       "UNKNOWN                              390730\n",
       "FAILED TO YIELD                      139921\n",
       "OTHER                                138385\n",
       "FOLLOWED TOO CLOSELY                  90233\n",
       "IMPROPER BACKING                      45321\n",
       "IMPROPER TURN                         40487\n",
       "IMPROPER LANE CHANGE                  39554\n",
       "IMPROPER PASSING                      34526\n",
       "DISREGARDED CONTROL DEVICES           27230\n",
       "TOO FAST FOR CONDITIONS               22606\n",
       "WRONG WAY/SIDE                         6211\n",
       "IMPROPER PARKING                       5657\n",
       "OVERCORRECTED                          3035\n",
       "EVADING POLICE VEHICLE                 2411\n",
       "CELL PHONE USE OTHER THAN TEXTING      2243\n",
       "EMERGENCY VEHICLE ON CALL              1439\n",
       "TEXTING                                 604\n",
       "STOPPED SCHOOL BUS                      183\n",
       "LICENSE RESTRICTIONS                     66\n",
       "Name: count, dtype: int64"
      ]
     },
     "execution_count": 64,
     "metadata": {},
     "output_type": "execute_result"
    }
   ],
   "source": [
    "people['DRIVER_ACTION'].value_counts()"
   ]
  },
  {
   "cell_type": "code",
   "execution_count": 65,
   "id": "354d8a1c",
   "metadata": {
    "execution": {
     "iopub.execute_input": "2024-10-10T21:48:50.159911Z",
     "iopub.status.busy": "2024-10-10T21:48:50.159632Z",
     "iopub.status.idle": "2024-10-10T21:48:50.415340Z",
     "shell.execute_reply": "2024-10-10T21:48:50.414494Z"
    },
    "papermill": {
     "duration": 0.296062,
     "end_time": "2024-10-10T21:48:50.417345",
     "exception": false,
     "start_time": "2024-10-10T21:48:50.121283",
     "status": "completed"
    },
    "tags": []
   },
   "outputs": [
    {
     "data": {
      "text/plain": [
       "DRIVER_VISION\n",
       "NOT OBSCURED              769160\n",
       "UNKNOWN                   732401\n",
       "OTHER                      15108\n",
       "MOVING VEHICLES             8639\n",
       "PARKED VEHICLES             5309\n",
       "WINDSHIELD (WATER/ICE)      4094\n",
       "BLINDED - SUNLIGHT          1834\n",
       "TREES, PLANTS                610\n",
       "BUILDINGS                    540\n",
       "BLINDED - HEADLIGHTS         164\n",
       "BLOWING MATERIALS            105\n",
       "HILLCREST                    100\n",
       "EMBANKMENT                    83\n",
       "SIGNBOARD                     36\n",
       "Name: count, dtype: int64"
      ]
     },
     "execution_count": 65,
     "metadata": {},
     "output_type": "execute_result"
    }
   ],
   "source": [
    "people['DRIVER_VISION'].value_counts()"
   ]
  },
  {
   "cell_type": "code",
   "execution_count": 66,
   "id": "93ea2e60",
   "metadata": {
    "execution": {
     "iopub.execute_input": "2024-10-10T21:48:50.494674Z",
     "iopub.status.busy": "2024-10-10T21:48:50.494391Z",
     "iopub.status.idle": "2024-10-10T21:48:50.750013Z",
     "shell.execute_reply": "2024-10-10T21:48:50.749137Z"
    },
    "papermill": {
     "duration": 0.295772,
     "end_time": "2024-10-10T21:48:50.751936",
     "exception": false,
     "start_time": "2024-10-10T21:48:50.456164",
     "status": "completed"
    },
    "tags": []
   },
   "outputs": [
    {
     "data": {
      "text/plain": [
       "PHYSICAL_CONDITION\n",
       "NORMAL                          997785\n",
       "UNKNOWN                         513601\n",
       "IMPAIRED - ALCOHOL                6484\n",
       "REMOVED BY EMS                    5593\n",
       "OTHER                             4483\n",
       "EMOTIONAL                         4052\n",
       "FATIGUED/ASLEEP                   4029\n",
       "ILLNESS/FAINTED                   1382\n",
       "HAD BEEN DRINKING                 1110\n",
       "IMPAIRED - DRUGS                   720\n",
       "IMPAIRED - ALCOHOL AND DRUGS       402\n",
       "MEDICATED                          189\n",
       "Name: count, dtype: int64"
      ]
     },
     "execution_count": 66,
     "metadata": {},
     "output_type": "execute_result"
    }
   ],
   "source": [
    "people['PHYSICAL_CONDITION'].value_counts()"
   ]
  },
  {
   "cell_type": "code",
   "execution_count": 67,
   "id": "f3852a1b",
   "metadata": {
    "execution": {
     "iopub.execute_input": "2024-10-10T21:48:50.828927Z",
     "iopub.status.busy": "2024-10-10T21:48:50.828628Z",
     "iopub.status.idle": "2024-10-10T21:48:51.083686Z",
     "shell.execute_reply": "2024-10-10T21:48:51.082781Z"
    },
    "papermill": {
     "duration": 0.295241,
     "end_time": "2024-10-10T21:48:51.085609",
     "exception": false,
     "start_time": "2024-10-10T21:48:50.790368",
     "status": "completed"
    },
    "tags": []
   },
   "outputs": [
    {
     "data": {
      "text/plain": [
       "BAC_RESULT\n",
       "TEST NOT OFFERED                   1517493\n",
       "TEST REFUSED                         15857\n",
       "TEST PERFORMED, RESULTS UNKNOWN       3662\n",
       "TEST TAKEN                            2709\n",
       "Name: count, dtype: int64"
      ]
     },
     "execution_count": 67,
     "metadata": {},
     "output_type": "execute_result"
    }
   ],
   "source": [
    "people['BAC_RESULT'].value_counts()"
   ]
  },
  {
   "cell_type": "code",
   "execution_count": 68,
   "id": "a689dce2",
   "metadata": {
    "execution": {
     "iopub.execute_input": "2024-10-10T21:48:51.162463Z",
     "iopub.status.busy": "2024-10-10T21:48:51.162180Z",
     "iopub.status.idle": "2024-10-10T21:48:51.439908Z",
     "shell.execute_reply": "2024-10-10T21:48:51.438910Z"
    },
    "papermill": {
     "duration": 0.318488,
     "end_time": "2024-10-10T21:48:51.441931",
     "exception": false,
     "start_time": "2024-10-10T21:48:51.123443",
     "status": "completed"
    },
    "tags": []
   },
   "outputs": [],
   "source": [
    "people.drop(columns=['VEHICLE_ID','CITY', 'STATE', 'ZIPCODE', 'AGE', 'DRIVERS_LICENSE_STATE','INJURY_CLASSIFICATION'], \n",
    "            inplace=True)"
   ]
  },
  {
   "cell_type": "code",
   "execution_count": 69,
   "id": "7c119ad7",
   "metadata": {
    "execution": {
     "iopub.execute_input": "2024-10-10T21:48:51.519116Z",
     "iopub.status.busy": "2024-10-10T21:48:51.518760Z",
     "iopub.status.idle": "2024-10-10T21:48:53.505814Z",
     "shell.execute_reply": "2024-10-10T21:48:53.504969Z"
    },
    "papermill": {
     "duration": 2.028046,
     "end_time": "2024-10-10T21:48:53.508247",
     "exception": false,
     "start_time": "2024-10-10T21:48:51.480201",
     "status": "completed"
    },
    "tags": []
   },
   "outputs": [],
   "source": [
    "mf_dl_class = people['DRIVERS_LICENSE_CLASS'].mode()[0]\n",
    "mf_bac_result = people['BAC_RESULT'].mode()[0]\n",
    "\n",
    "people['DRIVERS_LICENSE_CLASS'].fillna(mf_dl_class, inplace=True)\n",
    "people['BAC_RESULT'].fillna(mf_bac_result, inplace=True)\n",
    "people['SEX'].fillna('X', inplace=True)\n",
    "people['SAFETY_EQUIPMENT'].fillna('USAGE UNKNOWN', inplace=True)\n",
    "people['AIRBAG_DEPLOYED'].fillna('DEPLOYMENT UNKNOWN', inplace=True)\n",
    "people['EJECTION'].fillna('UNKNOWN', inplace=True)\n",
    "people['DRIVER_ACTION'].fillna('UNKNOWN', inplace=True)\n",
    "people['DRIVER_VISION'].fillna('UNKNOWN', inplace=True)\n",
    "people['PHYSICAL_CONDITION'].fillna('UNKNOWN', inplace=True)"
   ]
  },
  {
   "cell_type": "code",
   "execution_count": 70,
   "id": "837bd189",
   "metadata": {
    "execution": {
     "iopub.execute_input": "2024-10-10T21:48:53.585392Z",
     "iopub.status.busy": "2024-10-10T21:48:53.585068Z",
     "iopub.status.idle": "2024-10-10T21:48:55.854791Z",
     "shell.execute_reply": "2024-10-10T21:48:55.853887Z"
    },
    "papermill": {
     "duration": 2.310251,
     "end_time": "2024-10-10T21:48:55.856683",
     "exception": false,
     "start_time": "2024-10-10T21:48:53.546432",
     "status": "completed"
    },
    "tags": []
   },
   "outputs": [
    {
     "data": {
      "text/plain": [
       "PERSON_ID                0\n",
       "PERSON_TYPE              0\n",
       "CRASH_RECORD_ID          0\n",
       "CRASH_DATE               0\n",
       "SEX                      0\n",
       "DRIVERS_LICENSE_CLASS    0\n",
       "SAFETY_EQUIPMENT         0\n",
       "AIRBAG_DEPLOYED          0\n",
       "EJECTION                 0\n",
       "DRIVER_ACTION            0\n",
       "DRIVER_VISION            0\n",
       "PHYSICAL_CONDITION       0\n",
       "BAC_RESULT               0\n",
       "dtype: int64"
      ]
     },
     "execution_count": 70,
     "metadata": {},
     "output_type": "execute_result"
    }
   ],
   "source": [
    "people.isnull().sum()"
   ]
  },
  {
   "cell_type": "code",
   "execution_count": 71,
   "id": "df2a928b",
   "metadata": {
    "execution": {
     "iopub.execute_input": "2024-10-10T21:48:55.934664Z",
     "iopub.status.busy": "2024-10-10T21:48:55.934343Z",
     "iopub.status.idle": "2024-10-10T21:48:59.606818Z",
     "shell.execute_reply": "2024-10-10T21:48:59.606029Z"
    },
    "papermill": {
     "duration": 3.713629,
     "end_time": "2024-10-10T21:48:59.609254",
     "exception": false,
     "start_time": "2024-10-10T21:48:55.895625",
     "status": "completed"
    },
    "tags": []
   },
   "outputs": [],
   "source": [
    "#merging the datasets\n",
    "df = pd.concat([crashes, vehicles, people], ignore_index=True)"
   ]
  },
  {
   "cell_type": "code",
   "execution_count": 72,
   "id": "a99606d9",
   "metadata": {
    "execution": {
     "iopub.execute_input": "2024-10-10T21:48:59.686717Z",
     "iopub.status.busy": "2024-10-10T21:48:59.686359Z",
     "iopub.status.idle": "2024-10-10T21:48:59.709041Z",
     "shell.execute_reply": "2024-10-10T21:48:59.708220Z"
    },
    "papermill": {
     "duration": 0.063226,
     "end_time": "2024-10-10T21:48:59.710856",
     "exception": false,
     "start_time": "2024-10-10T21:48:59.647630",
     "status": "completed"
    },
    "tags": []
   },
   "outputs": [
    {
     "data": {
      "text/html": [
       "<div>\n",
       "<style scoped>\n",
       "    .dataframe tbody tr th:only-of-type {\n",
       "        vertical-align: middle;\n",
       "    }\n",
       "\n",
       "    .dataframe tbody tr th {\n",
       "        vertical-align: top;\n",
       "    }\n",
       "\n",
       "    .dataframe thead th {\n",
       "        text-align: right;\n",
       "    }\n",
       "</style>\n",
       "<table border=\"1\" class=\"dataframe\">\n",
       "  <thead>\n",
       "    <tr style=\"text-align: right;\">\n",
       "      <th></th>\n",
       "      <th>CRASH_RECORD_ID</th>\n",
       "      <th>CRASH_DATE</th>\n",
       "      <th>POSTED_SPEED_LIMIT</th>\n",
       "      <th>TRAFFIC_CONTROL_DEVICE</th>\n",
       "      <th>DEVICE_CONDITION</th>\n",
       "      <th>WEATHER_CONDITION</th>\n",
       "      <th>LIGHTING_CONDITION</th>\n",
       "      <th>FIRST_CRASH_TYPE</th>\n",
       "      <th>TRAFFICWAY_TYPE</th>\n",
       "      <th>ALIGNMENT</th>\n",
       "      <th>...</th>\n",
       "      <th>PERSON_TYPE</th>\n",
       "      <th>SEX</th>\n",
       "      <th>DRIVERS_LICENSE_CLASS</th>\n",
       "      <th>SAFETY_EQUIPMENT</th>\n",
       "      <th>AIRBAG_DEPLOYED</th>\n",
       "      <th>EJECTION</th>\n",
       "      <th>DRIVER_ACTION</th>\n",
       "      <th>DRIVER_VISION</th>\n",
       "      <th>PHYSICAL_CONDITION</th>\n",
       "      <th>BAC_RESULT</th>\n",
       "    </tr>\n",
       "  </thead>\n",
       "  <tbody>\n",
       "    <tr>\n",
       "      <th>0</th>\n",
       "      <td>23a79931ef555d54118f64dc9be2cf2dbf59636ce253f7...</td>\n",
       "      <td>09/05/2023 07:05:00 PM</td>\n",
       "      <td>30.0</td>\n",
       "      <td>TRAFFIC SIGNAL</td>\n",
       "      <td>FUNCTIONING PROPERLY</td>\n",
       "      <td>CLEAR</td>\n",
       "      <td>DUSK</td>\n",
       "      <td>ANGLE</td>\n",
       "      <td>FIVE POINT, OR MORE</td>\n",
       "      <td>STRAIGHT AND LEVEL</td>\n",
       "      <td>...</td>\n",
       "      <td>NaN</td>\n",
       "      <td>NaN</td>\n",
       "      <td>NaN</td>\n",
       "      <td>NaN</td>\n",
       "      <td>NaN</td>\n",
       "      <td>NaN</td>\n",
       "      <td>NaN</td>\n",
       "      <td>NaN</td>\n",
       "      <td>NaN</td>\n",
       "      <td>NaN</td>\n",
       "    </tr>\n",
       "    <tr>\n",
       "      <th>1</th>\n",
       "      <td>2675c13fd0f474d730a5b780968b3cafc7c12d7adb661f...</td>\n",
       "      <td>09/22/2023 06:45:00 PM</td>\n",
       "      <td>50.0</td>\n",
       "      <td>NO CONTROLS</td>\n",
       "      <td>NO CONTROLS</td>\n",
       "      <td>CLEAR</td>\n",
       "      <td>DARKNESS, LIGHTED ROAD</td>\n",
       "      <td>REAR END</td>\n",
       "      <td>DIVIDED - W/MEDIAN BARRIER</td>\n",
       "      <td>STRAIGHT AND LEVEL</td>\n",
       "      <td>...</td>\n",
       "      <td>NaN</td>\n",
       "      <td>NaN</td>\n",
       "      <td>NaN</td>\n",
       "      <td>NaN</td>\n",
       "      <td>NaN</td>\n",
       "      <td>NaN</td>\n",
       "      <td>NaN</td>\n",
       "      <td>NaN</td>\n",
       "      <td>NaN</td>\n",
       "      <td>NaN</td>\n",
       "    </tr>\n",
       "    <tr>\n",
       "      <th>2</th>\n",
       "      <td>5f54a59fcb087b12ae5b1acff96a3caf4f2d37e79f8db4...</td>\n",
       "      <td>07/29/2023 02:45:00 PM</td>\n",
       "      <td>30.0</td>\n",
       "      <td>TRAFFIC SIGNAL</td>\n",
       "      <td>FUNCTIONING PROPERLY</td>\n",
       "      <td>CLEAR</td>\n",
       "      <td>DAYLIGHT</td>\n",
       "      <td>PARKED MOTOR VEHICLE</td>\n",
       "      <td>DIVIDED - W/MEDIAN (NOT RAISED)</td>\n",
       "      <td>STRAIGHT AND LEVEL</td>\n",
       "      <td>...</td>\n",
       "      <td>NaN</td>\n",
       "      <td>NaN</td>\n",
       "      <td>NaN</td>\n",
       "      <td>NaN</td>\n",
       "      <td>NaN</td>\n",
       "      <td>NaN</td>\n",
       "      <td>NaN</td>\n",
       "      <td>NaN</td>\n",
       "      <td>NaN</td>\n",
       "      <td>NaN</td>\n",
       "    </tr>\n",
       "    <tr>\n",
       "      <th>3</th>\n",
       "      <td>7ebf015016f83d09b321afd671a836d6b148330535d5df...</td>\n",
       "      <td>08/09/2023 11:00:00 PM</td>\n",
       "      <td>30.0</td>\n",
       "      <td>NO CONTROLS</td>\n",
       "      <td>NO CONTROLS</td>\n",
       "      <td>CLEAR</td>\n",
       "      <td>DARKNESS, LIGHTED ROAD</td>\n",
       "      <td>SIDESWIPE SAME DIRECTION</td>\n",
       "      <td>NOT DIVIDED</td>\n",
       "      <td>STRAIGHT AND LEVEL</td>\n",
       "      <td>...</td>\n",
       "      <td>NaN</td>\n",
       "      <td>NaN</td>\n",
       "      <td>NaN</td>\n",
       "      <td>NaN</td>\n",
       "      <td>NaN</td>\n",
       "      <td>NaN</td>\n",
       "      <td>NaN</td>\n",
       "      <td>NaN</td>\n",
       "      <td>NaN</td>\n",
       "      <td>NaN</td>\n",
       "    </tr>\n",
       "    <tr>\n",
       "      <th>4</th>\n",
       "      <td>6c1659069e9c6285a650e70d6f9b574ed5f64c12888479...</td>\n",
       "      <td>08/18/2023 12:50:00 PM</td>\n",
       "      <td>15.0</td>\n",
       "      <td>OTHER</td>\n",
       "      <td>FUNCTIONING PROPERLY</td>\n",
       "      <td>CLEAR</td>\n",
       "      <td>DAYLIGHT</td>\n",
       "      <td>REAR END</td>\n",
       "      <td>OTHER</td>\n",
       "      <td>STRAIGHT AND LEVEL</td>\n",
       "      <td>...</td>\n",
       "      <td>NaN</td>\n",
       "      <td>NaN</td>\n",
       "      <td>NaN</td>\n",
       "      <td>NaN</td>\n",
       "      <td>NaN</td>\n",
       "      <td>NaN</td>\n",
       "      <td>NaN</td>\n",
       "      <td>NaN</td>\n",
       "      <td>NaN</td>\n",
       "      <td>NaN</td>\n",
       "    </tr>\n",
       "  </tbody>\n",
       "</table>\n",
       "<p>5 rows × 56 columns</p>\n",
       "</div>"
      ],
      "text/plain": [
       "                                     CRASH_RECORD_ID              CRASH_DATE  \\\n",
       "0  23a79931ef555d54118f64dc9be2cf2dbf59636ce253f7...  09/05/2023 07:05:00 PM   \n",
       "1  2675c13fd0f474d730a5b780968b3cafc7c12d7adb661f...  09/22/2023 06:45:00 PM   \n",
       "2  5f54a59fcb087b12ae5b1acff96a3caf4f2d37e79f8db4...  07/29/2023 02:45:00 PM   \n",
       "3  7ebf015016f83d09b321afd671a836d6b148330535d5df...  08/09/2023 11:00:00 PM   \n",
       "4  6c1659069e9c6285a650e70d6f9b574ed5f64c12888479...  08/18/2023 12:50:00 PM   \n",
       "\n",
       "   POSTED_SPEED_LIMIT TRAFFIC_CONTROL_DEVICE      DEVICE_CONDITION  \\\n",
       "0                30.0         TRAFFIC SIGNAL  FUNCTIONING PROPERLY   \n",
       "1                50.0            NO CONTROLS           NO CONTROLS   \n",
       "2                30.0         TRAFFIC SIGNAL  FUNCTIONING PROPERLY   \n",
       "3                30.0            NO CONTROLS           NO CONTROLS   \n",
       "4                15.0                  OTHER  FUNCTIONING PROPERLY   \n",
       "\n",
       "  WEATHER_CONDITION      LIGHTING_CONDITION          FIRST_CRASH_TYPE  \\\n",
       "0             CLEAR                    DUSK                     ANGLE   \n",
       "1             CLEAR  DARKNESS, LIGHTED ROAD                  REAR END   \n",
       "2             CLEAR                DAYLIGHT      PARKED MOTOR VEHICLE   \n",
       "3             CLEAR  DARKNESS, LIGHTED ROAD  SIDESWIPE SAME DIRECTION   \n",
       "4             CLEAR                DAYLIGHT                  REAR END   \n",
       "\n",
       "                   TRAFFICWAY_TYPE           ALIGNMENT  ... PERSON_TYPE  SEX  \\\n",
       "0              FIVE POINT, OR MORE  STRAIGHT AND LEVEL  ...         NaN  NaN   \n",
       "1       DIVIDED - W/MEDIAN BARRIER  STRAIGHT AND LEVEL  ...         NaN  NaN   \n",
       "2  DIVIDED - W/MEDIAN (NOT RAISED)  STRAIGHT AND LEVEL  ...         NaN  NaN   \n",
       "3                      NOT DIVIDED  STRAIGHT AND LEVEL  ...         NaN  NaN   \n",
       "4                            OTHER  STRAIGHT AND LEVEL  ...         NaN  NaN   \n",
       "\n",
       "  DRIVERS_LICENSE_CLASS SAFETY_EQUIPMENT AIRBAG_DEPLOYED EJECTION  \\\n",
       "0                   NaN              NaN             NaN      NaN   \n",
       "1                   NaN              NaN             NaN      NaN   \n",
       "2                   NaN              NaN             NaN      NaN   \n",
       "3                   NaN              NaN             NaN      NaN   \n",
       "4                   NaN              NaN             NaN      NaN   \n",
       "\n",
       "  DRIVER_ACTION  DRIVER_VISION PHYSICAL_CONDITION BAC_RESULT  \n",
       "0           NaN            NaN                NaN        NaN  \n",
       "1           NaN            NaN                NaN        NaN  \n",
       "2           NaN            NaN                NaN        NaN  \n",
       "3           NaN            NaN                NaN        NaN  \n",
       "4           NaN            NaN                NaN        NaN  \n",
       "\n",
       "[5 rows x 56 columns]"
      ]
     },
     "execution_count": 72,
     "metadata": {},
     "output_type": "execute_result"
    }
   ],
   "source": [
    "df.head()"
   ]
  },
  {
   "cell_type": "code",
   "execution_count": 73,
   "id": "19709b3f",
   "metadata": {
    "execution": {
     "iopub.execute_input": "2024-10-10T21:48:59.788889Z",
     "iopub.status.busy": "2024-10-10T21:48:59.788619Z",
     "iopub.status.idle": "2024-10-10T21:48:59.793872Z",
     "shell.execute_reply": "2024-10-10T21:48:59.793057Z"
    },
    "papermill": {
     "duration": 0.046188,
     "end_time": "2024-10-10T21:48:59.795852",
     "exception": false,
     "start_time": "2024-10-10T21:48:59.749664",
     "status": "completed"
    },
    "tags": []
   },
   "outputs": [
    {
     "data": {
      "text/plain": [
       "(4566060, 56)"
      ]
     },
     "execution_count": 73,
     "metadata": {},
     "output_type": "execute_result"
    }
   ],
   "source": [
    "df.shape"
   ]
  },
  {
   "cell_type": "code",
   "execution_count": 74,
   "id": "bd34e96f",
   "metadata": {
    "execution": {
     "iopub.execute_input": "2024-10-10T21:48:59.873356Z",
     "iopub.status.busy": "2024-10-10T21:48:59.873080Z",
     "iopub.status.idle": "2024-10-10T21:49:21.572195Z",
     "shell.execute_reply": "2024-10-10T21:49:21.571259Z"
    },
    "papermill": {
     "duration": 21.740702,
     "end_time": "2024-10-10T21:49:21.574611",
     "exception": false,
     "start_time": "2024-10-10T21:48:59.833909",
     "status": "completed"
    },
    "tags": []
   },
   "outputs": [
    {
     "data": {
      "text/html": [
       "<div>\n",
       "<style scoped>\n",
       "    .dataframe tbody tr th:only-of-type {\n",
       "        vertical-align: middle;\n",
       "    }\n",
       "\n",
       "    .dataframe tbody tr th {\n",
       "        vertical-align: top;\n",
       "    }\n",
       "\n",
       "    .dataframe thead th {\n",
       "        text-align: right;\n",
       "    }\n",
       "</style>\n",
       "<table border=\"1\" class=\"dataframe\">\n",
       "  <thead>\n",
       "    <tr style=\"text-align: right;\">\n",
       "      <th></th>\n",
       "      <th>Column Name</th>\n",
       "      <th>Data Type</th>\n",
       "      <th>Number of Unique Values</th>\n",
       "      <th>Unique Values</th>\n",
       "    </tr>\n",
       "  </thead>\n",
       "  <tbody>\n",
       "    <tr>\n",
       "      <th>0</th>\n",
       "      <td>CRASH_RECORD_ID</td>\n",
       "      <td>object</td>\n",
       "      <td>880397</td>\n",
       "      <td>[23a79931ef555d54118f64dc9be2cf2dbf59636ce253f...</td>\n",
       "    </tr>\n",
       "    <tr>\n",
       "      <th>1</th>\n",
       "      <td>CRASH_DATE</td>\n",
       "      <td>object</td>\n",
       "      <td>578550</td>\n",
       "      <td>[09/05/2023 07:05:00 PM, 09/22/2023 06:45:00 P...</td>\n",
       "    </tr>\n",
       "    <tr>\n",
       "      <th>2</th>\n",
       "      <td>POSTED_SPEED_LIMIT</td>\n",
       "      <td>float64</td>\n",
       "      <td>46</td>\n",
       "      <td>[30.0, 50.0, 15.0, 25.0, 10.0, 35.0, 20.0, 55....</td>\n",
       "    </tr>\n",
       "    <tr>\n",
       "      <th>3</th>\n",
       "      <td>TRAFFIC_CONTROL_DEVICE</td>\n",
       "      <td>object</td>\n",
       "      <td>20</td>\n",
       "      <td>[TRAFFIC SIGNAL, NO CONTROLS, OTHER, UNKNOWN, ...</td>\n",
       "    </tr>\n",
       "    <tr>\n",
       "      <th>4</th>\n",
       "      <td>DEVICE_CONDITION</td>\n",
       "      <td>object</td>\n",
       "      <td>9</td>\n",
       "      <td>[FUNCTIONING PROPERLY, NO CONTROLS, FUNCTIONIN...</td>\n",
       "    </tr>\n",
       "    <tr>\n",
       "      <th>5</th>\n",
       "      <td>WEATHER_CONDITION</td>\n",
       "      <td>object</td>\n",
       "      <td>13</td>\n",
       "      <td>[CLEAR, SNOW, RAIN, UNKNOWN, CLOUDY/OVERCAST, ...</td>\n",
       "    </tr>\n",
       "    <tr>\n",
       "      <th>6</th>\n",
       "      <td>LIGHTING_CONDITION</td>\n",
       "      <td>object</td>\n",
       "      <td>7</td>\n",
       "      <td>[DUSK, DARKNESS, LIGHTED ROAD, DAYLIGHT, DARKN...</td>\n",
       "    </tr>\n",
       "    <tr>\n",
       "      <th>7</th>\n",
       "      <td>FIRST_CRASH_TYPE</td>\n",
       "      <td>object</td>\n",
       "      <td>19</td>\n",
       "      <td>[ANGLE, REAR END, PARKED MOTOR VEHICLE, SIDESW...</td>\n",
       "    </tr>\n",
       "    <tr>\n",
       "      <th>8</th>\n",
       "      <td>TRAFFICWAY_TYPE</td>\n",
       "      <td>object</td>\n",
       "      <td>21</td>\n",
       "      <td>[FIVE POINT, OR MORE, DIVIDED - W/MEDIAN BARRI...</td>\n",
       "    </tr>\n",
       "    <tr>\n",
       "      <th>9</th>\n",
       "      <td>ALIGNMENT</td>\n",
       "      <td>object</td>\n",
       "      <td>7</td>\n",
       "      <td>[STRAIGHT AND LEVEL, CURVE ON GRADE, CURVE, LE...</td>\n",
       "    </tr>\n",
       "    <tr>\n",
       "      <th>10</th>\n",
       "      <td>ROADWAY_SURFACE_COND</td>\n",
       "      <td>object</td>\n",
       "      <td>8</td>\n",
       "      <td>[DRY, SNOW OR SLUSH, WET, UNKNOWN, OTHER, ICE,...</td>\n",
       "    </tr>\n",
       "    <tr>\n",
       "      <th>11</th>\n",
       "      <td>ROAD_DEFECT</td>\n",
       "      <td>object</td>\n",
       "      <td>8</td>\n",
       "      <td>[NO DEFECTS, UNKNOWN, DEBRIS ON ROADWAY, OTHER...</td>\n",
       "    </tr>\n",
       "    <tr>\n",
       "      <th>12</th>\n",
       "      <td>CRASH_TYPE</td>\n",
       "      <td>object</td>\n",
       "      <td>3</td>\n",
       "      <td>[INJURY AND / OR TOW DUE TO CRASH, NO INJURY /...</td>\n",
       "    </tr>\n",
       "    <tr>\n",
       "      <th>13</th>\n",
       "      <td>DAMAGE</td>\n",
       "      <td>object</td>\n",
       "      <td>4</td>\n",
       "      <td>[OVER $1,500, $501 - $1,500, $500 OR LESS, nan]</td>\n",
       "    </tr>\n",
       "    <tr>\n",
       "      <th>14</th>\n",
       "      <td>DATE_POLICE_NOTIFIED</td>\n",
       "      <td>object</td>\n",
       "      <td>665652</td>\n",
       "      <td>[09/05/2023 07:05:00 PM, 09/22/2023 06:50:00 P...</td>\n",
       "    </tr>\n",
       "    <tr>\n",
       "      <th>15</th>\n",
       "      <td>PRIM_CONTRIBUTORY_CAUSE</td>\n",
       "      <td>object</td>\n",
       "      <td>41</td>\n",
       "      <td>[UNABLE TO DETERMINE, FOLLOWING TOO CLOSELY, F...</td>\n",
       "    </tr>\n",
       "    <tr>\n",
       "      <th>16</th>\n",
       "      <td>SEC_CONTRIBUTORY_CAUSE</td>\n",
       "      <td>object</td>\n",
       "      <td>41</td>\n",
       "      <td>[NOT APPLICABLE, FOLLOWING TOO CLOSELY, OPERAT...</td>\n",
       "    </tr>\n",
       "    <tr>\n",
       "      <th>17</th>\n",
       "      <td>STREET_NO</td>\n",
       "      <td>float64</td>\n",
       "      <td>11796</td>\n",
       "      <td>[5500.0, 7900.0, 2101.0, 10020.0, 700.0, 5.0, ...</td>\n",
       "    </tr>\n",
       "    <tr>\n",
       "      <th>18</th>\n",
       "      <td>STREET_DIRECTION</td>\n",
       "      <td>object</td>\n",
       "      <td>5</td>\n",
       "      <td>[S, W, E, N, nan]</td>\n",
       "    </tr>\n",
       "    <tr>\n",
       "      <th>19</th>\n",
       "      <td>STREET_NAME</td>\n",
       "      <td>object</td>\n",
       "      <td>1646</td>\n",
       "      <td>[WENTWORTH AVE, CHICAGO SKYWAY OB, ASHLAND AVE...</td>\n",
       "    </tr>\n",
       "    <tr>\n",
       "      <th>20</th>\n",
       "      <td>NUM_UNITS</td>\n",
       "      <td>float64</td>\n",
       "      <td>18</td>\n",
       "      <td>[2.0, 4.0, 1.0, 3.0, 5.0, 6.0, 7.0, 8.0, 12.0,...</td>\n",
       "    </tr>\n",
       "    <tr>\n",
       "      <th>21</th>\n",
       "      <td>MOST_SEVERE_INJURY</td>\n",
       "      <td>object</td>\n",
       "      <td>6</td>\n",
       "      <td>[INCAPACITATING INJURY, NO INDICATION OF INJUR...</td>\n",
       "    </tr>\n",
       "    <tr>\n",
       "      <th>22</th>\n",
       "      <td>INJURIES_TOTAL</td>\n",
       "      <td>float64</td>\n",
       "      <td>21</td>\n",
       "      <td>[3.0, 0.0, 1.0, 2.0, 5.0, 4.0, 6.0, 15.0, 7.0,...</td>\n",
       "    </tr>\n",
       "    <tr>\n",
       "      <th>23</th>\n",
       "      <td>INJURIES_FATAL</td>\n",
       "      <td>float64</td>\n",
       "      <td>6</td>\n",
       "      <td>[0.0, 1.0, 2.0, 3.0, 4.0, nan]</td>\n",
       "    </tr>\n",
       "    <tr>\n",
       "      <th>24</th>\n",
       "      <td>INJURIES_INCAPACITATING</td>\n",
       "      <td>float64</td>\n",
       "      <td>11</td>\n",
       "      <td>[1.0, 0.0, 5.0, 2.0, 3.0, 4.0, 6.0, 7.0, 10.0,...</td>\n",
       "    </tr>\n",
       "    <tr>\n",
       "      <th>25</th>\n",
       "      <td>INJURIES_NON_INCAPACITATING</td>\n",
       "      <td>float64</td>\n",
       "      <td>20</td>\n",
       "      <td>[2.0, 0.0, 1.0, 5.0, 3.0, 4.0, 6.0, 21.0, 7.0,...</td>\n",
       "    </tr>\n",
       "    <tr>\n",
       "      <th>26</th>\n",
       "      <td>INJURIES_REPORTED_NOT_EVIDENT</td>\n",
       "      <td>float64</td>\n",
       "      <td>14</td>\n",
       "      <td>[0.0, 2.0, 1.0, 3.0, 5.0, 4.0, 10.0, 6.0, 7.0,...</td>\n",
       "    </tr>\n",
       "    <tr>\n",
       "      <th>27</th>\n",
       "      <td>INJURIES_NO_INDICATION</td>\n",
       "      <td>float64</td>\n",
       "      <td>51</td>\n",
       "      <td>[2.0, 1.0, 5.0, 3.0, 0.0, 4.0, 8.0, 7.0, 6.0, ...</td>\n",
       "    </tr>\n",
       "    <tr>\n",
       "      <th>28</th>\n",
       "      <td>INJURIES_UNKNOWN</td>\n",
       "      <td>float64</td>\n",
       "      <td>2</td>\n",
       "      <td>[0.0, nan]</td>\n",
       "    </tr>\n",
       "    <tr>\n",
       "      <th>29</th>\n",
       "      <td>CRASH_HOUR</td>\n",
       "      <td>float64</td>\n",
       "      <td>25</td>\n",
       "      <td>[19.0, 18.0, 14.0, 23.0, 12.0, 8.0, 17.0, 16.0...</td>\n",
       "    </tr>\n",
       "    <tr>\n",
       "      <th>30</th>\n",
       "      <td>CRASH_DAY_OF_WEEK</td>\n",
       "      <td>float64</td>\n",
       "      <td>8</td>\n",
       "      <td>[3.0, 6.0, 7.0, 4.0, 2.0, 1.0, 5.0, nan]</td>\n",
       "    </tr>\n",
       "    <tr>\n",
       "      <th>31</th>\n",
       "      <td>CRASH_MONTH</td>\n",
       "      <td>float64</td>\n",
       "      <td>13</td>\n",
       "      <td>[9.0, 7.0, 8.0, 11.0, 2.0, 1.0, 10.0, 12.0, 5....</td>\n",
       "    </tr>\n",
       "    <tr>\n",
       "      <th>32</th>\n",
       "      <td>CRASH_UNIT_ID</td>\n",
       "      <td>float64</td>\n",
       "      <td>1754083</td>\n",
       "      <td>[nan, 1717556.0, 1717574.0, 1717579.0, 1720118...</td>\n",
       "    </tr>\n",
       "    <tr>\n",
       "      <th>33</th>\n",
       "      <td>UNIT_NO</td>\n",
       "      <td>float64</td>\n",
       "      <td>21</td>\n",
       "      <td>[nan, 1.0, 2.0, 3.0, 4.0, 5.0, 6.0, 7.0, 8.0, ...</td>\n",
       "    </tr>\n",
       "    <tr>\n",
       "      <th>34</th>\n",
       "      <td>UNIT_TYPE</td>\n",
       "      <td>object</td>\n",
       "      <td>6</td>\n",
       "      <td>[nan, DRIVER, PARKED, DRIVERLESS, NON-CONTACT ...</td>\n",
       "    </tr>\n",
       "    <tr>\n",
       "      <th>35</th>\n",
       "      <td>VEHICLE_ID</td>\n",
       "      <td>float64</td>\n",
       "      <td>1754083</td>\n",
       "      <td>[nan, 1634931.0, 1634978.0, 1634948.0, 1637401...</td>\n",
       "    </tr>\n",
       "    <tr>\n",
       "      <th>36</th>\n",
       "      <td>MAKE</td>\n",
       "      <td>object</td>\n",
       "      <td>1382</td>\n",
       "      <td>[nan, NISSAN, CHRYSLER, SUBARU, TOYOTA, FORD, ...</td>\n",
       "    </tr>\n",
       "    <tr>\n",
       "      <th>37</th>\n",
       "      <td>MODEL</td>\n",
       "      <td>object</td>\n",
       "      <td>2772</td>\n",
       "      <td>[nan, SENTRA, SEBRING, OUTBACK, RAV4, ROGUE, M...</td>\n",
       "    </tr>\n",
       "    <tr>\n",
       "      <th>38</th>\n",
       "      <td>VEHICLE_DEFECT</td>\n",
       "      <td>object</td>\n",
       "      <td>18</td>\n",
       "      <td>[nan, UNKNOWN, NONE, OTHER, BRAKES, TIRES, STE...</td>\n",
       "    </tr>\n",
       "    <tr>\n",
       "      <th>39</th>\n",
       "      <td>VEHICLE_TYPE</td>\n",
       "      <td>object</td>\n",
       "      <td>23</td>\n",
       "      <td>[nan, UNKNOWN/NA, PASSENGER, SPORT UTILITY VEH...</td>\n",
       "    </tr>\n",
       "    <tr>\n",
       "      <th>40</th>\n",
       "      <td>VEHICLE_USE</td>\n",
       "      <td>object</td>\n",
       "      <td>26</td>\n",
       "      <td>[nan, UNKNOWN/NA, PERSONAL, AMBULANCE, OTHER, ...</td>\n",
       "    </tr>\n",
       "    <tr>\n",
       "      <th>41</th>\n",
       "      <td>TRAVEL_DIRECTION</td>\n",
       "      <td>object</td>\n",
       "      <td>10</td>\n",
       "      <td>[nan, S, W, E, N, UNKNOWN, NE, SE, NW, SW]</td>\n",
       "    </tr>\n",
       "    <tr>\n",
       "      <th>42</th>\n",
       "      <td>MANEUVER</td>\n",
       "      <td>object</td>\n",
       "      <td>29</td>\n",
       "      <td>[nan, SLOW/STOP IN TRAFFIC, PASSING/OVERTAKING...</td>\n",
       "    </tr>\n",
       "    <tr>\n",
       "      <th>43</th>\n",
       "      <td>OCCUPANT_CNT</td>\n",
       "      <td>float64</td>\n",
       "      <td>48</td>\n",
       "      <td>[nan, 1.0, 2.0, 3.0, 4.0, 0.0, 5.0, 6.0, 31.0,...</td>\n",
       "    </tr>\n",
       "    <tr>\n",
       "      <th>44</th>\n",
       "      <td>FIRST_CONTACT_POINT</td>\n",
       "      <td>object</td>\n",
       "      <td>24</td>\n",
       "      <td>[nan, FRONT, REAR-RIGHT-CORNER, SIDE-LEFT-FRON...</td>\n",
       "    </tr>\n",
       "    <tr>\n",
       "      <th>45</th>\n",
       "      <td>PERSON_ID</td>\n",
       "      <td>object</td>\n",
       "      <td>1933524</td>\n",
       "      <td>[nan, O749947, O871921, O10018, O10038, O10039...</td>\n",
       "    </tr>\n",
       "    <tr>\n",
       "      <th>46</th>\n",
       "      <td>PERSON_TYPE</td>\n",
       "      <td>object</td>\n",
       "      <td>7</td>\n",
       "      <td>[nan, DRIVER, PASSENGER, PEDESTRIAN, BICYCLE, ...</td>\n",
       "    </tr>\n",
       "    <tr>\n",
       "      <th>47</th>\n",
       "      <td>SEX</td>\n",
       "      <td>object</td>\n",
       "      <td>4</td>\n",
       "      <td>[nan, M, X, F]</td>\n",
       "    </tr>\n",
       "    <tr>\n",
       "      <th>48</th>\n",
       "      <td>DRIVERS_LICENSE_CLASS</td>\n",
       "      <td>object</td>\n",
       "      <td>290</td>\n",
       "      <td>[nan, D, B, 9, A, BM, DM, AM, C, 99, CO, DL, D...</td>\n",
       "    </tr>\n",
       "    <tr>\n",
       "      <th>49</th>\n",
       "      <td>SAFETY_EQUIPMENT</td>\n",
       "      <td>object</td>\n",
       "      <td>20</td>\n",
       "      <td>[nan, NONE PRESENT, SAFETY BELT USED, USAGE UN...</td>\n",
       "    </tr>\n",
       "    <tr>\n",
       "      <th>50</th>\n",
       "      <td>AIRBAG_DEPLOYED</td>\n",
       "      <td>object</td>\n",
       "      <td>8</td>\n",
       "      <td>[nan, DEPLOYMENT UNKNOWN, DID NOT DEPLOY, NOT ...</td>\n",
       "    </tr>\n",
       "    <tr>\n",
       "      <th>51</th>\n",
       "      <td>EJECTION</td>\n",
       "      <td>object</td>\n",
       "      <td>6</td>\n",
       "      <td>[nan, NONE, UNKNOWN, TOTALLY EJECTED, TRAPPED/...</td>\n",
       "    </tr>\n",
       "    <tr>\n",
       "      <th>52</th>\n",
       "      <td>DRIVER_ACTION</td>\n",
       "      <td>object</td>\n",
       "      <td>21</td>\n",
       "      <td>[nan, UNKNOWN, NONE, IMPROPER BACKING, IMPROPE...</td>\n",
       "    </tr>\n",
       "    <tr>\n",
       "      <th>53</th>\n",
       "      <td>DRIVER_VISION</td>\n",
       "      <td>object</td>\n",
       "      <td>15</td>\n",
       "      <td>[nan, UNKNOWN, NOT OBSCURED, WINDSHIELD (WATER...</td>\n",
       "    </tr>\n",
       "    <tr>\n",
       "      <th>54</th>\n",
       "      <td>PHYSICAL_CONDITION</td>\n",
       "      <td>object</td>\n",
       "      <td>13</td>\n",
       "      <td>[nan, UNKNOWN, NORMAL, IMPAIRED - DRUGS, REMOV...</td>\n",
       "    </tr>\n",
       "    <tr>\n",
       "      <th>55</th>\n",
       "      <td>BAC_RESULT</td>\n",
       "      <td>object</td>\n",
       "      <td>5</td>\n",
       "      <td>[nan, TEST NOT OFFERED, TEST TAKEN, TEST REFUS...</td>\n",
       "    </tr>\n",
       "  </tbody>\n",
       "</table>\n",
       "</div>"
      ],
      "text/plain": [
       "                      Column Name Data Type  Number of Unique Values  \\\n",
       "0                 CRASH_RECORD_ID    object                   880397   \n",
       "1                      CRASH_DATE    object                   578550   \n",
       "2              POSTED_SPEED_LIMIT   float64                       46   \n",
       "3          TRAFFIC_CONTROL_DEVICE    object                       20   \n",
       "4                DEVICE_CONDITION    object                        9   \n",
       "5               WEATHER_CONDITION    object                       13   \n",
       "6              LIGHTING_CONDITION    object                        7   \n",
       "7                FIRST_CRASH_TYPE    object                       19   \n",
       "8                 TRAFFICWAY_TYPE    object                       21   \n",
       "9                       ALIGNMENT    object                        7   \n",
       "10           ROADWAY_SURFACE_COND    object                        8   \n",
       "11                    ROAD_DEFECT    object                        8   \n",
       "12                     CRASH_TYPE    object                        3   \n",
       "13                         DAMAGE    object                        4   \n",
       "14           DATE_POLICE_NOTIFIED    object                   665652   \n",
       "15        PRIM_CONTRIBUTORY_CAUSE    object                       41   \n",
       "16         SEC_CONTRIBUTORY_CAUSE    object                       41   \n",
       "17                      STREET_NO   float64                    11796   \n",
       "18               STREET_DIRECTION    object                        5   \n",
       "19                    STREET_NAME    object                     1646   \n",
       "20                      NUM_UNITS   float64                       18   \n",
       "21             MOST_SEVERE_INJURY    object                        6   \n",
       "22                 INJURIES_TOTAL   float64                       21   \n",
       "23                 INJURIES_FATAL   float64                        6   \n",
       "24        INJURIES_INCAPACITATING   float64                       11   \n",
       "25    INJURIES_NON_INCAPACITATING   float64                       20   \n",
       "26  INJURIES_REPORTED_NOT_EVIDENT   float64                       14   \n",
       "27         INJURIES_NO_INDICATION   float64                       51   \n",
       "28               INJURIES_UNKNOWN   float64                        2   \n",
       "29                     CRASH_HOUR   float64                       25   \n",
       "30              CRASH_DAY_OF_WEEK   float64                        8   \n",
       "31                    CRASH_MONTH   float64                       13   \n",
       "32                  CRASH_UNIT_ID   float64                  1754083   \n",
       "33                        UNIT_NO   float64                       21   \n",
       "34                      UNIT_TYPE    object                        6   \n",
       "35                     VEHICLE_ID   float64                  1754083   \n",
       "36                           MAKE    object                     1382   \n",
       "37                          MODEL    object                     2772   \n",
       "38                 VEHICLE_DEFECT    object                       18   \n",
       "39                   VEHICLE_TYPE    object                       23   \n",
       "40                    VEHICLE_USE    object                       26   \n",
       "41               TRAVEL_DIRECTION    object                       10   \n",
       "42                       MANEUVER    object                       29   \n",
       "43                   OCCUPANT_CNT   float64                       48   \n",
       "44            FIRST_CONTACT_POINT    object                       24   \n",
       "45                      PERSON_ID    object                  1933524   \n",
       "46                    PERSON_TYPE    object                        7   \n",
       "47                            SEX    object                        4   \n",
       "48          DRIVERS_LICENSE_CLASS    object                      290   \n",
       "49               SAFETY_EQUIPMENT    object                       20   \n",
       "50                AIRBAG_DEPLOYED    object                        8   \n",
       "51                       EJECTION    object                        6   \n",
       "52                  DRIVER_ACTION    object                       21   \n",
       "53                  DRIVER_VISION    object                       15   \n",
       "54             PHYSICAL_CONDITION    object                       13   \n",
       "55                     BAC_RESULT    object                        5   \n",
       "\n",
       "                                        Unique Values  \n",
       "0   [23a79931ef555d54118f64dc9be2cf2dbf59636ce253f...  \n",
       "1   [09/05/2023 07:05:00 PM, 09/22/2023 06:45:00 P...  \n",
       "2   [30.0, 50.0, 15.0, 25.0, 10.0, 35.0, 20.0, 55....  \n",
       "3   [TRAFFIC SIGNAL, NO CONTROLS, OTHER, UNKNOWN, ...  \n",
       "4   [FUNCTIONING PROPERLY, NO CONTROLS, FUNCTIONIN...  \n",
       "5   [CLEAR, SNOW, RAIN, UNKNOWN, CLOUDY/OVERCAST, ...  \n",
       "6   [DUSK, DARKNESS, LIGHTED ROAD, DAYLIGHT, DARKN...  \n",
       "7   [ANGLE, REAR END, PARKED MOTOR VEHICLE, SIDESW...  \n",
       "8   [FIVE POINT, OR MORE, DIVIDED - W/MEDIAN BARRI...  \n",
       "9   [STRAIGHT AND LEVEL, CURVE ON GRADE, CURVE, LE...  \n",
       "10  [DRY, SNOW OR SLUSH, WET, UNKNOWN, OTHER, ICE,...  \n",
       "11  [NO DEFECTS, UNKNOWN, DEBRIS ON ROADWAY, OTHER...  \n",
       "12  [INJURY AND / OR TOW DUE TO CRASH, NO INJURY /...  \n",
       "13    [OVER $1,500, $501 - $1,500, $500 OR LESS, nan]  \n",
       "14  [09/05/2023 07:05:00 PM, 09/22/2023 06:50:00 P...  \n",
       "15  [UNABLE TO DETERMINE, FOLLOWING TOO CLOSELY, F...  \n",
       "16  [NOT APPLICABLE, FOLLOWING TOO CLOSELY, OPERAT...  \n",
       "17  [5500.0, 7900.0, 2101.0, 10020.0, 700.0, 5.0, ...  \n",
       "18                                  [S, W, E, N, nan]  \n",
       "19  [WENTWORTH AVE, CHICAGO SKYWAY OB, ASHLAND AVE...  \n",
       "20  [2.0, 4.0, 1.0, 3.0, 5.0, 6.0, 7.0, 8.0, 12.0,...  \n",
       "21  [INCAPACITATING INJURY, NO INDICATION OF INJUR...  \n",
       "22  [3.0, 0.0, 1.0, 2.0, 5.0, 4.0, 6.0, 15.0, 7.0,...  \n",
       "23                     [0.0, 1.0, 2.0, 3.0, 4.0, nan]  \n",
       "24  [1.0, 0.0, 5.0, 2.0, 3.0, 4.0, 6.0, 7.0, 10.0,...  \n",
       "25  [2.0, 0.0, 1.0, 5.0, 3.0, 4.0, 6.0, 21.0, 7.0,...  \n",
       "26  [0.0, 2.0, 1.0, 3.0, 5.0, 4.0, 10.0, 6.0, 7.0,...  \n",
       "27  [2.0, 1.0, 5.0, 3.0, 0.0, 4.0, 8.0, 7.0, 6.0, ...  \n",
       "28                                         [0.0, nan]  \n",
       "29  [19.0, 18.0, 14.0, 23.0, 12.0, 8.0, 17.0, 16.0...  \n",
       "30           [3.0, 6.0, 7.0, 4.0, 2.0, 1.0, 5.0, nan]  \n",
       "31  [9.0, 7.0, 8.0, 11.0, 2.0, 1.0, 10.0, 12.0, 5....  \n",
       "32  [nan, 1717556.0, 1717574.0, 1717579.0, 1720118...  \n",
       "33  [nan, 1.0, 2.0, 3.0, 4.0, 5.0, 6.0, 7.0, 8.0, ...  \n",
       "34  [nan, DRIVER, PARKED, DRIVERLESS, NON-CONTACT ...  \n",
       "35  [nan, 1634931.0, 1634978.0, 1634948.0, 1637401...  \n",
       "36  [nan, NISSAN, CHRYSLER, SUBARU, TOYOTA, FORD, ...  \n",
       "37  [nan, SENTRA, SEBRING, OUTBACK, RAV4, ROGUE, M...  \n",
       "38  [nan, UNKNOWN, NONE, OTHER, BRAKES, TIRES, STE...  \n",
       "39  [nan, UNKNOWN/NA, PASSENGER, SPORT UTILITY VEH...  \n",
       "40  [nan, UNKNOWN/NA, PERSONAL, AMBULANCE, OTHER, ...  \n",
       "41         [nan, S, W, E, N, UNKNOWN, NE, SE, NW, SW]  \n",
       "42  [nan, SLOW/STOP IN TRAFFIC, PASSING/OVERTAKING...  \n",
       "43  [nan, 1.0, 2.0, 3.0, 4.0, 0.0, 5.0, 6.0, 31.0,...  \n",
       "44  [nan, FRONT, REAR-RIGHT-CORNER, SIDE-LEFT-FRON...  \n",
       "45  [nan, O749947, O871921, O10018, O10038, O10039...  \n",
       "46  [nan, DRIVER, PASSENGER, PEDESTRIAN, BICYCLE, ...  \n",
       "47                                     [nan, M, X, F]  \n",
       "48  [nan, D, B, 9, A, BM, DM, AM, C, 99, CO, DL, D...  \n",
       "49  [nan, NONE PRESENT, SAFETY BELT USED, USAGE UN...  \n",
       "50  [nan, DEPLOYMENT UNKNOWN, DID NOT DEPLOY, NOT ...  \n",
       "51  [nan, NONE, UNKNOWN, TOTALLY EJECTED, TRAPPED/...  \n",
       "52  [nan, UNKNOWN, NONE, IMPROPER BACKING, IMPROPE...  \n",
       "53  [nan, UNKNOWN, NOT OBSCURED, WINDSHIELD (WATER...  \n",
       "54  [nan, UNKNOWN, NORMAL, IMPAIRED - DRUGS, REMOV...  \n",
       "55  [nan, TEST NOT OFFERED, TEST TAKEN, TEST REFUS...  "
      ]
     },
     "execution_count": 74,
     "metadata": {},
     "output_type": "execute_result"
    }
   ],
   "source": [
    "data =  df.copy()\n",
    "\n",
    "column_info = []\n",
    "\n",
    "for column in data.columns:\n",
    "    unique_values = data[column].unique()\n",
    "    num_unique_values = len(unique_values)\n",
    "    data_type = data[column].dtype\n",
    "    column_info.append([column, data_type, num_unique_values, unique_values])\n",
    "\n",
    "column_table = pd.DataFrame(column_info, columns=['Column Name', 'Data Type', 'Number of Unique Values', 'Unique Values'])\n",
    "column_table"
   ]
  },
  {
   "cell_type": "code",
   "execution_count": 75,
   "id": "6aaca96a",
   "metadata": {
    "execution": {
     "iopub.execute_input": "2024-10-10T21:49:21.654632Z",
     "iopub.status.busy": "2024-10-10T21:49:21.654090Z",
     "iopub.status.idle": "2024-10-10T21:49:25.266945Z",
     "shell.execute_reply": "2024-10-10T21:49:25.266039Z"
    },
    "papermill": {
     "duration": 3.654978,
     "end_time": "2024-10-10T21:49:25.269326",
     "exception": false,
     "start_time": "2024-10-10T21:49:21.614348",
     "status": "completed"
    },
    "tags": []
   },
   "outputs": [
    {
     "data": {
      "text/html": [
       "<div>\n",
       "<style scoped>\n",
       "    .dataframe tbody tr th:only-of-type {\n",
       "        vertical-align: middle;\n",
       "    }\n",
       "\n",
       "    .dataframe tbody tr th {\n",
       "        vertical-align: top;\n",
       "    }\n",
       "\n",
       "    .dataframe thead th {\n",
       "        text-align: right;\n",
       "    }\n",
       "</style>\n",
       "<table border=\"1\" class=\"dataframe\">\n",
       "  <thead>\n",
       "    <tr style=\"text-align: right;\">\n",
       "      <th></th>\n",
       "      <th>POSTED_SPEED_LIMIT</th>\n",
       "      <th>STREET_NO</th>\n",
       "      <th>NUM_UNITS</th>\n",
       "      <th>INJURIES_TOTAL</th>\n",
       "      <th>INJURIES_FATAL</th>\n",
       "      <th>INJURIES_INCAPACITATING</th>\n",
       "      <th>INJURIES_NON_INCAPACITATING</th>\n",
       "      <th>INJURIES_REPORTED_NOT_EVIDENT</th>\n",
       "      <th>INJURIES_NO_INDICATION</th>\n",
       "      <th>INJURIES_UNKNOWN</th>\n",
       "      <th>CRASH_HOUR</th>\n",
       "      <th>CRASH_DAY_OF_WEEK</th>\n",
       "      <th>CRASH_MONTH</th>\n",
       "      <th>CRASH_UNIT_ID</th>\n",
       "      <th>UNIT_NO</th>\n",
       "      <th>VEHICLE_ID</th>\n",
       "      <th>OCCUPANT_CNT</th>\n",
       "    </tr>\n",
       "  </thead>\n",
       "  <tbody>\n",
       "    <tr>\n",
       "      <th>count</th>\n",
       "      <td>878455.000000</td>\n",
       "      <td>878455.000000</td>\n",
       "      <td>878455.000000</td>\n",
       "      <td>878455.000000</td>\n",
       "      <td>878455.000000</td>\n",
       "      <td>878455.000000</td>\n",
       "      <td>878455.000000</td>\n",
       "      <td>878455.000000</td>\n",
       "      <td>878455.000000</td>\n",
       "      <td>878455.0</td>\n",
       "      <td>878455.000000</td>\n",
       "      <td>878455.000000</td>\n",
       "      <td>878455.000000</td>\n",
       "      <td>1.754082e+06</td>\n",
       "      <td>1.754082e+06</td>\n",
       "      <td>1.754082e+06</td>\n",
       "      <td>1.754082e+06</td>\n",
       "    </tr>\n",
       "    <tr>\n",
       "      <th>mean</th>\n",
       "      <td>28.423662</td>\n",
       "      <td>3686.718992</td>\n",
       "      <td>2.035979</td>\n",
       "      <td>0.193559</td>\n",
       "      <td>0.001190</td>\n",
       "      <td>0.019827</td>\n",
       "      <td>0.108623</td>\n",
       "      <td>0.063920</td>\n",
       "      <td>2.001335</td>\n",
       "      <td>0.0</td>\n",
       "      <td>13.208981</td>\n",
       "      <td>4.122246</td>\n",
       "      <td>6.642409</td>\n",
       "      <td>9.595878e+05</td>\n",
       "      <td>3.711733e+00</td>\n",
       "      <td>9.133817e+05</td>\n",
       "      <td>1.079370e+00</td>\n",
       "    </tr>\n",
       "    <tr>\n",
       "      <th>std</th>\n",
       "      <td>6.115410</td>\n",
       "      <td>2880.237823</td>\n",
       "      <td>0.450958</td>\n",
       "      <td>0.571516</td>\n",
       "      <td>0.037385</td>\n",
       "      <td>0.164965</td>\n",
       "      <td>0.425052</td>\n",
       "      <td>0.325037</td>\n",
       "      <td>1.157204</td>\n",
       "      <td>0.0</td>\n",
       "      <td>5.567805</td>\n",
       "      <td>1.981014</td>\n",
       "      <td>3.363519</td>\n",
       "      <td>5.561452e+05</td>\n",
       "      <td>2.852600e+03</td>\n",
       "      <td>5.277574e+05</td>\n",
       "      <td>7.823897e-01</td>\n",
       "    </tr>\n",
       "    <tr>\n",
       "      <th>min</th>\n",
       "      <td>0.000000</td>\n",
       "      <td>0.000000</td>\n",
       "      <td>1.000000</td>\n",
       "      <td>0.000000</td>\n",
       "      <td>0.000000</td>\n",
       "      <td>0.000000</td>\n",
       "      <td>0.000000</td>\n",
       "      <td>0.000000</td>\n",
       "      <td>0.000000</td>\n",
       "      <td>0.0</td>\n",
       "      <td>0.000000</td>\n",
       "      <td>1.000000</td>\n",
       "      <td>1.000000</td>\n",
       "      <td>2.000000e+00</td>\n",
       "      <td>0.000000e+00</td>\n",
       "      <td>2.000000e+00</td>\n",
       "      <td>0.000000e+00</td>\n",
       "    </tr>\n",
       "    <tr>\n",
       "      <th>25%</th>\n",
       "      <td>30.000000</td>\n",
       "      <td>1250.000000</td>\n",
       "      <td>2.000000</td>\n",
       "      <td>0.000000</td>\n",
       "      <td>0.000000</td>\n",
       "      <td>0.000000</td>\n",
       "      <td>0.000000</td>\n",
       "      <td>0.000000</td>\n",
       "      <td>1.000000</td>\n",
       "      <td>0.0</td>\n",
       "      <td>9.000000</td>\n",
       "      <td>2.000000</td>\n",
       "      <td>4.000000</td>\n",
       "      <td>4.771032e+05</td>\n",
       "      <td>1.000000e+00</td>\n",
       "      <td>4.566912e+05</td>\n",
       "      <td>1.000000e+00</td>\n",
       "    </tr>\n",
       "    <tr>\n",
       "      <th>50%</th>\n",
       "      <td>30.000000</td>\n",
       "      <td>3201.000000</td>\n",
       "      <td>2.000000</td>\n",
       "      <td>0.000000</td>\n",
       "      <td>0.000000</td>\n",
       "      <td>0.000000</td>\n",
       "      <td>0.000000</td>\n",
       "      <td>0.000000</td>\n",
       "      <td>2.000000</td>\n",
       "      <td>0.0</td>\n",
       "      <td>14.000000</td>\n",
       "      <td>4.000000</td>\n",
       "      <td>7.000000</td>\n",
       "      <td>9.618725e+05</td>\n",
       "      <td>2.000000e+00</td>\n",
       "      <td>9.116525e+05</td>\n",
       "      <td>1.000000e+00</td>\n",
       "    </tr>\n",
       "    <tr>\n",
       "      <th>75%</th>\n",
       "      <td>30.000000</td>\n",
       "      <td>5560.000000</td>\n",
       "      <td>2.000000</td>\n",
       "      <td>0.000000</td>\n",
       "      <td>0.000000</td>\n",
       "      <td>0.000000</td>\n",
       "      <td>0.000000</td>\n",
       "      <td>0.000000</td>\n",
       "      <td>2.000000</td>\n",
       "      <td>0.0</td>\n",
       "      <td>17.000000</td>\n",
       "      <td>6.000000</td>\n",
       "      <td>9.000000</td>\n",
       "      <td>1.441323e+06</td>\n",
       "      <td>2.000000e+00</td>\n",
       "      <td>1.369841e+06</td>\n",
       "      <td>1.000000e+00</td>\n",
       "    </tr>\n",
       "    <tr>\n",
       "      <th>max</th>\n",
       "      <td>99.000000</td>\n",
       "      <td>451100.000000</td>\n",
       "      <td>18.000000</td>\n",
       "      <td>21.000000</td>\n",
       "      <td>4.000000</td>\n",
       "      <td>10.000000</td>\n",
       "      <td>21.000000</td>\n",
       "      <td>15.000000</td>\n",
       "      <td>61.000000</td>\n",
       "      <td>0.0</td>\n",
       "      <td>23.000000</td>\n",
       "      <td>7.000000</td>\n",
       "      <td>12.000000</td>\n",
       "      <td>1.921950e+06</td>\n",
       "      <td>3.778035e+06</td>\n",
       "      <td>1.830999e+06</td>\n",
       "      <td>9.900000e+01</td>\n",
       "    </tr>\n",
       "  </tbody>\n",
       "</table>\n",
       "</div>"
      ],
      "text/plain": [
       "       POSTED_SPEED_LIMIT      STREET_NO      NUM_UNITS  INJURIES_TOTAL  \\\n",
       "count       878455.000000  878455.000000  878455.000000   878455.000000   \n",
       "mean            28.423662    3686.718992       2.035979        0.193559   \n",
       "std              6.115410    2880.237823       0.450958        0.571516   \n",
       "min              0.000000       0.000000       1.000000        0.000000   \n",
       "25%             30.000000    1250.000000       2.000000        0.000000   \n",
       "50%             30.000000    3201.000000       2.000000        0.000000   \n",
       "75%             30.000000    5560.000000       2.000000        0.000000   \n",
       "max             99.000000  451100.000000      18.000000       21.000000   \n",
       "\n",
       "       INJURIES_FATAL  INJURIES_INCAPACITATING  INJURIES_NON_INCAPACITATING  \\\n",
       "count   878455.000000            878455.000000                878455.000000   \n",
       "mean         0.001190                 0.019827                     0.108623   \n",
       "std          0.037385                 0.164965                     0.425052   \n",
       "min          0.000000                 0.000000                     0.000000   \n",
       "25%          0.000000                 0.000000                     0.000000   \n",
       "50%          0.000000                 0.000000                     0.000000   \n",
       "75%          0.000000                 0.000000                     0.000000   \n",
       "max          4.000000                10.000000                    21.000000   \n",
       "\n",
       "       INJURIES_REPORTED_NOT_EVIDENT  INJURIES_NO_INDICATION  \\\n",
       "count                  878455.000000           878455.000000   \n",
       "mean                        0.063920                2.001335   \n",
       "std                         0.325037                1.157204   \n",
       "min                         0.000000                0.000000   \n",
       "25%                         0.000000                1.000000   \n",
       "50%                         0.000000                2.000000   \n",
       "75%                         0.000000                2.000000   \n",
       "max                        15.000000               61.000000   \n",
       "\n",
       "       INJURIES_UNKNOWN     CRASH_HOUR  CRASH_DAY_OF_WEEK    CRASH_MONTH  \\\n",
       "count          878455.0  878455.000000      878455.000000  878455.000000   \n",
       "mean                0.0      13.208981           4.122246       6.642409   \n",
       "std                 0.0       5.567805           1.981014       3.363519   \n",
       "min                 0.0       0.000000           1.000000       1.000000   \n",
       "25%                 0.0       9.000000           2.000000       4.000000   \n",
       "50%                 0.0      14.000000           4.000000       7.000000   \n",
       "75%                 0.0      17.000000           6.000000       9.000000   \n",
       "max                 0.0      23.000000           7.000000      12.000000   \n",
       "\n",
       "       CRASH_UNIT_ID       UNIT_NO    VEHICLE_ID  OCCUPANT_CNT  \n",
       "count   1.754082e+06  1.754082e+06  1.754082e+06  1.754082e+06  \n",
       "mean    9.595878e+05  3.711733e+00  9.133817e+05  1.079370e+00  \n",
       "std     5.561452e+05  2.852600e+03  5.277574e+05  7.823897e-01  \n",
       "min     2.000000e+00  0.000000e+00  2.000000e+00  0.000000e+00  \n",
       "25%     4.771032e+05  1.000000e+00  4.566912e+05  1.000000e+00  \n",
       "50%     9.618725e+05  2.000000e+00  9.116525e+05  1.000000e+00  \n",
       "75%     1.441323e+06  2.000000e+00  1.369841e+06  1.000000e+00  \n",
       "max     1.921950e+06  3.778035e+06  1.830999e+06  9.900000e+01  "
      ]
     },
     "execution_count": 75,
     "metadata": {},
     "output_type": "execute_result"
    }
   ],
   "source": [
    "df.describe()"
   ]
  },
  {
   "cell_type": "markdown",
   "id": "c67a11a7",
   "metadata": {
    "papermill": {
     "duration": 0.03909,
     "end_time": "2024-10-10T21:49:25.348897",
     "exception": false,
     "start_time": "2024-10-10T21:49:25.309807",
     "status": "completed"
    },
    "tags": []
   },
   "source": [
    "The primary contributory cause of a car accident is our target variable. As we are only interested in predicting causes of the crash, columns  not relevant to the model's predictions and should be removed."
   ]
  },
  {
   "cell_type": "code",
   "execution_count": 76,
   "id": "68e2d106",
   "metadata": {
    "execution": {
     "iopub.execute_input": "2024-10-10T21:49:25.429241Z",
     "iopub.status.busy": "2024-10-10T21:49:25.428691Z",
     "iopub.status.idle": "2024-10-10T21:49:25.435044Z",
     "shell.execute_reply": "2024-10-10T21:49:25.434175Z"
    },
    "papermill": {
     "duration": 0.048724,
     "end_time": "2024-10-10T21:49:25.436896",
     "exception": false,
     "start_time": "2024-10-10T21:49:25.388172",
     "status": "completed"
    },
    "tags": []
   },
   "outputs": [
    {
     "data": {
      "text/plain": [
       "Index(['CRASH_RECORD_ID', 'CRASH_DATE', 'POSTED_SPEED_LIMIT',\n",
       "       'TRAFFIC_CONTROL_DEVICE', 'DEVICE_CONDITION', 'WEATHER_CONDITION',\n",
       "       'LIGHTING_CONDITION', 'FIRST_CRASH_TYPE', 'TRAFFICWAY_TYPE',\n",
       "       'ALIGNMENT', 'ROADWAY_SURFACE_COND', 'ROAD_DEFECT', 'CRASH_TYPE',\n",
       "       'DAMAGE', 'DATE_POLICE_NOTIFIED', 'PRIM_CONTRIBUTORY_CAUSE',\n",
       "       'SEC_CONTRIBUTORY_CAUSE', 'STREET_NO', 'STREET_DIRECTION',\n",
       "       'STREET_NAME', 'NUM_UNITS', 'MOST_SEVERE_INJURY', 'INJURIES_TOTAL',\n",
       "       'INJURIES_FATAL', 'INJURIES_INCAPACITATING',\n",
       "       'INJURIES_NON_INCAPACITATING', 'INJURIES_REPORTED_NOT_EVIDENT',\n",
       "       'INJURIES_NO_INDICATION', 'INJURIES_UNKNOWN', 'CRASH_HOUR',\n",
       "       'CRASH_DAY_OF_WEEK', 'CRASH_MONTH', 'CRASH_UNIT_ID', 'UNIT_NO',\n",
       "       'UNIT_TYPE', 'VEHICLE_ID', 'MAKE', 'MODEL', 'VEHICLE_DEFECT',\n",
       "       'VEHICLE_TYPE', 'VEHICLE_USE', 'TRAVEL_DIRECTION', 'MANEUVER',\n",
       "       'OCCUPANT_CNT', 'FIRST_CONTACT_POINT', 'PERSON_ID', 'PERSON_TYPE',\n",
       "       'SEX', 'DRIVERS_LICENSE_CLASS', 'SAFETY_EQUIPMENT', 'AIRBAG_DEPLOYED',\n",
       "       'EJECTION', 'DRIVER_ACTION', 'DRIVER_VISION', 'PHYSICAL_CONDITION',\n",
       "       'BAC_RESULT'],\n",
       "      dtype='object')"
      ]
     },
     "execution_count": 76,
     "metadata": {},
     "output_type": "execute_result"
    }
   ],
   "source": [
    "df.columns"
   ]
  },
  {
   "cell_type": "code",
   "execution_count": 77,
   "id": "628328e3",
   "metadata": {
    "execution": {
     "iopub.execute_input": "2024-10-10T21:49:25.516956Z",
     "iopub.status.busy": "2024-10-10T21:49:25.516646Z",
     "iopub.status.idle": "2024-10-10T21:49:25.520808Z",
     "shell.execute_reply": "2024-10-10T21:49:25.519919Z"
    },
    "papermill": {
     "duration": 0.046261,
     "end_time": "2024-10-10T21:49:25.522672",
     "exception": false,
     "start_time": "2024-10-10T21:49:25.476411",
     "status": "completed"
    },
    "tags": []
   },
   "outputs": [],
   "source": [
    "columns_to_drop = ['CRASH_DATE','DATE_POLICE_NOTIFIED','STREET_NO', 'STREET_DIRECTION', 'STREET_NAME', 'CRASH_UNIT_ID', \n",
    "                   'VEHICLE_ID', 'PERSON_ID']"
   ]
  },
  {
   "cell_type": "code",
   "execution_count": 78,
   "id": "12cf826b",
   "metadata": {
    "execution": {
     "iopub.execute_input": "2024-10-10T21:49:25.603859Z",
     "iopub.status.busy": "2024-10-10T21:49:25.603347Z",
     "iopub.status.idle": "2024-10-10T21:49:27.604583Z",
     "shell.execute_reply": "2024-10-10T21:49:27.603531Z"
    },
    "papermill": {
     "duration": 2.043836,
     "end_time": "2024-10-10T21:49:27.607083",
     "exception": false,
     "start_time": "2024-10-10T21:49:25.563247",
     "status": "completed"
    },
    "tags": []
   },
   "outputs": [],
   "source": [
    "df.drop(columns=columns_to_drop, inplace=True)"
   ]
  },
  {
   "cell_type": "code",
   "execution_count": 79,
   "id": "c2124018",
   "metadata": {
    "execution": {
     "iopub.execute_input": "2024-10-10T21:49:27.688624Z",
     "iopub.status.busy": "2024-10-10T21:49:27.688307Z",
     "iopub.status.idle": "2024-10-10T21:49:50.094544Z",
     "shell.execute_reply": "2024-10-10T21:49:50.093566Z"
    },
    "papermill": {
     "duration": 22.449195,
     "end_time": "2024-10-10T21:49:50.096517",
     "exception": false,
     "start_time": "2024-10-10T21:49:27.647322",
     "status": "completed"
    },
    "tags": []
   },
   "outputs": [
    {
     "data": {
      "text/plain": [
       "True"
      ]
     },
     "execution_count": 79,
     "metadata": {},
     "output_type": "execute_result"
    }
   ],
   "source": [
    "df.duplicated().values.any()"
   ]
  },
  {
   "cell_type": "code",
   "execution_count": 80,
   "id": "0e2ceafe",
   "metadata": {
    "execution": {
     "iopub.execute_input": "2024-10-10T21:49:50.179957Z",
     "iopub.status.busy": "2024-10-10T21:49:50.179612Z",
     "iopub.status.idle": "2024-10-10T21:50:15.601547Z",
     "shell.execute_reply": "2024-10-10T21:50:15.600481Z"
    },
    "papermill": {
     "duration": 25.465197,
     "end_time": "2024-10-10T21:50:15.604048",
     "exception": false,
     "start_time": "2024-10-10T21:49:50.138851",
     "status": "completed"
    },
    "tags": []
   },
   "outputs": [],
   "source": [
    "df = df.drop_duplicates(keep='first')"
   ]
  },
  {
   "cell_type": "code",
   "execution_count": 81,
   "id": "7c140285",
   "metadata": {
    "execution": {
     "iopub.execute_input": "2024-10-10T21:50:15.686236Z",
     "iopub.status.busy": "2024-10-10T21:50:15.685156Z",
     "iopub.status.idle": "2024-10-10T21:50:37.778616Z",
     "shell.execute_reply": "2024-10-10T21:50:37.777660Z"
    },
    "papermill": {
     "duration": 22.136304,
     "end_time": "2024-10-10T21:50:37.780739",
     "exception": false,
     "start_time": "2024-10-10T21:50:15.644435",
     "status": "completed"
    },
    "tags": []
   },
   "outputs": [
    {
     "data": {
      "text/plain": [
       "False"
      ]
     },
     "execution_count": 81,
     "metadata": {},
     "output_type": "execute_result"
    }
   ],
   "source": [
    "df.duplicated().values.any()"
   ]
  },
  {
   "cell_type": "code",
   "execution_count": 82,
   "id": "e4cecf9f",
   "metadata": {
    "execution": {
     "iopub.execute_input": "2024-10-10T21:50:37.864684Z",
     "iopub.status.busy": "2024-10-10T21:50:37.864346Z",
     "iopub.status.idle": "2024-10-10T21:50:40.261422Z",
     "shell.execute_reply": "2024-10-10T21:50:40.260390Z"
    },
    "papermill": {
     "duration": 2.440366,
     "end_time": "2024-10-10T21:50:40.263852",
     "exception": false,
     "start_time": "2024-10-10T21:50:37.823486",
     "status": "completed"
    },
    "tags": []
   },
   "outputs": [],
   "source": [
    "df.drop(columns=['CRASH_RECORD_ID'], inplace=True)"
   ]
  },
  {
   "cell_type": "code",
   "execution_count": 83,
   "id": "afc5756c",
   "metadata": {
    "execution": {
     "iopub.execute_input": "2024-10-10T21:50:40.346581Z",
     "iopub.status.busy": "2024-10-10T21:50:40.345755Z",
     "iopub.status.idle": "2024-10-10T21:50:40.368575Z",
     "shell.execute_reply": "2024-10-10T21:50:40.367626Z"
    },
    "papermill": {
     "duration": 0.06583,
     "end_time": "2024-10-10T21:50:40.370488",
     "exception": false,
     "start_time": "2024-10-10T21:50:40.304658",
     "status": "completed"
    },
    "tags": []
   },
   "outputs": [
    {
     "data": {
      "text/html": [
       "<div>\n",
       "<style scoped>\n",
       "    .dataframe tbody tr th:only-of-type {\n",
       "        vertical-align: middle;\n",
       "    }\n",
       "\n",
       "    .dataframe tbody tr th {\n",
       "        vertical-align: top;\n",
       "    }\n",
       "\n",
       "    .dataframe thead th {\n",
       "        text-align: right;\n",
       "    }\n",
       "</style>\n",
       "<table border=\"1\" class=\"dataframe\">\n",
       "  <thead>\n",
       "    <tr style=\"text-align: right;\">\n",
       "      <th></th>\n",
       "      <th>POSTED_SPEED_LIMIT</th>\n",
       "      <th>TRAFFIC_CONTROL_DEVICE</th>\n",
       "      <th>DEVICE_CONDITION</th>\n",
       "      <th>WEATHER_CONDITION</th>\n",
       "      <th>LIGHTING_CONDITION</th>\n",
       "      <th>FIRST_CRASH_TYPE</th>\n",
       "      <th>TRAFFICWAY_TYPE</th>\n",
       "      <th>ALIGNMENT</th>\n",
       "      <th>ROADWAY_SURFACE_COND</th>\n",
       "      <th>ROAD_DEFECT</th>\n",
       "      <th>...</th>\n",
       "      <th>PERSON_TYPE</th>\n",
       "      <th>SEX</th>\n",
       "      <th>DRIVERS_LICENSE_CLASS</th>\n",
       "      <th>SAFETY_EQUIPMENT</th>\n",
       "      <th>AIRBAG_DEPLOYED</th>\n",
       "      <th>EJECTION</th>\n",
       "      <th>DRIVER_ACTION</th>\n",
       "      <th>DRIVER_VISION</th>\n",
       "      <th>PHYSICAL_CONDITION</th>\n",
       "      <th>BAC_RESULT</th>\n",
       "    </tr>\n",
       "  </thead>\n",
       "  <tbody>\n",
       "    <tr>\n",
       "      <th>0</th>\n",
       "      <td>30.0</td>\n",
       "      <td>TRAFFIC SIGNAL</td>\n",
       "      <td>FUNCTIONING PROPERLY</td>\n",
       "      <td>CLEAR</td>\n",
       "      <td>DUSK</td>\n",
       "      <td>ANGLE</td>\n",
       "      <td>FIVE POINT, OR MORE</td>\n",
       "      <td>STRAIGHT AND LEVEL</td>\n",
       "      <td>DRY</td>\n",
       "      <td>NO DEFECTS</td>\n",
       "      <td>...</td>\n",
       "      <td>NaN</td>\n",
       "      <td>NaN</td>\n",
       "      <td>NaN</td>\n",
       "      <td>NaN</td>\n",
       "      <td>NaN</td>\n",
       "      <td>NaN</td>\n",
       "      <td>NaN</td>\n",
       "      <td>NaN</td>\n",
       "      <td>NaN</td>\n",
       "      <td>NaN</td>\n",
       "    </tr>\n",
       "    <tr>\n",
       "      <th>1</th>\n",
       "      <td>50.0</td>\n",
       "      <td>NO CONTROLS</td>\n",
       "      <td>NO CONTROLS</td>\n",
       "      <td>CLEAR</td>\n",
       "      <td>DARKNESS, LIGHTED ROAD</td>\n",
       "      <td>REAR END</td>\n",
       "      <td>DIVIDED - W/MEDIAN BARRIER</td>\n",
       "      <td>STRAIGHT AND LEVEL</td>\n",
       "      <td>DRY</td>\n",
       "      <td>NO DEFECTS</td>\n",
       "      <td>...</td>\n",
       "      <td>NaN</td>\n",
       "      <td>NaN</td>\n",
       "      <td>NaN</td>\n",
       "      <td>NaN</td>\n",
       "      <td>NaN</td>\n",
       "      <td>NaN</td>\n",
       "      <td>NaN</td>\n",
       "      <td>NaN</td>\n",
       "      <td>NaN</td>\n",
       "      <td>NaN</td>\n",
       "    </tr>\n",
       "    <tr>\n",
       "      <th>2</th>\n",
       "      <td>30.0</td>\n",
       "      <td>TRAFFIC SIGNAL</td>\n",
       "      <td>FUNCTIONING PROPERLY</td>\n",
       "      <td>CLEAR</td>\n",
       "      <td>DAYLIGHT</td>\n",
       "      <td>PARKED MOTOR VEHICLE</td>\n",
       "      <td>DIVIDED - W/MEDIAN (NOT RAISED)</td>\n",
       "      <td>STRAIGHT AND LEVEL</td>\n",
       "      <td>DRY</td>\n",
       "      <td>NO DEFECTS</td>\n",
       "      <td>...</td>\n",
       "      <td>NaN</td>\n",
       "      <td>NaN</td>\n",
       "      <td>NaN</td>\n",
       "      <td>NaN</td>\n",
       "      <td>NaN</td>\n",
       "      <td>NaN</td>\n",
       "      <td>NaN</td>\n",
       "      <td>NaN</td>\n",
       "      <td>NaN</td>\n",
       "      <td>NaN</td>\n",
       "    </tr>\n",
       "    <tr>\n",
       "      <th>3</th>\n",
       "      <td>30.0</td>\n",
       "      <td>NO CONTROLS</td>\n",
       "      <td>NO CONTROLS</td>\n",
       "      <td>CLEAR</td>\n",
       "      <td>DARKNESS, LIGHTED ROAD</td>\n",
       "      <td>SIDESWIPE SAME DIRECTION</td>\n",
       "      <td>NOT DIVIDED</td>\n",
       "      <td>STRAIGHT AND LEVEL</td>\n",
       "      <td>DRY</td>\n",
       "      <td>NO DEFECTS</td>\n",
       "      <td>...</td>\n",
       "      <td>NaN</td>\n",
       "      <td>NaN</td>\n",
       "      <td>NaN</td>\n",
       "      <td>NaN</td>\n",
       "      <td>NaN</td>\n",
       "      <td>NaN</td>\n",
       "      <td>NaN</td>\n",
       "      <td>NaN</td>\n",
       "      <td>NaN</td>\n",
       "      <td>NaN</td>\n",
       "    </tr>\n",
       "    <tr>\n",
       "      <th>4</th>\n",
       "      <td>15.0</td>\n",
       "      <td>OTHER</td>\n",
       "      <td>FUNCTIONING PROPERLY</td>\n",
       "      <td>CLEAR</td>\n",
       "      <td>DAYLIGHT</td>\n",
       "      <td>REAR END</td>\n",
       "      <td>OTHER</td>\n",
       "      <td>STRAIGHT AND LEVEL</td>\n",
       "      <td>DRY</td>\n",
       "      <td>NO DEFECTS</td>\n",
       "      <td>...</td>\n",
       "      <td>NaN</td>\n",
       "      <td>NaN</td>\n",
       "      <td>NaN</td>\n",
       "      <td>NaN</td>\n",
       "      <td>NaN</td>\n",
       "      <td>NaN</td>\n",
       "      <td>NaN</td>\n",
       "      <td>NaN</td>\n",
       "      <td>NaN</td>\n",
       "      <td>NaN</td>\n",
       "    </tr>\n",
       "  </tbody>\n",
       "</table>\n",
       "<p>5 rows × 47 columns</p>\n",
       "</div>"
      ],
      "text/plain": [
       "   POSTED_SPEED_LIMIT TRAFFIC_CONTROL_DEVICE      DEVICE_CONDITION  \\\n",
       "0                30.0         TRAFFIC SIGNAL  FUNCTIONING PROPERLY   \n",
       "1                50.0            NO CONTROLS           NO CONTROLS   \n",
       "2                30.0         TRAFFIC SIGNAL  FUNCTIONING PROPERLY   \n",
       "3                30.0            NO CONTROLS           NO CONTROLS   \n",
       "4                15.0                  OTHER  FUNCTIONING PROPERLY   \n",
       "\n",
       "  WEATHER_CONDITION      LIGHTING_CONDITION          FIRST_CRASH_TYPE  \\\n",
       "0             CLEAR                    DUSK                     ANGLE   \n",
       "1             CLEAR  DARKNESS, LIGHTED ROAD                  REAR END   \n",
       "2             CLEAR                DAYLIGHT      PARKED MOTOR VEHICLE   \n",
       "3             CLEAR  DARKNESS, LIGHTED ROAD  SIDESWIPE SAME DIRECTION   \n",
       "4             CLEAR                DAYLIGHT                  REAR END   \n",
       "\n",
       "                   TRAFFICWAY_TYPE           ALIGNMENT ROADWAY_SURFACE_COND  \\\n",
       "0              FIVE POINT, OR MORE  STRAIGHT AND LEVEL                  DRY   \n",
       "1       DIVIDED - W/MEDIAN BARRIER  STRAIGHT AND LEVEL                  DRY   \n",
       "2  DIVIDED - W/MEDIAN (NOT RAISED)  STRAIGHT AND LEVEL                  DRY   \n",
       "3                      NOT DIVIDED  STRAIGHT AND LEVEL                  DRY   \n",
       "4                            OTHER  STRAIGHT AND LEVEL                  DRY   \n",
       "\n",
       "  ROAD_DEFECT  ... PERSON_TYPE  SEX DRIVERS_LICENSE_CLASS SAFETY_EQUIPMENT  \\\n",
       "0  NO DEFECTS  ...         NaN  NaN                   NaN              NaN   \n",
       "1  NO DEFECTS  ...         NaN  NaN                   NaN              NaN   \n",
       "2  NO DEFECTS  ...         NaN  NaN                   NaN              NaN   \n",
       "3  NO DEFECTS  ...         NaN  NaN                   NaN              NaN   \n",
       "4  NO DEFECTS  ...         NaN  NaN                   NaN              NaN   \n",
       "\n",
       "   AIRBAG_DEPLOYED EJECTION  DRIVER_ACTION  DRIVER_VISION  PHYSICAL_CONDITION  \\\n",
       "0              NaN      NaN            NaN            NaN                 NaN   \n",
       "1              NaN      NaN            NaN            NaN                 NaN   \n",
       "2              NaN      NaN            NaN            NaN                 NaN   \n",
       "3              NaN      NaN            NaN            NaN                 NaN   \n",
       "4              NaN      NaN            NaN            NaN                 NaN   \n",
       "\n",
       "   BAC_RESULT  \n",
       "0         NaN  \n",
       "1         NaN  \n",
       "2         NaN  \n",
       "3         NaN  \n",
       "4         NaN  \n",
       "\n",
       "[5 rows x 47 columns]"
      ]
     },
     "execution_count": 83,
     "metadata": {},
     "output_type": "execute_result"
    }
   ],
   "source": [
    "df.head()"
   ]
  },
  {
   "cell_type": "code",
   "execution_count": 84,
   "id": "2ce32480",
   "metadata": {
    "execution": {
     "iopub.execute_input": "2024-10-10T21:50:40.453578Z",
     "iopub.status.busy": "2024-10-10T21:50:40.452771Z",
     "iopub.status.idle": "2024-10-10T21:50:40.722899Z",
     "shell.execute_reply": "2024-10-10T21:50:40.721891Z"
    },
    "papermill": {
     "duration": 0.313928,
     "end_time": "2024-10-10T21:50:40.725173",
     "exception": false,
     "start_time": "2024-10-10T21:50:40.411245",
     "status": "completed"
    },
    "tags": []
   },
   "outputs": [
    {
     "data": {
      "text/plain": [
       "PRIM_CONTRIBUTORY_CAUSE\n",
       "UNABLE TO DETERMINE                                                                 342907\n",
       "FAILING TO YIELD RIGHT-OF-WAY                                                        97036\n",
       "FOLLOWING TOO CLOSELY                                                                85019\n",
       "NOT APPLICABLE                                                                       46319\n",
       "IMPROPER OVERTAKING/PASSING                                                          43784\n",
       "FAILING TO REDUCE SPEED TO AVOID CRASH                                               36950\n",
       "IMPROPER BACKING                                                                     34164\n",
       "IMPROPER LANE USAGE                                                                  31359\n",
       "DRIVING SKILLS/KNOWLEDGE/EXPERIENCE                                                  29787\n",
       "IMPROPER TURNING/NO SIGNAL                                                           29425\n",
       "DISREGARDING TRAFFIC SIGNALS                                                         17227\n",
       "WEATHER                                                                              12593\n",
       "OPERATING VEHICLE IN ERRATIC, RECKLESS, CARELESS, NEGLIGENT OR AGGRESSIVE MANNER     11067\n",
       "DISREGARDING STOP SIGN                                                                9429\n",
       "DISTRACTION - FROM INSIDE VEHICLE                                                     5976\n",
       "EQUIPMENT - VEHICLE CONDITION                                                         5395\n",
       "PHYSICAL CONDITION OF DRIVER                                                          5181\n",
       "VISION OBSCURED (SIGNS, TREE LIMBS, BUILDINGS, ETC.)                                  5007\n",
       "DRIVING ON WRONG SIDE/WRONG WAY                                                       4756\n",
       "UNDER THE INFLUENCE OF ALCOHOL/DRUGS (USE WHEN ARREST IS EFFECTED)                    4085\n",
       "DISTRACTION - FROM OUTSIDE VEHICLE                                                    3567\n",
       "ROAD ENGINEERING/SURFACE/MARKING DEFECTS                                              2110\n",
       "EXCEEDING AUTHORIZED SPEED LIMIT                                                      1971\n",
       "DISREGARDING OTHER TRAFFIC SIGNS                                                      1878\n",
       "ROAD CONSTRUCTION/MAINTENANCE                                                         1855\n",
       "EXCEEDING SAFE SPEED FOR CONDITIONS                                                   1681\n",
       "EVASIVE ACTION DUE TO ANIMAL, OBJECT, NONMOTORIST                                     1603\n",
       "CELL PHONE USE OTHER THAN TEXTING                                                     1163\n",
       "DISREGARDING ROAD MARKINGS                                                            1072\n",
       "HAD BEEN DRINKING (USE WHEN ARREST IS NOT MADE)                                        877\n",
       "ANIMAL                                                                                 744\n",
       "TURNING RIGHT ON RED                                                                   671\n",
       "RELATED TO BUS STOP                                                                    456\n",
       "DISTRACTION - OTHER ELECTRONIC DEVICE (NAVIGATION DEVICE, DVD PLAYER, ETC.)            417\n",
       "TEXTING                                                                                335\n",
       "DISREGARDING YIELD SIGN                                                                276\n",
       "PASSING STOPPED SCHOOL BUS                                                             109\n",
       "OBSTRUCTED CROSSWALKS                                                                   95\n",
       "BICYCLE ADVANCING LEGALLY ON RED LIGHT                                                  86\n",
       "MOTORCYCLE ADVANCING LEGALLY ON RED LIGHT                                               23\n",
       "Name: count, dtype: int64"
      ]
     },
     "execution_count": 84,
     "metadata": {},
     "output_type": "execute_result"
    }
   ],
   "source": [
    "df['PRIM_CONTRIBUTORY_CAUSE'].value_counts()"
   ]
  },
  {
   "cell_type": "code",
   "execution_count": 85,
   "id": "057c7de7",
   "metadata": {
    "execution": {
     "iopub.execute_input": "2024-10-10T21:50:40.810842Z",
     "iopub.status.busy": "2024-10-10T21:50:40.810054Z",
     "iopub.status.idle": "2024-10-10T21:50:40.816746Z",
     "shell.execute_reply": "2024-10-10T21:50:40.815912Z"
    },
    "papermill": {
     "duration": 0.051102,
     "end_time": "2024-10-10T21:50:40.818916",
     "exception": false,
     "start_time": "2024-10-10T21:50:40.767814",
     "status": "completed"
    },
    "tags": []
   },
   "outputs": [],
   "source": [
    "#creating categories of the target variable since it has too many unique values\n",
    "target_dict = {\n",
    "    'reckless driving': ['FOLLOWING TOO CLOSELY', 'IMPROPER OVERTAKING/PASSING', 'FAILING TO REDUCE SPEED TO AVOID CRASH',\n",
    "        'IMPROPER BACKING', 'IMPROPER LANE USAGE','IMPROPER TURNING/NO SIGNAL',\n",
    "        'OPERATING VEHICLE IN ERRATIC, RECKLESS,CARELESS, NEGLIGENT OR AGGRESSIVE MANNER',\n",
    "        'DISTRACTION - FROM INSIDE VEHICLE','DRIVING ON WRONG SIDE/WRONG WAY', 'EXCEEDING AUTHORIZED SPEED LIMIT',\n",
    "        'EXCEEDING SAFE SPEED FOR CONDITIONS', 'DISTRACTION - OTHER ELECTRONIC DEVICE (NAVIGATION DEVICE, DVD PLAYER, ETC.)',  \n",
    "        'TEXTING','TURNING RIGHT ON RED', 'CELL PHONE USE OTHER THAN TEXTING'],\n",
    "    \n",
    "\n",
    "    'missed traffic signs': ['FAILING TO YIELD RIGHT-OF-WAY', 'DISREGARDING TRAFFIC SIGNALS',\n",
    "         'DISREGARDING STOP SIGN', 'DISREGARDING OTHER TRAFFIC SIGNS', 'DISREGARDING ROAD MARKINGS',\n",
    "         'DISREGARDING YIELD SIGN'],\n",
    "\n",
    "    'issue with the driver or vehicle': ['DRIVING SKILLS/KNOWLEDGE/EXPERIENCE', 'EQUIPMENT - VEHICLE CONDITION',\n",
    "        'PHYSICAL CONDITION OF DRIVER', 'UNDER THE INFLUENCE OF ALCOHOL/DRUGS (USE WHEN ARREST IS EFFECTED)',\n",
    "        'HAD BEEN DRINKING (USE WHEN ARREST IS NOT MADE)'],\n",
    "\n",
    "    'external factors': ['WEATHER', 'DISTRACTION - FROM OUTSIDE VEHICLE','VISION OBSCURED (SIGNS, TREE LIMBS, BUILDINGS, ETC.)', \n",
    "        'EVASIVE ACTION DUE TO ANIMAL, OBJECT, NONMOTORIST', 'ROAD ENGINEERING/SURFACE/MARKING DEFECTS', \n",
    "        'ROAD CONSTRUCTION/MAINTENANCE','ANIMAL', 'OBSTRUCTED CROSSWALKS'],\n",
    "\n",
    "    'other': ['PASSING STOPPED SCHOOL BUS', 'MOTORCYCLE ADVANCING LEGALLY ON RED LIGHT', 'RELATED TO BUS STOP',\n",
    "             'BICYCLE ADVANCING LEGALLY ON RED LIGHT']\n",
    "}"
   ]
  },
  {
   "cell_type": "code",
   "execution_count": 86,
   "id": "a19a9088",
   "metadata": {
    "execution": {
     "iopub.execute_input": "2024-10-10T21:50:40.903604Z",
     "iopub.status.busy": "2024-10-10T21:50:40.903255Z",
     "iopub.status.idle": "2024-10-10T21:50:40.907865Z",
     "shell.execute_reply": "2024-10-10T21:50:40.906955Z"
    },
    "papermill": {
     "duration": 0.048858,
     "end_time": "2024-10-10T21:50:40.909794",
     "exception": false,
     "start_time": "2024-10-10T21:50:40.860936",
     "status": "completed"
    },
    "tags": []
   },
   "outputs": [],
   "source": [
    "new_target = {value: key for key in target_dict for value in target_dict[key]}"
   ]
  },
  {
   "cell_type": "code",
   "execution_count": 87,
   "id": "e695fca5",
   "metadata": {
    "execution": {
     "iopub.execute_input": "2024-10-10T21:50:40.992561Z",
     "iopub.status.busy": "2024-10-10T21:50:40.992185Z",
     "iopub.status.idle": "2024-10-10T21:50:41.446645Z",
     "shell.execute_reply": "2024-10-10T21:50:41.445823Z"
    },
    "papermill": {
     "duration": 0.498536,
     "end_time": "2024-10-10T21:50:41.449070",
     "exception": false,
     "start_time": "2024-10-10T21:50:40.950534",
     "status": "completed"
    },
    "tags": []
   },
   "outputs": [],
   "source": [
    "df['CAUSE'] = df['PRIM_CONTRIBUTORY_CAUSE']\n",
    "df['CAUSE'] = df['CAUSE'].map(new_target)"
   ]
  },
  {
   "cell_type": "code",
   "execution_count": 88,
   "id": "95e28f51",
   "metadata": {
    "execution": {
     "iopub.execute_input": "2024-10-10T21:50:41.532022Z",
     "iopub.status.busy": "2024-10-10T21:50:41.531661Z",
     "iopub.status.idle": "2024-10-10T21:50:41.738434Z",
     "shell.execute_reply": "2024-10-10T21:50:41.737479Z"
    },
    "papermill": {
     "duration": 0.250208,
     "end_time": "2024-10-10T21:50:41.740403",
     "exception": false,
     "start_time": "2024-10-10T21:50:41.490195",
     "status": "completed"
    },
    "tags": []
   },
   "outputs": [
    {
     "data": {
      "text/plain": [
       "CAUSE\n",
       "reckless driving                    277671\n",
       "missed traffic signs                126918\n",
       "issue with the driver or vehicle     45325\n",
       "external factors                     27574\n",
       "other                                  674\n",
       "Name: count, dtype: int64"
      ]
     },
     "execution_count": 88,
     "metadata": {},
     "output_type": "execute_result"
    }
   ],
   "source": [
    "df['CAUSE'].value_counts()"
   ]
  },
  {
   "cell_type": "code",
   "execution_count": 89,
   "id": "cfd5b567",
   "metadata": {
    "execution": {
     "iopub.execute_input": "2024-10-10T21:50:41.823291Z",
     "iopub.status.busy": "2024-10-10T21:50:41.822948Z",
     "iopub.status.idle": "2024-10-10T21:50:52.809216Z",
     "shell.execute_reply": "2024-10-10T21:50:52.807974Z"
    },
    "papermill": {
     "duration": 11.030098,
     "end_time": "2024-10-10T21:50:52.811334",
     "exception": false,
     "start_time": "2024-10-10T21:50:41.781236",
     "status": "completed"
    },
    "tags": []
   },
   "outputs": [
    {
     "name": "stdout",
     "output_type": "stream",
     "text": [
      "Column: POSTED_SPEED_LIMIT\n",
      "POSTED_SPEED_LIMIT\n",
      "30.0    647144\n",
      "35.0     58366\n",
      "25.0     56084\n",
      "20.0     36624\n",
      "15.0     31243\n",
      "10.0     20477\n",
      "40.0      8376\n",
      "0.0       7525\n",
      "45.0      5840\n",
      "5.0       4863\n",
      "55.0       860\n",
      "50.0       273\n",
      "3.0        216\n",
      "9.0         96\n",
      "39.0        92\n",
      "99.0        66\n",
      "60.0        52\n",
      "1.0         40\n",
      "24.0        38\n",
      "2.0         30\n",
      "65.0        20\n",
      "32.0        20\n",
      "34.0        16\n",
      "33.0        14\n",
      "11.0        11\n",
      "26.0        10\n",
      "36.0         8\n",
      "6.0          7\n",
      "70.0         6\n",
      "7.0          6\n",
      "14.0         4\n",
      "22.0         4\n",
      "18.0         3\n",
      "29.0         3\n",
      "12.0         3\n",
      "23.0         2\n",
      "8.0          2\n",
      "31.0         2\n",
      "38.0         2\n",
      "4.0          2\n",
      "49.0         1\n",
      "44.0         1\n",
      "63.0         1\n",
      "62.0         1\n",
      "46.0         1\n",
      "Name: count, dtype: int64\n",
      "\n",
      "\n",
      "Column: TRAFFIC_CONTROL_DEVICE\n",
      "TRAFFIC_CONTROL_DEVICE\n",
      "NO CONTROLS                 497472\n",
      "TRAFFIC SIGNAL              243922\n",
      "STOP SIGN/FLASHER            87135\n",
      "UNKNOWN                      36699\n",
      "OTHER                         5950\n",
      "YIELD                         1332\n",
      "LANE USE MARKING              1223\n",
      "OTHER REG. SIGN               1039\n",
      "OTHER WARNING SIGN             701\n",
      "PEDESTRIAN CROSSING SIGN       605\n",
      "RAILROAD CROSSING GATE         566\n",
      "FLASHING CONTROL SIGNAL        357\n",
      "DELINEATORS                    350\n",
      "SCHOOL ZONE                    338\n",
      "POLICE/FLAGMAN                 300\n",
      "OTHER RAILROAD CROSSING        191\n",
      "RR CROSSING SIGN               187\n",
      "NO PASSING                      55\n",
      "BICYCLE CROSSING SIGN           33\n",
      "Name: count, dtype: int64\n",
      "\n",
      "\n",
      "Column: DEVICE_CONDITION\n",
      "DEVICE_CONDITION\n",
      "NO CONTROLS                 503380\n",
      "FUNCTIONING PROPERLY        300458\n",
      "UNKNOWN                      61014\n",
      "OTHER                         6653\n",
      "FUNCTIONING IMPROPERLY        4048\n",
      "NOT FUNCTIONING               2511\n",
      "WORN REFLECTIVE MATERIAL       292\n",
      "MISSING                         99\n",
      "Name: count, dtype: int64\n",
      "\n",
      "\n",
      "Column: WEATHER_CONDITION\n",
      "WEATHER_CONDITION\n",
      "CLEAR                       691582\n",
      "RAIN                         76071\n",
      "UNKNOWN                      49569\n",
      "SNOW                         28336\n",
      "CLOUDY/OVERCAST              25526\n",
      "OTHER                         2705\n",
      "FREEZING RAIN/DRIZZLE         1733\n",
      "FOG/SMOKE/HAZE                1345\n",
      "SLEET/HAIL                    1007\n",
      "BLOWING SNOW                   441\n",
      "SEVERE CROSS WIND GATE         133\n",
      "BLOWING SAND, SOIL, DIRT         7\n",
      "Name: count, dtype: int64\n",
      "\n",
      "\n",
      "Column: LIGHTING_CONDITION\n",
      "LIGHTING_CONDITION\n",
      "DAYLIGHT                  565895\n",
      "DARKNESS, LIGHTED ROAD    190962\n",
      "DARKNESS                   41082\n",
      "UNKNOWN                    40963\n",
      "DUSK                       24990\n",
      "DAWN                       14563\n",
      "Name: count, dtype: int64\n",
      "\n",
      "\n",
      "Column: FIRST_CRASH_TYPE\n",
      "FIRST_CRASH_TYPE\n",
      "PARKED MOTOR VEHICLE            203211\n",
      "REAR END                        195141\n",
      "SIDESWIPE SAME DIRECTION        134898\n",
      "TURNING                         126333\n",
      "ANGLE                            95674\n",
      "FIXED OBJECT                     40443\n",
      "PEDESTRIAN                       20678\n",
      "PEDALCYCLIST                     13901\n",
      "SIDESWIPE OPPOSITE DIRECTION     12253\n",
      "REAR TO FRONT                     8938\n",
      "OTHER OBJECT                      8524\n",
      "HEAD ON                           7497\n",
      "REAR TO SIDE                      5332\n",
      "OTHER NONCOLLISION                2579\n",
      "REAR TO REAR                      1854\n",
      "ANIMAL                             632\n",
      "OVERTURNED                         523\n",
      "TRAIN                               44\n",
      "Name: count, dtype: int64\n",
      "\n",
      "\n",
      "Column: TRAFFICWAY_TYPE\n",
      "TRAFFICWAY_TYPE\n",
      "NOT DIVIDED                        379195\n",
      "DIVIDED - W/MEDIAN (NOT RAISED)    139195\n",
      "ONE-WAY                            111263\n",
      "FOUR WAY                            59828\n",
      "PARKING LOT                         59450\n",
      "DIVIDED - W/MEDIAN BARRIER          49812\n",
      "OTHER                               23753\n",
      "ALLEY                               14431\n",
      "T-INTERSECTION                      11883\n",
      "UNKNOWN                             10292\n",
      "CENTER TURN LANE                     6255\n",
      "DRIVEWAY                             2833\n",
      "RAMP                                 2757\n",
      "UNKNOWN INTERSECTION TYPE            2679\n",
      "FIVE POINT, OR MORE                  1316\n",
      "Y-INTERSECTION                       1298\n",
      "TRAFFIC ROUTE                        1088\n",
      "NOT REPORTED                          650\n",
      "ROUNDABOUT                            294\n",
      "L-INTERSECTION                        183\n",
      "Name: count, dtype: int64\n",
      "\n",
      "\n",
      "Column: ALIGNMENT\n",
      "ALIGNMENT\n",
      "STRAIGHT AND LEVEL       857665\n",
      "STRAIGHT ON GRADE         10720\n",
      "CURVE, LEVEL               6188\n",
      "STRAIGHT ON HILLCREST      2220\n",
      "CURVE ON GRADE             1286\n",
      "CURVE ON HILLCREST          376\n",
      "Name: count, dtype: int64\n",
      "\n",
      "\n",
      "Column: ROADWAY_SURFACE_COND\n",
      "ROADWAY_SURFACE_COND\n",
      "DRY                650507\n",
      "WET                114794\n",
      "UNKNOWN             76926\n",
      "SNOW OR SLUSH       28058\n",
      "ICE                  5650\n",
      "OTHER                2205\n",
      "SAND, MUD, DIRT       315\n",
      "Name: count, dtype: int64\n",
      "\n",
      "\n",
      "Column: ROAD_DEFECT\n",
      "ROAD_DEFECT\n",
      "NO DEFECTS           701507\n",
      "UNKNOWN              160088\n",
      "RUT, HOLES             6293\n",
      "OTHER                  4756\n",
      "WORN SURFACE           3633\n",
      "SHOULDER DEFECT        1533\n",
      "DEBRIS ON ROADWAY       645\n",
      "Name: count, dtype: int64\n",
      "\n",
      "\n",
      "Column: CRASH_TYPE\n",
      "CRASH_TYPE\n",
      "NO INJURY / DRIVE AWAY              642713\n",
      "INJURY AND / OR TOW DUE TO CRASH    235742\n",
      "Name: count, dtype: int64\n",
      "\n",
      "\n",
      "Column: DAMAGE\n",
      "DAMAGE\n",
      "OVER $1,500      551017\n",
      "$501 - $1,500    228471\n",
      "$500 OR LESS      98967\n",
      "Name: count, dtype: int64\n",
      "\n",
      "\n",
      "Column: PRIM_CONTRIBUTORY_CAUSE\n",
      "PRIM_CONTRIBUTORY_CAUSE\n",
      "UNABLE TO DETERMINE                                                                 342907\n",
      "FAILING TO YIELD RIGHT-OF-WAY                                                        97036\n",
      "FOLLOWING TOO CLOSELY                                                                85019\n",
      "NOT APPLICABLE                                                                       46319\n",
      "IMPROPER OVERTAKING/PASSING                                                          43784\n",
      "FAILING TO REDUCE SPEED TO AVOID CRASH                                               36950\n",
      "IMPROPER BACKING                                                                     34164\n",
      "IMPROPER LANE USAGE                                                                  31359\n",
      "DRIVING SKILLS/KNOWLEDGE/EXPERIENCE                                                  29787\n",
      "IMPROPER TURNING/NO SIGNAL                                                           29425\n",
      "DISREGARDING TRAFFIC SIGNALS                                                         17227\n",
      "WEATHER                                                                              12593\n",
      "OPERATING VEHICLE IN ERRATIC, RECKLESS, CARELESS, NEGLIGENT OR AGGRESSIVE MANNER     11067\n",
      "DISREGARDING STOP SIGN                                                                9429\n",
      "DISTRACTION - FROM INSIDE VEHICLE                                                     5976\n",
      "EQUIPMENT - VEHICLE CONDITION                                                         5395\n",
      "PHYSICAL CONDITION OF DRIVER                                                          5181\n",
      "VISION OBSCURED (SIGNS, TREE LIMBS, BUILDINGS, ETC.)                                  5007\n",
      "DRIVING ON WRONG SIDE/WRONG WAY                                                       4756\n",
      "UNDER THE INFLUENCE OF ALCOHOL/DRUGS (USE WHEN ARREST IS EFFECTED)                    4085\n",
      "DISTRACTION - FROM OUTSIDE VEHICLE                                                    3567\n",
      "ROAD ENGINEERING/SURFACE/MARKING DEFECTS                                              2110\n",
      "EXCEEDING AUTHORIZED SPEED LIMIT                                                      1971\n",
      "DISREGARDING OTHER TRAFFIC SIGNS                                                      1878\n",
      "ROAD CONSTRUCTION/MAINTENANCE                                                         1855\n",
      "EXCEEDING SAFE SPEED FOR CONDITIONS                                                   1681\n",
      "EVASIVE ACTION DUE TO ANIMAL, OBJECT, NONMOTORIST                                     1603\n",
      "CELL PHONE USE OTHER THAN TEXTING                                                     1163\n",
      "DISREGARDING ROAD MARKINGS                                                            1072\n",
      "HAD BEEN DRINKING (USE WHEN ARREST IS NOT MADE)                                        877\n",
      "ANIMAL                                                                                 744\n",
      "TURNING RIGHT ON RED                                                                   671\n",
      "RELATED TO BUS STOP                                                                    456\n",
      "DISTRACTION - OTHER ELECTRONIC DEVICE (NAVIGATION DEVICE, DVD PLAYER, ETC.)            417\n",
      "TEXTING                                                                                335\n",
      "DISREGARDING YIELD SIGN                                                                276\n",
      "PASSING STOPPED SCHOOL BUS                                                             109\n",
      "OBSTRUCTED CROSSWALKS                                                                   95\n",
      "BICYCLE ADVANCING LEGALLY ON RED LIGHT                                                  86\n",
      "MOTORCYCLE ADVANCING LEGALLY ON RED LIGHT                                               23\n",
      "Name: count, dtype: int64\n",
      "\n",
      "\n",
      "Column: SEC_CONTRIBUTORY_CAUSE\n",
      "SEC_CONTRIBUTORY_CAUSE\n",
      "NOT APPLICABLE                                                                      361834\n",
      "UNABLE TO DETERMINE                                                                 316688\n",
      "FAILING TO REDUCE SPEED TO AVOID CRASH                                               32442\n",
      "FAILING TO YIELD RIGHT-OF-WAY                                                        28108\n",
      "DRIVING SKILLS/KNOWLEDGE/EXPERIENCE                                                  27281\n",
      "FOLLOWING TOO CLOSELY                                                                23197\n",
      "IMPROPER OVERTAKING/PASSING                                                          13653\n",
      "IMPROPER LANE USAGE                                                                  12384\n",
      "WEATHER                                                                               9689\n",
      "IMPROPER TURNING/NO SIGNAL                                                            9104\n",
      "IMPROPER BACKING                                                                      7031\n",
      "OPERATING VEHICLE IN ERRATIC, RECKLESS, CARELESS, NEGLIGENT OR AGGRESSIVE MANNER      5458\n",
      "DISREGARDING TRAFFIC SIGNALS                                                          3576\n",
      "VISION OBSCURED (SIGNS, TREE LIMBS, BUILDINGS, ETC.)                                  2734\n",
      "PHYSICAL CONDITION OF DRIVER                                                          2651\n",
      "DISTRACTION - FROM INSIDE VEHICLE                                                     2635\n",
      "DISREGARDING STOP SIGN                                                                2556\n",
      "DRIVING ON WRONG SIDE/WRONG WAY                                                       1850\n",
      "EQUIPMENT - VEHICLE CONDITION                                                         1767\n",
      "EXCEEDING AUTHORIZED SPEED LIMIT                                                      1469\n",
      "DISTRACTION - FROM OUTSIDE VEHICLE                                                    1445\n",
      "EXCEEDING SAFE SPEED FOR CONDITIONS                                                   1436\n",
      "UNDER THE INFLUENCE OF ALCOHOL/DRUGS (USE WHEN ARREST IS EFFECTED)                    1417\n",
      "HAD BEEN DRINKING (USE WHEN ARREST IS NOT MADE)                                       1040\n",
      "ROAD CONSTRUCTION/MAINTENANCE                                                         1011\n",
      "DISREGARDING OTHER TRAFFIC SIGNS                                                       902\n",
      "DISREGARDING ROAD MARKINGS                                                             863\n",
      "ROAD ENGINEERING/SURFACE/MARKING DEFECTS                                               826\n",
      "CELL PHONE USE OTHER THAN TEXTING                                                      659\n",
      "EVASIVE ACTION DUE TO ANIMAL, OBJECT, NONMOTORIST                                      466\n",
      "RELATED TO BUS STOP                                                                    421\n",
      "ANIMAL                                                                                 417\n",
      "TURNING RIGHT ON RED                                                                   342\n",
      "DISTRACTION - OTHER ELECTRONIC DEVICE (NAVIGATION DEVICE, DVD PLAYER, ETC.)            250\n",
      "BICYCLE ADVANCING LEGALLY ON RED LIGHT                                                 230\n",
      "DISREGARDING YIELD SIGN                                                                220\n",
      "TEXTING                                                                                158\n",
      "OBSTRUCTED CROSSWALKS                                                                   96\n",
      "PASSING STOPPED SCHOOL BUS                                                              91\n",
      "MOTORCYCLE ADVANCING LEGALLY ON RED LIGHT                                               58\n",
      "Name: count, dtype: int64\n",
      "\n",
      "\n",
      "Column: NUM_UNITS\n",
      "NUM_UNITS\n",
      "2.0     769892\n",
      "3.0      48459\n",
      "1.0      47412\n",
      "4.0       9355\n",
      "5.0       2286\n",
      "6.0        651\n",
      "7.0        221\n",
      "8.0         99\n",
      "9.0         38\n",
      "10.0        18\n",
      "11.0         8\n",
      "12.0         5\n",
      "18.0         5\n",
      "14.0         2\n",
      "16.0         2\n",
      "13.0         1\n",
      "15.0         1\n",
      "Name: count, dtype: int64\n",
      "\n",
      "\n",
      "Column: MOST_SEVERE_INJURY\n",
      "MOST_SEVERE_INJURY\n",
      "NO INDICATION OF INJURY     755184\n",
      "NONINCAPACITATING INJURY     69320\n",
      "REPORTED, NOT EVIDENT        38189\n",
      "INCAPACITATING INJURY        14798\n",
      "FATAL                          964\n",
      "Name: count, dtype: int64\n",
      "\n",
      "\n",
      "Column: INJURIES_TOTAL\n",
      "INJURIES_TOTAL\n",
      "0.0     755184\n",
      "1.0      92645\n",
      "2.0      20700\n",
      "3.0       6303\n",
      "4.0       2250\n",
      "5.0        804\n",
      "6.0        312\n",
      "7.0        129\n",
      "8.0         52\n",
      "9.0         27\n",
      "10.0        16\n",
      "11.0         9\n",
      "15.0         7\n",
      "12.0         6\n",
      "21.0         4\n",
      "13.0         3\n",
      "14.0         1\n",
      "17.0         1\n",
      "19.0         1\n",
      "16.0         1\n",
      "Name: count, dtype: int64\n",
      "\n",
      "\n",
      "Column: INJURIES_FATAL\n",
      "INJURIES_FATAL\n",
      "0.0    877491\n",
      "1.0       893\n",
      "2.0        62\n",
      "3.0         8\n",
      "4.0         1\n",
      "Name: count, dtype: int64\n",
      "\n",
      "\n",
      "Column: INJURIES_INCAPACITATING\n",
      "INJURIES_INCAPACITATING\n",
      "0.0     863510\n",
      "1.0      13122\n",
      "2.0       1377\n",
      "3.0        302\n",
      "4.0        104\n",
      "5.0         29\n",
      "6.0          7\n",
      "7.0          2\n",
      "10.0         1\n",
      "8.0          1\n",
      "Name: count, dtype: int64\n",
      "\n",
      "\n",
      "Column: INJURIES_NON_INCAPACITATING\n",
      "INJURIES_NON_INCAPACITATING\n",
      "0.0     806436\n",
      "1.0      56402\n",
      "2.0      10754\n",
      "3.0       3134\n",
      "4.0       1091\n",
      "5.0        376\n",
      "6.0        154\n",
      "7.0         52\n",
      "8.0         22\n",
      "10.0         9\n",
      "9.0          8\n",
      "11.0         6\n",
      "12.0         4\n",
      "21.0         2\n",
      "14.0         1\n",
      "19.0         1\n",
      "18.0         1\n",
      "15.0         1\n",
      "16.0         1\n",
      "Name: count, dtype: int64\n",
      "\n",
      "\n",
      "Column: INJURIES_REPORTED_NOT_EVIDENT\n",
      "INJURIES_REPORTED_NOT_EVIDENT\n",
      "0.0     835857\n",
      "1.0      33104\n",
      "2.0       6849\n",
      "3.0       1780\n",
      "4.0        561\n",
      "5.0        192\n",
      "6.0         53\n",
      "7.0         27\n",
      "8.0         12\n",
      "9.0         10\n",
      "10.0         6\n",
      "11.0         2\n",
      "15.0         2\n",
      "Name: count, dtype: int64\n",
      "\n",
      "\n",
      "Column: INJURIES_NO_INDICATION\n",
      "INJURIES_NO_INDICATION\n",
      "2.0     408230\n",
      "1.0     269430\n",
      "3.0     110734\n",
      "4.0      41350\n",
      "0.0      18827\n",
      "5.0      17382\n",
      "6.0       7222\n",
      "7.0       2807\n",
      "8.0       1251\n",
      "9.0        517\n",
      "10.0       251\n",
      "11.0       117\n",
      "12.0        77\n",
      "13.0        45\n",
      "14.0        41\n",
      "15.0        23\n",
      "16.0        22\n",
      "17.0        18\n",
      "20.0        13\n",
      "19.0         9\n",
      "21.0         7\n",
      "29.0         7\n",
      "26.0         6\n",
      "37.0         6\n",
      "22.0         6\n",
      "18.0         5\n",
      "27.0         5\n",
      "30.0         5\n",
      "24.0         4\n",
      "31.0         4\n",
      "36.0         4\n",
      "25.0         3\n",
      "28.0         3\n",
      "42.0         3\n",
      "32.0         2\n",
      "40.0         2\n",
      "33.0         2\n",
      "34.0         2\n",
      "45.0         2\n",
      "61.0         1\n",
      "46.0         1\n",
      "50.0         1\n",
      "38.0         1\n",
      "43.0         1\n",
      "48.0         1\n",
      "41.0         1\n",
      "23.0         1\n",
      "35.0         1\n",
      "39.0         1\n",
      "49.0         1\n",
      "Name: count, dtype: int64\n",
      "\n",
      "\n",
      "Column: INJURIES_UNKNOWN\n",
      "INJURIES_UNKNOWN\n",
      "0.0    878455\n",
      "Name: count, dtype: int64\n",
      "\n",
      "\n",
      "Column: CRASH_HOUR\n",
      "CRASH_HOUR\n",
      "15.0    68053\n",
      "16.0    67346\n",
      "17.0    65474\n",
      "14.0    58810\n",
      "18.0    53994\n",
      "13.0    53280\n",
      "12.0    51533\n",
      "8.0     46331\n",
      "11.0    44557\n",
      "9.0     40147\n",
      "10.0    39833\n",
      "19.0    39754\n",
      "7.0     37122\n",
      "20.0    32155\n",
      "21.0    28793\n",
      "22.0    26490\n",
      "23.0    22912\n",
      "0.0     19104\n",
      "6.0     18929\n",
      "1.0     16307\n",
      "2.0     13927\n",
      "5.0     12023\n",
      "3.0     11453\n",
      "4.0     10128\n",
      "Name: count, dtype: int64\n",
      "\n",
      "\n",
      "Column: CRASH_DAY_OF_WEEK\n",
      "CRASH_DAY_OF_WEEK\n",
      "6.0    142558\n",
      "7.0    130200\n",
      "5.0    126124\n",
      "3.0    125032\n",
      "4.0    124584\n",
      "2.0    120451\n",
      "1.0    109506\n",
      "Name: count, dtype: int64\n",
      "\n",
      "\n",
      "Column: CRASH_MONTH\n",
      "CRASH_MONTH\n",
      "9.0     81995\n",
      "8.0     80624\n",
      "7.0     78368\n",
      "10.0    78040\n",
      "6.0     77526\n",
      "5.0     77129\n",
      "12.0    70671\n",
      "11.0    69090\n",
      "3.0     67666\n",
      "4.0     66265\n",
      "1.0     65929\n",
      "2.0     65152\n",
      "Name: count, dtype: int64\n",
      "\n",
      "\n",
      "Column: UNIT_NO\n",
      "UNIT_NO\n",
      "1.0          874813\n",
      "2.0          801034\n",
      "3.0           58152\n",
      "4.0           12014\n",
      "5.0            3188\n",
      "6.0            1003\n",
      "7.0             382\n",
      "8.0             169\n",
      "9.0              77\n",
      "10.0             40\n",
      "11.0             23\n",
      "12.0             15\n",
      "0.0              11\n",
      "13.0             10\n",
      "14.0              9\n",
      "15.0              8\n",
      "16.0              7\n",
      "17.0              5\n",
      "18.0              5\n",
      "3778035.0         1\n",
      "Name: count, dtype: int64\n",
      "\n",
      "\n",
      "Column: UNIT_TYPE\n",
      "UNIT_TYPE\n",
      "DRIVER                 1499909\n",
      "PARKED                  236302\n",
      "DRIVERLESS               14302\n",
      "DISABLED VEHICLE           271\n",
      "NON-CONTACT VEHICLE        182\n",
      "Name: count, dtype: int64\n",
      "\n",
      "\n",
      "Column: MAKE\n",
      "MAKE\n",
      "CHEVROLET                                    202199\n",
      "FORD                                         174873\n",
      "UNKNOWN                                      174437\n",
      "NISSAN                                       141210\n",
      "HONDA                                        129051\n",
      "                                              ...  \n",
      "NEW IDEA ELECTRIC LAWN GARDEN TRACTOR             1\n",
      "REX                                               1\n",
      "TRAIL MASTER TRAILERS, INC., COLEMAN, OK          1\n",
      "TRANSPORT SYSTEMS, INC., DENTON, TEXAS            1\n",
      "CORN BELT MANUFACTURING, INC. (EARLY, IA)         1\n",
      "Name: count, Length: 1381, dtype: int64\n",
      "\n",
      "\n",
      "Column: MODEL\n",
      "MODEL\n",
      "UNKNOWN                         180698\n",
      "OTHER (EXPLAIN IN NARRATIVE)    166972\n",
      "CAMRY                            55761\n",
      "COROLLA                          35292\n",
      "CIVIC                            33593\n",
      "                                 ...  \n",
      "BRAT                                 1\n",
      "DUKE MOBILE HOMES                    1\n",
      "FERGUSON MFG. CO., INC.              1\n",
      "WAYSIDE CAMPERS                      1\n",
      "CENTURY ENGINEERING CORP.            1\n",
      "Name: count, Length: 2771, dtype: int64\n",
      "\n",
      "\n",
      "Column: VEHICLE_DEFECT\n",
      "VEHICLE_DEFECT\n",
      "NONE                937884\n",
      "UNKNOWN             794124\n",
      "OTHER                10270\n",
      "BRAKES                5408\n",
      "TIRES                  883\n",
      "STEERING               798\n",
      "WHEELS                 436\n",
      "SUSPENSION             279\n",
      "FUEL SYSTEM            260\n",
      "ENGINE/MOTOR           223\n",
      "WINDOWS                115\n",
      "LIGHTS                 108\n",
      "CARGO                   64\n",
      "SIGNALS                 42\n",
      "RESTRAINT SYSTEM        27\n",
      "TRAILER COUPLING        24\n",
      "EXHAUST                 21\n",
      "Name: count, dtype: int64\n",
      "\n",
      "\n",
      "Column: VEHICLE_TYPE\n",
      "VEHICLE_TYPE\n",
      "PASSENGER                                 1099425\n",
      "SPORT UTILITY VEHICLE (SUV)                242688\n",
      "UNKNOWN/NA                                 160293\n",
      "VAN/MINI-VAN                                82331\n",
      "PICKUP                                      57225\n",
      "TRUCK - SINGLE UNIT                         32886\n",
      "OTHER                                       21477\n",
      "BUS OVER 15 PASS.                           19086\n",
      "TRACTOR W/ SEMI-TRAILER                     16544\n",
      "BUS UP TO 15 PASS.                           5128\n",
      "MOTORCYCLE (OVER 150CC)                      4278\n",
      "SINGLE UNIT TRUCK WITH TRAILER               2953\n",
      "OTHER VEHICLE WITH TRAILER                   2414\n",
      "TRACTOR W/O SEMI-TRAILER                     2181\n",
      "AUTOCYCLE                                     678\n",
      "MOPED OR MOTORIZED BICYCLE                    657\n",
      "MOTOR DRIVEN CYCLE                            328\n",
      "ALL-TERRAIN VEHICLE (ATV)                     199\n",
      "FARM EQUIPMENT                                 87\n",
      "3-WHEELED MOTORCYCLE (2 REAR WHEELS)           70\n",
      "RECREATIONAL OFF-HIGHWAY VEHICLE (ROV)         30\n",
      "SNOWMOBILE                                      8\n",
      "Name: count, dtype: int64\n",
      "\n",
      "\n",
      "Column: VEHICLE_USE\n",
      "VEHICLE_USE\n",
      "PERSONAL                        1131187\n",
      "UNKNOWN/NA                       357751\n",
      "NOT IN USE                        90275\n",
      "OTHER                             55375\n",
      "TAXI/FOR HIRE                     21221\n",
      "COMMERCIAL - SINGLE UNIT          21016\n",
      "RIDESHARE SERVICE                 14426\n",
      "CTA                               12620\n",
      "POLICE                            11518\n",
      "CONSTRUCTION/MAINTENANCE           7783\n",
      "COMMERCIAL - MULTI-UNIT            7000\n",
      "SCHOOL BUS                         4823\n",
      "OTHER TRANSIT                      3962\n",
      "TOW TRUCK                          3376\n",
      "AMBULANCE                          2122\n",
      "FIRE                               1790\n",
      "STATE OWNED                        1507\n",
      "DRIVER EDUCATION                   1339\n",
      "MASS TRANSIT                        831\n",
      "LAWN CARE/LANDSCAPING               627\n",
      "AGRICULTURE                         189\n",
      "CAMPER/RV - SINGLE UNIT             111\n",
      "MILITARY                             68\n",
      "HOUSE TRAILER                        30\n",
      "CAMPER/RV - TOWED/MULTI-UNIT         19\n",
      "Name: count, dtype: int64\n",
      "\n",
      "\n",
      "Column: TRAVEL_DIRECTION\n",
      "TRAVEL_DIRECTION\n",
      "N          411266\n",
      "S          402684\n",
      "W          363869\n",
      "E          356638\n",
      "UNKNOWN    140213\n",
      "SE          22379\n",
      "NW          20536\n",
      "SW          16951\n",
      "NE          16430\n",
      "Name: count, dtype: int64\n",
      "\n",
      "\n",
      "Column: MANEUVER\n",
      "MANEUVER\n",
      "STRAIGHT AHEAD                        810085\n",
      "PARKED                                240620\n",
      "UNKNOWN/NA                            133315\n",
      "SLOW/STOP IN TRAFFIC                  128056\n",
      "TURNING LEFT                          104396\n",
      "BACKING                                70562\n",
      "TURNING RIGHT                          58430\n",
      "PASSING/OVERTAKING                     42625\n",
      "CHANGING LANES                         33483\n",
      "OTHER                                  29449\n",
      "ENTERING TRAFFIC LANE FROM PARKING     20617\n",
      "MERGING                                12301\n",
      "U-TURN                                 10043\n",
      "STARTING IN TRAFFIC                     9814\n",
      "LEAVING TRAFFIC LANE TO PARK            8431\n",
      "AVOIDING VEHICLES/OBJECTS               7372\n",
      "SKIDDING/CONTROL LOSS                   6475\n",
      "ENTER FROM DRIVE/ALLEY                  6202\n",
      "PARKED IN TRAFFIC LANE                  5424\n",
      "SLOW/STOP - LEFT TURN                   3042\n",
      "DRIVING WRONG WAY                       2629\n",
      "NEGOTIATING A CURVE                     2135\n",
      "SLOW/STOP - RIGHT TURN                  1928\n",
      "SLOW/STOP - LOAD/UNLOAD                 1663\n",
      "TURNING ON RED                           664\n",
      "DRIVERLESS                               659\n",
      "DISABLED                                 273\n",
      "DIVERGING                                273\n",
      "Name: count, dtype: int64\n",
      "\n",
      "\n",
      "Column: OCCUPANT_CNT\n",
      "OCCUPANT_CNT\n",
      "1.0     1268453\n",
      "0.0      231535\n",
      "2.0      176982\n",
      "3.0       46455\n",
      "4.0       18478\n",
      "5.0        6052\n",
      "6.0        1615\n",
      "7.0         641\n",
      "8.0         244\n",
      "9.0         112\n",
      "11.0         74\n",
      "10.0         69\n",
      "12.0         44\n",
      "13.0         39\n",
      "15.0         20\n",
      "14.0         17\n",
      "16.0         16\n",
      "18.0         13\n",
      "20.0         11\n",
      "19.0         10\n",
      "28.0          8\n",
      "17.0          8\n",
      "25.0          6\n",
      "26.0          6\n",
      "29.0          5\n",
      "36.0          5\n",
      "21.0          5\n",
      "44.0          4\n",
      "27.0          4\n",
      "35.0          3\n",
      "33.0          3\n",
      "41.0          3\n",
      "30.0          3\n",
      "22.0          3\n",
      "31.0          2\n",
      "39.0          2\n",
      "23.0          2\n",
      "34.0          2\n",
      "43.0          2\n",
      "99.0          2\n",
      "47.0          2\n",
      "37.0          1\n",
      "32.0          1\n",
      "60.0          1\n",
      "24.0          1\n",
      "38.0          1\n",
      "53.0          1\n",
      "Name: count, dtype: int64\n",
      "\n",
      "\n",
      "Column: FIRST_CONTACT_POINT\n",
      "FIRST_CONTACT_POINT\n",
      "FRONT                 343365\n",
      "REAR                  231443\n",
      "UNKNOWN               170220\n",
      "SIDE-LEFT             120502\n",
      "FRONT-LEFT-CORNER     115497\n",
      "SIDE-RIGHT            114620\n",
      "FRONT-RIGHT-CORNER    113180\n",
      "FRONT-LEFT             81476\n",
      "FRONT-RIGHT            76873\n",
      "REAR-LEFT              67985\n",
      "REAR-LEFT-CORNER       51426\n",
      "OTHER                  41461\n",
      "REAR-RIGHT-CORNER      37580\n",
      "REAR-RIGHT             36471\n",
      "SIDE-LEFT-REAR         29362\n",
      "TOTAL (ALL AREAS)      27907\n",
      "SIDE-RIGHT-REAR        22235\n",
      "SIDE-LEFT-FRONT        19133\n",
      "SIDE-RIGHT-FRONT       16529\n",
      "NONE                   13786\n",
      "ROOF                   11902\n",
      "UNDER CARRIAGE          5824\n",
      "TOP                     2189\n",
      "Name: count, dtype: int64\n",
      "\n",
      "\n",
      "Column: PERSON_TYPE\n",
      "PERSON_TYPE\n",
      "DRIVER                 1472282\n",
      "PASSENGER               315782\n",
      "PEDESTRIAN               22264\n",
      "BICYCLE                  14188\n",
      "NON-MOTOR VEHICLE         1607\n",
      "NON-CONTACT VEHICLE        325\n",
      "Name: count, dtype: int64\n",
      "\n",
      "\n",
      "Column: SEX\n",
      "SEX\n",
      "M    951147\n",
      "F    679651\n",
      "X    195650\n",
      "Name: count, dtype: int64\n",
      "\n",
      "\n",
      "Column: DRIVERS_LICENSE_CLASS\n",
      "DRIVERS_LICENSE_CLASS\n",
      "D     1704716\n",
      "A       33731\n",
      "B       25767\n",
      "C       25585\n",
      "DM      13914\n",
      "       ...   \n",
      "CF          1\n",
      "12          1\n",
      "B+          1\n",
      "1G          1\n",
      "25          1\n",
      "Name: count, Length: 289, dtype: int64\n",
      "\n",
      "\n",
      "Column: SAFETY_EQUIPMENT\n",
      "SAFETY_EQUIPMENT\n",
      "USAGE UNKNOWN                                 875739\n",
      "SAFETY BELT USED                              845196\n",
      "NONE PRESENT                                   60258\n",
      "SAFETY BELT NOT USED                            9974\n",
      "HELMET NOT USED                                 9670\n",
      "CHILD RESTRAINT USED                            6956\n",
      "CHILD RESTRAINT - FORWARD FACING                4574\n",
      "BICYCLE HELMET (PEDACYCLIST INVOLVED ONLY)      3772\n",
      "CHILD RESTRAINT - TYPE UNKNOWN                  2299\n",
      "CHILD RESTRAINT - REAR FACING                   2181\n",
      "DOT COMPLIANT MOTORCYCLE HELMET                 1516\n",
      "HELMET USED                                     1351\n",
      "BOOSTER SEAT                                    1192\n",
      "CHILD RESTRAINT NOT USED                         769\n",
      "NOT DOT COMPLIANT MOTORCYCLE HELMET              298\n",
      "SHOULD/LAP BELT USED IMPROPERLY                  269\n",
      "WHEELCHAIR                                       226\n",
      "CHILD RESTRAINT USED IMPROPERLY                  162\n",
      "STRETCHER                                         46\n",
      "Name: count, dtype: int64\n",
      "\n",
      "\n",
      "Column: AIRBAG_DEPLOYED\n",
      "AIRBAG_DEPLOYED\n",
      "DID NOT DEPLOY                            909230\n",
      "DEPLOYMENT UNKNOWN                        417147\n",
      "NOT APPLICABLE                            378358\n",
      "DEPLOYED, FRONT                            58509\n",
      "DEPLOYED, COMBINATION                      45613\n",
      "DEPLOYED, SIDE                             16681\n",
      "DEPLOYED OTHER (KNEE, AIR, BELT, ETC.)       910\n",
      "Name: count, dtype: int64\n",
      "\n",
      "\n",
      "Column: EJECTION\n",
      "EJECTION\n",
      "NONE                  1676941\n",
      "UNKNOWN                141181\n",
      "TOTALLY EJECTED          5761\n",
      "PARTIALLY EJECTED        1423\n",
      "TRAPPED/EXTRICATED       1142\n",
      "Name: count, dtype: int64\n",
      "\n",
      "\n",
      "Column: DRIVER_ACTION\n",
      "DRIVER_ACTION\n",
      "UNKNOWN                              697340\n",
      "NONE                                 534230\n",
      "FAILED TO YIELD                      138868\n",
      "OTHER                                135788\n",
      "FOLLOWED TOO CLOSELY                  89735\n",
      "IMPROPER BACKING                      45107\n",
      "IMPROPER TURN                         40313\n",
      "IMPROPER LANE CHANGE                  39343\n",
      "IMPROPER PASSING                      34384\n",
      "DISREGARDED CONTROL DEVICES           27070\n",
      "TOO FAST FOR CONDITIONS               22497\n",
      "WRONG WAY/SIDE                         6178\n",
      "IMPROPER PARKING                       5647\n",
      "OVERCORRECTED                          3025\n",
      "EVADING POLICE VEHICLE                 2409\n",
      "CELL PHONE USE OTHER THAN TEXTING      2239\n",
      "EMERGENCY VEHICLE ON CALL              1425\n",
      "TEXTING                                 602\n",
      "STOPPED SCHOOL BUS                      182\n",
      "LICENSE RESTRICTIONS                     66\n",
      "Name: count, dtype: int64\n",
      "\n",
      "\n",
      "Column: DRIVER_VISION\n",
      "DRIVER_VISION\n",
      "UNKNOWN                   1039352\n",
      "NOT OBSCURED               750796\n",
      "OTHER                       15012\n",
      "MOVING VEHICLES              8534\n",
      "PARKED VEHICLES              5255\n",
      "WINDSHIELD (WATER/ICE)       4041\n",
      "BLINDED - SUNLIGHT           1829\n",
      "TREES, PLANTS                 608\n",
      "BUILDINGS                     537\n",
      "BLINDED - HEADLIGHTS          163\n",
      "BLOWING MATERIALS             105\n",
      "HILLCREST                      98\n",
      "EMBANKMENT                     82\n",
      "SIGNBOARD                      36\n",
      "Name: count, dtype: int64\n",
      "\n",
      "\n",
      "Column: PHYSICAL_CONDITION\n",
      "PHYSICAL_CONDITION\n",
      "NORMAL                          972901\n",
      "UNKNOWN                         825270\n",
      "IMPAIRED - ALCOHOL                6460\n",
      "REMOVED BY EMS                    5529\n",
      "OTHER                             4458\n",
      "EMOTIONAL                         4028\n",
      "FATIGUED/ASLEEP                   4019\n",
      "ILLNESS/FAINTED                   1377\n",
      "HAD BEEN DRINKING                 1100\n",
      "IMPAIRED - DRUGS                   718\n",
      "IMPAIRED - ALCOHOL AND DRUGS       400\n",
      "MEDICATED                          188\n",
      "Name: count, dtype: int64\n",
      "\n",
      "\n",
      "Column: BAC_RESULT\n",
      "BAC_RESULT\n",
      "TEST NOT OFFERED                   1804333\n",
      "TEST REFUSED                         15776\n",
      "TEST PERFORMED, RESULTS UNKNOWN       3641\n",
      "TEST TAKEN                            2698\n",
      "Name: count, dtype: int64\n",
      "\n",
      "\n",
      "Column: CAUSE\n",
      "CAUSE\n",
      "reckless driving                    277671\n",
      "missed traffic signs                126918\n",
      "issue with the driver or vehicle     45325\n",
      "external factors                     27574\n",
      "other                                  674\n",
      "Name: count, dtype: int64\n",
      "\n",
      "\n"
     ]
    }
   ],
   "source": [
    "#OVERVIEW OF CLEANED COLUMNS\n",
    "for column in df.columns:\n",
    "    print(f\"Column: {column}\")\n",
    "    print(df[column].value_counts())\n",
    "    print(\"\\n\")"
   ]
  },
  {
   "cell_type": "code",
   "execution_count": 90,
   "id": "77897b32",
   "metadata": {
    "execution": {
     "iopub.execute_input": "2024-10-10T21:50:52.903974Z",
     "iopub.status.busy": "2024-10-10T21:50:52.903224Z",
     "iopub.status.idle": "2024-10-10T21:50:59.271663Z",
     "shell.execute_reply": "2024-10-10T21:50:59.270649Z"
    },
    "papermill": {
     "duration": 6.416433,
     "end_time": "2024-10-10T21:50:59.274082",
     "exception": false,
     "start_time": "2024-10-10T21:50:52.857649",
     "status": "completed"
    },
    "tags": []
   },
   "outputs": [],
   "source": [
    "cat_df = df.copy()"
   ]
  },
  {
   "cell_type": "code",
   "execution_count": 91,
   "id": "7e18429e",
   "metadata": {
    "execution": {
     "iopub.execute_input": "2024-10-10T21:50:59.360883Z",
     "iopub.status.busy": "2024-10-10T21:50:59.360285Z",
     "iopub.status.idle": "2024-10-10T21:51:02.504126Z",
     "shell.execute_reply": "2024-10-10T21:51:02.503137Z"
    },
    "papermill": {
     "duration": 3.18941,
     "end_time": "2024-10-10T21:51:02.506465",
     "exception": false,
     "start_time": "2024-10-10T21:50:59.317055",
     "status": "completed"
    },
    "tags": []
   },
   "outputs": [],
   "source": [
    "#Alignment column\n",
    "# Change to binary: 1 if road was straight, 0 if curved\n",
    "def is_straight(x):\n",
    "    if isinstance(x, str):  \n",
    "        return 1 if 'STRAIGHT' in x else 0\n",
    "    else:\n",
    "        return 0\n",
    "    \n",
    "\n",
    "cat_df['ALIGNMENT_STRAIGHT'] = cat_df['ALIGNMENT'].apply(is_straight)"
   ]
  },
  {
   "cell_type": "code",
   "execution_count": 92,
   "id": "f042ea30",
   "metadata": {
    "execution": {
     "iopub.execute_input": "2024-10-10T21:51:02.596515Z",
     "iopub.status.busy": "2024-10-10T21:51:02.595621Z",
     "iopub.status.idle": "2024-10-10T21:51:02.641402Z",
     "shell.execute_reply": "2024-10-10T21:51:02.640408Z"
    },
    "papermill": {
     "duration": 0.093062,
     "end_time": "2024-10-10T21:51:02.643579",
     "exception": false,
     "start_time": "2024-10-10T21:51:02.550517",
     "status": "completed"
    },
    "tags": []
   },
   "outputs": [
    {
     "data": {
      "text/plain": [
       "ALIGNMENT_STRAIGHT\n",
       "0    3585264\n",
       "1     870605\n",
       "Name: count, dtype: int64"
      ]
     },
     "execution_count": 92,
     "metadata": {},
     "output_type": "execute_result"
    }
   ],
   "source": [
    "cat_df['ALIGNMENT_STRAIGHT'].value_counts()"
   ]
  },
  {
   "cell_type": "code",
   "execution_count": 93,
   "id": "504614fd",
   "metadata": {
    "execution": {
     "iopub.execute_input": "2024-10-10T21:51:02.733720Z",
     "iopub.status.busy": "2024-10-10T21:51:02.733334Z",
     "iopub.status.idle": "2024-10-10T21:51:05.905718Z",
     "shell.execute_reply": "2024-10-10T21:51:05.904928Z"
    },
    "papermill": {
     "duration": 3.219197,
     "end_time": "2024-10-10T21:51:05.907943",
     "exception": false,
     "start_time": "2024-10-10T21:51:02.688746",
     "status": "completed"
    },
    "tags": []
   },
   "outputs": [],
   "source": [
    "#Crash type \n",
    "# 1 if crash did not result in injury, 0 if crash resulted in injury and/or tow\n",
    "def no_injury(x):\n",
    "    if isinstance(x, str):  \n",
    "        return 1 if 'NO INJURY' in x else 0\n",
    "    else:\n",
    "        return 0 \n",
    "\n",
    "cat_df['CRASH_TYPE_NO_INJURY'] = cat_df['CRASH_TYPE'].apply(no_injury)"
   ]
  },
  {
   "cell_type": "code",
   "execution_count": 94,
   "id": "5cd473b4",
   "metadata": {
    "execution": {
     "iopub.execute_input": "2024-10-10T21:51:05.996214Z",
     "iopub.status.busy": "2024-10-10T21:51:05.995883Z",
     "iopub.status.idle": "2024-10-10T21:51:06.039196Z",
     "shell.execute_reply": "2024-10-10T21:51:06.038320Z"
    },
    "papermill": {
     "duration": 0.088673,
     "end_time": "2024-10-10T21:51:06.041024",
     "exception": false,
     "start_time": "2024-10-10T21:51:05.952351",
     "status": "completed"
    },
    "tags": []
   },
   "outputs": [
    {
     "data": {
      "text/plain": [
       "CRASH_TYPE_NO_INJURY\n",
       "0    3813156\n",
       "1     642713\n",
       "Name: count, dtype: int64"
      ]
     },
     "execution_count": 94,
     "metadata": {},
     "output_type": "execute_result"
    }
   ],
   "source": [
    "cat_df['CRASH_TYPE_NO_INJURY'].value_counts()"
   ]
  },
  {
   "cell_type": "code",
   "execution_count": 95,
   "id": "c7fb0a86",
   "metadata": {
    "execution": {
     "iopub.execute_input": "2024-10-10T21:51:06.127769Z",
     "iopub.status.busy": "2024-10-10T21:51:06.127435Z",
     "iopub.status.idle": "2024-10-10T21:51:06.139274Z",
     "shell.execute_reply": "2024-10-10T21:51:06.138392Z"
    },
    "papermill": {
     "duration": 0.057815,
     "end_time": "2024-10-10T21:51:06.141463",
     "exception": false,
     "start_time": "2024-10-10T21:51:06.083648",
     "status": "completed"
    },
    "tags": []
   },
   "outputs": [
    {
     "name": "stdout",
     "output_type": "stream",
     "text": [
      "<class 'pandas.core.frame.DataFrame'>\n",
      "Index: 4455869 entries, 0 to 4566059\n",
      "Data columns (total 50 columns):\n",
      " #   Column                         Dtype  \n",
      "---  ------                         -----  \n",
      " 0   POSTED_SPEED_LIMIT             float64\n",
      " 1   TRAFFIC_CONTROL_DEVICE         object \n",
      " 2   DEVICE_CONDITION               object \n",
      " 3   WEATHER_CONDITION              object \n",
      " 4   LIGHTING_CONDITION             object \n",
      " 5   FIRST_CRASH_TYPE               object \n",
      " 6   TRAFFICWAY_TYPE                object \n",
      " 7   ALIGNMENT                      object \n",
      " 8   ROADWAY_SURFACE_COND           object \n",
      " 9   ROAD_DEFECT                    object \n",
      " 10  CRASH_TYPE                     object \n",
      " 11  DAMAGE                         object \n",
      " 12  PRIM_CONTRIBUTORY_CAUSE        object \n",
      " 13  SEC_CONTRIBUTORY_CAUSE         object \n",
      " 14  NUM_UNITS                      float64\n",
      " 15  MOST_SEVERE_INJURY             object \n",
      " 16  INJURIES_TOTAL                 float64\n",
      " 17  INJURIES_FATAL                 float64\n",
      " 18  INJURIES_INCAPACITATING        float64\n",
      " 19  INJURIES_NON_INCAPACITATING    float64\n",
      " 20  INJURIES_REPORTED_NOT_EVIDENT  float64\n",
      " 21  INJURIES_NO_INDICATION         float64\n",
      " 22  INJURIES_UNKNOWN               float64\n",
      " 23  CRASH_HOUR                     float64\n",
      " 24  CRASH_DAY_OF_WEEK              float64\n",
      " 25  CRASH_MONTH                    float64\n",
      " 26  UNIT_NO                        float64\n",
      " 27  UNIT_TYPE                      object \n",
      " 28  MAKE                           object \n",
      " 29  MODEL                          object \n",
      " 30  VEHICLE_DEFECT                 object \n",
      " 31  VEHICLE_TYPE                   object \n",
      " 32  VEHICLE_USE                    object \n",
      " 33  TRAVEL_DIRECTION               object \n",
      " 34  MANEUVER                       object \n",
      " 35  OCCUPANT_CNT                   float64\n",
      " 36  FIRST_CONTACT_POINT            object \n",
      " 37  PERSON_TYPE                    object \n",
      " 38  SEX                            object \n",
      " 39  DRIVERS_LICENSE_CLASS          object \n",
      " 40  SAFETY_EQUIPMENT               object \n",
      " 41  AIRBAG_DEPLOYED                object \n",
      " 42  EJECTION                       object \n",
      " 43  DRIVER_ACTION                  object \n",
      " 44  DRIVER_VISION                  object \n",
      " 45  PHYSICAL_CONDITION             object \n",
      " 46  BAC_RESULT                     object \n",
      " 47  CAUSE                          object \n",
      " 48  ALIGNMENT_STRAIGHT             int64  \n",
      " 49  CRASH_TYPE_NO_INJURY           int64  \n",
      "dtypes: float64(14), int64(2), object(34)\n",
      "memory usage: 1.7+ GB\n"
     ]
    }
   ],
   "source": [
    "cat_df.info()"
   ]
  },
  {
   "cell_type": "code",
   "execution_count": 96,
   "id": "8be1b40e",
   "metadata": {
    "execution": {
     "iopub.execute_input": "2024-10-10T21:51:06.228994Z",
     "iopub.status.busy": "2024-10-10T21:51:06.228662Z",
     "iopub.status.idle": "2024-10-10T21:51:06.804893Z",
     "shell.execute_reply": "2024-10-10T21:51:06.803961Z"
    },
    "papermill": {
     "duration": 0.622901,
     "end_time": "2024-10-10T21:51:06.807405",
     "exception": false,
     "start_time": "2024-10-10T21:51:06.184504",
     "status": "completed"
    },
    "tags": []
   },
   "outputs": [
    {
     "data": {
      "image/png": "[encoded data removed]",
      "text/plain": [
       "<Figure size 1200x600 with 1 Axes>"
      ]
     },
     "metadata": {},
     "output_type": "display_data"
    }
   ],
   "source": [
    "# Top 10 most common weather conditions\n",
    "weather_counts = df['WEATHER_CONDITION'].value_counts().head(10)\n",
    "plt.figure(figsize=(12, 6))\n",
    "weather_counts.plot(kind='bar')\n",
    "plt.title('Top 10 Most Common Weather Conditions')\n",
    "plt.xlabel('Weather Condition')\n",
    "plt.ylabel('Count')\n",
    "plt.xticks(rotation=45, ha='right')\n",
    "plt.tight_layout()\n",
    "plt.show()"
   ]
  },
  {
   "cell_type": "code",
   "execution_count": 97,
   "id": "cc060dd5",
   "metadata": {
    "execution": {
     "iopub.execute_input": "2024-10-10T21:51:06.897872Z",
     "iopub.status.busy": "2024-10-10T21:51:06.897087Z",
     "iopub.status.idle": "2024-10-10T21:51:07.328708Z",
     "shell.execute_reply": "2024-10-10T21:51:07.327754Z"
    },
    "papermill": {
     "duration": 0.478691,
     "end_time": "2024-10-10T21:51:07.330701",
     "exception": false,
     "start_time": "2024-10-10T21:51:06.852010",
     "status": "completed"
    },
    "tags": []
   },
   "outputs": [
    {
     "data": {
      "image/png": "[encoded data removed]",
      "text/plain": [
       "<Figure size 1200x600 with 1 Axes>"
      ]
     },
     "metadata": {},
     "output_type": "display_data"
    }
   ],
   "source": [
    "# Distribution of causes\n",
    "cause_counts = df['CAUSE'].value_counts()\n",
    "plt.figure(figsize=(12, 6))\n",
    "cause_counts.plot(kind='bar')\n",
    "plt.title('Distribution of Causes')\n",
    "plt.xlabel('Cause of Crash')\n",
    "plt.ylabel('Count')\n",
    "plt.xticks(rotation=45, ha='right')\n",
    "plt.tight_layout()\n",
    "plt.show()"
   ]
  },
  {
   "cell_type": "code",
   "execution_count": 98,
   "id": "66bc779d",
   "metadata": {
    "execution": {
     "iopub.execute_input": "2024-10-10T21:51:07.422069Z",
     "iopub.status.busy": "2024-10-10T21:51:07.421721Z",
     "iopub.status.idle": "2024-10-10T21:51:09.877934Z",
     "shell.execute_reply": "2024-10-10T21:51:09.877070Z"
    },
    "papermill": {
     "duration": 2.504413,
     "end_time": "2024-10-10T21:51:09.880321",
     "exception": false,
     "start_time": "2024-10-10T21:51:07.375908",
     "status": "completed"
    },
    "tags": []
   },
   "outputs": [
    {
     "data": {
      "image/png": "[encoded data removed]",
      "text/plain": [
       "<Figure size 1000x600 with 1 Axes>"
      ]
     },
     "metadata": {},
     "output_type": "display_data"
    }
   ],
   "source": [
    "# Relationship between speed limit and causes\n",
    "plt.figure(figsize=(10, 6))\n",
    "sns.boxplot(x='POSTED_SPEED_LIMIT', y='CAUSE', data=cat_df)\n",
    "plt.title('Relationship between Posted Speed Limit and Causes')\n",
    "plt.xlabel('Posted Speed Limit')\n",
    "plt.ylabel('Causes Of Crash')\n",
    "plt.show()"
   ]
  },
  {
   "cell_type": "code",
   "execution_count": 99,
   "id": "d6620b00",
   "metadata": {
    "execution": {
     "iopub.execute_input": "2024-10-10T21:51:09.973609Z",
     "iopub.status.busy": "2024-10-10T21:51:09.972902Z",
     "iopub.status.idle": "2024-10-10T21:51:10.005291Z",
     "shell.execute_reply": "2024-10-10T21:51:10.004320Z"
    },
    "papermill": {
     "duration": 0.08149,
     "end_time": "2024-10-10T21:51:10.007365",
     "exception": false,
     "start_time": "2024-10-10T21:51:09.925875",
     "status": "completed"
    },
    "tags": []
   },
   "outputs": [
    {
     "name": "stdout",
     "output_type": "stream",
     "text": [
      "28.42366199748422\n"
     ]
    }
   ],
   "source": [
    "print(cat_df['POSTED_SPEED_LIMIT'].mean())"
   ]
  },
  {
   "cell_type": "markdown",
   "id": "78ed1be3",
   "metadata": {
    "papermill": {
     "duration": 0.045077,
     "end_time": "2024-10-10T21:51:10.097882",
     "exception": false,
     "start_time": "2024-10-10T21:51:10.052805",
     "status": "completed"
    },
    "tags": []
   },
   "source": [
    "Most accidents surely fall in the reckless driving category. But driving fast does not necessarily lead to  crash."
   ]
  },
  {
   "cell_type": "code",
   "execution_count": 100,
   "id": "b1afb0c1",
   "metadata": {
    "execution": {
     "iopub.execute_input": "2024-10-10T21:51:10.190234Z",
     "iopub.status.busy": "2024-10-10T21:51:10.189273Z",
     "iopub.status.idle": "2024-10-10T21:51:10.662304Z",
     "shell.execute_reply": "2024-10-10T21:51:10.661273Z"
    },
    "papermill": {
     "duration": 0.521606,
     "end_time": "2024-10-10T21:51:10.664419",
     "exception": false,
     "start_time": "2024-10-10T21:51:10.142813",
     "status": "completed"
    },
    "tags": []
   },
   "outputs": [
    {
     "name": "stdout",
     "output_type": "stream",
     "text": [
      "FIRST_CRASH_TYPE\n",
      "PEDESTRIAN                      0.933698\n",
      "PEDALCYCLIST                    0.718006\n",
      "TRAIN                           0.613636\n",
      "OVERTURNED                      0.592734\n",
      "HEAD ON                         0.568894\n",
      "ANGLE                           0.367707\n",
      "TURNING                         0.249317\n",
      "FIXED OBJECT                    0.226244\n",
      "REAR END                        0.187398\n",
      "OTHER NONCOLLISION              0.183792\n",
      "SIDESWIPE OPPOSITE DIRECTION    0.164858\n",
      "OTHER OBJECT                    0.162365\n",
      "REAR TO SIDE                    0.100900\n",
      "SIDESWIPE SAME DIRECTION        0.073203\n",
      "ANIMAL                          0.069620\n",
      "REAR TO FRONT                   0.063885\n",
      "PARKED MOTOR VEHICLE            0.043300\n",
      "REAR TO REAR                    0.022654\n",
      "Name: INJURIES_TOTAL, dtype: float64\n"
     ]
    }
   ],
   "source": [
    "#types of crashes that result in the most injuries\n",
    "# Group by crash type and calculate the mean number of injuries\n",
    "crash_type_injuries = cat_df.groupby('FIRST_CRASH_TYPE')['INJURIES_TOTAL'].mean().sort_values(ascending=False)\n",
    "\n",
    "print(crash_type_injuries)"
   ]
  },
  {
   "cell_type": "code",
   "execution_count": 101,
   "id": "23ff558b",
   "metadata": {
    "execution": {
     "iopub.execute_input": "2024-10-10T21:51:10.757064Z",
     "iopub.status.busy": "2024-10-10T21:51:10.756377Z",
     "iopub.status.idle": "2024-10-10T21:51:11.128209Z",
     "shell.execute_reply": "2024-10-10T21:51:11.127249Z"
    },
    "papermill": {
     "duration": 0.420171,
     "end_time": "2024-10-10T21:51:11.130341",
     "exception": false,
     "start_time": "2024-10-10T21:51:10.710170",
     "status": "completed"
    },
    "tags": []
   },
   "outputs": [
    {
     "data": {
      "image/png": "[encoded data removed]",
      "text/plain": [
       "<Figure size 1200x600 with 1 Axes>"
      ]
     },
     "metadata": {},
     "output_type": "display_data"
    }
   ],
   "source": [
    "plt.figure(figsize=(12, 6))\n",
    "crash_type_injuries.head(10).plot(kind='bar')\n",
    "plt.title('Top 10 Crash Types by Mean Injuries')\n",
    "plt.xlabel('Crash Type')\n",
    "plt.ylabel('Mean Number of Injuries')\n",
    "plt.xticks(rotation=45, ha='right')\n",
    "plt.tight_layout()\n",
    "plt.show()"
   ]
  },
  {
   "cell_type": "code",
   "execution_count": 102,
   "id": "6856eb1d",
   "metadata": {
    "execution": {
     "iopub.execute_input": "2024-10-10T21:51:11.225761Z",
     "iopub.status.busy": "2024-10-10T21:51:11.225404Z",
     "iopub.status.idle": "2024-10-10T21:51:12.369621Z",
     "shell.execute_reply": "2024-10-10T21:51:12.368738Z"
    },
    "papermill": {
     "duration": 1.194571,
     "end_time": "2024-10-10T21:51:12.372027",
     "exception": false,
     "start_time": "2024-10-10T21:51:11.177456",
     "status": "completed"
    },
    "tags": []
   },
   "outputs": [],
   "source": [
    "encoder = LabelEncoder()\n",
    "\n",
    "cat_df['CAUSE'] = encoder.fit_transform(cat_df['CAUSE'])"
   ]
  },
  {
   "cell_type": "code",
   "execution_count": 103,
   "id": "52bb6f14",
   "metadata": {
    "execution": {
     "iopub.execute_input": "2024-10-10T21:51:12.466790Z",
     "iopub.status.busy": "2024-10-10T21:51:12.466004Z",
     "iopub.status.idle": "2024-10-10T21:51:12.477836Z",
     "shell.execute_reply": "2024-10-10T21:51:12.476879Z"
    },
    "papermill": {
     "duration": 0.061279,
     "end_time": "2024-10-10T21:51:12.480056",
     "exception": false,
     "start_time": "2024-10-10T21:51:12.418777",
     "status": "completed"
    },
    "tags": []
   },
   "outputs": [
    {
     "name": "stdout",
     "output_type": "stream",
     "text": [
      "<class 'pandas.core.frame.DataFrame'>\n",
      "Index: 4455869 entries, 0 to 4566059\n",
      "Data columns (total 50 columns):\n",
      " #   Column                         Dtype  \n",
      "---  ------                         -----  \n",
      " 0   POSTED_SPEED_LIMIT             float64\n",
      " 1   TRAFFIC_CONTROL_DEVICE         object \n",
      " 2   DEVICE_CONDITION               object \n",
      " 3   WEATHER_CONDITION              object \n",
      " 4   LIGHTING_CONDITION             object \n",
      " 5   FIRST_CRASH_TYPE               object \n",
      " 6   TRAFFICWAY_TYPE                object \n",
      " 7   ALIGNMENT                      object \n",
      " 8   ROADWAY_SURFACE_COND           object \n",
      " 9   ROAD_DEFECT                    object \n",
      " 10  CRASH_TYPE                     object \n",
      " 11  DAMAGE                         object \n",
      " 12  PRIM_CONTRIBUTORY_CAUSE        object \n",
      " 13  SEC_CONTRIBUTORY_CAUSE         object \n",
      " 14  NUM_UNITS                      float64\n",
      " 15  MOST_SEVERE_INJURY             object \n",
      " 16  INJURIES_TOTAL                 float64\n",
      " 17  INJURIES_FATAL                 float64\n",
      " 18  INJURIES_INCAPACITATING        float64\n",
      " 19  INJURIES_NON_INCAPACITATING    float64\n",
      " 20  INJURIES_REPORTED_NOT_EVIDENT  float64\n",
      " 21  INJURIES_NO_INDICATION         float64\n",
      " 22  INJURIES_UNKNOWN               float64\n",
      " 23  CRASH_HOUR                     float64\n",
      " 24  CRASH_DAY_OF_WEEK              float64\n",
      " 25  CRASH_MONTH                    float64\n",
      " 26  UNIT_NO                        float64\n",
      " 27  UNIT_TYPE                      object \n",
      " 28  MAKE                           object \n",
      " 29  MODEL                          object \n",
      " 30  VEHICLE_DEFECT                 object \n",
      " 31  VEHICLE_TYPE                   object \n",
      " 32  VEHICLE_USE                    object \n",
      " 33  TRAVEL_DIRECTION               object \n",
      " 34  MANEUVER                       object \n",
      " 35  OCCUPANT_CNT                   float64\n",
      " 36  FIRST_CONTACT_POINT            object \n",
      " 37  PERSON_TYPE                    object \n",
      " 38  SEX                            object \n",
      " 39  DRIVERS_LICENSE_CLASS          object \n",
      " 40  SAFETY_EQUIPMENT               object \n",
      " 41  AIRBAG_DEPLOYED                object \n",
      " 42  EJECTION                       object \n",
      " 43  DRIVER_ACTION                  object \n",
      " 44  DRIVER_VISION                  object \n",
      " 45  PHYSICAL_CONDITION             object \n",
      " 46  BAC_RESULT                     object \n",
      " 47  CAUSE                          int64  \n",
      " 48  ALIGNMENT_STRAIGHT             int64  \n",
      " 49  CRASH_TYPE_NO_INJURY           int64  \n",
      "dtypes: float64(14), int64(3), object(33)\n",
      "memory usage: 1.7+ GB\n"
     ]
    }
   ],
   "source": [
    "cat_df.info()"
   ]
  },
  {
   "cell_type": "code",
   "execution_count": 104,
   "id": "e352b76c",
   "metadata": {
    "execution": {
     "iopub.execute_input": "2024-10-10T21:51:12.574042Z",
     "iopub.status.busy": "2024-10-10T21:51:12.573698Z",
     "iopub.status.idle": "2024-10-10T21:51:13.059854Z",
     "shell.execute_reply": "2024-10-10T21:51:13.058897Z"
    },
    "papermill": {
     "duration": 0.536271,
     "end_time": "2024-10-10T21:51:13.062338",
     "exception": false,
     "start_time": "2024-10-10T21:51:12.526067",
     "status": "completed"
    },
    "tags": []
   },
   "outputs": [
    {
     "name": "stdout",
     "output_type": "stream",
     "text": [
      "FIRST_CRASH_TYPE\n",
      "PARKED MOTOR VEHICLE            4.304806\n",
      "REAR TO REAR                    4.291262\n",
      "REAR END                        4.111606\n",
      "REAR TO FRONT                   4.111211\n",
      "SIDESWIPE OPPOSITE DIRECTION    3.994369\n",
      "SIDESWIPE SAME DIRECTION        3.971393\n",
      "REAR TO SIDE                    3.851275\n",
      "HEAD ON                         3.799653\n",
      "OVERTURNED                      3.646272\n",
      "OTHER OBJECT                    3.641483\n",
      "PEDALCYCLIST                    3.605424\n",
      "FIXED OBJECT                    3.563831\n",
      "TURNING                         3.557796\n",
      "PEDESTRIAN                      3.523261\n",
      "ANGLE                           3.126252\n",
      "OTHER NONCOLLISION              3.078713\n",
      "TRAIN                           3.068182\n",
      "ANIMAL                          1.757911\n",
      "Name: CAUSE, dtype: float64\n"
     ]
    }
   ],
   "source": [
    "crash_type_cause = cat_df.groupby('FIRST_CRASH_TYPE')['CAUSE'].mean().sort_values(ascending=False)\n",
    "\n",
    "print(crash_type_cause)"
   ]
  },
  {
   "cell_type": "code",
   "execution_count": 105,
   "id": "7fc51772",
   "metadata": {
    "execution": {
     "iopub.execute_input": "2024-10-10T21:51:13.158281Z",
     "iopub.status.busy": "2024-10-10T21:51:13.157883Z",
     "iopub.status.idle": "2024-10-10T21:51:13.427710Z",
     "shell.execute_reply": "2024-10-10T21:51:13.426704Z"
    },
    "papermill": {
     "duration": 0.319505,
     "end_time": "2024-10-10T21:51:13.429831",
     "exception": false,
     "start_time": "2024-10-10T21:51:13.110326",
     "status": "completed"
    },
    "tags": []
   },
   "outputs": [
    {
     "data": {
      "image/png": "[encoded data removed]",
      "text/plain": [
       "<Figure size 1200x600 with 1 Axes>"
      ]
     },
     "metadata": {},
     "output_type": "display_data"
    }
   ],
   "source": [
    "plt.figure(figsize=(12, 6))\n",
    "crash_type_cause.head(10).plot(kind='bar')\n",
    "plt.title('Top 10 Crash Types by Cause')\n",
    "plt.xlabel('Crash Type')\n",
    "plt.ylabel('Mean Number of Causes')\n",
    "plt.xticks(rotation=45, ha='right')\n",
    "plt.tight_layout()\n",
    "plt.show()"
   ]
  },
  {
   "cell_type": "code",
   "execution_count": 106,
   "id": "fde977f4",
   "metadata": {
    "execution": {
     "iopub.execute_input": "2024-10-10T21:51:13.526605Z",
     "iopub.status.busy": "2024-10-10T21:51:13.525935Z",
     "iopub.status.idle": "2024-10-10T21:51:18.037848Z",
     "shell.execute_reply": "2024-10-10T21:51:18.036890Z"
    },
    "papermill": {
     "duration": 4.563536,
     "end_time": "2024-10-10T21:51:18.041302",
     "exception": false,
     "start_time": "2024-10-10T21:51:13.477766",
     "status": "completed"
    },
    "tags": []
   },
   "outputs": [
    {
     "data": {
      "image/png": "[encoded data removed]",
      "text/plain": [
       "<Figure size 2000x2000 with 20 Axes>"
      ]
     },
     "metadata": {},
     "output_type": "display_data"
    }
   ],
   "source": [
    "cat_df.hist(figsize=(20,20));"
   ]
  },
  {
   "cell_type": "markdown",
   "id": "d3ea6a42",
   "metadata": {
    "papermill": {
     "duration": 0.054174,
     "end_time": "2024-10-10T21:51:18.145700",
     "exception": false,
     "start_time": "2024-10-10T21:51:18.091526",
     "status": "completed"
    },
    "tags": []
   },
   "source": [
    "### Simple Logistic Regression\n"
   ]
  },
  {
   "cell_type": "code",
   "execution_count": 107,
   "id": "44dd74d9",
   "metadata": {
    "execution": {
     "iopub.execute_input": "2024-10-10T21:51:18.261704Z",
     "iopub.status.busy": "2024-10-10T21:51:18.261316Z",
     "iopub.status.idle": "2024-10-10T21:51:18.305469Z",
     "shell.execute_reply": "2024-10-10T21:51:18.304613Z"
    },
    "papermill": {
     "duration": 0.097333,
     "end_time": "2024-10-10T21:51:18.307373",
     "exception": false,
     "start_time": "2024-10-10T21:51:18.210040",
     "status": "completed"
    },
    "tags": []
   },
   "outputs": [
    {
     "data": {
      "text/plain": [
       "CAUSE\n",
       "5    0.892689\n",
       "4    0.062316\n",
       "2    0.028483\n",
       "1    0.010172\n",
       "0    0.006188\n",
       "3    0.000151\n",
       "Name: proportion, dtype: float64"
      ]
     },
     "execution_count": 107,
     "metadata": {},
     "output_type": "execute_result"
    }
   ],
   "source": [
    "cat_df['CAUSE'].value_counts(normalize = True)"
   ]
  },
  {
   "cell_type": "markdown",
   "id": "fb850d0f",
   "metadata": {
    "papermill": {
     "duration": 0.049673,
     "end_time": "2024-10-10T21:51:18.406809",
     "exception": false,
     "start_time": "2024-10-10T21:51:18.357136",
     "status": "completed"
    },
    "tags": []
   },
   "source": [
    "The dataset contains missing values (NaN) and the LogisticRegression algorithm doesn't support them natively. I can impute to replace missing values with a specific strategy i.e mean, mode or drop the samples that contain missing values. Since the data has over 4M observations, I have the luxury to do the latter."
   ]
  },
  {
   "cell_type": "markdown",
   "id": "c7346e1a",
   "metadata": {
    "papermill": {
     "duration": 0.048813,
     "end_time": "2024-10-10T21:51:18.504744",
     "exception": false,
     "start_time": "2024-10-10T21:51:18.455931",
     "status": "completed"
    },
    "tags": []
   },
   "source": [
    "We are encountering a MemoryError when trying to create dummy variables using pd.get_dummies because the resulting dummy matrix is too large to fit in memory. I will select a subset of columns to encode."
   ]
  },
  {
   "cell_type": "code",
   "execution_count": 108,
   "id": "ecd341ef",
   "metadata": {
    "execution": {
     "iopub.execute_input": "2024-10-10T21:51:18.604766Z",
     "iopub.status.busy": "2024-10-10T21:51:18.604049Z",
     "iopub.status.idle": "2024-10-10T21:51:18.609081Z",
     "shell.execute_reply": "2024-10-10T21:51:18.608200Z"
    },
    "papermill": {
     "duration": 0.05692,
     "end_time": "2024-10-10T21:51:18.610885",
     "exception": false,
     "start_time": "2024-10-10T21:51:18.553965",
     "status": "completed"
    },
    "tags": []
   },
   "outputs": [],
   "source": [
    "categorical_cols = [ 'TRAFFIC_CONTROL_DEVICE', 'DEVICE_CONDITION', 'WEATHER_CONDITION', 'LIGHTING_CONDITION',\n",
    "                    'TRAFFICWAY_TYPE','ROADWAY_SURFACE_COND', 'ROAD_DEFECT','UNIT_TYPE','VEHICLE_DEFECT',\n",
    "                    'MANEUVER','SEX', 'DRIVERS_LICENSE_CLASS', 'SAFETY_EQUIPMENT','DRIVER_ACTION', 'DRIVER_VISION',\n",
    "                    'PHYSICAL_CONDITION', 'BAC_RESULT']"
   ]
  },
  {
   "cell_type": "code",
   "execution_count": 109,
   "id": "ccb346cd",
   "metadata": {
    "execution": {
     "iopub.execute_input": "2024-10-10T21:51:18.710711Z",
     "iopub.status.busy": "2024-10-10T21:51:18.710408Z",
     "iopub.status.idle": "2024-10-10T21:51:35.603046Z",
     "shell.execute_reply": "2024-10-10T21:51:35.602042Z"
    },
    "papermill": {
     "duration": 16.945352,
     "end_time": "2024-10-10T21:51:35.605438",
     "exception": false,
     "start_time": "2024-10-10T21:51:18.660086",
     "status": "completed"
    },
    "tags": []
   },
   "outputs": [],
   "source": [
    "# Create dummy variables\n",
    "new_df = pd.get_dummies(cat_df[categorical_cols])"
   ]
  },
  {
   "cell_type": "code",
   "execution_count": 110,
   "id": "b6a23c33",
   "metadata": {
    "execution": {
     "iopub.execute_input": "2024-10-10T21:51:35.712610Z",
     "iopub.status.busy": "2024-10-10T21:51:35.712171Z",
     "iopub.status.idle": "2024-10-10T21:51:35.717424Z",
     "shell.execute_reply": "2024-10-10T21:51:35.716408Z"
    },
    "papermill": {
     "duration": 0.063115,
     "end_time": "2024-10-10T21:51:35.719626",
     "exception": false,
     "start_time": "2024-10-10T21:51:35.656511",
     "status": "completed"
    },
    "tags": []
   },
   "outputs": [],
   "source": [
    "numerical_cols = ['POSTED_SPEED_LIMIT','NUM_UNITS', 'CRASH_HOUR', 'CRASH_DAY_OF_WEEK', 'CRASH_MONTH','CAUSE',\n",
    "                  'ALIGNMENT_STRAIGHT']"
   ]
  },
  {
   "cell_type": "code",
   "execution_count": 111,
   "id": "9110f0dc",
   "metadata": {
    "execution": {
     "iopub.execute_input": "2024-10-10T21:51:35.822598Z",
     "iopub.status.busy": "2024-10-10T21:51:35.822208Z",
     "iopub.status.idle": "2024-10-10T21:51:35.907915Z",
     "shell.execute_reply": "2024-10-10T21:51:35.907038Z"
    },
    "papermill": {
     "duration": 0.13981,
     "end_time": "2024-10-10T21:51:35.910641",
     "exception": false,
     "start_time": "2024-10-10T21:51:35.770831",
     "status": "completed"
    },
    "tags": []
   },
   "outputs": [],
   "source": [
    "new_df1 = cat_df[numerical_cols]"
   ]
  },
  {
   "cell_type": "code",
   "execution_count": 112,
   "id": "38ea6c84",
   "metadata": {
    "execution": {
     "iopub.execute_input": "2024-10-10T21:51:36.013165Z",
     "iopub.status.busy": "2024-10-10T21:51:36.012450Z",
     "iopub.status.idle": "2024-10-10T21:51:38.248341Z",
     "shell.execute_reply": "2024-10-10T21:51:38.247202Z"
    },
    "papermill": {
     "duration": 2.289135,
     "end_time": "2024-10-10T21:51:38.250640",
     "exception": false,
     "start_time": "2024-10-10T21:51:35.961505",
     "status": "completed"
    },
    "tags": []
   },
   "outputs": [],
   "source": [
    "merged_df = pd.concat([new_df, new_df1], axis=1)"
   ]
  },
  {
   "cell_type": "code",
   "execution_count": 113,
   "id": "6156b27e",
   "metadata": {
    "execution": {
     "iopub.execute_input": "2024-10-10T21:51:38.353050Z",
     "iopub.status.busy": "2024-10-10T21:51:38.352335Z",
     "iopub.status.idle": "2024-10-10T21:51:39.042378Z",
     "shell.execute_reply": "2024-10-10T21:51:39.041332Z"
    },
    "papermill": {
     "duration": 0.743489,
     "end_time": "2024-10-10T21:51:39.044787",
     "exception": false,
     "start_time": "2024-10-10T21:51:38.301298",
     "status": "completed"
    },
    "tags": []
   },
   "outputs": [],
   "source": [
    "X = merged_df.drop('CAUSE', axis=1)\n",
    "y = merged_df['CAUSE']"
   ]
  },
  {
   "cell_type": "code",
   "execution_count": 114,
   "id": "bc034469",
   "metadata": {
    "execution": {
     "iopub.execute_input": "2024-10-10T21:51:39.147313Z",
     "iopub.status.busy": "2024-10-10T21:51:39.146457Z",
     "iopub.status.idle": "2024-10-10T21:51:41.640713Z",
     "shell.execute_reply": "2024-10-10T21:51:41.639691Z"
    },
    "papermill": {
     "duration": 2.548087,
     "end_time": "2024-10-10T21:51:41.643195",
     "exception": false,
     "start_time": "2024-10-10T21:51:39.095108",
     "status": "completed"
    },
    "tags": []
   },
   "outputs": [],
   "source": [
    "X.dropna(inplace=True)\n",
    "y.dropna(inplace=True)"
   ]
  },
  {
   "cell_type": "code",
   "execution_count": 115,
   "id": "67da8f53",
   "metadata": {
    "execution": {
     "iopub.execute_input": "2024-10-10T21:51:41.745567Z",
     "iopub.status.busy": "2024-10-10T21:51:41.744723Z",
     "iopub.status.idle": "2024-10-10T21:51:41.749854Z",
     "shell.execute_reply": "2024-10-10T21:51:41.748968Z"
    },
    "papermill": {
     "duration": 0.057828,
     "end_time": "2024-10-10T21:51:41.751875",
     "exception": false,
     "start_time": "2024-10-10T21:51:41.694047",
     "status": "completed"
    },
    "tags": []
   },
   "outputs": [
    {
     "name": "stdout",
     "output_type": "stream",
     "text": [
      "(878455, 496)\n",
      "(4455869,)\n"
     ]
    }
   ],
   "source": [
    "print(X.shape)\n",
    "print(y.shape)"
   ]
  },
  {
   "cell_type": "markdown",
   "id": "bfe91113",
   "metadata": {
    "papermill": {
     "duration": 0.049937,
     "end_time": "2024-10-10T21:51:41.851839",
     "exception": false,
     "start_time": "2024-10-10T21:51:41.801902",
     "status": "completed"
    },
    "tags": []
   },
   "source": [
    "X has 878455 samples and 496 features, while y has 4455869 samples, which is a significant mismatch. I have to subset y to have the same number of samples as X."
   ]
  },
  {
   "cell_type": "code",
   "execution_count": 116,
   "id": "e1899b29",
   "metadata": {
    "execution": {
     "iopub.execute_input": "2024-10-10T21:51:41.954174Z",
     "iopub.status.busy": "2024-10-10T21:51:41.953436Z",
     "iopub.status.idle": "2024-10-10T21:51:41.958080Z",
     "shell.execute_reply": "2024-10-10T21:51:41.957159Z"
    },
    "papermill": {
     "duration": 0.057597,
     "end_time": "2024-10-10T21:51:41.960080",
     "exception": false,
     "start_time": "2024-10-10T21:51:41.902483",
     "status": "completed"
    },
    "tags": []
   },
   "outputs": [],
   "source": [
    "y = y[:878455]"
   ]
  },
  {
   "cell_type": "code",
   "execution_count": 117,
   "id": "2833b217",
   "metadata": {
    "execution": {
     "iopub.execute_input": "2024-10-10T21:51:42.062670Z",
     "iopub.status.busy": "2024-10-10T21:51:42.062080Z",
     "iopub.status.idle": "2024-10-10T21:51:42.066940Z",
     "shell.execute_reply": "2024-10-10T21:51:42.066021Z"
    },
    "papermill": {
     "duration": 0.059151,
     "end_time": "2024-10-10T21:51:42.069038",
     "exception": false,
     "start_time": "2024-10-10T21:51:42.009887",
     "status": "completed"
    },
    "tags": []
   },
   "outputs": [
    {
     "name": "stdout",
     "output_type": "stream",
     "text": [
      "(878455, 496)\n",
      "(878455,)\n"
     ]
    }
   ],
   "source": [
    "print(X.shape)\n",
    "print(y.shape)"
   ]
  },
  {
   "cell_type": "code",
   "execution_count": 118,
   "id": "5d6c311d",
   "metadata": {
    "execution": {
     "iopub.execute_input": "2024-10-10T21:51:42.170939Z",
     "iopub.status.busy": "2024-10-10T21:51:42.170321Z",
     "iopub.status.idle": "2024-10-10T21:51:43.402230Z",
     "shell.execute_reply": "2024-10-10T21:51:43.401376Z"
    },
    "papermill": {
     "duration": 1.285197,
     "end_time": "2024-10-10T21:51:43.404681",
     "exception": false,
     "start_time": "2024-10-10T21:51:42.119484",
     "status": "completed"
    },
    "tags": []
   },
   "outputs": [],
   "source": [
    "X_train, X_test, y_train, y_test = train_test_split(X, y, test_size=0.2, random_state=42)"
   ]
  },
  {
   "cell_type": "code",
   "execution_count": 119,
   "id": "c20854e4",
   "metadata": {
    "execution": {
     "iopub.execute_input": "2024-10-10T21:51:43.508979Z",
     "iopub.status.busy": "2024-10-10T21:51:43.508186Z",
     "iopub.status.idle": "2024-10-10T21:54:01.764296Z",
     "shell.execute_reply": "2024-10-10T21:54:01.763389Z"
    },
    "papermill": {
     "duration": 138.362098,
     "end_time": "2024-10-10T21:54:01.819186",
     "exception": false,
     "start_time": "2024-10-10T21:51:43.457088",
     "status": "completed"
    },
    "tags": []
   },
   "outputs": [
    {
     "data": {
      "text/html": [
       "<style>#sk-container-id-1 {color: black;background-color: white;}#sk-container-id-1 pre{padding: 0;}#sk-container-id-1 div.sk-toggleable {background-color: white;}#sk-container-id-1 label.sk-toggleable__label {cursor: pointer;display: block;width: 100%;margin-bottom: 0;padding: 0.3em;box-sizing: border-box;text-align: center;}#sk-container-id-1 label.sk-toggleable__label-arrow:before {content: \"▸\";float: left;margin-right: 0.25em;color: #696969;}#sk-container-id-1 label.sk-toggleable__label-arrow:hover:before {color: black;}#sk-container-id-1 div.sk-estimator:hover label.sk-toggleable__label-arrow:before {color: black;}#sk-container-id-1 div.sk-toggleable__content {max-height: 0;max-width: 0;overflow: hidden;text-align: left;background-color: #f0f8ff;}#sk-container-id-1 div.sk-toggleable__content pre {margin: 0.2em;color: black;border-radius: 0.25em;background-color: #f0f8ff;}#sk-container-id-1 input.sk-toggleable__control:checked~div.sk-toggleable__content {max-height: 200px;max-width: 100%;overflow: auto;}#sk-container-id-1 input.sk-toggleable__control:checked~label.sk-toggleable__label-arrow:before {content: \"▾\";}#sk-container-id-1 div.sk-estimator input.sk-toggleable__control:checked~label.sk-toggleable__label {background-color: #d4ebff;}#sk-container-id-1 div.sk-label input.sk-toggleable__control:checked~label.sk-toggleable__label {background-color: #d4ebff;}#sk-container-id-1 input.sk-hidden--visually {border: 0;clip: rect(1px 1px 1px 1px);clip: rect(1px, 1px, 1px, 1px);height: 1px;margin: -1px;overflow: hidden;padding: 0;position: absolute;width: 1px;}#sk-container-id-1 div.sk-estimator {font-family: monospace;background-color: #f0f8ff;border: 1px dotted black;border-radius: 0.25em;box-sizing: border-box;margin-bottom: 0.5em;}#sk-container-id-1 div.sk-estimator:hover {background-color: #d4ebff;}#sk-container-id-1 div.sk-parallel-item::after {content: \"\";width: 100%;border-bottom: 1px solid gray;flex-grow: 1;}#sk-container-id-1 div.sk-label:hover label.sk-toggleable__label {background-color: #d4ebff;}#sk-container-id-1 div.sk-serial::before {content: \"\";position: absolute;border-left: 1px solid gray;box-sizing: border-box;top: 0;bottom: 0;left: 50%;z-index: 0;}#sk-container-id-1 div.sk-serial {display: flex;flex-direction: column;align-items: center;background-color: white;padding-right: 0.2em;padding-left: 0.2em;position: relative;}#sk-container-id-1 div.sk-item {position: relative;z-index: 1;}#sk-container-id-1 div.sk-parallel {display: flex;align-items: stretch;justify-content: center;background-color: white;position: relative;}#sk-container-id-1 div.sk-item::before, #sk-container-id-1 div.sk-parallel-item::before {content: \"\";position: absolute;border-left: 1px solid gray;box-sizing: border-box;top: 0;bottom: 0;left: 50%;z-index: -1;}#sk-container-id-1 div.sk-parallel-item {display: flex;flex-direction: column;z-index: 1;position: relative;background-color: white;}#sk-container-id-1 div.sk-parallel-item:first-child::after {align-self: flex-end;width: 50%;}#sk-container-id-1 div.sk-parallel-item:last-child::after {align-self: flex-start;width: 50%;}#sk-container-id-1 div.sk-parallel-item:only-child::after {width: 0;}#sk-container-id-1 div.sk-dashed-wrapped {border: 1px dashed gray;margin: 0 0.4em 0.5em 0.4em;box-sizing: border-box;padding-bottom: 0.4em;background-color: white;}#sk-container-id-1 div.sk-label label {font-family: monospace;font-weight: bold;display: inline-block;line-height: 1.2em;}#sk-container-id-1 div.sk-label-container {text-align: center;}#sk-container-id-1 div.sk-container {/* jupyter's `normalize.less` sets `[hidden] { display: none; }` but bootstrap.min.css set `[hidden] { display: none !important; }` so we also need the `!important` here to be able to override the default hidden behavior on the sphinx rendered scikit-learn.org. See: https://github.com/scikit-learn/scikit-learn/issues/21755 */display: inline-block !important;position: relative;}#sk-container-id-1 div.sk-text-repr-fallback {display: none;}</style><div id=\"sk-container-id-1\" class=\"sk-top-container\"><div class=\"sk-text-repr-fallback\"><pre>LogisticRegression(solver=&#x27;liblinear&#x27;)</pre><b>In a Jupyter environment, please rerun this cell to show the HTML representation or trust the notebook. <br />On GitHub, the HTML representation is unable to render, please try loading this page with nbviewer.org.</b></div><div class=\"sk-container\" hidden><div class=\"sk-item\"><div class=\"sk-estimator sk-toggleable\"><input class=\"sk-toggleable__control sk-hidden--visually\" id=\"sk-estimator-id-1\" type=\"checkbox\" checked><label for=\"sk-estimator-id-1\" class=\"sk-toggleable__label sk-toggleable__label-arrow\">LogisticRegression</label><div class=\"sk-toggleable__content\"><pre>LogisticRegression(solver=&#x27;liblinear&#x27;)</pre></div></div></div></div></div>"
      ],
      "text/plain": [
       "LogisticRegression(solver='liblinear')"
      ]
     },
     "execution_count": 119,
     "metadata": {},
     "output_type": "execute_result"
    }
   ],
   "source": [
    "log_reg = LogisticRegression(solver='liblinear')\n",
    "log_reg.fit(X_train, y_train)"
   ]
  },
  {
   "cell_type": "code",
   "execution_count": 120,
   "id": "9a0da92c",
   "metadata": {
    "execution": {
     "iopub.execute_input": "2024-10-10T21:54:01.925905Z",
     "iopub.status.busy": "2024-10-10T21:54:01.924966Z",
     "iopub.status.idle": "2024-10-10T21:54:01.931245Z",
     "shell.execute_reply": "2024-10-10T21:54:01.930394Z"
    },
    "papermill": {
     "duration": 0.062151,
     "end_time": "2024-10-10T21:54:01.933563",
     "exception": false,
     "start_time": "2024-10-10T21:54:01.871412",
     "status": "completed"
    },
    "tags": []
   },
   "outputs": [
    {
     "name": "stdout",
     "output_type": "stream",
     "text": [
      "[[-5.39515660e-02  8.59620416e-01 -1.24802365e-01 ... -5.97002838e-03\n",
      "   1.11173948e-02 -5.58326168e-01]\n",
      " [-5.47130771e-02  1.22017125e+00 -2.46893638e-01 ... -2.42361107e-04\n",
      "  -5.69108558e-03 -4.01084826e-01]\n",
      " [ 2.58495522e-01 -4.31337382e-01 -1.94839757e-01 ...  7.22252902e-04\n",
      "   2.24282398e-03  6.40349079e-01]\n",
      " [-4.35793350e-02 -3.72161933e-01  2.21973215e-01 ...  2.50329165e-03\n",
      "  -1.60780920e-03 -2.10489503e-01]\n",
      " [-4.80813714e-01 -7.41484719e-01 -3.70376690e-02 ...  9.82802584e-03\n",
      "   1.20644497e-03 -1.36675661e-01]\n",
      " [-5.96431233e-03  1.75453902e-02  2.23109892e-01 ... -8.19393780e-03\n",
      "  -2.43799511e-03  2.70014600e-01]]\n"
     ]
    }
   ],
   "source": [
    "print(log_reg.coef_)"
   ]
  },
  {
   "cell_type": "code",
   "execution_count": 121,
   "id": "e6e96e63",
   "metadata": {
    "execution": {
     "iopub.execute_input": "2024-10-10T21:54:02.039222Z",
     "iopub.status.busy": "2024-10-10T21:54:02.038821Z",
     "iopub.status.idle": "2024-10-10T21:54:02.044733Z",
     "shell.execute_reply": "2024-10-10T21:54:02.043559Z"
    },
    "papermill": {
     "duration": 0.061025,
     "end_time": "2024-10-10T21:54:02.046944",
     "exception": false,
     "start_time": "2024-10-10T21:54:01.985919",
     "status": "completed"
    },
    "tags": []
   },
   "outputs": [
    {
     "name": "stdout",
     "output_type": "stream",
     "text": [
      "[ 0.47224304 -1.29411064 -1.90894889 -3.48284022 -1.40449026 -0.1091156 ]\n"
     ]
    }
   ],
   "source": [
    "print(log_reg.intercept_)"
   ]
  },
  {
   "cell_type": "markdown",
   "id": "c335695b",
   "metadata": {
    "papermill": {
     "duration": 0.052504,
     "end_time": "2024-10-10T21:54:02.154102",
     "exception": false,
     "start_time": "2024-10-10T21:54:02.101598",
     "status": "completed"
    },
    "tags": []
   },
   "source": [
    "Each coefficient represents the change in the log-odds of the outcome for a one-unit increase in the predictor variable, holding all other variables constant.\n",
    "\n",
    "The intercept or bias term represents the log-odds of the positive class when all features are equal to zero."
   ]
  },
  {
   "cell_type": "code",
   "execution_count": 122,
   "id": "e4fa03cb",
   "metadata": {
    "execution": {
     "iopub.execute_input": "2024-10-10T21:54:02.260185Z",
     "iopub.status.busy": "2024-10-10T21:54:02.259764Z",
     "iopub.status.idle": "2024-10-10T21:54:02.938823Z",
     "shell.execute_reply": "2024-10-10T21:54:02.937426Z"
    },
    "papermill": {
     "duration": 0.736796,
     "end_time": "2024-10-10T21:54:02.942523",
     "exception": false,
     "start_time": "2024-10-10T21:54:02.205727",
     "status": "completed"
    },
    "tags": []
   },
   "outputs": [],
   "source": [
    "y_pred = log_reg.predict(X_test)"
   ]
  },
  {
   "cell_type": "code",
   "execution_count": 123,
   "id": "be49568c",
   "metadata": {
    "execution": {
     "iopub.execute_input": "2024-10-10T21:54:03.165071Z",
     "iopub.status.busy": "2024-10-10T21:54:03.164238Z",
     "iopub.status.idle": "2024-10-10T21:54:03.818427Z",
     "shell.execute_reply": "2024-10-10T21:54:03.817084Z"
    },
    "papermill": {
     "duration": 0.764468,
     "end_time": "2024-10-10T21:54:03.821667",
     "exception": false,
     "start_time": "2024-10-10T21:54:03.057199",
     "status": "completed"
    },
    "tags": []
   },
   "outputs": [
    {
     "name": "stdout",
     "output_type": "stream",
     "text": [
      "0.48964944134873156\n"
     ]
    }
   ],
   "source": [
    "print(log_reg.score(X_test, y_test))"
   ]
  },
  {
   "cell_type": "markdown",
   "id": "79e6b4c0",
   "metadata": {
    "papermill": {
     "duration": 0.05232,
     "end_time": "2024-10-10T21:54:03.980674",
     "exception": false,
     "start_time": "2024-10-10T21:54:03.928354",
     "status": "completed"
    },
    "tags": []
   },
   "source": [
    "Accuracy of logistic regression classifier on test set is 49%"
   ]
  }
 ],
 "metadata": {
  "kaggle": {
   "accelerator": "gpu",
   "dataSources": [
    {
     "datasetId": 5848063,
     "sourceId": 9588897,
     "sourceType": "datasetVersion"
    }
   ],
   "dockerImageVersionId": 30786,
   "isGpuEnabled": true,
   "isInternetEnabled": true,
   "language": "python",
   "sourceType": "notebook"
  },
  "kernelspec": {
   "display_name": "Python 3",
   "language": "python",
   "name": "python3"
  },
  "language_info": {
   "codemirror_mode": {
    "name": "ipython",
    "version": 3
   },
   "file_extension": ".py",
   "mimetype": "text/x-python",
   "name": "python",
   "nbconvert_exporter": "python",
   "pygments_lexer": "ipython3",
   "version": "3.10.14"
  },
  "papermill": {
   "default_parameters": {},
   "duration": 436.073643,
   "end_time": "2024-10-10T21:54:06.953863",
   "environment_variables": {},
   "exception": null,
   "input_path": "__notebook__.ipynb",
   "output_path": "__notebook__.ipynb",
   "parameters": {},
   "start_time": "2024-10-10T21:46:50.880220",
   "version": "2.6.0"
  }
 },
 "nbformat": 4,
 "nbformat_minor": 5
}
