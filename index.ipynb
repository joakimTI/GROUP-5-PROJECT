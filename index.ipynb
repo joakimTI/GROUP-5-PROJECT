{
 "cells": [
  {
   "cell_type": "code",
   "execution_count": 1,
   "id": "4472a327",
   "metadata": {
    "execution": {
     "iopub.execute_input": "2024-10-10T18:14:47.475896Z",
     "iopub.status.busy": "2024-10-10T18:14:47.475493Z",
     "iopub.status.idle": "2024-10-10T18:14:49.855750Z",
     "shell.execute_reply": "2024-10-10T18:14:49.854945Z"
    },
    "papermill": {
     "duration": 2.410668,
     "end_time": "2024-10-10T18:14:49.858086",
     "exception": false,
     "start_time": "2024-10-10T18:14:47.447418",
     "status": "completed"
    },
    "tags": []
   },
   "outputs": [],
   "source": [
    "import numpy as np\n",
    "import pandas as pd\n",
    "import matplotlib.pyplot as plt\n",
    "%matplotlib inline\n",
    "import seaborn as sns\n",
    "\n",
    "from sklearn.preprocessing import LabelEncoder\n",
    "\n",
    "import warnings as warnings\n",
    "warnings.filterwarnings('ignore')"
   ]
  },
  {
   "cell_type": "code",
   "execution_count": 2,
   "id": "11988ad9",
   "metadata": {
    "execution": {
     "iopub.execute_input": "2024-10-10T18:14:49.911944Z",
     "iopub.status.busy": "2024-10-10T18:14:49.911190Z",
     "iopub.status.idle": "2024-10-10T18:15:05.036395Z",
     "shell.execute_reply": "2024-10-10T18:15:05.035562Z"
    },
    "papermill": {
     "duration": 15.154449,
     "end_time": "2024-10-10T18:15:05.038659",
     "exception": false,
     "start_time": "2024-10-10T18:14:49.884210",
     "status": "completed"
    },
    "tags": []
   },
   "outputs": [],
   "source": [
    "crashes = pd.read_csv('/kaggle/input/chicago-datasets/Traffic_Crashes_-_Crashes.csv')"
   ]
  },
  {
   "cell_type": "code",
   "execution_count": 3,
   "id": "01a6f7c6",
   "metadata": {
    "execution": {
     "iopub.execute_input": "2024-10-10T18:15:05.092981Z",
     "iopub.status.busy": "2024-10-10T18:15:05.092593Z",
     "iopub.status.idle": "2024-10-10T18:15:05.131731Z",
     "shell.execute_reply": "2024-10-10T18:15:05.130645Z"
    },
    "papermill": {
     "duration": 0.068858,
     "end_time": "2024-10-10T18:15:05.133867",
     "exception": false,
     "start_time": "2024-10-10T18:15:05.065009",
     "status": "completed"
    },
    "tags": []
   },
   "outputs": [
    {
     "data": {
      "text/html": [
       "<div>\n",
       "<style scoped>\n",
       "    .dataframe tbody tr th:only-of-type {\n",
       "        vertical-align: middle;\n",
       "    }\n",
       "\n",
       "    .dataframe tbody tr th {\n",
       "        vertical-align: top;\n",
       "    }\n",
       "\n",
       "    .dataframe thead th {\n",
       "        text-align: right;\n",
       "    }\n",
       "</style>\n",
       "<table border=\"1\" class=\"dataframe\">\n",
       "  <thead>\n",
       "    <tr style=\"text-align: right;\">\n",
       "      <th></th>\n",
       "      <th>CRASH_RECORD_ID</th>\n",
       "      <th>CRASH_DATE_EST_I</th>\n",
       "      <th>CRASH_DATE</th>\n",
       "      <th>POSTED_SPEED_LIMIT</th>\n",
       "      <th>TRAFFIC_CONTROL_DEVICE</th>\n",
       "      <th>DEVICE_CONDITION</th>\n",
       "      <th>WEATHER_CONDITION</th>\n",
       "      <th>LIGHTING_CONDITION</th>\n",
       "      <th>FIRST_CRASH_TYPE</th>\n",
       "      <th>TRAFFICWAY_TYPE</th>\n",
       "      <th>...</th>\n",
       "      <th>INJURIES_NON_INCAPACITATING</th>\n",
       "      <th>INJURIES_REPORTED_NOT_EVIDENT</th>\n",
       "      <th>INJURIES_NO_INDICATION</th>\n",
       "      <th>INJURIES_UNKNOWN</th>\n",
       "      <th>CRASH_HOUR</th>\n",
       "      <th>CRASH_DAY_OF_WEEK</th>\n",
       "      <th>CRASH_MONTH</th>\n",
       "      <th>LATITUDE</th>\n",
       "      <th>LONGITUDE</th>\n",
       "      <th>LOCATION</th>\n",
       "    </tr>\n",
       "  </thead>\n",
       "  <tbody>\n",
       "    <tr>\n",
       "      <th>0</th>\n",
       "      <td>23a79931ef555d54118f64dc9be2cf2dbf59636ce253f7...</td>\n",
       "      <td>NaN</td>\n",
       "      <td>09/05/2023 07:05:00 PM</td>\n",
       "      <td>30</td>\n",
       "      <td>TRAFFIC SIGNAL</td>\n",
       "      <td>FUNCTIONING PROPERLY</td>\n",
       "      <td>CLEAR</td>\n",
       "      <td>DUSK</td>\n",
       "      <td>ANGLE</td>\n",
       "      <td>FIVE POINT, OR MORE</td>\n",
       "      <td>...</td>\n",
       "      <td>2.0</td>\n",
       "      <td>0.0</td>\n",
       "      <td>2.0</td>\n",
       "      <td>0.0</td>\n",
       "      <td>19</td>\n",
       "      <td>3</td>\n",
       "      <td>9</td>\n",
       "      <td>NaN</td>\n",
       "      <td>NaN</td>\n",
       "      <td>NaN</td>\n",
       "    </tr>\n",
       "    <tr>\n",
       "      <th>1</th>\n",
       "      <td>2675c13fd0f474d730a5b780968b3cafc7c12d7adb661f...</td>\n",
       "      <td>NaN</td>\n",
       "      <td>09/22/2023 06:45:00 PM</td>\n",
       "      <td>50</td>\n",
       "      <td>NO CONTROLS</td>\n",
       "      <td>NO CONTROLS</td>\n",
       "      <td>CLEAR</td>\n",
       "      <td>DARKNESS, LIGHTED ROAD</td>\n",
       "      <td>REAR END</td>\n",
       "      <td>DIVIDED - W/MEDIAN BARRIER</td>\n",
       "      <td>...</td>\n",
       "      <td>0.0</td>\n",
       "      <td>0.0</td>\n",
       "      <td>2.0</td>\n",
       "      <td>0.0</td>\n",
       "      <td>18</td>\n",
       "      <td>6</td>\n",
       "      <td>9</td>\n",
       "      <td>NaN</td>\n",
       "      <td>NaN</td>\n",
       "      <td>NaN</td>\n",
       "    </tr>\n",
       "    <tr>\n",
       "      <th>2</th>\n",
       "      <td>5f54a59fcb087b12ae5b1acff96a3caf4f2d37e79f8db4...</td>\n",
       "      <td>NaN</td>\n",
       "      <td>07/29/2023 02:45:00 PM</td>\n",
       "      <td>30</td>\n",
       "      <td>TRAFFIC SIGNAL</td>\n",
       "      <td>FUNCTIONING PROPERLY</td>\n",
       "      <td>CLEAR</td>\n",
       "      <td>DAYLIGHT</td>\n",
       "      <td>PARKED MOTOR VEHICLE</td>\n",
       "      <td>DIVIDED - W/MEDIAN (NOT RAISED)</td>\n",
       "      <td>...</td>\n",
       "      <td>0.0</td>\n",
       "      <td>0.0</td>\n",
       "      <td>1.0</td>\n",
       "      <td>0.0</td>\n",
       "      <td>14</td>\n",
       "      <td>7</td>\n",
       "      <td>7</td>\n",
       "      <td>41.85412</td>\n",
       "      <td>-87.665902</td>\n",
       "      <td>POINT (-87.665902342962 41.854120262952)</td>\n",
       "    </tr>\n",
       "    <tr>\n",
       "      <th>3</th>\n",
       "      <td>7ebf015016f83d09b321afd671a836d6b148330535d5df...</td>\n",
       "      <td>NaN</td>\n",
       "      <td>08/09/2023 11:00:00 PM</td>\n",
       "      <td>30</td>\n",
       "      <td>NO CONTROLS</td>\n",
       "      <td>NO CONTROLS</td>\n",
       "      <td>CLEAR</td>\n",
       "      <td>DARKNESS, LIGHTED ROAD</td>\n",
       "      <td>SIDESWIPE SAME DIRECTION</td>\n",
       "      <td>NOT DIVIDED</td>\n",
       "      <td>...</td>\n",
       "      <td>0.0</td>\n",
       "      <td>0.0</td>\n",
       "      <td>2.0</td>\n",
       "      <td>0.0</td>\n",
       "      <td>23</td>\n",
       "      <td>4</td>\n",
       "      <td>8</td>\n",
       "      <td>NaN</td>\n",
       "      <td>NaN</td>\n",
       "      <td>NaN</td>\n",
       "    </tr>\n",
       "    <tr>\n",
       "      <th>4</th>\n",
       "      <td>6c1659069e9c6285a650e70d6f9b574ed5f64c12888479...</td>\n",
       "      <td>NaN</td>\n",
       "      <td>08/18/2023 12:50:00 PM</td>\n",
       "      <td>15</td>\n",
       "      <td>OTHER</td>\n",
       "      <td>FUNCTIONING PROPERLY</td>\n",
       "      <td>CLEAR</td>\n",
       "      <td>DAYLIGHT</td>\n",
       "      <td>REAR END</td>\n",
       "      <td>OTHER</td>\n",
       "      <td>...</td>\n",
       "      <td>1.0</td>\n",
       "      <td>0.0</td>\n",
       "      <td>1.0</td>\n",
       "      <td>0.0</td>\n",
       "      <td>12</td>\n",
       "      <td>6</td>\n",
       "      <td>8</td>\n",
       "      <td>NaN</td>\n",
       "      <td>NaN</td>\n",
       "      <td>NaN</td>\n",
       "    </tr>\n",
       "  </tbody>\n",
       "</table>\n",
       "<p>5 rows × 48 columns</p>\n",
       "</div>"
      ],
      "text/plain": [
       "                                     CRASH_RECORD_ID CRASH_DATE_EST_I  \\\n",
       "0  23a79931ef555d54118f64dc9be2cf2dbf59636ce253f7...              NaN   \n",
       "1  2675c13fd0f474d730a5b780968b3cafc7c12d7adb661f...              NaN   \n",
       "2  5f54a59fcb087b12ae5b1acff96a3caf4f2d37e79f8db4...              NaN   \n",
       "3  7ebf015016f83d09b321afd671a836d6b148330535d5df...              NaN   \n",
       "4  6c1659069e9c6285a650e70d6f9b574ed5f64c12888479...              NaN   \n",
       "\n",
       "               CRASH_DATE  POSTED_SPEED_LIMIT TRAFFIC_CONTROL_DEVICE  \\\n",
       "0  09/05/2023 07:05:00 PM                  30         TRAFFIC SIGNAL   \n",
       "1  09/22/2023 06:45:00 PM                  50            NO CONTROLS   \n",
       "2  07/29/2023 02:45:00 PM                  30         TRAFFIC SIGNAL   \n",
       "3  08/09/2023 11:00:00 PM                  30            NO CONTROLS   \n",
       "4  08/18/2023 12:50:00 PM                  15                  OTHER   \n",
       "\n",
       "       DEVICE_CONDITION WEATHER_CONDITION      LIGHTING_CONDITION  \\\n",
       "0  FUNCTIONING PROPERLY             CLEAR                    DUSK   \n",
       "1           NO CONTROLS             CLEAR  DARKNESS, LIGHTED ROAD   \n",
       "2  FUNCTIONING PROPERLY             CLEAR                DAYLIGHT   \n",
       "3           NO CONTROLS             CLEAR  DARKNESS, LIGHTED ROAD   \n",
       "4  FUNCTIONING PROPERLY             CLEAR                DAYLIGHT   \n",
       "\n",
       "           FIRST_CRASH_TYPE                  TRAFFICWAY_TYPE  ...  \\\n",
       "0                     ANGLE              FIVE POINT, OR MORE  ...   \n",
       "1                  REAR END       DIVIDED - W/MEDIAN BARRIER  ...   \n",
       "2      PARKED MOTOR VEHICLE  DIVIDED - W/MEDIAN (NOT RAISED)  ...   \n",
       "3  SIDESWIPE SAME DIRECTION                      NOT DIVIDED  ...   \n",
       "4                  REAR END                            OTHER  ...   \n",
       "\n",
       "   INJURIES_NON_INCAPACITATING INJURIES_REPORTED_NOT_EVIDENT  \\\n",
       "0                          2.0                           0.0   \n",
       "1                          0.0                           0.0   \n",
       "2                          0.0                           0.0   \n",
       "3                          0.0                           0.0   \n",
       "4                          1.0                           0.0   \n",
       "\n",
       "  INJURIES_NO_INDICATION INJURIES_UNKNOWN CRASH_HOUR CRASH_DAY_OF_WEEK  \\\n",
       "0                    2.0              0.0         19                 3   \n",
       "1                    2.0              0.0         18                 6   \n",
       "2                    1.0              0.0         14                 7   \n",
       "3                    2.0              0.0         23                 4   \n",
       "4                    1.0              0.0         12                 6   \n",
       "\n",
       "  CRASH_MONTH  LATITUDE  LONGITUDE                                  LOCATION  \n",
       "0           9       NaN        NaN                                       NaN  \n",
       "1           9       NaN        NaN                                       NaN  \n",
       "2           7  41.85412 -87.665902  POINT (-87.665902342962 41.854120262952)  \n",
       "3           8       NaN        NaN                                       NaN  \n",
       "4           8       NaN        NaN                                       NaN  \n",
       "\n",
       "[5 rows x 48 columns]"
      ]
     },
     "execution_count": 3,
     "metadata": {},
     "output_type": "execute_result"
    }
   ],
   "source": [
    "crashes.head()"
   ]
  },
  {
   "cell_type": "code",
   "execution_count": 4,
   "id": "9db34dd2",
   "metadata": {
    "execution": {
     "iopub.execute_input": "2024-10-10T18:15:05.188575Z",
     "iopub.status.busy": "2024-10-10T18:15:05.188183Z",
     "iopub.status.idle": "2024-10-10T18:15:07.267216Z",
     "shell.execute_reply": "2024-10-10T18:15:07.266279Z"
    },
    "papermill": {
     "duration": 2.109722,
     "end_time": "2024-10-10T18:15:07.270005",
     "exception": false,
     "start_time": "2024-10-10T18:15:05.160283",
     "status": "completed"
    },
    "tags": []
   },
   "outputs": [
    {
     "name": "stdout",
     "output_type": "stream",
     "text": [
      "<class 'pandas.core.frame.DataFrame'>\n",
      "RangeIndex: 880397 entries, 0 to 880396\n",
      "Data columns (total 48 columns):\n",
      " #   Column                         Non-Null Count   Dtype  \n",
      "---  ------                         --------------   -----  \n",
      " 0   CRASH_RECORD_ID                880397 non-null  object \n",
      " 1   CRASH_DATE_EST_I               65239 non-null   object \n",
      " 2   CRASH_DATE                     880397 non-null  object \n",
      " 3   POSTED_SPEED_LIMIT             880397 non-null  int64  \n",
      " 4   TRAFFIC_CONTROL_DEVICE         880397 non-null  object \n",
      " 5   DEVICE_CONDITION               880397 non-null  object \n",
      " 6   WEATHER_CONDITION              880397 non-null  object \n",
      " 7   LIGHTING_CONDITION             880397 non-null  object \n",
      " 8   FIRST_CRASH_TYPE               880397 non-null  object \n",
      " 9   TRAFFICWAY_TYPE                880397 non-null  object \n",
      " 10  LANE_CNT                       199017 non-null  float64\n",
      " 11  ALIGNMENT                      880397 non-null  object \n",
      " 12  ROADWAY_SURFACE_COND           880397 non-null  object \n",
      " 13  ROAD_DEFECT                    880397 non-null  object \n",
      " 14  REPORT_TYPE                    853355 non-null  object \n",
      " 15  CRASH_TYPE                     880397 non-null  object \n",
      " 16  INTERSECTION_RELATED_I         201931 non-null  object \n",
      " 17  NOT_RIGHT_OF_WAY_I             40228 non-null   object \n",
      " 18  HIT_AND_RUN_I                  276057 non-null  object \n",
      " 19  DAMAGE                         880397 non-null  object \n",
      " 20  DATE_POLICE_NOTIFIED           880397 non-null  object \n",
      " 21  PRIM_CONTRIBUTORY_CAUSE        880397 non-null  object \n",
      " 22  SEC_CONTRIBUTORY_CAUSE         880397 non-null  object \n",
      " 23  STREET_NO                      880397 non-null  int64  \n",
      " 24  STREET_DIRECTION               880393 non-null  object \n",
      " 25  STREET_NAME                    880396 non-null  object \n",
      " 26  BEAT_OF_OCCURRENCE             880392 non-null  float64\n",
      " 27  PHOTOS_TAKEN_I                 11942 non-null   object \n",
      " 28  STATEMENTS_TAKEN_I             20155 non-null   object \n",
      " 29  DOORING_I                      2786 non-null    object \n",
      " 30  WORK_ZONE_I                    4967 non-null    object \n",
      " 31  WORK_ZONE_TYPE                 3837 non-null    object \n",
      " 32  WORKERS_PRESENT_I              1277 non-null    object \n",
      " 33  NUM_UNITS                      880397 non-null  int64  \n",
      " 34  MOST_SEVERE_INJURY             878441 non-null  object \n",
      " 35  INJURIES_TOTAL                 878455 non-null  float64\n",
      " 36  INJURIES_FATAL                 878455 non-null  float64\n",
      " 37  INJURIES_INCAPACITATING        878455 non-null  float64\n",
      " 38  INJURIES_NON_INCAPACITATING    878455 non-null  float64\n",
      " 39  INJURIES_REPORTED_NOT_EVIDENT  878455 non-null  float64\n",
      " 40  INJURIES_NO_INDICATION         878455 non-null  float64\n",
      " 41  INJURIES_UNKNOWN               878455 non-null  float64\n",
      " 42  CRASH_HOUR                     880397 non-null  int64  \n",
      " 43  CRASH_DAY_OF_WEEK              880397 non-null  int64  \n",
      " 44  CRASH_MONTH                    880397 non-null  int64  \n",
      " 45  LATITUDE                       874124 non-null  float64\n",
      " 46  LONGITUDE                      874124 non-null  float64\n",
      " 47  LOCATION                       874124 non-null  object \n",
      "dtypes: float64(11), int64(6), object(31)\n",
      "memory usage: 322.4+ MB\n"
     ]
    }
   ],
   "source": [
    "crashes.info()"
   ]
  },
  {
   "cell_type": "code",
   "execution_count": 5,
   "id": "0a1a2522",
   "metadata": {
    "execution": {
     "iopub.execute_input": "2024-10-10T18:15:07.326817Z",
     "iopub.status.busy": "2024-10-10T18:15:07.326421Z",
     "iopub.status.idle": "2024-10-10T18:15:07.951909Z",
     "shell.execute_reply": "2024-10-10T18:15:07.950948Z"
    },
    "papermill": {
     "duration": 0.656349,
     "end_time": "2024-10-10T18:15:07.954223",
     "exception": false,
     "start_time": "2024-10-10T18:15:07.297874",
     "status": "completed"
    },
    "tags": []
   },
   "outputs": [
    {
     "data": {
      "text/html": [
       "<div>\n",
       "<style scoped>\n",
       "    .dataframe tbody tr th:only-of-type {\n",
       "        vertical-align: middle;\n",
       "    }\n",
       "\n",
       "    .dataframe tbody tr th {\n",
       "        vertical-align: top;\n",
       "    }\n",
       "\n",
       "    .dataframe thead th {\n",
       "        text-align: right;\n",
       "    }\n",
       "</style>\n",
       "<table border=\"1\" class=\"dataframe\">\n",
       "  <thead>\n",
       "    <tr style=\"text-align: right;\">\n",
       "      <th></th>\n",
       "      <th>POSTED_SPEED_LIMIT</th>\n",
       "      <th>LANE_CNT</th>\n",
       "      <th>STREET_NO</th>\n",
       "      <th>BEAT_OF_OCCURRENCE</th>\n",
       "      <th>NUM_UNITS</th>\n",
       "      <th>INJURIES_TOTAL</th>\n",
       "      <th>INJURIES_FATAL</th>\n",
       "      <th>INJURIES_INCAPACITATING</th>\n",
       "      <th>INJURIES_NON_INCAPACITATING</th>\n",
       "      <th>INJURIES_REPORTED_NOT_EVIDENT</th>\n",
       "      <th>INJURIES_NO_INDICATION</th>\n",
       "      <th>INJURIES_UNKNOWN</th>\n",
       "      <th>CRASH_HOUR</th>\n",
       "      <th>CRASH_DAY_OF_WEEK</th>\n",
       "      <th>CRASH_MONTH</th>\n",
       "      <th>LATITUDE</th>\n",
       "      <th>LONGITUDE</th>\n",
       "    </tr>\n",
       "  </thead>\n",
       "  <tbody>\n",
       "    <tr>\n",
       "      <th>count</th>\n",
       "      <td>880397.000000</td>\n",
       "      <td>1.990170e+05</td>\n",
       "      <td>880397.000000</td>\n",
       "      <td>880392.000000</td>\n",
       "      <td>880397.000000</td>\n",
       "      <td>878455.000000</td>\n",
       "      <td>878455.000000</td>\n",
       "      <td>878455.000000</td>\n",
       "      <td>878455.000000</td>\n",
       "      <td>878455.000000</td>\n",
       "      <td>878455.000000</td>\n",
       "      <td>878455.0</td>\n",
       "      <td>880397.000000</td>\n",
       "      <td>880397.000000</td>\n",
       "      <td>880397.000000</td>\n",
       "      <td>874124.000000</td>\n",
       "      <td>874124.000000</td>\n",
       "    </tr>\n",
       "    <tr>\n",
       "      <th>mean</th>\n",
       "      <td>28.417869</td>\n",
       "      <td>1.332970e+01</td>\n",
       "      <td>3687.516283</td>\n",
       "      <td>1244.795019</td>\n",
       "      <td>2.035156</td>\n",
       "      <td>0.193559</td>\n",
       "      <td>0.001190</td>\n",
       "      <td>0.019827</td>\n",
       "      <td>0.108623</td>\n",
       "      <td>0.063920</td>\n",
       "      <td>2.001335</td>\n",
       "      <td>0.0</td>\n",
       "      <td>13.204423</td>\n",
       "      <td>4.121889</td>\n",
       "      <td>6.642730</td>\n",
       "      <td>41.855120</td>\n",
       "      <td>-87.673682</td>\n",
       "    </tr>\n",
       "    <tr>\n",
       "      <th>std</th>\n",
       "      <td>6.121812</td>\n",
       "      <td>2.961542e+03</td>\n",
       "      <td>2880.737882</td>\n",
       "      <td>705.003878</td>\n",
       "      <td>0.452478</td>\n",
       "      <td>0.571516</td>\n",
       "      <td>0.037385</td>\n",
       "      <td>0.164965</td>\n",
       "      <td>0.425052</td>\n",
       "      <td>0.325037</td>\n",
       "      <td>1.157204</td>\n",
       "      <td>0.0</td>\n",
       "      <td>5.573031</td>\n",
       "      <td>1.981378</td>\n",
       "      <td>3.363494</td>\n",
       "      <td>0.334126</td>\n",
       "      <td>0.678805</td>\n",
       "    </tr>\n",
       "    <tr>\n",
       "      <th>min</th>\n",
       "      <td>0.000000</td>\n",
       "      <td>0.000000e+00</td>\n",
       "      <td>0.000000</td>\n",
       "      <td>111.000000</td>\n",
       "      <td>1.000000</td>\n",
       "      <td>0.000000</td>\n",
       "      <td>0.000000</td>\n",
       "      <td>0.000000</td>\n",
       "      <td>0.000000</td>\n",
       "      <td>0.000000</td>\n",
       "      <td>0.000000</td>\n",
       "      <td>0.0</td>\n",
       "      <td>0.000000</td>\n",
       "      <td>1.000000</td>\n",
       "      <td>1.000000</td>\n",
       "      <td>0.000000</td>\n",
       "      <td>-87.936193</td>\n",
       "    </tr>\n",
       "    <tr>\n",
       "      <th>25%</th>\n",
       "      <td>30.000000</td>\n",
       "      <td>2.000000e+00</td>\n",
       "      <td>1250.000000</td>\n",
       "      <td>715.000000</td>\n",
       "      <td>2.000000</td>\n",
       "      <td>0.000000</td>\n",
       "      <td>0.000000</td>\n",
       "      <td>0.000000</td>\n",
       "      <td>0.000000</td>\n",
       "      <td>0.000000</td>\n",
       "      <td>1.000000</td>\n",
       "      <td>0.0</td>\n",
       "      <td>9.000000</td>\n",
       "      <td>2.000000</td>\n",
       "      <td>4.000000</td>\n",
       "      <td>41.783061</td>\n",
       "      <td>-87.721824</td>\n",
       "    </tr>\n",
       "    <tr>\n",
       "      <th>50%</th>\n",
       "      <td>30.000000</td>\n",
       "      <td>2.000000e+00</td>\n",
       "      <td>3201.000000</td>\n",
       "      <td>1212.000000</td>\n",
       "      <td>2.000000</td>\n",
       "      <td>0.000000</td>\n",
       "      <td>0.000000</td>\n",
       "      <td>0.000000</td>\n",
       "      <td>0.000000</td>\n",
       "      <td>0.000000</td>\n",
       "      <td>2.000000</td>\n",
       "      <td>0.0</td>\n",
       "      <td>14.000000</td>\n",
       "      <td>4.000000</td>\n",
       "      <td>7.000000</td>\n",
       "      <td>41.874952</td>\n",
       "      <td>-87.674228</td>\n",
       "    </tr>\n",
       "    <tr>\n",
       "      <th>75%</th>\n",
       "      <td>30.000000</td>\n",
       "      <td>4.000000e+00</td>\n",
       "      <td>5563.000000</td>\n",
       "      <td>1822.000000</td>\n",
       "      <td>2.000000</td>\n",
       "      <td>0.000000</td>\n",
       "      <td>0.000000</td>\n",
       "      <td>0.000000</td>\n",
       "      <td>0.000000</td>\n",
       "      <td>0.000000</td>\n",
       "      <td>2.000000</td>\n",
       "      <td>0.0</td>\n",
       "      <td>17.000000</td>\n",
       "      <td>6.000000</td>\n",
       "      <td>9.000000</td>\n",
       "      <td>41.924519</td>\n",
       "      <td>-87.633513</td>\n",
       "    </tr>\n",
       "    <tr>\n",
       "      <th>max</th>\n",
       "      <td>99.000000</td>\n",
       "      <td>1.191625e+06</td>\n",
       "      <td>451100.000000</td>\n",
       "      <td>6100.000000</td>\n",
       "      <td>18.000000</td>\n",
       "      <td>21.000000</td>\n",
       "      <td>4.000000</td>\n",
       "      <td>10.000000</td>\n",
       "      <td>21.000000</td>\n",
       "      <td>15.000000</td>\n",
       "      <td>61.000000</td>\n",
       "      <td>0.0</td>\n",
       "      <td>23.000000</td>\n",
       "      <td>7.000000</td>\n",
       "      <td>12.000000</td>\n",
       "      <td>42.022780</td>\n",
       "      <td>0.000000</td>\n",
       "    </tr>\n",
       "  </tbody>\n",
       "</table>\n",
       "</div>"
      ],
      "text/plain": [
       "       POSTED_SPEED_LIMIT      LANE_CNT      STREET_NO  BEAT_OF_OCCURRENCE  \\\n",
       "count       880397.000000  1.990170e+05  880397.000000       880392.000000   \n",
       "mean            28.417869  1.332970e+01    3687.516283         1244.795019   \n",
       "std              6.121812  2.961542e+03    2880.737882          705.003878   \n",
       "min              0.000000  0.000000e+00       0.000000          111.000000   \n",
       "25%             30.000000  2.000000e+00    1250.000000          715.000000   \n",
       "50%             30.000000  2.000000e+00    3201.000000         1212.000000   \n",
       "75%             30.000000  4.000000e+00    5563.000000         1822.000000   \n",
       "max             99.000000  1.191625e+06  451100.000000         6100.000000   \n",
       "\n",
       "           NUM_UNITS  INJURIES_TOTAL  INJURIES_FATAL  INJURIES_INCAPACITATING  \\\n",
       "count  880397.000000   878455.000000   878455.000000            878455.000000   \n",
       "mean        2.035156        0.193559        0.001190                 0.019827   \n",
       "std         0.452478        0.571516        0.037385                 0.164965   \n",
       "min         1.000000        0.000000        0.000000                 0.000000   \n",
       "25%         2.000000        0.000000        0.000000                 0.000000   \n",
       "50%         2.000000        0.000000        0.000000                 0.000000   \n",
       "75%         2.000000        0.000000        0.000000                 0.000000   \n",
       "max        18.000000       21.000000        4.000000                10.000000   \n",
       "\n",
       "       INJURIES_NON_INCAPACITATING  INJURIES_REPORTED_NOT_EVIDENT  \\\n",
       "count                878455.000000                  878455.000000   \n",
       "mean                      0.108623                       0.063920   \n",
       "std                       0.425052                       0.325037   \n",
       "min                       0.000000                       0.000000   \n",
       "25%                       0.000000                       0.000000   \n",
       "50%                       0.000000                       0.000000   \n",
       "75%                       0.000000                       0.000000   \n",
       "max                      21.000000                      15.000000   \n",
       "\n",
       "       INJURIES_NO_INDICATION  INJURIES_UNKNOWN     CRASH_HOUR  \\\n",
       "count           878455.000000          878455.0  880397.000000   \n",
       "mean                 2.001335               0.0      13.204423   \n",
       "std                  1.157204               0.0       5.573031   \n",
       "min                  0.000000               0.0       0.000000   \n",
       "25%                  1.000000               0.0       9.000000   \n",
       "50%                  2.000000               0.0      14.000000   \n",
       "75%                  2.000000               0.0      17.000000   \n",
       "max                 61.000000               0.0      23.000000   \n",
       "\n",
       "       CRASH_DAY_OF_WEEK    CRASH_MONTH       LATITUDE      LONGITUDE  \n",
       "count      880397.000000  880397.000000  874124.000000  874124.000000  \n",
       "mean            4.121889       6.642730      41.855120     -87.673682  \n",
       "std             1.981378       3.363494       0.334126       0.678805  \n",
       "min             1.000000       1.000000       0.000000     -87.936193  \n",
       "25%             2.000000       4.000000      41.783061     -87.721824  \n",
       "50%             4.000000       7.000000      41.874952     -87.674228  \n",
       "75%             6.000000       9.000000      41.924519     -87.633513  \n",
       "max             7.000000      12.000000      42.022780       0.000000  "
      ]
     },
     "execution_count": 5,
     "metadata": {},
     "output_type": "execute_result"
    }
   ],
   "source": [
    "crashes.describe()"
   ]
  },
  {
   "cell_type": "code",
   "execution_count": 6,
   "id": "80dd266f",
   "metadata": {
    "execution": {
     "iopub.execute_input": "2024-10-10T18:15:08.011511Z",
     "iopub.status.busy": "2024-10-10T18:15:08.011113Z",
     "iopub.status.idle": "2024-10-10T18:15:12.117883Z",
     "shell.execute_reply": "2024-10-10T18:15:12.116859Z"
    },
    "papermill": {
     "duration": 4.137255,
     "end_time": "2024-10-10T18:15:12.120324",
     "exception": false,
     "start_time": "2024-10-10T18:15:07.983069",
     "status": "completed"
    },
    "tags": []
   },
   "outputs": [
    {
     "data": {
      "text/plain": [
       "False"
      ]
     },
     "execution_count": 6,
     "metadata": {},
     "output_type": "execute_result"
    }
   ],
   "source": [
    "#check for duplicates\n",
    "crashes.duplicated().values.any()"
   ]
  },
  {
   "cell_type": "code",
   "execution_count": 7,
   "id": "5682d5d0",
   "metadata": {
    "execution": {
     "iopub.execute_input": "2024-10-10T18:15:12.179759Z",
     "iopub.status.busy": "2024-10-10T18:15:12.178821Z",
     "iopub.status.idle": "2024-10-10T18:15:12.184202Z",
     "shell.execute_reply": "2024-10-10T18:15:12.183101Z"
    },
    "papermill": {
     "duration": 0.036774,
     "end_time": "2024-10-10T18:15:12.186442",
     "exception": false,
     "start_time": "2024-10-10T18:15:12.149668",
     "status": "completed"
    },
    "tags": []
   },
   "outputs": [],
   "source": [
    "columns_to_drop = ['CRASH_DATE_EST_I', 'LANE_CNT', 'INTERSECTION_RELATED_I', 'NOT_RIGHT_OF_WAY_I', 'PHOTOS_TAKEN_I', 'STATEMENTS_TAKEN_I',\n",
    "                   'DOORING_I', 'WORK_ZONE_I', 'WORK_ZONE_TYPE', 'WORKERS_PRESENT_I', 'LATITUDE', 'LONGITUDE', 'LOCATION']"
   ]
  },
  {
   "cell_type": "code",
   "execution_count": 8,
   "id": "cd93a092",
   "metadata": {
    "execution": {
     "iopub.execute_input": "2024-10-10T18:15:12.248072Z",
     "iopub.status.busy": "2024-10-10T18:15:12.247662Z",
     "iopub.status.idle": "2024-10-10T18:15:12.487154Z",
     "shell.execute_reply": "2024-10-10T18:15:12.485885Z"
    },
    "papermill": {
     "duration": 0.273383,
     "end_time": "2024-10-10T18:15:12.489814",
     "exception": false,
     "start_time": "2024-10-10T18:15:12.216431",
     "status": "completed"
    },
    "tags": []
   },
   "outputs": [],
   "source": [
    "crashes.drop(columns=columns_to_drop, inplace=True)"
   ]
  },
  {
   "cell_type": "code",
   "execution_count": 9,
   "id": "89cbd621",
   "metadata": {
    "execution": {
     "iopub.execute_input": "2024-10-10T18:15:12.547254Z",
     "iopub.status.busy": "2024-10-10T18:15:12.546821Z",
     "iopub.status.idle": "2024-10-10T18:15:12.572304Z",
     "shell.execute_reply": "2024-10-10T18:15:12.571334Z"
    },
    "papermill": {
     "duration": 0.055896,
     "end_time": "2024-10-10T18:15:12.574455",
     "exception": false,
     "start_time": "2024-10-10T18:15:12.518559",
     "status": "completed"
    },
    "tags": []
   },
   "outputs": [
    {
     "data": {
      "text/html": [
       "<div>\n",
       "<style scoped>\n",
       "    .dataframe tbody tr th:only-of-type {\n",
       "        vertical-align: middle;\n",
       "    }\n",
       "\n",
       "    .dataframe tbody tr th {\n",
       "        vertical-align: top;\n",
       "    }\n",
       "\n",
       "    .dataframe thead th {\n",
       "        text-align: right;\n",
       "    }\n",
       "</style>\n",
       "<table border=\"1\" class=\"dataframe\">\n",
       "  <thead>\n",
       "    <tr style=\"text-align: right;\">\n",
       "      <th></th>\n",
       "      <th>CRASH_RECORD_ID</th>\n",
       "      <th>CRASH_DATE</th>\n",
       "      <th>POSTED_SPEED_LIMIT</th>\n",
       "      <th>TRAFFIC_CONTROL_DEVICE</th>\n",
       "      <th>DEVICE_CONDITION</th>\n",
       "      <th>WEATHER_CONDITION</th>\n",
       "      <th>LIGHTING_CONDITION</th>\n",
       "      <th>FIRST_CRASH_TYPE</th>\n",
       "      <th>TRAFFICWAY_TYPE</th>\n",
       "      <th>ALIGNMENT</th>\n",
       "      <th>...</th>\n",
       "      <th>INJURIES_TOTAL</th>\n",
       "      <th>INJURIES_FATAL</th>\n",
       "      <th>INJURIES_INCAPACITATING</th>\n",
       "      <th>INJURIES_NON_INCAPACITATING</th>\n",
       "      <th>INJURIES_REPORTED_NOT_EVIDENT</th>\n",
       "      <th>INJURIES_NO_INDICATION</th>\n",
       "      <th>INJURIES_UNKNOWN</th>\n",
       "      <th>CRASH_HOUR</th>\n",
       "      <th>CRASH_DAY_OF_WEEK</th>\n",
       "      <th>CRASH_MONTH</th>\n",
       "    </tr>\n",
       "  </thead>\n",
       "  <tbody>\n",
       "    <tr>\n",
       "      <th>0</th>\n",
       "      <td>23a79931ef555d54118f64dc9be2cf2dbf59636ce253f7...</td>\n",
       "      <td>09/05/2023 07:05:00 PM</td>\n",
       "      <td>30</td>\n",
       "      <td>TRAFFIC SIGNAL</td>\n",
       "      <td>FUNCTIONING PROPERLY</td>\n",
       "      <td>CLEAR</td>\n",
       "      <td>DUSK</td>\n",
       "      <td>ANGLE</td>\n",
       "      <td>FIVE POINT, OR MORE</td>\n",
       "      <td>STRAIGHT AND LEVEL</td>\n",
       "      <td>...</td>\n",
       "      <td>3.0</td>\n",
       "      <td>0.0</td>\n",
       "      <td>1.0</td>\n",
       "      <td>2.0</td>\n",
       "      <td>0.0</td>\n",
       "      <td>2.0</td>\n",
       "      <td>0.0</td>\n",
       "      <td>19</td>\n",
       "      <td>3</td>\n",
       "      <td>9</td>\n",
       "    </tr>\n",
       "    <tr>\n",
       "      <th>1</th>\n",
       "      <td>2675c13fd0f474d730a5b780968b3cafc7c12d7adb661f...</td>\n",
       "      <td>09/22/2023 06:45:00 PM</td>\n",
       "      <td>50</td>\n",
       "      <td>NO CONTROLS</td>\n",
       "      <td>NO CONTROLS</td>\n",
       "      <td>CLEAR</td>\n",
       "      <td>DARKNESS, LIGHTED ROAD</td>\n",
       "      <td>REAR END</td>\n",
       "      <td>DIVIDED - W/MEDIAN BARRIER</td>\n",
       "      <td>STRAIGHT AND LEVEL</td>\n",
       "      <td>...</td>\n",
       "      <td>0.0</td>\n",
       "      <td>0.0</td>\n",
       "      <td>0.0</td>\n",
       "      <td>0.0</td>\n",
       "      <td>0.0</td>\n",
       "      <td>2.0</td>\n",
       "      <td>0.0</td>\n",
       "      <td>18</td>\n",
       "      <td>6</td>\n",
       "      <td>9</td>\n",
       "    </tr>\n",
       "    <tr>\n",
       "      <th>2</th>\n",
       "      <td>5f54a59fcb087b12ae5b1acff96a3caf4f2d37e79f8db4...</td>\n",
       "      <td>07/29/2023 02:45:00 PM</td>\n",
       "      <td>30</td>\n",
       "      <td>TRAFFIC SIGNAL</td>\n",
       "      <td>FUNCTIONING PROPERLY</td>\n",
       "      <td>CLEAR</td>\n",
       "      <td>DAYLIGHT</td>\n",
       "      <td>PARKED MOTOR VEHICLE</td>\n",
       "      <td>DIVIDED - W/MEDIAN (NOT RAISED)</td>\n",
       "      <td>STRAIGHT AND LEVEL</td>\n",
       "      <td>...</td>\n",
       "      <td>0.0</td>\n",
       "      <td>0.0</td>\n",
       "      <td>0.0</td>\n",
       "      <td>0.0</td>\n",
       "      <td>0.0</td>\n",
       "      <td>1.0</td>\n",
       "      <td>0.0</td>\n",
       "      <td>14</td>\n",
       "      <td>7</td>\n",
       "      <td>7</td>\n",
       "    </tr>\n",
       "    <tr>\n",
       "      <th>3</th>\n",
       "      <td>7ebf015016f83d09b321afd671a836d6b148330535d5df...</td>\n",
       "      <td>08/09/2023 11:00:00 PM</td>\n",
       "      <td>30</td>\n",
       "      <td>NO CONTROLS</td>\n",
       "      <td>NO CONTROLS</td>\n",
       "      <td>CLEAR</td>\n",
       "      <td>DARKNESS, LIGHTED ROAD</td>\n",
       "      <td>SIDESWIPE SAME DIRECTION</td>\n",
       "      <td>NOT DIVIDED</td>\n",
       "      <td>STRAIGHT AND LEVEL</td>\n",
       "      <td>...</td>\n",
       "      <td>0.0</td>\n",
       "      <td>0.0</td>\n",
       "      <td>0.0</td>\n",
       "      <td>0.0</td>\n",
       "      <td>0.0</td>\n",
       "      <td>2.0</td>\n",
       "      <td>0.0</td>\n",
       "      <td>23</td>\n",
       "      <td>4</td>\n",
       "      <td>8</td>\n",
       "    </tr>\n",
       "    <tr>\n",
       "      <th>4</th>\n",
       "      <td>6c1659069e9c6285a650e70d6f9b574ed5f64c12888479...</td>\n",
       "      <td>08/18/2023 12:50:00 PM</td>\n",
       "      <td>15</td>\n",
       "      <td>OTHER</td>\n",
       "      <td>FUNCTIONING PROPERLY</td>\n",
       "      <td>CLEAR</td>\n",
       "      <td>DAYLIGHT</td>\n",
       "      <td>REAR END</td>\n",
       "      <td>OTHER</td>\n",
       "      <td>STRAIGHT AND LEVEL</td>\n",
       "      <td>...</td>\n",
       "      <td>1.0</td>\n",
       "      <td>0.0</td>\n",
       "      <td>0.0</td>\n",
       "      <td>1.0</td>\n",
       "      <td>0.0</td>\n",
       "      <td>1.0</td>\n",
       "      <td>0.0</td>\n",
       "      <td>12</td>\n",
       "      <td>6</td>\n",
       "      <td>8</td>\n",
       "    </tr>\n",
       "  </tbody>\n",
       "</table>\n",
       "<p>5 rows × 35 columns</p>\n",
       "</div>"
      ],
      "text/plain": [
       "                                     CRASH_RECORD_ID              CRASH_DATE  \\\n",
       "0  23a79931ef555d54118f64dc9be2cf2dbf59636ce253f7...  09/05/2023 07:05:00 PM   \n",
       "1  2675c13fd0f474d730a5b780968b3cafc7c12d7adb661f...  09/22/2023 06:45:00 PM   \n",
       "2  5f54a59fcb087b12ae5b1acff96a3caf4f2d37e79f8db4...  07/29/2023 02:45:00 PM   \n",
       "3  7ebf015016f83d09b321afd671a836d6b148330535d5df...  08/09/2023 11:00:00 PM   \n",
       "4  6c1659069e9c6285a650e70d6f9b574ed5f64c12888479...  08/18/2023 12:50:00 PM   \n",
       "\n",
       "   POSTED_SPEED_LIMIT TRAFFIC_CONTROL_DEVICE      DEVICE_CONDITION  \\\n",
       "0                  30         TRAFFIC SIGNAL  FUNCTIONING PROPERLY   \n",
       "1                  50            NO CONTROLS           NO CONTROLS   \n",
       "2                  30         TRAFFIC SIGNAL  FUNCTIONING PROPERLY   \n",
       "3                  30            NO CONTROLS           NO CONTROLS   \n",
       "4                  15                  OTHER  FUNCTIONING PROPERLY   \n",
       "\n",
       "  WEATHER_CONDITION      LIGHTING_CONDITION          FIRST_CRASH_TYPE  \\\n",
       "0             CLEAR                    DUSK                     ANGLE   \n",
       "1             CLEAR  DARKNESS, LIGHTED ROAD                  REAR END   \n",
       "2             CLEAR                DAYLIGHT      PARKED MOTOR VEHICLE   \n",
       "3             CLEAR  DARKNESS, LIGHTED ROAD  SIDESWIPE SAME DIRECTION   \n",
       "4             CLEAR                DAYLIGHT                  REAR END   \n",
       "\n",
       "                   TRAFFICWAY_TYPE           ALIGNMENT  ... INJURIES_TOTAL  \\\n",
       "0              FIVE POINT, OR MORE  STRAIGHT AND LEVEL  ...            3.0   \n",
       "1       DIVIDED - W/MEDIAN BARRIER  STRAIGHT AND LEVEL  ...            0.0   \n",
       "2  DIVIDED - W/MEDIAN (NOT RAISED)  STRAIGHT AND LEVEL  ...            0.0   \n",
       "3                      NOT DIVIDED  STRAIGHT AND LEVEL  ...            0.0   \n",
       "4                            OTHER  STRAIGHT AND LEVEL  ...            1.0   \n",
       "\n",
       "  INJURIES_FATAL INJURIES_INCAPACITATING INJURIES_NON_INCAPACITATING  \\\n",
       "0            0.0                     1.0                         2.0   \n",
       "1            0.0                     0.0                         0.0   \n",
       "2            0.0                     0.0                         0.0   \n",
       "3            0.0                     0.0                         0.0   \n",
       "4            0.0                     0.0                         1.0   \n",
       "\n",
       "  INJURIES_REPORTED_NOT_EVIDENT INJURIES_NO_INDICATION INJURIES_UNKNOWN  \\\n",
       "0                           0.0                    2.0              0.0   \n",
       "1                           0.0                    2.0              0.0   \n",
       "2                           0.0                    1.0              0.0   \n",
       "3                           0.0                    2.0              0.0   \n",
       "4                           0.0                    1.0              0.0   \n",
       "\n",
       "  CRASH_HOUR CRASH_DAY_OF_WEEK  CRASH_MONTH  \n",
       "0         19                 3            9  \n",
       "1         18                 6            9  \n",
       "2         14                 7            7  \n",
       "3         23                 4            8  \n",
       "4         12                 6            8  \n",
       "\n",
       "[5 rows x 35 columns]"
      ]
     },
     "execution_count": 9,
     "metadata": {},
     "output_type": "execute_result"
    }
   ],
   "source": [
    "crashes.head()"
   ]
  },
  {
   "cell_type": "code",
   "execution_count": 10,
   "id": "13611a16",
   "metadata": {
    "execution": {
     "iopub.execute_input": "2024-10-10T18:15:12.637963Z",
     "iopub.status.busy": "2024-10-10T18:15:12.636702Z",
     "iopub.status.idle": "2024-10-10T18:15:14.396867Z",
     "shell.execute_reply": "2024-10-10T18:15:14.395837Z"
    },
    "papermill": {
     "duration": 1.79611,
     "end_time": "2024-10-10T18:15:14.399578",
     "exception": false,
     "start_time": "2024-10-10T18:15:12.603468",
     "status": "completed"
    },
    "tags": []
   },
   "outputs": [
    {
     "data": {
      "text/plain": [
       "CRASH_RECORD_ID                       0\n",
       "CRASH_DATE                            0\n",
       "POSTED_SPEED_LIMIT                    0\n",
       "TRAFFIC_CONTROL_DEVICE                0\n",
       "DEVICE_CONDITION                      0\n",
       "WEATHER_CONDITION                     0\n",
       "LIGHTING_CONDITION                    0\n",
       "FIRST_CRASH_TYPE                      0\n",
       "TRAFFICWAY_TYPE                       0\n",
       "ALIGNMENT                             0\n",
       "ROADWAY_SURFACE_COND                  0\n",
       "ROAD_DEFECT                           0\n",
       "REPORT_TYPE                       27042\n",
       "CRASH_TYPE                            0\n",
       "HIT_AND_RUN_I                    604340\n",
       "DAMAGE                                0\n",
       "DATE_POLICE_NOTIFIED                  0\n",
       "PRIM_CONTRIBUTORY_CAUSE               0\n",
       "SEC_CONTRIBUTORY_CAUSE                0\n",
       "STREET_NO                             0\n",
       "STREET_DIRECTION                      4\n",
       "STREET_NAME                           1\n",
       "BEAT_OF_OCCURRENCE                    5\n",
       "NUM_UNITS                             0\n",
       "MOST_SEVERE_INJURY                 1956\n",
       "INJURIES_TOTAL                     1942\n",
       "INJURIES_FATAL                     1942\n",
       "INJURIES_INCAPACITATING            1942\n",
       "INJURIES_NON_INCAPACITATING        1942\n",
       "INJURIES_REPORTED_NOT_EVIDENT      1942\n",
       "INJURIES_NO_INDICATION             1942\n",
       "INJURIES_UNKNOWN                   1942\n",
       "CRASH_HOUR                            0\n",
       "CRASH_DAY_OF_WEEK                     0\n",
       "CRASH_MONTH                           0\n",
       "dtype: int64"
      ]
     },
     "execution_count": 10,
     "metadata": {},
     "output_type": "execute_result"
    }
   ],
   "source": [
    "crashes.isnull().sum()"
   ]
  },
  {
   "cell_type": "code",
   "execution_count": 11,
   "id": "7a8b3aa9",
   "metadata": {
    "execution": {
     "iopub.execute_input": "2024-10-10T18:15:14.466132Z",
     "iopub.status.busy": "2024-10-10T18:15:14.465033Z",
     "iopub.status.idle": "2024-10-10T18:15:14.627619Z",
     "shell.execute_reply": "2024-10-10T18:15:14.626330Z"
    },
    "papermill": {
     "duration": 0.195879,
     "end_time": "2024-10-10T18:15:14.629981",
     "exception": false,
     "start_time": "2024-10-10T18:15:14.434102",
     "status": "completed"
    },
    "tags": []
   },
   "outputs": [
    {
     "data": {
      "text/plain": [
       "REPORT_TYPE\n",
       "NOT ON SCENE (DESK REPORT)    480023\n",
       "ON SCENE                      373092\n",
       "AMENDED                          240\n",
       "Name: count, dtype: int64"
      ]
     },
     "execution_count": 11,
     "metadata": {},
     "output_type": "execute_result"
    }
   ],
   "source": [
    "crashes['REPORT_TYPE'].value_counts()"
   ]
  },
  {
   "cell_type": "code",
   "execution_count": 12,
   "id": "852672c4",
   "metadata": {
    "execution": {
     "iopub.execute_input": "2024-10-10T18:15:14.690024Z",
     "iopub.status.busy": "2024-10-10T18:15:14.689137Z",
     "iopub.status.idle": "2024-10-10T18:15:14.703796Z",
     "shell.execute_reply": "2024-10-10T18:15:14.702841Z"
    },
    "papermill": {
     "duration": 0.045628,
     "end_time": "2024-10-10T18:15:14.706098",
     "exception": false,
     "start_time": "2024-10-10T18:15:14.660470",
     "status": "completed"
    },
    "tags": []
   },
   "outputs": [],
   "source": [
    "rows_to_remove = crashes[crashes['INJURIES_TOTAL'].isnull()].index"
   ]
  },
  {
   "cell_type": "code",
   "execution_count": 13,
   "id": "6eb1a1dd",
   "metadata": {
    "execution": {
     "iopub.execute_input": "2024-10-10T18:15:14.765742Z",
     "iopub.status.busy": "2024-10-10T18:15:14.764622Z",
     "iopub.status.idle": "2024-10-10T18:15:15.093192Z",
     "shell.execute_reply": "2024-10-10T18:15:15.092126Z"
    },
    "papermill": {
     "duration": 0.362176,
     "end_time": "2024-10-10T18:15:15.096306",
     "exception": false,
     "start_time": "2024-10-10T18:15:14.734130",
     "status": "completed"
    },
    "tags": []
   },
   "outputs": [],
   "source": [
    "crashes.drop(rows_to_remove, inplace=True)"
   ]
  },
  {
   "cell_type": "code",
   "execution_count": 14,
   "id": "962cf8ed",
   "metadata": {
    "execution": {
     "iopub.execute_input": "2024-10-10T18:15:15.156098Z",
     "iopub.status.busy": "2024-10-10T18:15:15.155688Z",
     "iopub.status.idle": "2024-10-10T18:15:16.823426Z",
     "shell.execute_reply": "2024-10-10T18:15:16.822386Z"
    },
    "papermill": {
     "duration": 1.699313,
     "end_time": "2024-10-10T18:15:16.826010",
     "exception": false,
     "start_time": "2024-10-10T18:15:15.126697",
     "status": "completed"
    },
    "tags": []
   },
   "outputs": [
    {
     "data": {
      "text/plain": [
       "CRASH_RECORD_ID                       0\n",
       "CRASH_DATE                            0\n",
       "POSTED_SPEED_LIMIT                    0\n",
       "TRAFFIC_CONTROL_DEVICE                0\n",
       "DEVICE_CONDITION                      0\n",
       "WEATHER_CONDITION                     0\n",
       "LIGHTING_CONDITION                    0\n",
       "FIRST_CRASH_TYPE                      0\n",
       "TRAFFICWAY_TYPE                       0\n",
       "ALIGNMENT                             0\n",
       "ROADWAY_SURFACE_COND                  0\n",
       "ROAD_DEFECT                           0\n",
       "REPORT_TYPE                       26992\n",
       "CRASH_TYPE                            0\n",
       "HIT_AND_RUN_I                    603201\n",
       "DAMAGE                                0\n",
       "DATE_POLICE_NOTIFIED                  0\n",
       "PRIM_CONTRIBUTORY_CAUSE               0\n",
       "SEC_CONTRIBUTORY_CAUSE                0\n",
       "STREET_NO                             0\n",
       "STREET_DIRECTION                      4\n",
       "STREET_NAME                           1\n",
       "BEAT_OF_OCCURRENCE                    5\n",
       "NUM_UNITS                             0\n",
       "MOST_SEVERE_INJURY                   14\n",
       "INJURIES_TOTAL                        0\n",
       "INJURIES_FATAL                        0\n",
       "INJURIES_INCAPACITATING               0\n",
       "INJURIES_NON_INCAPACITATING           0\n",
       "INJURIES_REPORTED_NOT_EVIDENT         0\n",
       "INJURIES_NO_INDICATION                0\n",
       "INJURIES_UNKNOWN                      0\n",
       "CRASH_HOUR                            0\n",
       "CRASH_DAY_OF_WEEK                     0\n",
       "CRASH_MONTH                           0\n",
       "dtype: int64"
      ]
     },
     "execution_count": 14,
     "metadata": {},
     "output_type": "execute_result"
    }
   ],
   "source": [
    "crashes.isnull().sum()"
   ]
  },
  {
   "cell_type": "code",
   "execution_count": 15,
   "id": "43c008ed",
   "metadata": {
    "execution": {
     "iopub.execute_input": "2024-10-10T18:15:16.885054Z",
     "iopub.status.busy": "2024-10-10T18:15:16.884639Z",
     "iopub.status.idle": "2024-10-10T18:15:16.994417Z",
     "shell.execute_reply": "2024-10-10T18:15:16.993460Z"
    },
    "papermill": {
     "duration": 0.140798,
     "end_time": "2024-10-10T18:15:16.996614",
     "exception": false,
     "start_time": "2024-10-10T18:15:16.855816",
     "status": "completed"
    },
    "tags": []
   },
   "outputs": [
    {
     "data": {
      "text/plain": [
       "STREET_DIRECTION\n",
       "W    314446\n",
       "S    293477\n",
       "N    211079\n",
       "E     59449\n",
       "Name: count, dtype: int64"
      ]
     },
     "execution_count": 15,
     "metadata": {},
     "output_type": "execute_result"
    }
   ],
   "source": [
    "crashes['STREET_DIRECTION'].value_counts()"
   ]
  },
  {
   "cell_type": "code",
   "execution_count": 16,
   "id": "18186699",
   "metadata": {
    "execution": {
     "iopub.execute_input": "2024-10-10T18:15:17.055454Z",
     "iopub.status.busy": "2024-10-10T18:15:17.054530Z",
     "iopub.status.idle": "2024-10-10T18:15:17.201073Z",
     "shell.execute_reply": "2024-10-10T18:15:17.199934Z"
    },
    "papermill": {
     "duration": 0.178754,
     "end_time": "2024-10-10T18:15:17.203345",
     "exception": false,
     "start_time": "2024-10-10T18:15:17.024591",
     "status": "completed"
    },
    "tags": []
   },
   "outputs": [
    {
     "data": {
      "text/plain": [
       "STREET_NAME\n",
       "WESTERN AVE        24007\n",
       "PULASKI RD         21221\n",
       "CICERO AVE         19743\n",
       "ASHLAND AVE        19095\n",
       "HALSTED ST         17013\n",
       "                   ...  \n",
       "MCCORMICK BLVD.        1\n",
       "POST 16 ST             1\n",
       "RWY 22L                1\n",
       "FRANKLIN SD            1\n",
       "SCIENCE DR             1\n",
       "Name: count, Length: 1645, dtype: int64"
      ]
     },
     "execution_count": 16,
     "metadata": {},
     "output_type": "execute_result"
    }
   ],
   "source": [
    "crashes['STREET_NAME'].value_counts()"
   ]
  },
  {
   "cell_type": "code",
   "execution_count": 17,
   "id": "f9bea37d",
   "metadata": {
    "execution": {
     "iopub.execute_input": "2024-10-10T18:15:17.264026Z",
     "iopub.status.busy": "2024-10-10T18:15:17.263213Z",
     "iopub.status.idle": "2024-10-10T18:15:17.406002Z",
     "shell.execute_reply": "2024-10-10T18:15:17.404941Z"
    },
    "papermill": {
     "duration": 0.17428,
     "end_time": "2024-10-10T18:15:17.408019",
     "exception": false,
     "start_time": "2024-10-10T18:15:17.233739",
     "status": "completed"
    },
    "tags": []
   },
   "outputs": [
    {
     "data": {
      "text/plain": [
       "MOST_SEVERE_INJURY\n",
       "NO INDICATION OF INJURY     755170\n",
       "NONINCAPACITATING INJURY     69320\n",
       "REPORTED, NOT EVIDENT        38189\n",
       "INCAPACITATING INJURY        14798\n",
       "FATAL                          964\n",
       "Name: count, dtype: int64"
      ]
     },
     "execution_count": 17,
     "metadata": {},
     "output_type": "execute_result"
    }
   ],
   "source": [
    "crashes['MOST_SEVERE_INJURY'].value_counts()"
   ]
  },
  {
   "cell_type": "code",
   "execution_count": 18,
   "id": "496ff257",
   "metadata": {
    "execution": {
     "iopub.execute_input": "2024-10-10T18:15:17.466214Z",
     "iopub.status.busy": "2024-10-10T18:15:17.465805Z",
     "iopub.status.idle": "2024-10-10T18:15:17.489303Z",
     "shell.execute_reply": "2024-10-10T18:15:17.488365Z"
    },
    "papermill": {
     "duration": 0.055194,
     "end_time": "2024-10-10T18:15:17.491283",
     "exception": false,
     "start_time": "2024-10-10T18:15:17.436089",
     "status": "completed"
    },
    "tags": []
   },
   "outputs": [
    {
     "data": {
      "text/plain": [
       "BEAT_OF_OCCURRENCE\n",
       "1834.0    10674\n",
       "114.0      9091\n",
       "813.0      8872\n",
       "815.0      8378\n",
       "1831.0     8038\n",
       "          ...  \n",
       "1653.0      479\n",
       "1655.0      294\n",
       "1652.0      229\n",
       "1650.0       68\n",
       "6100.0        7\n",
       "Name: count, Length: 276, dtype: int64"
      ]
     },
     "execution_count": 18,
     "metadata": {},
     "output_type": "execute_result"
    }
   ],
   "source": [
    "crashes['BEAT_OF_OCCURRENCE'].value_counts()"
   ]
  },
  {
   "cell_type": "code",
   "execution_count": 19,
   "id": "39042b8b",
   "metadata": {
    "execution": {
     "iopub.execute_input": "2024-10-10T18:15:17.598109Z",
     "iopub.status.busy": "2024-10-10T18:15:17.597698Z",
     "iopub.status.idle": "2024-10-10T18:15:17.661672Z",
     "shell.execute_reply": "2024-10-10T18:15:17.660742Z"
    },
    "papermill": {
     "duration": 0.095992,
     "end_time": "2024-10-10T18:15:17.664066",
     "exception": false,
     "start_time": "2024-10-10T18:15:17.568074",
     "status": "completed"
    },
    "tags": []
   },
   "outputs": [
    {
     "data": {
      "text/plain": [
       "HIT_AND_RUN_I\n",
       "Y    263547\n",
       "N     11707\n",
       "Name: count, dtype: int64"
      ]
     },
     "execution_count": 19,
     "metadata": {},
     "output_type": "execute_result"
    }
   ],
   "source": [
    "crashes['HIT_AND_RUN_I'].value_counts()"
   ]
  },
  {
   "cell_type": "code",
   "execution_count": 20,
   "id": "e00c4818",
   "metadata": {
    "execution": {
     "iopub.execute_input": "2024-10-10T18:15:17.724319Z",
     "iopub.status.busy": "2024-10-10T18:15:17.723474Z",
     "iopub.status.idle": "2024-10-10T18:15:18.356974Z",
     "shell.execute_reply": "2024-10-10T18:15:18.355954Z"
    },
    "papermill": {
     "duration": 0.665808,
     "end_time": "2024-10-10T18:15:18.359291",
     "exception": false,
     "start_time": "2024-10-10T18:15:17.693483",
     "status": "completed"
    },
    "tags": []
   },
   "outputs": [],
   "source": [
    "#filling null values  with most frequent values.\n",
    "mf_street_direction = crashes['STREET_DIRECTION'].mode()[0]\n",
    "mf_most_severe_injury = crashes['MOST_SEVERE_INJURY'].mode()[0] \n",
    "mf_street_name = crashes['STREET_NAME'].mode()[0]\n",
    "\n",
    "crashes['STREET_DIRECTION'].fillna(mf_street_direction, inplace=True)\n",
    "crashes['MOST_SEVERE_INJURY'].fillna(mf_most_severe_injury, inplace=True)\n",
    "crashes['STREET_NAME'].fillna(mf_street_name, inplace=True)"
   ]
  },
  {
   "cell_type": "code",
   "execution_count": 21,
   "id": "8107f01f",
   "metadata": {
    "execution": {
     "iopub.execute_input": "2024-10-10T18:15:18.417128Z",
     "iopub.status.busy": "2024-10-10T18:15:18.416747Z",
     "iopub.status.idle": "2024-10-10T18:15:18.719982Z",
     "shell.execute_reply": "2024-10-10T18:15:18.719185Z"
    },
    "papermill": {
     "duration": 0.334868,
     "end_time": "2024-10-10T18:15:18.722353",
     "exception": false,
     "start_time": "2024-10-10T18:15:18.387485",
     "status": "completed"
    },
    "tags": []
   },
   "outputs": [],
   "source": [
    "crashes.drop(columns=['REPORT_TYPE', 'BEAT_OF_OCCURRENCE', 'HIT_AND_RUN_I'], inplace=True)"
   ]
  },
  {
   "cell_type": "code",
   "execution_count": 22,
   "id": "0a188bdf",
   "metadata": {
    "execution": {
     "iopub.execute_input": "2024-10-10T18:15:18.781567Z",
     "iopub.status.busy": "2024-10-10T18:15:18.780727Z",
     "iopub.status.idle": "2024-10-10T18:15:20.311248Z",
     "shell.execute_reply": "2024-10-10T18:15:20.310260Z"
    },
    "papermill": {
     "duration": 1.562629,
     "end_time": "2024-10-10T18:15:20.313527",
     "exception": false,
     "start_time": "2024-10-10T18:15:18.750898",
     "status": "completed"
    },
    "tags": []
   },
   "outputs": [
    {
     "data": {
      "text/plain": [
       "CRASH_RECORD_ID                  0\n",
       "CRASH_DATE                       0\n",
       "POSTED_SPEED_LIMIT               0\n",
       "TRAFFIC_CONTROL_DEVICE           0\n",
       "DEVICE_CONDITION                 0\n",
       "WEATHER_CONDITION                0\n",
       "LIGHTING_CONDITION               0\n",
       "FIRST_CRASH_TYPE                 0\n",
       "TRAFFICWAY_TYPE                  0\n",
       "ALIGNMENT                        0\n",
       "ROADWAY_SURFACE_COND             0\n",
       "ROAD_DEFECT                      0\n",
       "CRASH_TYPE                       0\n",
       "DAMAGE                           0\n",
       "DATE_POLICE_NOTIFIED             0\n",
       "PRIM_CONTRIBUTORY_CAUSE          0\n",
       "SEC_CONTRIBUTORY_CAUSE           0\n",
       "STREET_NO                        0\n",
       "STREET_DIRECTION                 0\n",
       "STREET_NAME                      0\n",
       "NUM_UNITS                        0\n",
       "MOST_SEVERE_INJURY               0\n",
       "INJURIES_TOTAL                   0\n",
       "INJURIES_FATAL                   0\n",
       "INJURIES_INCAPACITATING          0\n",
       "INJURIES_NON_INCAPACITATING      0\n",
       "INJURIES_REPORTED_NOT_EVIDENT    0\n",
       "INJURIES_NO_INDICATION           0\n",
       "INJURIES_UNKNOWN                 0\n",
       "CRASH_HOUR                       0\n",
       "CRASH_DAY_OF_WEEK                0\n",
       "CRASH_MONTH                      0\n",
       "dtype: int64"
      ]
     },
     "execution_count": 22,
     "metadata": {},
     "output_type": "execute_result"
    }
   ],
   "source": [
    "crashes.isnull().sum()"
   ]
  },
  {
   "cell_type": "code",
   "execution_count": 23,
   "id": "ae3e3dbd",
   "metadata": {
    "execution": {
     "iopub.execute_input": "2024-10-10T18:15:20.373660Z",
     "iopub.status.busy": "2024-10-10T18:15:20.373265Z",
     "iopub.status.idle": "2024-10-10T18:15:44.175575Z",
     "shell.execute_reply": "2024-10-10T18:15:44.174752Z"
    },
    "papermill": {
     "duration": 23.834317,
     "end_time": "2024-10-10T18:15:44.177887",
     "exception": false,
     "start_time": "2024-10-10T18:15:20.343570",
     "status": "completed"
    },
    "tags": []
   },
   "outputs": [],
   "source": [
    "vehicles = pd.read_csv('/kaggle/input/chicago-datasets/Traffic_Crashes_-_Vehicles.csv')"
   ]
  },
  {
   "cell_type": "code",
   "execution_count": 24,
   "id": "58abe0b1",
   "metadata": {
    "execution": {
     "iopub.execute_input": "2024-10-10T18:15:44.236085Z",
     "iopub.status.busy": "2024-10-10T18:15:44.235689Z",
     "iopub.status.idle": "2024-10-10T18:15:44.259018Z",
     "shell.execute_reply": "2024-10-10T18:15:44.258089Z"
    },
    "papermill": {
     "duration": 0.054778,
     "end_time": "2024-10-10T18:15:44.261080",
     "exception": false,
     "start_time": "2024-10-10T18:15:44.206302",
     "status": "completed"
    },
    "tags": []
   },
   "outputs": [
    {
     "data": {
      "text/html": [
       "<div>\n",
       "<style scoped>\n",
       "    .dataframe tbody tr th:only-of-type {\n",
       "        vertical-align: middle;\n",
       "    }\n",
       "\n",
       "    .dataframe tbody tr th {\n",
       "        vertical-align: top;\n",
       "    }\n",
       "\n",
       "    .dataframe thead th {\n",
       "        text-align: right;\n",
       "    }\n",
       "</style>\n",
       "<table border=\"1\" class=\"dataframe\">\n",
       "  <thead>\n",
       "    <tr style=\"text-align: right;\">\n",
       "      <th></th>\n",
       "      <th>CRASH_UNIT_ID</th>\n",
       "      <th>CRASH_RECORD_ID</th>\n",
       "      <th>CRASH_DATE</th>\n",
       "      <th>UNIT_NO</th>\n",
       "      <th>UNIT_TYPE</th>\n",
       "      <th>NUM_PASSENGERS</th>\n",
       "      <th>VEHICLE_ID</th>\n",
       "      <th>CMRC_VEH_I</th>\n",
       "      <th>MAKE</th>\n",
       "      <th>MODEL</th>\n",
       "      <th>...</th>\n",
       "      <th>TRAILER1_LENGTH</th>\n",
       "      <th>TRAILER2_LENGTH</th>\n",
       "      <th>TOTAL_VEHICLE_LENGTH</th>\n",
       "      <th>AXLE_CNT</th>\n",
       "      <th>VEHICLE_CONFIG</th>\n",
       "      <th>CARGO_BODY_TYPE</th>\n",
       "      <th>LOAD_TYPE</th>\n",
       "      <th>HAZMAT_OUT_OF_SERVICE_I</th>\n",
       "      <th>MCS_OUT_OF_SERVICE_I</th>\n",
       "      <th>HAZMAT_CLASS</th>\n",
       "    </tr>\n",
       "  </thead>\n",
       "  <tbody>\n",
       "    <tr>\n",
       "      <th>0</th>\n",
       "      <td>1727162</td>\n",
       "      <td>f5943b05f46b8d4148a63b7506a59113eae0cf1075aabc...</td>\n",
       "      <td>12/21/2023 08:57:00 AM</td>\n",
       "      <td>2</td>\n",
       "      <td>PEDESTRIAN</td>\n",
       "      <td>NaN</td>\n",
       "      <td>NaN</td>\n",
       "      <td>NaN</td>\n",
       "      <td>NaN</td>\n",
       "      <td>NaN</td>\n",
       "      <td>...</td>\n",
       "      <td>NaN</td>\n",
       "      <td>NaN</td>\n",
       "      <td>NaN</td>\n",
       "      <td>NaN</td>\n",
       "      <td>NaN</td>\n",
       "      <td>NaN</td>\n",
       "      <td>NaN</td>\n",
       "      <td>NaN</td>\n",
       "      <td>NaN</td>\n",
       "      <td>NaN</td>\n",
       "    </tr>\n",
       "    <tr>\n",
       "      <th>1</th>\n",
       "      <td>1717556</td>\n",
       "      <td>7b1763088507f77e0e552c009a6bf89a4d6330c7527706...</td>\n",
       "      <td>12/06/2023 03:24:00 PM</td>\n",
       "      <td>1</td>\n",
       "      <td>DRIVER</td>\n",
       "      <td>NaN</td>\n",
       "      <td>1634931.0</td>\n",
       "      <td>NaN</td>\n",
       "      <td>NISSAN</td>\n",
       "      <td>SENTRA</td>\n",
       "      <td>...</td>\n",
       "      <td>NaN</td>\n",
       "      <td>NaN</td>\n",
       "      <td>NaN</td>\n",
       "      <td>NaN</td>\n",
       "      <td>NaN</td>\n",
       "      <td>NaN</td>\n",
       "      <td>NaN</td>\n",
       "      <td>NaN</td>\n",
       "      <td>NaN</td>\n",
       "      <td>NaN</td>\n",
       "    </tr>\n",
       "    <tr>\n",
       "      <th>2</th>\n",
       "      <td>1717574</td>\n",
       "      <td>2603ff5a88f0b9b54576934c5ed4e4a64e8278e005687b...</td>\n",
       "      <td>12/06/2023 04:00:00 PM</td>\n",
       "      <td>2</td>\n",
       "      <td>DRIVER</td>\n",
       "      <td>NaN</td>\n",
       "      <td>1634978.0</td>\n",
       "      <td>NaN</td>\n",
       "      <td>CHRYSLER</td>\n",
       "      <td>SEBRING</td>\n",
       "      <td>...</td>\n",
       "      <td>NaN</td>\n",
       "      <td>NaN</td>\n",
       "      <td>NaN</td>\n",
       "      <td>NaN</td>\n",
       "      <td>NaN</td>\n",
       "      <td>NaN</td>\n",
       "      <td>NaN</td>\n",
       "      <td>NaN</td>\n",
       "      <td>NaN</td>\n",
       "      <td>NaN</td>\n",
       "    </tr>\n",
       "    <tr>\n",
       "      <th>3</th>\n",
       "      <td>1717579</td>\n",
       "      <td>a52ef70e33d468b855b5be44e8638a564434dcf99c0edf...</td>\n",
       "      <td>12/06/2023 04:30:00 PM</td>\n",
       "      <td>1</td>\n",
       "      <td>DRIVER</td>\n",
       "      <td>NaN</td>\n",
       "      <td>1634948.0</td>\n",
       "      <td>NaN</td>\n",
       "      <td>SUBARU</td>\n",
       "      <td>OUTBACK</td>\n",
       "      <td>...</td>\n",
       "      <td>NaN</td>\n",
       "      <td>NaN</td>\n",
       "      <td>NaN</td>\n",
       "      <td>NaN</td>\n",
       "      <td>NaN</td>\n",
       "      <td>NaN</td>\n",
       "      <td>NaN</td>\n",
       "      <td>NaN</td>\n",
       "      <td>NaN</td>\n",
       "      <td>NaN</td>\n",
       "    </tr>\n",
       "    <tr>\n",
       "      <th>4</th>\n",
       "      <td>1720118</td>\n",
       "      <td>609055f4b1a72a44d6ec40ba9036cefd7c1287a755eb6c...</td>\n",
       "      <td>12/10/2023 12:12:00 PM</td>\n",
       "      <td>1</td>\n",
       "      <td>DRIVER</td>\n",
       "      <td>NaN</td>\n",
       "      <td>1637401.0</td>\n",
       "      <td>NaN</td>\n",
       "      <td>TOYOTA</td>\n",
       "      <td>RAV4</td>\n",
       "      <td>...</td>\n",
       "      <td>NaN</td>\n",
       "      <td>NaN</td>\n",
       "      <td>NaN</td>\n",
       "      <td>NaN</td>\n",
       "      <td>NaN</td>\n",
       "      <td>NaN</td>\n",
       "      <td>NaN</td>\n",
       "      <td>NaN</td>\n",
       "      <td>NaN</td>\n",
       "      <td>NaN</td>\n",
       "    </tr>\n",
       "  </tbody>\n",
       "</table>\n",
       "<p>5 rows × 71 columns</p>\n",
       "</div>"
      ],
      "text/plain": [
       "   CRASH_UNIT_ID                                    CRASH_RECORD_ID  \\\n",
       "0        1727162  f5943b05f46b8d4148a63b7506a59113eae0cf1075aabc...   \n",
       "1        1717556  7b1763088507f77e0e552c009a6bf89a4d6330c7527706...   \n",
       "2        1717574  2603ff5a88f0b9b54576934c5ed4e4a64e8278e005687b...   \n",
       "3        1717579  a52ef70e33d468b855b5be44e8638a564434dcf99c0edf...   \n",
       "4        1720118  609055f4b1a72a44d6ec40ba9036cefd7c1287a755eb6c...   \n",
       "\n",
       "               CRASH_DATE  UNIT_NO   UNIT_TYPE  NUM_PASSENGERS  VEHICLE_ID  \\\n",
       "0  12/21/2023 08:57:00 AM        2  PEDESTRIAN             NaN         NaN   \n",
       "1  12/06/2023 03:24:00 PM        1      DRIVER             NaN   1634931.0   \n",
       "2  12/06/2023 04:00:00 PM        2      DRIVER             NaN   1634978.0   \n",
       "3  12/06/2023 04:30:00 PM        1      DRIVER             NaN   1634948.0   \n",
       "4  12/10/2023 12:12:00 PM        1      DRIVER             NaN   1637401.0   \n",
       "\n",
       "  CMRC_VEH_I      MAKE    MODEL  ... TRAILER1_LENGTH  TRAILER2_LENGTH  \\\n",
       "0        NaN       NaN      NaN  ...             NaN              NaN   \n",
       "1        NaN    NISSAN   SENTRA  ...             NaN              NaN   \n",
       "2        NaN  CHRYSLER  SEBRING  ...             NaN              NaN   \n",
       "3        NaN    SUBARU  OUTBACK  ...             NaN              NaN   \n",
       "4        NaN    TOYOTA     RAV4  ...             NaN              NaN   \n",
       "\n",
       "  TOTAL_VEHICLE_LENGTH AXLE_CNT VEHICLE_CONFIG CARGO_BODY_TYPE LOAD_TYPE  \\\n",
       "0                  NaN      NaN            NaN             NaN       NaN   \n",
       "1                  NaN      NaN            NaN             NaN       NaN   \n",
       "2                  NaN      NaN            NaN             NaN       NaN   \n",
       "3                  NaN      NaN            NaN             NaN       NaN   \n",
       "4                  NaN      NaN            NaN             NaN       NaN   \n",
       "\n",
       "  HAZMAT_OUT_OF_SERVICE_I MCS_OUT_OF_SERVICE_I  HAZMAT_CLASS  \n",
       "0                     NaN                  NaN           NaN  \n",
       "1                     NaN                  NaN           NaN  \n",
       "2                     NaN                  NaN           NaN  \n",
       "3                     NaN                  NaN           NaN  \n",
       "4                     NaN                  NaN           NaN  \n",
       "\n",
       "[5 rows x 71 columns]"
      ]
     },
     "execution_count": 24,
     "metadata": {},
     "output_type": "execute_result"
    }
   ],
   "source": [
    "vehicles.head()"
   ]
  },
  {
   "cell_type": "code",
   "execution_count": 25,
   "id": "48c1cb85",
   "metadata": {
    "execution": {
     "iopub.execute_input": "2024-10-10T18:15:44.321153Z",
     "iopub.status.busy": "2024-10-10T18:15:44.320106Z",
     "iopub.status.idle": "2024-10-10T18:15:44.333954Z",
     "shell.execute_reply": "2024-10-10T18:15:44.333032Z"
    },
    "papermill": {
     "duration": 0.046483,
     "end_time": "2024-10-10T18:15:44.336327",
     "exception": false,
     "start_time": "2024-10-10T18:15:44.289844",
     "status": "completed"
    },
    "tags": []
   },
   "outputs": [
    {
     "name": "stdout",
     "output_type": "stream",
     "text": [
      "<class 'pandas.core.frame.DataFrame'>\n",
      "RangeIndex: 1795922 entries, 0 to 1795921\n",
      "Data columns (total 71 columns):\n",
      " #   Column                    Dtype  \n",
      "---  ------                    -----  \n",
      " 0   CRASH_UNIT_ID             int64  \n",
      " 1   CRASH_RECORD_ID           object \n",
      " 2   CRASH_DATE                object \n",
      " 3   UNIT_NO                   int64  \n",
      " 4   UNIT_TYPE                 object \n",
      " 5   NUM_PASSENGERS            float64\n",
      " 6   VEHICLE_ID                float64\n",
      " 7   CMRC_VEH_I                object \n",
      " 8   MAKE                      object \n",
      " 9   MODEL                     object \n",
      " 10  LIC_PLATE_STATE           object \n",
      " 11  VEHICLE_YEAR              float64\n",
      " 12  VEHICLE_DEFECT            object \n",
      " 13  VEHICLE_TYPE              object \n",
      " 14  VEHICLE_USE               object \n",
      " 15  TRAVEL_DIRECTION          object \n",
      " 16  MANEUVER                  object \n",
      " 17  TOWED_I                   object \n",
      " 18  FIRE_I                    object \n",
      " 19  OCCUPANT_CNT              float64\n",
      " 20  EXCEED_SPEED_LIMIT_I      object \n",
      " 21  TOWED_BY                  object \n",
      " 22  TOWED_TO                  object \n",
      " 23  AREA_00_I                 object \n",
      " 24  AREA_01_I                 object \n",
      " 25  AREA_02_I                 object \n",
      " 26  AREA_03_I                 object \n",
      " 27  AREA_04_I                 object \n",
      " 28  AREA_05_I                 object \n",
      " 29  AREA_06_I                 object \n",
      " 30  AREA_07_I                 object \n",
      " 31  AREA_08_I                 object \n",
      " 32  AREA_09_I                 object \n",
      " 33  AREA_10_I                 object \n",
      " 34  AREA_11_I                 object \n",
      " 35  AREA_12_I                 object \n",
      " 36  AREA_99_I                 object \n",
      " 37  FIRST_CONTACT_POINT       object \n",
      " 38  CMV_ID                    float64\n",
      " 39  USDOT_NO                  object \n",
      " 40  CCMC_NO                   object \n",
      " 41  ILCC_NO                   object \n",
      " 42  COMMERCIAL_SRC            object \n",
      " 43  GVWR                      object \n",
      " 44  CARRIER_NAME              object \n",
      " 45  CARRIER_STATE             object \n",
      " 46  CARRIER_CITY              object \n",
      " 47  HAZMAT_PLACARDS_I         object \n",
      " 48  HAZMAT_NAME               object \n",
      " 49  UN_NO                     object \n",
      " 50  HAZMAT_PRESENT_I          object \n",
      " 51  HAZMAT_REPORT_I           object \n",
      " 52  HAZMAT_REPORT_NO          object \n",
      " 53  MCS_REPORT_I              object \n",
      " 54  MCS_REPORT_NO             object \n",
      " 55  HAZMAT_VIO_CAUSE_CRASH_I  object \n",
      " 56  MCS_VIO_CAUSE_CRASH_I     object \n",
      " 57  IDOT_PERMIT_NO            object \n",
      " 58  WIDE_LOAD_I               object \n",
      " 59  TRAILER1_WIDTH            object \n",
      " 60  TRAILER2_WIDTH            object \n",
      " 61  TRAILER1_LENGTH           float64\n",
      " 62  TRAILER2_LENGTH           float64\n",
      " 63  TOTAL_VEHICLE_LENGTH      float64\n",
      " 64  AXLE_CNT                  float64\n",
      " 65  VEHICLE_CONFIG            object \n",
      " 66  CARGO_BODY_TYPE           object \n",
      " 67  LOAD_TYPE                 object \n",
      " 68  HAZMAT_OUT_OF_SERVICE_I   object \n",
      " 69  MCS_OUT_OF_SERVICE_I      object \n",
      " 70  HAZMAT_CLASS              object \n",
      "dtypes: float64(9), int64(2), object(60)\n",
      "memory usage: 972.8+ MB\n"
     ]
    }
   ],
   "source": [
    "vehicles.info()"
   ]
  },
  {
   "cell_type": "code",
   "execution_count": 26,
   "id": "ff54e0c3",
   "metadata": {
    "execution": {
     "iopub.execute_input": "2024-10-10T18:15:44.396617Z",
     "iopub.status.busy": "2024-10-10T18:15:44.396255Z",
     "iopub.status.idle": "2024-10-10T18:15:56.851730Z",
     "shell.execute_reply": "2024-10-10T18:15:56.850758Z"
    },
    "papermill": {
     "duration": 12.486955,
     "end_time": "2024-10-10T18:15:56.853670",
     "exception": false,
     "start_time": "2024-10-10T18:15:44.366715",
     "status": "completed"
    },
    "tags": []
   },
   "outputs": [
    {
     "data": {
      "text/plain": [
       "False"
      ]
     },
     "execution_count": 26,
     "metadata": {},
     "output_type": "execute_result"
    }
   ],
   "source": [
    "vehicles.duplicated().values.any()"
   ]
  },
  {
   "cell_type": "code",
   "execution_count": 27,
   "id": "bbd49fe5",
   "metadata": {
    "execution": {
     "iopub.execute_input": "2024-10-10T18:15:56.912570Z",
     "iopub.status.busy": "2024-10-10T18:15:56.912188Z",
     "iopub.status.idle": "2024-10-10T18:15:56.918821Z",
     "shell.execute_reply": "2024-10-10T18:15:56.917972Z"
    },
    "papermill": {
     "duration": 0.038376,
     "end_time": "2024-10-10T18:15:56.920866",
     "exception": false,
     "start_time": "2024-10-10T18:15:56.882490",
     "status": "completed"
    },
    "tags": []
   },
   "outputs": [
    {
     "data": {
      "text/plain": [
       "Index(['CRASH_UNIT_ID', 'CRASH_RECORD_ID', 'CRASH_DATE', 'UNIT_NO',\n",
       "       'UNIT_TYPE', 'NUM_PASSENGERS', 'VEHICLE_ID', 'CMRC_VEH_I', 'MAKE',\n",
       "       'MODEL', 'LIC_PLATE_STATE', 'VEHICLE_YEAR', 'VEHICLE_DEFECT',\n",
       "       'VEHICLE_TYPE', 'VEHICLE_USE', 'TRAVEL_DIRECTION', 'MANEUVER',\n",
       "       'TOWED_I', 'FIRE_I', 'OCCUPANT_CNT', 'EXCEED_SPEED_LIMIT_I', 'TOWED_BY',\n",
       "       'TOWED_TO', 'AREA_00_I', 'AREA_01_I', 'AREA_02_I', 'AREA_03_I',\n",
       "       'AREA_04_I', 'AREA_05_I', 'AREA_06_I', 'AREA_07_I', 'AREA_08_I',\n",
       "       'AREA_09_I', 'AREA_10_I', 'AREA_11_I', 'AREA_12_I', 'AREA_99_I',\n",
       "       'FIRST_CONTACT_POINT', 'CMV_ID', 'USDOT_NO', 'CCMC_NO', 'ILCC_NO',\n",
       "       'COMMERCIAL_SRC', 'GVWR', 'CARRIER_NAME', 'CARRIER_STATE',\n",
       "       'CARRIER_CITY', 'HAZMAT_PLACARDS_I', 'HAZMAT_NAME', 'UN_NO',\n",
       "       'HAZMAT_PRESENT_I', 'HAZMAT_REPORT_I', 'HAZMAT_REPORT_NO',\n",
       "       'MCS_REPORT_I', 'MCS_REPORT_NO', 'HAZMAT_VIO_CAUSE_CRASH_I',\n",
       "       'MCS_VIO_CAUSE_CRASH_I', 'IDOT_PERMIT_NO', 'WIDE_LOAD_I',\n",
       "       'TRAILER1_WIDTH', 'TRAILER2_WIDTH', 'TRAILER1_LENGTH',\n",
       "       'TRAILER2_LENGTH', 'TOTAL_VEHICLE_LENGTH', 'AXLE_CNT', 'VEHICLE_CONFIG',\n",
       "       'CARGO_BODY_TYPE', 'LOAD_TYPE', 'HAZMAT_OUT_OF_SERVICE_I',\n",
       "       'MCS_OUT_OF_SERVICE_I', 'HAZMAT_CLASS'],\n",
       "      dtype='object')"
      ]
     },
     "execution_count": 27,
     "metadata": {},
     "output_type": "execute_result"
    }
   ],
   "source": [
    "vehicles.columns"
   ]
  },
  {
   "cell_type": "code",
   "execution_count": 28,
   "id": "d020cdad",
   "metadata": {
    "execution": {
     "iopub.execute_input": "2024-10-10T18:15:56.979621Z",
     "iopub.status.busy": "2024-10-10T18:15:56.979247Z",
     "iopub.status.idle": "2024-10-10T18:15:56.983854Z",
     "shell.execute_reply": "2024-10-10T18:15:56.983050Z"
    },
    "papermill": {
     "duration": 0.036259,
     "end_time": "2024-10-10T18:15:56.985851",
     "exception": false,
     "start_time": "2024-10-10T18:15:56.949592",
     "status": "completed"
    },
    "tags": []
   },
   "outputs": [],
   "source": [
    "columns_to_drop = ['AREA_00_I', 'AREA_01_I', 'AREA_02_I', 'AREA_03_I', 'AREA_04_I', 'AREA_05_I', 'AREA_06_I', 'AREA_07_I',\n",
    "                   'AREA_08_I', 'AREA_09_I', 'AREA_10_I', 'AREA_11_I', 'AREA_12_I', 'AREA_99_I']"
   ]
  },
  {
   "cell_type": "code",
   "execution_count": 29,
   "id": "54d4c8b3",
   "metadata": {
    "execution": {
     "iopub.execute_input": "2024-10-10T18:15:57.044449Z",
     "iopub.status.busy": "2024-10-10T18:15:57.044084Z",
     "iopub.status.idle": "2024-10-10T18:15:57.913944Z",
     "shell.execute_reply": "2024-10-10T18:15:57.913104Z"
    },
    "papermill": {
     "duration": 0.902051,
     "end_time": "2024-10-10T18:15:57.916325",
     "exception": false,
     "start_time": "2024-10-10T18:15:57.014274",
     "status": "completed"
    },
    "tags": []
   },
   "outputs": [],
   "source": [
    "vehicles.drop(columns=columns_to_drop, inplace=True)"
   ]
  },
  {
   "cell_type": "code",
   "execution_count": 30,
   "id": "cd8dfe6a",
   "metadata": {
    "execution": {
     "iopub.execute_input": "2024-10-10T18:15:57.975094Z",
     "iopub.status.busy": "2024-10-10T18:15:57.974731Z",
     "iopub.status.idle": "2024-10-10T18:16:01.982666Z",
     "shell.execute_reply": "2024-10-10T18:16:01.981684Z"
    },
    "papermill": {
     "duration": 4.039845,
     "end_time": "2024-10-10T18:16:01.984905",
     "exception": false,
     "start_time": "2024-10-10T18:15:57.945060",
     "status": "completed"
    },
    "tags": []
   },
   "outputs": [
    {
     "data": {
      "text/plain": [
       "CRASH_UNIT_ID                     0\n",
       "CRASH_RECORD_ID                   0\n",
       "CRASH_DATE                        0\n",
       "UNIT_NO                           0\n",
       "UNIT_TYPE                      2224\n",
       "NUM_PASSENGERS              1529938\n",
       "VEHICLE_ID                    41840\n",
       "CMRC_VEH_I                  1762524\n",
       "MAKE                          41845\n",
       "MODEL                         41990\n",
       "LIC_PLATE_STATE              202424\n",
       "VEHICLE_YEAR                 321275\n",
       "VEHICLE_DEFECT                41840\n",
       "VEHICLE_TYPE                  41840\n",
       "VEHICLE_USE                   41840\n",
       "TRAVEL_DIRECTION              41840\n",
       "MANEUVER                      41840\n",
       "TOWED_I                     1573081\n",
       "FIRE_I                      1794455\n",
       "OCCUPANT_CNT                  41840\n",
       "EXCEED_SPEED_LIMIT_I        1793520\n",
       "TOWED_BY                    1627522\n",
       "TOWED_TO                    1692581\n",
       "FIRST_CONTACT_POINT           44983\n",
       "CMV_ID                      1777777\n",
       "USDOT_NO                    1785808\n",
       "CCMC_NO                     1793800\n",
       "ILCC_NO                     1794468\n",
       "COMMERCIAL_SRC              1784001\n",
       "GVWR                        1785916\n",
       "CARRIER_NAME                1778583\n",
       "CARRIER_STATE               1779665\n",
       "CARRIER_CITY                1779966\n",
       "HAZMAT_PLACARDS_I           1795575\n",
       "HAZMAT_NAME                 1795859\n",
       "UN_NO                       1795321\n",
       "HAZMAT_PRESENT_I            1782660\n",
       "HAZMAT_REPORT_I             1783020\n",
       "HAZMAT_REPORT_NO            1795921\n",
       "MCS_REPORT_I                1782973\n",
       "MCS_REPORT_NO               1795915\n",
       "HAZMAT_VIO_CAUSE_CRASH_I    1782849\n",
       "MCS_VIO_CAUSE_CRASH_I       1783066\n",
       "IDOT_PERMIT_NO              1794945\n",
       "WIDE_LOAD_I                 1795761\n",
       "TRAILER1_WIDTH              1792917\n",
       "TRAILER2_WIDTH              1795560\n",
       "TRAILER1_LENGTH             1793508\n",
       "TRAILER2_LENGTH             1795852\n",
       "TOTAL_VEHICLE_LENGTH        1792986\n",
       "AXLE_CNT                    1791495\n",
       "VEHICLE_CONFIG              1780912\n",
       "CARGO_BODY_TYPE             1781575\n",
       "LOAD_TYPE                   1782209\n",
       "HAZMAT_OUT_OF_SERVICE_I     1783385\n",
       "MCS_OUT_OF_SERVICE_I        1783150\n",
       "HAZMAT_CLASS                1794772\n",
       "dtype: int64"
      ]
     },
     "execution_count": 30,
     "metadata": {},
     "output_type": "execute_result"
    }
   ],
   "source": [
    "vehicles.isnull().sum()"
   ]
  },
  {
   "cell_type": "code",
   "execution_count": 31,
   "id": "2f68b558",
   "metadata": {
    "execution": {
     "iopub.execute_input": "2024-10-10T18:16:02.046595Z",
     "iopub.status.busy": "2024-10-10T18:16:02.045810Z",
     "iopub.status.idle": "2024-10-10T18:16:02.524981Z",
     "shell.execute_reply": "2024-10-10T18:16:02.523997Z"
    },
    "papermill": {
     "duration": 0.51219,
     "end_time": "2024-10-10T18:16:02.527474",
     "exception": false,
     "start_time": "2024-10-10T18:16:02.015284",
     "status": "completed"
    },
    "tags": []
   },
   "outputs": [],
   "source": [
    "vehicles.drop(columns=['CMV_ID', 'USDOT_NO', 'CCMC_NO', 'ILCC_NO','COMMERCIAL_SRC', 'GVWR', 'CARRIER_NAME', 'CARRIER_STATE',      'CARRIER_CITY', 'HAZMAT_PLACARDS_I', 'HAZMAT_NAME', 'UN_NO',\n",
    "       'HAZMAT_PRESENT_I', 'HAZMAT_REPORT_I', 'HAZMAT_REPORT_NO','MCS_REPORT_I', 'MCS_REPORT_NO', 'HAZMAT_VIO_CAUSE_CRASH_I',\n",
    "       'MCS_VIO_CAUSE_CRASH_I', 'IDOT_PERMIT_NO', 'WIDE_LOAD_I','TRAILER1_WIDTH', 'TRAILER2_WIDTH', 'TRAILER1_LENGTH',\n",
    "       'TRAILER2_LENGTH', 'TOTAL_VEHICLE_LENGTH', 'AXLE_CNT', 'VEHICLE_CONFIG','CARGO_BODY_TYPE', 'LOAD_TYPE', \n",
    "       'HAZMAT_OUT_OF_SERVICE_I','MCS_OUT_OF_SERVICE_I', 'HAZMAT_CLASS','EXCEED_SPEED_LIMIT_I', 'TOWED_BY','TOWED_TO',\n",
    "       'TOWED_I', 'FIRE_I','CMRC_VEH_I','NUM_PASSENGERS'], inplace=True)"
   ]
  },
  {
   "cell_type": "code",
   "execution_count": 32,
   "id": "82a9d881",
   "metadata": {
    "execution": {
     "iopub.execute_input": "2024-10-10T18:16:02.587355Z",
     "iopub.status.busy": "2024-10-10T18:16:02.586996Z",
     "iopub.status.idle": "2024-10-10T18:16:04.556451Z",
     "shell.execute_reply": "2024-10-10T18:16:04.555526Z"
    },
    "papermill": {
     "duration": 2.001718,
     "end_time": "2024-10-10T18:16:04.558516",
     "exception": false,
     "start_time": "2024-10-10T18:16:02.556798",
     "status": "completed"
    },
    "tags": []
   },
   "outputs": [
    {
     "data": {
      "text/plain": [
       "CRASH_UNIT_ID               0\n",
       "CRASH_RECORD_ID             0\n",
       "CRASH_DATE                  0\n",
       "UNIT_NO                     0\n",
       "UNIT_TYPE                2224\n",
       "VEHICLE_ID              41840\n",
       "MAKE                    41845\n",
       "MODEL                   41990\n",
       "LIC_PLATE_STATE        202424\n",
       "VEHICLE_YEAR           321275\n",
       "VEHICLE_DEFECT          41840\n",
       "VEHICLE_TYPE            41840\n",
       "VEHICLE_USE             41840\n",
       "TRAVEL_DIRECTION        41840\n",
       "MANEUVER                41840\n",
       "OCCUPANT_CNT            41840\n",
       "FIRST_CONTACT_POINT     44983\n",
       "dtype: int64"
      ]
     },
     "execution_count": 32,
     "metadata": {},
     "output_type": "execute_result"
    }
   ],
   "source": [
    "vehicles.isnull().sum()"
   ]
  },
  {
   "cell_type": "code",
   "execution_count": 33,
   "id": "1dedb1d1",
   "metadata": {
    "execution": {
     "iopub.execute_input": "2024-10-10T18:16:04.618191Z",
     "iopub.status.busy": "2024-10-10T18:16:04.617836Z",
     "iopub.status.idle": "2024-10-10T18:16:04.638045Z",
     "shell.execute_reply": "2024-10-10T18:16:04.637335Z"
    },
    "papermill": {
     "duration": 0.052126,
     "end_time": "2024-10-10T18:16:04.640157",
     "exception": false,
     "start_time": "2024-10-10T18:16:04.588031",
     "status": "completed"
    },
    "tags": []
   },
   "outputs": [
    {
     "data": {
      "text/html": [
       "<div>\n",
       "<style scoped>\n",
       "    .dataframe tbody tr th:only-of-type {\n",
       "        vertical-align: middle;\n",
       "    }\n",
       "\n",
       "    .dataframe tbody tr th {\n",
       "        vertical-align: top;\n",
       "    }\n",
       "\n",
       "    .dataframe thead th {\n",
       "        text-align: right;\n",
       "    }\n",
       "</style>\n",
       "<table border=\"1\" class=\"dataframe\">\n",
       "  <thead>\n",
       "    <tr style=\"text-align: right;\">\n",
       "      <th></th>\n",
       "      <th>CRASH_UNIT_ID</th>\n",
       "      <th>CRASH_RECORD_ID</th>\n",
       "      <th>CRASH_DATE</th>\n",
       "      <th>UNIT_NO</th>\n",
       "      <th>UNIT_TYPE</th>\n",
       "      <th>VEHICLE_ID</th>\n",
       "      <th>MAKE</th>\n",
       "      <th>MODEL</th>\n",
       "      <th>LIC_PLATE_STATE</th>\n",
       "      <th>VEHICLE_YEAR</th>\n",
       "      <th>VEHICLE_DEFECT</th>\n",
       "      <th>VEHICLE_TYPE</th>\n",
       "      <th>VEHICLE_USE</th>\n",
       "      <th>TRAVEL_DIRECTION</th>\n",
       "      <th>MANEUVER</th>\n",
       "      <th>OCCUPANT_CNT</th>\n",
       "      <th>FIRST_CONTACT_POINT</th>\n",
       "    </tr>\n",
       "  </thead>\n",
       "  <tbody>\n",
       "    <tr>\n",
       "      <th>0</th>\n",
       "      <td>1727162</td>\n",
       "      <td>f5943b05f46b8d4148a63b7506a59113eae0cf1075aabc...</td>\n",
       "      <td>12/21/2023 08:57:00 AM</td>\n",
       "      <td>2</td>\n",
       "      <td>PEDESTRIAN</td>\n",
       "      <td>NaN</td>\n",
       "      <td>NaN</td>\n",
       "      <td>NaN</td>\n",
       "      <td>NaN</td>\n",
       "      <td>NaN</td>\n",
       "      <td>NaN</td>\n",
       "      <td>NaN</td>\n",
       "      <td>NaN</td>\n",
       "      <td>NaN</td>\n",
       "      <td>NaN</td>\n",
       "      <td>NaN</td>\n",
       "      <td>NaN</td>\n",
       "    </tr>\n",
       "    <tr>\n",
       "      <th>1</th>\n",
       "      <td>1717556</td>\n",
       "      <td>7b1763088507f77e0e552c009a6bf89a4d6330c7527706...</td>\n",
       "      <td>12/06/2023 03:24:00 PM</td>\n",
       "      <td>1</td>\n",
       "      <td>DRIVER</td>\n",
       "      <td>1634931.0</td>\n",
       "      <td>NISSAN</td>\n",
       "      <td>SENTRA</td>\n",
       "      <td>IL</td>\n",
       "      <td>2009.0</td>\n",
       "      <td>UNKNOWN</td>\n",
       "      <td>UNKNOWN/NA</td>\n",
       "      <td>UNKNOWN/NA</td>\n",
       "      <td>S</td>\n",
       "      <td>SLOW/STOP IN TRAFFIC</td>\n",
       "      <td>1.0</td>\n",
       "      <td>FRONT</td>\n",
       "    </tr>\n",
       "    <tr>\n",
       "      <th>2</th>\n",
       "      <td>1717574</td>\n",
       "      <td>2603ff5a88f0b9b54576934c5ed4e4a64e8278e005687b...</td>\n",
       "      <td>12/06/2023 04:00:00 PM</td>\n",
       "      <td>2</td>\n",
       "      <td>DRIVER</td>\n",
       "      <td>1634978.0</td>\n",
       "      <td>CHRYSLER</td>\n",
       "      <td>SEBRING</td>\n",
       "      <td>IL</td>\n",
       "      <td>2010.0</td>\n",
       "      <td>NONE</td>\n",
       "      <td>PASSENGER</td>\n",
       "      <td>PERSONAL</td>\n",
       "      <td>S</td>\n",
       "      <td>PASSING/OVERTAKING</td>\n",
       "      <td>1.0</td>\n",
       "      <td>REAR-RIGHT-CORNER</td>\n",
       "    </tr>\n",
       "    <tr>\n",
       "      <th>3</th>\n",
       "      <td>1717579</td>\n",
       "      <td>a52ef70e33d468b855b5be44e8638a564434dcf99c0edf...</td>\n",
       "      <td>12/06/2023 04:30:00 PM</td>\n",
       "      <td>1</td>\n",
       "      <td>DRIVER</td>\n",
       "      <td>1634948.0</td>\n",
       "      <td>SUBARU</td>\n",
       "      <td>OUTBACK</td>\n",
       "      <td>IL</td>\n",
       "      <td>2015.0</td>\n",
       "      <td>UNKNOWN</td>\n",
       "      <td>PASSENGER</td>\n",
       "      <td>PERSONAL</td>\n",
       "      <td>W</td>\n",
       "      <td>TURNING RIGHT</td>\n",
       "      <td>1.0</td>\n",
       "      <td>FRONT</td>\n",
       "    </tr>\n",
       "    <tr>\n",
       "      <th>4</th>\n",
       "      <td>1720118</td>\n",
       "      <td>609055f4b1a72a44d6ec40ba9036cefd7c1287a755eb6c...</td>\n",
       "      <td>12/10/2023 12:12:00 PM</td>\n",
       "      <td>1</td>\n",
       "      <td>DRIVER</td>\n",
       "      <td>1637401.0</td>\n",
       "      <td>TOYOTA</td>\n",
       "      <td>RAV4</td>\n",
       "      <td>IL</td>\n",
       "      <td>2018.0</td>\n",
       "      <td>UNKNOWN</td>\n",
       "      <td>PASSENGER</td>\n",
       "      <td>PERSONAL</td>\n",
       "      <td>E</td>\n",
       "      <td>STRAIGHT AHEAD</td>\n",
       "      <td>1.0</td>\n",
       "      <td>SIDE-LEFT-FRONT</td>\n",
       "    </tr>\n",
       "  </tbody>\n",
       "</table>\n",
       "</div>"
      ],
      "text/plain": [
       "   CRASH_UNIT_ID                                    CRASH_RECORD_ID  \\\n",
       "0        1727162  f5943b05f46b8d4148a63b7506a59113eae0cf1075aabc...   \n",
       "1        1717556  7b1763088507f77e0e552c009a6bf89a4d6330c7527706...   \n",
       "2        1717574  2603ff5a88f0b9b54576934c5ed4e4a64e8278e005687b...   \n",
       "3        1717579  a52ef70e33d468b855b5be44e8638a564434dcf99c0edf...   \n",
       "4        1720118  609055f4b1a72a44d6ec40ba9036cefd7c1287a755eb6c...   \n",
       "\n",
       "               CRASH_DATE  UNIT_NO   UNIT_TYPE  VEHICLE_ID      MAKE    MODEL  \\\n",
       "0  12/21/2023 08:57:00 AM        2  PEDESTRIAN         NaN       NaN      NaN   \n",
       "1  12/06/2023 03:24:00 PM        1      DRIVER   1634931.0    NISSAN   SENTRA   \n",
       "2  12/06/2023 04:00:00 PM        2      DRIVER   1634978.0  CHRYSLER  SEBRING   \n",
       "3  12/06/2023 04:30:00 PM        1      DRIVER   1634948.0    SUBARU  OUTBACK   \n",
       "4  12/10/2023 12:12:00 PM        1      DRIVER   1637401.0    TOYOTA     RAV4   \n",
       "\n",
       "  LIC_PLATE_STATE  VEHICLE_YEAR VEHICLE_DEFECT VEHICLE_TYPE VEHICLE_USE  \\\n",
       "0             NaN           NaN            NaN          NaN         NaN   \n",
       "1              IL        2009.0        UNKNOWN   UNKNOWN/NA  UNKNOWN/NA   \n",
       "2              IL        2010.0           NONE    PASSENGER    PERSONAL   \n",
       "3              IL        2015.0        UNKNOWN    PASSENGER    PERSONAL   \n",
       "4              IL        2018.0        UNKNOWN    PASSENGER    PERSONAL   \n",
       "\n",
       "  TRAVEL_DIRECTION              MANEUVER  OCCUPANT_CNT FIRST_CONTACT_POINT  \n",
       "0              NaN                   NaN           NaN                 NaN  \n",
       "1                S  SLOW/STOP IN TRAFFIC           1.0               FRONT  \n",
       "2                S    PASSING/OVERTAKING           1.0   REAR-RIGHT-CORNER  \n",
       "3                W         TURNING RIGHT           1.0               FRONT  \n",
       "4                E        STRAIGHT AHEAD           1.0     SIDE-LEFT-FRONT  "
      ]
     },
     "execution_count": 33,
     "metadata": {},
     "output_type": "execute_result"
    }
   ],
   "source": [
    "vehicles.head()"
   ]
  },
  {
   "cell_type": "code",
   "execution_count": 34,
   "id": "f15974f5",
   "metadata": {
    "execution": {
     "iopub.execute_input": "2024-10-10T18:16:04.699705Z",
     "iopub.status.busy": "2024-10-10T18:16:04.699397Z",
     "iopub.status.idle": "2024-10-10T18:16:04.981194Z",
     "shell.execute_reply": "2024-10-10T18:16:04.980253Z"
    },
    "papermill": {
     "duration": 0.313464,
     "end_time": "2024-10-10T18:16:04.983110",
     "exception": false,
     "start_time": "2024-10-10T18:16:04.669646",
     "status": "completed"
    },
    "tags": []
   },
   "outputs": [
    {
     "data": {
      "text/plain": [
       "UNIT_TYPE\n",
       "DRIVER                 1503299\n",
       "PARKED                  236817\n",
       "PEDESTRIAN               22716\n",
       "DRIVERLESS               14359\n",
       "BICYCLE                  14280\n",
       "NON-MOTOR VEHICLE         1621\n",
       "NON-CONTACT VEHICLE        325\n",
       "DISABLED VEHICLE           274\n",
       "EQUESTRIAN                   7\n",
       "Name: count, dtype: int64"
      ]
     },
     "execution_count": 34,
     "metadata": {},
     "output_type": "execute_result"
    }
   ],
   "source": [
    "vehicles['UNIT_TYPE'].value_counts()"
   ]
  },
  {
   "cell_type": "code",
   "execution_count": 35,
   "id": "0ca564d3",
   "metadata": {
    "execution": {
     "iopub.execute_input": "2024-10-10T18:16:05.043462Z",
     "iopub.status.busy": "2024-10-10T18:16:05.042704Z",
     "iopub.status.idle": "2024-10-10T18:16:05.323531Z",
     "shell.execute_reply": "2024-10-10T18:16:05.322605Z"
    },
    "papermill": {
     "duration": 0.312962,
     "end_time": "2024-10-10T18:16:05.325567",
     "exception": false,
     "start_time": "2024-10-10T18:16:05.012605",
     "status": "completed"
    },
    "tags": []
   },
   "outputs": [
    {
     "data": {
      "text/plain": [
       "MAKE\n",
       "CHEVROLET                                    202560\n",
       "FORD                                         175220\n",
       "UNKNOWN                                      174599\n",
       "NISSAN                                       141483\n",
       "HONDA                                        129283\n",
       "                                              ...  \n",
       "NEW IDEA ELECTRIC LAWN GARDEN TRACTOR             1\n",
       "REX                                               1\n",
       "TRAIL MASTER TRAILERS, INC., COLEMAN, OK          1\n",
       "TRANSPORT SYSTEMS, INC., DENTON, TEXAS            1\n",
       "CORN BELT MANUFACTURING, INC. (EARLY, IA)         1\n",
       "Name: count, Length: 1381, dtype: int64"
      ]
     },
     "execution_count": 35,
     "metadata": {},
     "output_type": "execute_result"
    }
   ],
   "source": [
    "vehicles['MAKE'].value_counts()"
   ]
  },
  {
   "cell_type": "code",
   "execution_count": 36,
   "id": "973ea3f2",
   "metadata": {
    "execution": {
     "iopub.execute_input": "2024-10-10T18:16:05.386312Z",
     "iopub.status.busy": "2024-10-10T18:16:05.385653Z",
     "iopub.status.idle": "2024-10-10T18:16:05.668955Z",
     "shell.execute_reply": "2024-10-10T18:16:05.667979Z"
    },
    "papermill": {
     "duration": 0.315664,
     "end_time": "2024-10-10T18:16:05.671027",
     "exception": false,
     "start_time": "2024-10-10T18:16:05.355363",
     "status": "completed"
    },
    "tags": []
   },
   "outputs": [
    {
     "data": {
      "text/plain": [
       "MODEL\n",
       "UNKNOWN                         180803\n",
       "OTHER (EXPLAIN IN NARRATIVE)    167239\n",
       "CAMRY                            55862\n",
       "COROLLA                          35368\n",
       "CIVIC                            33651\n",
       "                                 ...  \n",
       "BRAT                                 1\n",
       "DUKE MOBILE HOMES                    1\n",
       "FERGUSON MFG. CO., INC.              1\n",
       "WAYSIDE CAMPERS                      1\n",
       "CENTURY ENGINEERING CORP.            1\n",
       "Name: count, Length: 2771, dtype: int64"
      ]
     },
     "execution_count": 36,
     "metadata": {},
     "output_type": "execute_result"
    }
   ],
   "source": [
    "vehicles['MODEL'].value_counts()"
   ]
  },
  {
   "cell_type": "code",
   "execution_count": 37,
   "id": "398a8501",
   "metadata": {
    "execution": {
     "iopub.execute_input": "2024-10-10T18:16:05.732462Z",
     "iopub.status.busy": "2024-10-10T18:16:05.731930Z",
     "iopub.status.idle": "2024-10-10T18:16:05.995875Z",
     "shell.execute_reply": "2024-10-10T18:16:05.994960Z"
    },
    "papermill": {
     "duration": 0.296297,
     "end_time": "2024-10-10T18:16:05.997952",
     "exception": false,
     "start_time": "2024-10-10T18:16:05.701655",
     "status": "completed"
    },
    "tags": []
   },
   "outputs": [
    {
     "data": {
      "text/plain": [
       "LIC_PLATE_STATE\n",
       "IL    1460128\n",
       "IN      32220\n",
       "XX      30652\n",
       "WI      10264\n",
       "MI       6897\n",
       "FL       6639\n",
       "TX       5094\n",
       "OH       4206\n",
       "AZ       3709\n",
       "MN       3021\n",
       "IA       2866\n",
       "CA       2710\n",
       "MO       2696\n",
       "TN       2453\n",
       "GA       2078\n",
       "OK       1472\n",
       "PA       1277\n",
       "NY       1241\n",
       "KY       1055\n",
       "VA       1041\n",
       "NC        988\n",
       "NJ        970\n",
       "CO        863\n",
       "MS        805\n",
       "MD        726\n",
       "AL        695\n",
       "NB        652\n",
       "WA        626\n",
       "KS        609\n",
       "MA        542\n",
       "LA        537\n",
       "AR        515\n",
       "SC        408\n",
       "ME        378\n",
       "NV        290\n",
       "OR        288\n",
       "CT        260\n",
       "UT        232\n",
       "MT        189\n",
       "SD        181\n",
       "ID        164\n",
       "NM        159\n",
       "ND        132\n",
       "WV        105\n",
       "NH         83\n",
       "RI         75\n",
       "DE         74\n",
       "DC         66\n",
       "VT         60\n",
       "AK         46\n",
       "WY         39\n",
       "HI         22\n",
       "Name: count, dtype: int64"
      ]
     },
     "execution_count": 37,
     "metadata": {},
     "output_type": "execute_result"
    }
   ],
   "source": [
    "vehicles['LIC_PLATE_STATE'].value_counts()"
   ]
  },
  {
   "cell_type": "code",
   "execution_count": 38,
   "id": "9cbfaba7",
   "metadata": {
    "execution": {
     "iopub.execute_input": "2024-10-10T18:16:06.059071Z",
     "iopub.status.busy": "2024-10-10T18:16:06.058709Z",
     "iopub.status.idle": "2024-10-10T18:16:06.091754Z",
     "shell.execute_reply": "2024-10-10T18:16:06.090935Z"
    },
    "papermill": {
     "duration": 0.065966,
     "end_time": "2024-10-10T18:16:06.093592",
     "exception": false,
     "start_time": "2024-10-10T18:16:06.027626",
     "status": "completed"
    },
    "tags": []
   },
   "outputs": [
    {
     "data": {
      "text/plain": [
       "VEHICLE_YEAR\n",
       "2015.0    108201\n",
       "2016.0    101971\n",
       "2017.0    101756\n",
       "2014.0     95887\n",
       "2013.0     88641\n",
       "           ...  \n",
       "2218.0         1\n",
       "1939.0         1\n",
       "6628.0         1\n",
       "2046.0         1\n",
       "2320.0         1\n",
       "Name: count, Length: 242, dtype: int64"
      ]
     },
     "execution_count": 38,
     "metadata": {},
     "output_type": "execute_result"
    }
   ],
   "source": [
    "vehicles['VEHICLE_YEAR'].value_counts()"
   ]
  },
  {
   "cell_type": "code",
   "execution_count": 39,
   "id": "595ed153",
   "metadata": {
    "execution": {
     "iopub.execute_input": "2024-10-10T18:16:06.155422Z",
     "iopub.status.busy": "2024-10-10T18:16:06.154900Z",
     "iopub.status.idle": "2024-10-10T18:16:06.432418Z",
     "shell.execute_reply": "2024-10-10T18:16:06.431525Z"
    },
    "papermill": {
     "duration": 0.310968,
     "end_time": "2024-10-10T18:16:06.434595",
     "exception": false,
     "start_time": "2024-10-10T18:16:06.123627",
     "status": "completed"
    },
    "tags": []
   },
   "outputs": [
    {
     "data": {
      "text/plain": [
       "FIRST_CONTACT_POINT\n",
       "FRONT                 344058\n",
       "REAR                  231752\n",
       "UNKNOWN               167342\n",
       "SIDE-LEFT             120702\n",
       "FRONT-LEFT-CORNER     115778\n",
       "SIDE-RIGHT            114848\n",
       "FRONT-RIGHT-CORNER    113423\n",
       "FRONT-LEFT             81524\n",
       "FRONT-RIGHT            76903\n",
       "REAR-LEFT              68088\n",
       "REAR-LEFT-CORNER       51510\n",
       "OTHER                  41620\n",
       "REAR-RIGHT-CORNER      37659\n",
       "REAR-RIGHT             36488\n",
       "SIDE-LEFT-REAR         29425\n",
       "TOTAL (ALL AREAS)      28019\n",
       "SIDE-RIGHT-REAR        22277\n",
       "SIDE-LEFT-FRONT        19175\n",
       "SIDE-RIGHT-FRONT       16556\n",
       "NONE                   13799\n",
       "ROOF                   11958\n",
       "UNDER CARRIAGE          5844\n",
       "TOP                     2191\n",
       "Name: count, dtype: int64"
      ]
     },
     "execution_count": 39,
     "metadata": {},
     "output_type": "execute_result"
    }
   ],
   "source": [
    "vehicles['FIRST_CONTACT_POINT'].value_counts()\n"
   ]
  },
  {
   "cell_type": "code",
   "execution_count": 40,
   "id": "cb501000",
   "metadata": {
    "execution": {
     "iopub.execute_input": "2024-10-10T18:16:06.496643Z",
     "iopub.status.busy": "2024-10-10T18:16:06.496305Z",
     "iopub.status.idle": "2024-10-10T18:16:06.705881Z",
     "shell.execute_reply": "2024-10-10T18:16:06.704898Z"
    },
    "papermill": {
     "duration": 0.242728,
     "end_time": "2024-10-10T18:16:06.708134",
     "exception": false,
     "start_time": "2024-10-10T18:16:06.465406",
     "status": "completed"
    },
    "tags": []
   },
   "outputs": [],
   "source": [
    "rows_to_remove = vehicles[vehicles['VEHICLE_DEFECT'].isnull()].index"
   ]
  },
  {
   "cell_type": "code",
   "execution_count": 41,
   "id": "a4b007b6",
   "metadata": {
    "execution": {
     "iopub.execute_input": "2024-10-10T18:16:06.770538Z",
     "iopub.status.busy": "2024-10-10T18:16:06.769882Z",
     "iopub.status.idle": "2024-10-10T18:16:07.108470Z",
     "shell.execute_reply": "2024-10-10T18:16:07.107700Z"
    },
    "papermill": {
     "duration": 0.372331,
     "end_time": "2024-10-10T18:16:07.110819",
     "exception": false,
     "start_time": "2024-10-10T18:16:06.738488",
     "status": "completed"
    },
    "tags": []
   },
   "outputs": [],
   "source": [
    "vehicles.drop(rows_to_remove, inplace=True)"
   ]
  },
  {
   "cell_type": "code",
   "execution_count": 42,
   "id": "fc27b9f4",
   "metadata": {
    "execution": {
     "iopub.execute_input": "2024-10-10T18:16:07.175406Z",
     "iopub.status.busy": "2024-10-10T18:16:07.174577Z",
     "iopub.status.idle": "2024-10-10T18:16:07.468602Z",
     "shell.execute_reply": "2024-10-10T18:16:07.467825Z"
    },
    "papermill": {
     "duration": 0.328677,
     "end_time": "2024-10-10T18:16:07.470925",
     "exception": false,
     "start_time": "2024-10-10T18:16:07.142248",
     "status": "completed"
    },
    "tags": []
   },
   "outputs": [],
   "source": [
    "vehicles.drop(columns=['LIC_PLATE_STATE', 'VEHICLE_YEAR'], inplace=True)"
   ]
  },
  {
   "cell_type": "code",
   "execution_count": 43,
   "id": "17589d5e",
   "metadata": {
    "execution": {
     "iopub.execute_input": "2024-10-10T18:16:07.533453Z",
     "iopub.status.busy": "2024-10-10T18:16:07.532673Z",
     "iopub.status.idle": "2024-10-10T18:16:08.481324Z",
     "shell.execute_reply": "2024-10-10T18:16:08.480534Z"
    },
    "papermill": {
     "duration": 0.982498,
     "end_time": "2024-10-10T18:16:08.483708",
     "exception": false,
     "start_time": "2024-10-10T18:16:07.501210",
     "status": "completed"
    },
    "tags": []
   },
   "outputs": [],
   "source": [
    "mf_unit_type = vehicles['UNIT_TYPE'].mode()[0]\n",
    "\n",
    "vehicles['UNIT_TYPE'].fillna(mf_unit_type, inplace=True)\n",
    "vehicles['MAKE'].fillna('UNKNOWN', inplace=True)\n",
    "vehicles['MODEL'].fillna('UNKNOWN', inplace=True)\n",
    "vehicles['FIRST_CONTACT_POINT'].fillna('UNKNOWN', inplace=True)"
   ]
  },
  {
   "cell_type": "code",
   "execution_count": 44,
   "id": "fd9030c4",
   "metadata": {
    "execution": {
     "iopub.execute_input": "2024-10-10T18:16:08.545716Z",
     "iopub.status.busy": "2024-10-10T18:16:08.545045Z",
     "iopub.status.idle": "2024-10-10T18:16:10.299617Z",
     "shell.execute_reply": "2024-10-10T18:16:10.298764Z"
    },
    "papermill": {
     "duration": 1.787397,
     "end_time": "2024-10-10T18:16:10.301561",
     "exception": false,
     "start_time": "2024-10-10T18:16:08.514164",
     "status": "completed"
    },
    "tags": []
   },
   "outputs": [
    {
     "data": {
      "text/plain": [
       "CRASH_UNIT_ID          0\n",
       "CRASH_RECORD_ID        0\n",
       "CRASH_DATE             0\n",
       "UNIT_NO                0\n",
       "UNIT_TYPE              0\n",
       "VEHICLE_ID             0\n",
       "MAKE                   0\n",
       "MODEL                  0\n",
       "VEHICLE_DEFECT         0\n",
       "VEHICLE_TYPE           0\n",
       "VEHICLE_USE            0\n",
       "TRAVEL_DIRECTION       0\n",
       "MANEUVER               0\n",
       "OCCUPANT_CNT           0\n",
       "FIRST_CONTACT_POINT    0\n",
       "dtype: int64"
      ]
     },
     "execution_count": 44,
     "metadata": {},
     "output_type": "execute_result"
    }
   ],
   "source": [
    "vehicles.isnull().sum()"
   ]
  },
  {
   "cell_type": "code",
   "execution_count": 45,
   "id": "376c9812",
   "metadata": {
    "execution": {
     "iopub.execute_input": "2024-10-10T18:16:10.364235Z",
     "iopub.status.busy": "2024-10-10T18:16:10.363535Z",
     "iopub.status.idle": "2024-10-10T18:16:28.235863Z",
     "shell.execute_reply": "2024-10-10T18:16:28.234983Z"
    },
    "papermill": {
     "duration": 17.906008,
     "end_time": "2024-10-10T18:16:28.238296",
     "exception": false,
     "start_time": "2024-10-10T18:16:10.332288",
     "status": "completed"
    },
    "tags": []
   },
   "outputs": [],
   "source": [
    "people = pd.read_csv('/kaggle/input/chicago-datasets/Traffic_Crashes_-_People.csv')"
   ]
  },
  {
   "cell_type": "code",
   "execution_count": 46,
   "id": "e657f82c",
   "metadata": {
    "execution": {
     "iopub.execute_input": "2024-10-10T18:16:28.302100Z",
     "iopub.status.busy": "2024-10-10T18:16:28.301708Z",
     "iopub.status.idle": "2024-10-10T18:16:28.324258Z",
     "shell.execute_reply": "2024-10-10T18:16:28.323381Z"
    },
    "papermill": {
     "duration": 0.056441,
     "end_time": "2024-10-10T18:16:28.326330",
     "exception": false,
     "start_time": "2024-10-10T18:16:28.269889",
     "status": "completed"
    },
    "tags": []
   },
   "outputs": [
    {
     "data": {
      "text/html": [
       "<div>\n",
       "<style scoped>\n",
       "    .dataframe tbody tr th:only-of-type {\n",
       "        vertical-align: middle;\n",
       "    }\n",
       "\n",
       "    .dataframe tbody tr th {\n",
       "        vertical-align: top;\n",
       "    }\n",
       "\n",
       "    .dataframe thead th {\n",
       "        text-align: right;\n",
       "    }\n",
       "</style>\n",
       "<table border=\"1\" class=\"dataframe\">\n",
       "  <thead>\n",
       "    <tr style=\"text-align: right;\">\n",
       "      <th></th>\n",
       "      <th>PERSON_ID</th>\n",
       "      <th>PERSON_TYPE</th>\n",
       "      <th>CRASH_RECORD_ID</th>\n",
       "      <th>VEHICLE_ID</th>\n",
       "      <th>CRASH_DATE</th>\n",
       "      <th>SEAT_NO</th>\n",
       "      <th>CITY</th>\n",
       "      <th>STATE</th>\n",
       "      <th>ZIPCODE</th>\n",
       "      <th>SEX</th>\n",
       "      <th>...</th>\n",
       "      <th>EMS_RUN_NO</th>\n",
       "      <th>DRIVER_ACTION</th>\n",
       "      <th>DRIVER_VISION</th>\n",
       "      <th>PHYSICAL_CONDITION</th>\n",
       "      <th>PEDPEDAL_ACTION</th>\n",
       "      <th>PEDPEDAL_VISIBILITY</th>\n",
       "      <th>PEDPEDAL_LOCATION</th>\n",
       "      <th>BAC_RESULT</th>\n",
       "      <th>BAC_RESULT VALUE</th>\n",
       "      <th>CELL_PHONE_USE</th>\n",
       "    </tr>\n",
       "  </thead>\n",
       "  <tbody>\n",
       "    <tr>\n",
       "      <th>0</th>\n",
       "      <td>O749947</td>\n",
       "      <td>DRIVER</td>\n",
       "      <td>81dc0de2ed92aa62baccab641fa377be7feb1cc47e6554...</td>\n",
       "      <td>834816.0</td>\n",
       "      <td>09/28/2019 03:30:00 AM</td>\n",
       "      <td>NaN</td>\n",
       "      <td>CHICAGO</td>\n",
       "      <td>IL</td>\n",
       "      <td>60651</td>\n",
       "      <td>M</td>\n",
       "      <td>...</td>\n",
       "      <td>NaN</td>\n",
       "      <td>UNKNOWN</td>\n",
       "      <td>UNKNOWN</td>\n",
       "      <td>UNKNOWN</td>\n",
       "      <td>NaN</td>\n",
       "      <td>NaN</td>\n",
       "      <td>NaN</td>\n",
       "      <td>TEST NOT OFFERED</td>\n",
       "      <td>NaN</td>\n",
       "      <td>NaN</td>\n",
       "    </tr>\n",
       "    <tr>\n",
       "      <th>1</th>\n",
       "      <td>O871921</td>\n",
       "      <td>DRIVER</td>\n",
       "      <td>af84fb5c8d996fcd3aefd36593c3a02e6e7509eeb27568...</td>\n",
       "      <td>827212.0</td>\n",
       "      <td>04/13/2020 10:50:00 PM</td>\n",
       "      <td>NaN</td>\n",
       "      <td>CHICAGO</td>\n",
       "      <td>IL</td>\n",
       "      <td>60620</td>\n",
       "      <td>M</td>\n",
       "      <td>...</td>\n",
       "      <td>NaN</td>\n",
       "      <td>NONE</td>\n",
       "      <td>NOT OBSCURED</td>\n",
       "      <td>NORMAL</td>\n",
       "      <td>NaN</td>\n",
       "      <td>NaN</td>\n",
       "      <td>NaN</td>\n",
       "      <td>TEST NOT OFFERED</td>\n",
       "      <td>NaN</td>\n",
       "      <td>NaN</td>\n",
       "    </tr>\n",
       "    <tr>\n",
       "      <th>2</th>\n",
       "      <td>O10018</td>\n",
       "      <td>DRIVER</td>\n",
       "      <td>71162af7bf22799b776547132ebf134b5b438dcf3dac6b...</td>\n",
       "      <td>9579.0</td>\n",
       "      <td>11/01/2015 05:00:00 AM</td>\n",
       "      <td>NaN</td>\n",
       "      <td>NaN</td>\n",
       "      <td>NaN</td>\n",
       "      <td>NaN</td>\n",
       "      <td>X</td>\n",
       "      <td>...</td>\n",
       "      <td>NaN</td>\n",
       "      <td>IMPROPER BACKING</td>\n",
       "      <td>UNKNOWN</td>\n",
       "      <td>UNKNOWN</td>\n",
       "      <td>NaN</td>\n",
       "      <td>NaN</td>\n",
       "      <td>NaN</td>\n",
       "      <td>TEST NOT OFFERED</td>\n",
       "      <td>NaN</td>\n",
       "      <td>NaN</td>\n",
       "    </tr>\n",
       "    <tr>\n",
       "      <th>3</th>\n",
       "      <td>O10038</td>\n",
       "      <td>DRIVER</td>\n",
       "      <td>c21c476e2ccc41af550b5d858d22aaac4ffc88745a1700...</td>\n",
       "      <td>9598.0</td>\n",
       "      <td>11/01/2015 08:00:00 AM</td>\n",
       "      <td>NaN</td>\n",
       "      <td>NaN</td>\n",
       "      <td>NaN</td>\n",
       "      <td>NaN</td>\n",
       "      <td>X</td>\n",
       "      <td>...</td>\n",
       "      <td>NaN</td>\n",
       "      <td>UNKNOWN</td>\n",
       "      <td>UNKNOWN</td>\n",
       "      <td>UNKNOWN</td>\n",
       "      <td>NaN</td>\n",
       "      <td>NaN</td>\n",
       "      <td>NaN</td>\n",
       "      <td>TEST NOT OFFERED</td>\n",
       "      <td>NaN</td>\n",
       "      <td>NaN</td>\n",
       "    </tr>\n",
       "    <tr>\n",
       "      <th>4</th>\n",
       "      <td>O10039</td>\n",
       "      <td>DRIVER</td>\n",
       "      <td>eb390a4c8e114c69488f5fb8a097fe629f5a92fd528cf4...</td>\n",
       "      <td>9600.0</td>\n",
       "      <td>11/01/2015 10:15:00 AM</td>\n",
       "      <td>NaN</td>\n",
       "      <td>NaN</td>\n",
       "      <td>NaN</td>\n",
       "      <td>NaN</td>\n",
       "      <td>X</td>\n",
       "      <td>...</td>\n",
       "      <td>NaN</td>\n",
       "      <td>UNKNOWN</td>\n",
       "      <td>UNKNOWN</td>\n",
       "      <td>UNKNOWN</td>\n",
       "      <td>NaN</td>\n",
       "      <td>NaN</td>\n",
       "      <td>NaN</td>\n",
       "      <td>TEST NOT OFFERED</td>\n",
       "      <td>NaN</td>\n",
       "      <td>NaN</td>\n",
       "    </tr>\n",
       "  </tbody>\n",
       "</table>\n",
       "<p>5 rows × 29 columns</p>\n",
       "</div>"
      ],
      "text/plain": [
       "  PERSON_ID PERSON_TYPE                                    CRASH_RECORD_ID  \\\n",
       "0   O749947      DRIVER  81dc0de2ed92aa62baccab641fa377be7feb1cc47e6554...   \n",
       "1   O871921      DRIVER  af84fb5c8d996fcd3aefd36593c3a02e6e7509eeb27568...   \n",
       "2    O10018      DRIVER  71162af7bf22799b776547132ebf134b5b438dcf3dac6b...   \n",
       "3    O10038      DRIVER  c21c476e2ccc41af550b5d858d22aaac4ffc88745a1700...   \n",
       "4    O10039      DRIVER  eb390a4c8e114c69488f5fb8a097fe629f5a92fd528cf4...   \n",
       "\n",
       "   VEHICLE_ID              CRASH_DATE  SEAT_NO     CITY STATE ZIPCODE SEX  \\\n",
       "0    834816.0  09/28/2019 03:30:00 AM      NaN  CHICAGO    IL   60651   M   \n",
       "1    827212.0  04/13/2020 10:50:00 PM      NaN  CHICAGO    IL   60620   M   \n",
       "2      9579.0  11/01/2015 05:00:00 AM      NaN      NaN   NaN     NaN   X   \n",
       "3      9598.0  11/01/2015 08:00:00 AM      NaN      NaN   NaN     NaN   X   \n",
       "4      9600.0  11/01/2015 10:15:00 AM      NaN      NaN   NaN     NaN   X   \n",
       "\n",
       "   ...  EMS_RUN_NO     DRIVER_ACTION DRIVER_VISION PHYSICAL_CONDITION  \\\n",
       "0  ...         NaN           UNKNOWN       UNKNOWN            UNKNOWN   \n",
       "1  ...         NaN              NONE  NOT OBSCURED             NORMAL   \n",
       "2  ...         NaN  IMPROPER BACKING       UNKNOWN            UNKNOWN   \n",
       "3  ...         NaN           UNKNOWN       UNKNOWN            UNKNOWN   \n",
       "4  ...         NaN           UNKNOWN       UNKNOWN            UNKNOWN   \n",
       "\n",
       "  PEDPEDAL_ACTION PEDPEDAL_VISIBILITY PEDPEDAL_LOCATION        BAC_RESULT  \\\n",
       "0             NaN                 NaN               NaN  TEST NOT OFFERED   \n",
       "1             NaN                 NaN               NaN  TEST NOT OFFERED   \n",
       "2             NaN                 NaN               NaN  TEST NOT OFFERED   \n",
       "3             NaN                 NaN               NaN  TEST NOT OFFERED   \n",
       "4             NaN                 NaN               NaN  TEST NOT OFFERED   \n",
       "\n",
       "  BAC_RESULT VALUE CELL_PHONE_USE  \n",
       "0              NaN            NaN  \n",
       "1              NaN            NaN  \n",
       "2              NaN            NaN  \n",
       "3              NaN            NaN  \n",
       "4              NaN            NaN  \n",
       "\n",
       "[5 rows x 29 columns]"
      ]
     },
     "execution_count": 46,
     "metadata": {},
     "output_type": "execute_result"
    }
   ],
   "source": [
    "people.head()"
   ]
  },
  {
   "cell_type": "code",
   "execution_count": 47,
   "id": "f8c82edc",
   "metadata": {
    "execution": {
     "iopub.execute_input": "2024-10-10T18:16:28.390307Z",
     "iopub.status.busy": "2024-10-10T18:16:28.389477Z",
     "iopub.status.idle": "2024-10-10T18:16:28.399632Z",
     "shell.execute_reply": "2024-10-10T18:16:28.398719Z"
    },
    "papermill": {
     "duration": 0.044401,
     "end_time": "2024-10-10T18:16:28.402104",
     "exception": false,
     "start_time": "2024-10-10T18:16:28.357703",
     "status": "completed"
    },
    "tags": []
   },
   "outputs": [
    {
     "name": "stdout",
     "output_type": "stream",
     "text": [
      "<class 'pandas.core.frame.DataFrame'>\n",
      "RangeIndex: 1933523 entries, 0 to 1933522\n",
      "Data columns (total 29 columns):\n",
      " #   Column                 Dtype  \n",
      "---  ------                 -----  \n",
      " 0   PERSON_ID              object \n",
      " 1   PERSON_TYPE            object \n",
      " 2   CRASH_RECORD_ID        object \n",
      " 3   VEHICLE_ID             float64\n",
      " 4   CRASH_DATE             object \n",
      " 5   SEAT_NO                float64\n",
      " 6   CITY                   object \n",
      " 7   STATE                  object \n",
      " 8   ZIPCODE                object \n",
      " 9   SEX                    object \n",
      " 10  AGE                    float64\n",
      " 11  DRIVERS_LICENSE_STATE  object \n",
      " 12  DRIVERS_LICENSE_CLASS  object \n",
      " 13  SAFETY_EQUIPMENT       object \n",
      " 14  AIRBAG_DEPLOYED        object \n",
      " 15  EJECTION               object \n",
      " 16  INJURY_CLASSIFICATION  object \n",
      " 17  HOSPITAL               object \n",
      " 18  EMS_AGENCY             object \n",
      " 19  EMS_RUN_NO             object \n",
      " 20  DRIVER_ACTION          object \n",
      " 21  DRIVER_VISION          object \n",
      " 22  PHYSICAL_CONDITION     object \n",
      " 23  PEDPEDAL_ACTION        object \n",
      " 24  PEDPEDAL_VISIBILITY    object \n",
      " 25  PEDPEDAL_LOCATION      object \n",
      " 26  BAC_RESULT             object \n",
      " 27  BAC_RESULT VALUE       float64\n",
      " 28  CELL_PHONE_USE         object \n",
      "dtypes: float64(4), object(25)\n",
      "memory usage: 427.8+ MB\n"
     ]
    }
   ],
   "source": [
    "people.info()"
   ]
  },
  {
   "cell_type": "code",
   "execution_count": 48,
   "id": "b9ef5dd6",
   "metadata": {
    "execution": {
     "iopub.execute_input": "2024-10-10T18:16:28.466295Z",
     "iopub.status.busy": "2024-10-10T18:16:28.465981Z",
     "iopub.status.idle": "2024-10-10T18:16:36.266120Z",
     "shell.execute_reply": "2024-10-10T18:16:36.265076Z"
    },
    "papermill": {
     "duration": 7.833867,
     "end_time": "2024-10-10T18:16:36.268195",
     "exception": false,
     "start_time": "2024-10-10T18:16:28.434328",
     "status": "completed"
    },
    "tags": []
   },
   "outputs": [
    {
     "data": {
      "text/plain": [
       "False"
      ]
     },
     "execution_count": 48,
     "metadata": {},
     "output_type": "execute_result"
    }
   ],
   "source": [
    "people.duplicated().values.any()"
   ]
  },
  {
   "cell_type": "code",
   "execution_count": 49,
   "id": "09f8eb46",
   "metadata": {
    "execution": {
     "iopub.execute_input": "2024-10-10T18:16:36.332588Z",
     "iopub.status.busy": "2024-10-10T18:16:36.331732Z",
     "iopub.status.idle": "2024-10-10T18:16:36.337721Z",
     "shell.execute_reply": "2024-10-10T18:16:36.336938Z"
    },
    "papermill": {
     "duration": 0.040335,
     "end_time": "2024-10-10T18:16:36.339715",
     "exception": false,
     "start_time": "2024-10-10T18:16:36.299380",
     "status": "completed"
    },
    "tags": []
   },
   "outputs": [
    {
     "data": {
      "text/plain": [
       "(1933523, 29)"
      ]
     },
     "execution_count": 49,
     "metadata": {},
     "output_type": "execute_result"
    }
   ],
   "source": [
    "people.shape"
   ]
  },
  {
   "cell_type": "code",
   "execution_count": 50,
   "id": "405dbed2",
   "metadata": {
    "execution": {
     "iopub.execute_input": "2024-10-10T18:16:36.402928Z",
     "iopub.status.busy": "2024-10-10T18:16:36.402589Z",
     "iopub.status.idle": "2024-10-10T18:16:39.809103Z",
     "shell.execute_reply": "2024-10-10T18:16:39.808114Z"
    },
    "papermill": {
     "duration": 3.44083,
     "end_time": "2024-10-10T18:16:39.811487",
     "exception": false,
     "start_time": "2024-10-10T18:16:36.370657",
     "status": "completed"
    },
    "tags": []
   },
   "outputs": [
    {
     "data": {
      "text/plain": [
       "PERSON_ID                      0\n",
       "PERSON_TYPE                    0\n",
       "CRASH_RECORD_ID                0\n",
       "VEHICLE_ID                 39465\n",
       "CRASH_DATE                     0\n",
       "SEAT_NO                  1542241\n",
       "CITY                      526764\n",
       "STATE                     505394\n",
       "ZIPCODE                   640085\n",
       "SEX                        32541\n",
       "AGE                       563607\n",
       "DRIVERS_LICENSE_STATE     801876\n",
       "DRIVERS_LICENSE_CLASS     991512\n",
       "SAFETY_EQUIPMENT            5378\n",
       "AIRBAG_DEPLOYED            37965\n",
       "EJECTION                   24133\n",
       "INJURY_CLASSIFICATION        743\n",
       "HOSPITAL                 1618492\n",
       "EMS_AGENCY               1738911\n",
       "EMS_RUN_NO               1901036\n",
       "DRIVER_ACTION             394748\n",
       "DRIVER_VISION             395340\n",
       "PHYSICAL_CONDITION        393693\n",
       "PEDPEDAL_ACTION          1895845\n",
       "PEDPEDAL_VISIBILITY      1895913\n",
       "PEDPEDAL_LOCATION        1895845\n",
       "BAC_RESULT                393802\n",
       "BAC_RESULT VALUE         1931407\n",
       "CELL_PHONE_USE           1932363\n",
       "dtype: int64"
      ]
     },
     "execution_count": 50,
     "metadata": {},
     "output_type": "execute_result"
    }
   ],
   "source": [
    "people.isnull().sum()"
   ]
  },
  {
   "cell_type": "code",
   "execution_count": 51,
   "id": "ade7e39e",
   "metadata": {
    "execution": {
     "iopub.execute_input": "2024-10-10T18:16:39.876756Z",
     "iopub.status.busy": "2024-10-10T18:16:39.876409Z",
     "iopub.status.idle": "2024-10-10T18:16:39.882650Z",
     "shell.execute_reply": "2024-10-10T18:16:39.881825Z"
    },
    "papermill": {
     "duration": 0.040386,
     "end_time": "2024-10-10T18:16:39.884530",
     "exception": false,
     "start_time": "2024-10-10T18:16:39.844144",
     "status": "completed"
    },
    "tags": []
   },
   "outputs": [
    {
     "data": {
      "text/plain": [
       "Index(['PERSON_ID', 'PERSON_TYPE', 'CRASH_RECORD_ID', 'VEHICLE_ID',\n",
       "       'CRASH_DATE', 'SEAT_NO', 'CITY', 'STATE', 'ZIPCODE', 'SEX', 'AGE',\n",
       "       'DRIVERS_LICENSE_STATE', 'DRIVERS_LICENSE_CLASS', 'SAFETY_EQUIPMENT',\n",
       "       'AIRBAG_DEPLOYED', 'EJECTION', 'INJURY_CLASSIFICATION', 'HOSPITAL',\n",
       "       'EMS_AGENCY', 'EMS_RUN_NO', 'DRIVER_ACTION', 'DRIVER_VISION',\n",
       "       'PHYSICAL_CONDITION', 'PEDPEDAL_ACTION', 'PEDPEDAL_VISIBILITY',\n",
       "       'PEDPEDAL_LOCATION', 'BAC_RESULT', 'BAC_RESULT VALUE',\n",
       "       'CELL_PHONE_USE'],\n",
       "      dtype='object')"
      ]
     },
     "execution_count": 51,
     "metadata": {},
     "output_type": "execute_result"
    }
   ],
   "source": [
    "people.columns"
   ]
  },
  {
   "cell_type": "code",
   "execution_count": 52,
   "id": "64cf50c4",
   "metadata": {
    "execution": {
     "iopub.execute_input": "2024-10-10T18:16:39.950202Z",
     "iopub.status.busy": "2024-10-10T18:16:39.949124Z",
     "iopub.status.idle": "2024-10-10T18:16:39.954289Z",
     "shell.execute_reply": "2024-10-10T18:16:39.953365Z"
    },
    "papermill": {
     "duration": 0.040559,
     "end_time": "2024-10-10T18:16:39.956172",
     "exception": false,
     "start_time": "2024-10-10T18:16:39.915613",
     "status": "completed"
    },
    "tags": []
   },
   "outputs": [],
   "source": [
    "columns_to_drop = ['SEAT_NO', 'HOSPITAL', 'EMS_AGENCY', 'EMS_RUN_NO','PEDPEDAL_ACTION', 'PEDPEDAL_VISIBILITY',\n",
    "       'PEDPEDAL_LOCATION', 'BAC_RESULT VALUE', 'CELL_PHONE_USE']"
   ]
  },
  {
   "cell_type": "code",
   "execution_count": 53,
   "id": "5ae8b436",
   "metadata": {
    "execution": {
     "iopub.execute_input": "2024-10-10T18:16:40.019686Z",
     "iopub.status.busy": "2024-10-10T18:16:40.019324Z",
     "iopub.status.idle": "2024-10-10T18:16:40.395048Z",
     "shell.execute_reply": "2024-10-10T18:16:40.394231Z"
    },
    "papermill": {
     "duration": 0.410011,
     "end_time": "2024-10-10T18:16:40.397177",
     "exception": false,
     "start_time": "2024-10-10T18:16:39.987166",
     "status": "completed"
    },
    "tags": []
   },
   "outputs": [],
   "source": [
    "people.drop(columns=columns_to_drop, inplace=True)"
   ]
  },
  {
   "cell_type": "code",
   "execution_count": 54,
   "id": "daf0af90",
   "metadata": {
    "execution": {
     "iopub.execute_input": "2024-10-10T18:16:40.460959Z",
     "iopub.status.busy": "2024-10-10T18:16:40.460581Z",
     "iopub.status.idle": "2024-10-10T18:16:40.481182Z",
     "shell.execute_reply": "2024-10-10T18:16:40.480319Z"
    },
    "papermill": {
     "duration": 0.054814,
     "end_time": "2024-10-10T18:16:40.483220",
     "exception": false,
     "start_time": "2024-10-10T18:16:40.428406",
     "status": "completed"
    },
    "tags": []
   },
   "outputs": [
    {
     "data": {
      "text/html": [
       "<div>\n",
       "<style scoped>\n",
       "    .dataframe tbody tr th:only-of-type {\n",
       "        vertical-align: middle;\n",
       "    }\n",
       "\n",
       "    .dataframe tbody tr th {\n",
       "        vertical-align: top;\n",
       "    }\n",
       "\n",
       "    .dataframe thead th {\n",
       "        text-align: right;\n",
       "    }\n",
       "</style>\n",
       "<table border=\"1\" class=\"dataframe\">\n",
       "  <thead>\n",
       "    <tr style=\"text-align: right;\">\n",
       "      <th></th>\n",
       "      <th>PERSON_ID</th>\n",
       "      <th>PERSON_TYPE</th>\n",
       "      <th>CRASH_RECORD_ID</th>\n",
       "      <th>VEHICLE_ID</th>\n",
       "      <th>CRASH_DATE</th>\n",
       "      <th>CITY</th>\n",
       "      <th>STATE</th>\n",
       "      <th>ZIPCODE</th>\n",
       "      <th>SEX</th>\n",
       "      <th>AGE</th>\n",
       "      <th>DRIVERS_LICENSE_STATE</th>\n",
       "      <th>DRIVERS_LICENSE_CLASS</th>\n",
       "      <th>SAFETY_EQUIPMENT</th>\n",
       "      <th>AIRBAG_DEPLOYED</th>\n",
       "      <th>EJECTION</th>\n",
       "      <th>INJURY_CLASSIFICATION</th>\n",
       "      <th>DRIVER_ACTION</th>\n",
       "      <th>DRIVER_VISION</th>\n",
       "      <th>PHYSICAL_CONDITION</th>\n",
       "      <th>BAC_RESULT</th>\n",
       "    </tr>\n",
       "  </thead>\n",
       "  <tbody>\n",
       "    <tr>\n",
       "      <th>0</th>\n",
       "      <td>O749947</td>\n",
       "      <td>DRIVER</td>\n",
       "      <td>81dc0de2ed92aa62baccab641fa377be7feb1cc47e6554...</td>\n",
       "      <td>834816.0</td>\n",
       "      <td>09/28/2019 03:30:00 AM</td>\n",
       "      <td>CHICAGO</td>\n",
       "      <td>IL</td>\n",
       "      <td>60651</td>\n",
       "      <td>M</td>\n",
       "      <td>25.0</td>\n",
       "      <td>IL</td>\n",
       "      <td>D</td>\n",
       "      <td>NONE PRESENT</td>\n",
       "      <td>DEPLOYMENT UNKNOWN</td>\n",
       "      <td>NONE</td>\n",
       "      <td>NO INDICATION OF INJURY</td>\n",
       "      <td>UNKNOWN</td>\n",
       "      <td>UNKNOWN</td>\n",
       "      <td>UNKNOWN</td>\n",
       "      <td>TEST NOT OFFERED</td>\n",
       "    </tr>\n",
       "    <tr>\n",
       "      <th>1</th>\n",
       "      <td>O871921</td>\n",
       "      <td>DRIVER</td>\n",
       "      <td>af84fb5c8d996fcd3aefd36593c3a02e6e7509eeb27568...</td>\n",
       "      <td>827212.0</td>\n",
       "      <td>04/13/2020 10:50:00 PM</td>\n",
       "      <td>CHICAGO</td>\n",
       "      <td>IL</td>\n",
       "      <td>60620</td>\n",
       "      <td>M</td>\n",
       "      <td>37.0</td>\n",
       "      <td>IL</td>\n",
       "      <td>NaN</td>\n",
       "      <td>SAFETY BELT USED</td>\n",
       "      <td>DID NOT DEPLOY</td>\n",
       "      <td>NONE</td>\n",
       "      <td>NO INDICATION OF INJURY</td>\n",
       "      <td>NONE</td>\n",
       "      <td>NOT OBSCURED</td>\n",
       "      <td>NORMAL</td>\n",
       "      <td>TEST NOT OFFERED</td>\n",
       "    </tr>\n",
       "    <tr>\n",
       "      <th>2</th>\n",
       "      <td>O10018</td>\n",
       "      <td>DRIVER</td>\n",
       "      <td>71162af7bf22799b776547132ebf134b5b438dcf3dac6b...</td>\n",
       "      <td>9579.0</td>\n",
       "      <td>11/01/2015 05:00:00 AM</td>\n",
       "      <td>NaN</td>\n",
       "      <td>NaN</td>\n",
       "      <td>NaN</td>\n",
       "      <td>X</td>\n",
       "      <td>NaN</td>\n",
       "      <td>NaN</td>\n",
       "      <td>NaN</td>\n",
       "      <td>USAGE UNKNOWN</td>\n",
       "      <td>DEPLOYMENT UNKNOWN</td>\n",
       "      <td>NONE</td>\n",
       "      <td>NO INDICATION OF INJURY</td>\n",
       "      <td>IMPROPER BACKING</td>\n",
       "      <td>UNKNOWN</td>\n",
       "      <td>UNKNOWN</td>\n",
       "      <td>TEST NOT OFFERED</td>\n",
       "    </tr>\n",
       "    <tr>\n",
       "      <th>3</th>\n",
       "      <td>O10038</td>\n",
       "      <td>DRIVER</td>\n",
       "      <td>c21c476e2ccc41af550b5d858d22aaac4ffc88745a1700...</td>\n",
       "      <td>9598.0</td>\n",
       "      <td>11/01/2015 08:00:00 AM</td>\n",
       "      <td>NaN</td>\n",
       "      <td>NaN</td>\n",
       "      <td>NaN</td>\n",
       "      <td>X</td>\n",
       "      <td>NaN</td>\n",
       "      <td>NaN</td>\n",
       "      <td>NaN</td>\n",
       "      <td>USAGE UNKNOWN</td>\n",
       "      <td>DEPLOYMENT UNKNOWN</td>\n",
       "      <td>UNKNOWN</td>\n",
       "      <td>NO INDICATION OF INJURY</td>\n",
       "      <td>UNKNOWN</td>\n",
       "      <td>UNKNOWN</td>\n",
       "      <td>UNKNOWN</td>\n",
       "      <td>TEST NOT OFFERED</td>\n",
       "    </tr>\n",
       "    <tr>\n",
       "      <th>4</th>\n",
       "      <td>O10039</td>\n",
       "      <td>DRIVER</td>\n",
       "      <td>eb390a4c8e114c69488f5fb8a097fe629f5a92fd528cf4...</td>\n",
       "      <td>9600.0</td>\n",
       "      <td>11/01/2015 10:15:00 AM</td>\n",
       "      <td>NaN</td>\n",
       "      <td>NaN</td>\n",
       "      <td>NaN</td>\n",
       "      <td>X</td>\n",
       "      <td>NaN</td>\n",
       "      <td>NaN</td>\n",
       "      <td>NaN</td>\n",
       "      <td>USAGE UNKNOWN</td>\n",
       "      <td>DEPLOYMENT UNKNOWN</td>\n",
       "      <td>UNKNOWN</td>\n",
       "      <td>NO INDICATION OF INJURY</td>\n",
       "      <td>UNKNOWN</td>\n",
       "      <td>UNKNOWN</td>\n",
       "      <td>UNKNOWN</td>\n",
       "      <td>TEST NOT OFFERED</td>\n",
       "    </tr>\n",
       "  </tbody>\n",
       "</table>\n",
       "</div>"
      ],
      "text/plain": [
       "  PERSON_ID PERSON_TYPE                                    CRASH_RECORD_ID  \\\n",
       "0   O749947      DRIVER  81dc0de2ed92aa62baccab641fa377be7feb1cc47e6554...   \n",
       "1   O871921      DRIVER  af84fb5c8d996fcd3aefd36593c3a02e6e7509eeb27568...   \n",
       "2    O10018      DRIVER  71162af7bf22799b776547132ebf134b5b438dcf3dac6b...   \n",
       "3    O10038      DRIVER  c21c476e2ccc41af550b5d858d22aaac4ffc88745a1700...   \n",
       "4    O10039      DRIVER  eb390a4c8e114c69488f5fb8a097fe629f5a92fd528cf4...   \n",
       "\n",
       "   VEHICLE_ID              CRASH_DATE     CITY STATE ZIPCODE SEX   AGE  \\\n",
       "0    834816.0  09/28/2019 03:30:00 AM  CHICAGO    IL   60651   M  25.0   \n",
       "1    827212.0  04/13/2020 10:50:00 PM  CHICAGO    IL   60620   M  37.0   \n",
       "2      9579.0  11/01/2015 05:00:00 AM      NaN   NaN     NaN   X   NaN   \n",
       "3      9598.0  11/01/2015 08:00:00 AM      NaN   NaN     NaN   X   NaN   \n",
       "4      9600.0  11/01/2015 10:15:00 AM      NaN   NaN     NaN   X   NaN   \n",
       "\n",
       "  DRIVERS_LICENSE_STATE DRIVERS_LICENSE_CLASS  SAFETY_EQUIPMENT  \\\n",
       "0                    IL                     D      NONE PRESENT   \n",
       "1                    IL                   NaN  SAFETY BELT USED   \n",
       "2                   NaN                   NaN     USAGE UNKNOWN   \n",
       "3                   NaN                   NaN     USAGE UNKNOWN   \n",
       "4                   NaN                   NaN     USAGE UNKNOWN   \n",
       "\n",
       "      AIRBAG_DEPLOYED EJECTION    INJURY_CLASSIFICATION     DRIVER_ACTION  \\\n",
       "0  DEPLOYMENT UNKNOWN     NONE  NO INDICATION OF INJURY           UNKNOWN   \n",
       "1      DID NOT DEPLOY     NONE  NO INDICATION OF INJURY              NONE   \n",
       "2  DEPLOYMENT UNKNOWN     NONE  NO INDICATION OF INJURY  IMPROPER BACKING   \n",
       "3  DEPLOYMENT UNKNOWN  UNKNOWN  NO INDICATION OF INJURY           UNKNOWN   \n",
       "4  DEPLOYMENT UNKNOWN  UNKNOWN  NO INDICATION OF INJURY           UNKNOWN   \n",
       "\n",
       "  DRIVER_VISION PHYSICAL_CONDITION        BAC_RESULT  \n",
       "0       UNKNOWN            UNKNOWN  TEST NOT OFFERED  \n",
       "1  NOT OBSCURED             NORMAL  TEST NOT OFFERED  \n",
       "2       UNKNOWN            UNKNOWN  TEST NOT OFFERED  \n",
       "3       UNKNOWN            UNKNOWN  TEST NOT OFFERED  \n",
       "4       UNKNOWN            UNKNOWN  TEST NOT OFFERED  "
      ]
     },
     "execution_count": 54,
     "metadata": {},
     "output_type": "execute_result"
    }
   ],
   "source": [
    "people.head()"
   ]
  },
  {
   "cell_type": "code",
   "execution_count": 55,
   "id": "eab375b7",
   "metadata": {
    "execution": {
     "iopub.execute_input": "2024-10-10T18:16:40.548147Z",
     "iopub.status.busy": "2024-10-10T18:16:40.547813Z",
     "iopub.status.idle": "2024-10-10T18:16:43.460756Z",
     "shell.execute_reply": "2024-10-10T18:16:43.459851Z"
    },
    "papermill": {
     "duration": 2.947795,
     "end_time": "2024-10-10T18:16:43.462762",
     "exception": false,
     "start_time": "2024-10-10T18:16:40.514967",
     "status": "completed"
    },
    "tags": []
   },
   "outputs": [
    {
     "data": {
      "text/plain": [
       "PERSON_ID                     0\n",
       "PERSON_TYPE                   0\n",
       "CRASH_RECORD_ID               0\n",
       "VEHICLE_ID                39465\n",
       "CRASH_DATE                    0\n",
       "CITY                     526764\n",
       "STATE                    505394\n",
       "ZIPCODE                  640085\n",
       "SEX                       32541\n",
       "AGE                      563607\n",
       "DRIVERS_LICENSE_STATE    801876\n",
       "DRIVERS_LICENSE_CLASS    991512\n",
       "SAFETY_EQUIPMENT           5378\n",
       "AIRBAG_DEPLOYED           37965\n",
       "EJECTION                  24133\n",
       "INJURY_CLASSIFICATION       743\n",
       "DRIVER_ACTION            394748\n",
       "DRIVER_VISION            395340\n",
       "PHYSICAL_CONDITION       393693\n",
       "BAC_RESULT               393802\n",
       "dtype: int64"
      ]
     },
     "execution_count": 55,
     "metadata": {},
     "output_type": "execute_result"
    }
   ],
   "source": [
    "people.isnull().sum()"
   ]
  },
  {
   "cell_type": "code",
   "execution_count": 56,
   "id": "b9f29ee0",
   "metadata": {
    "execution": {
     "iopub.execute_input": "2024-10-10T18:16:43.528912Z",
     "iopub.status.busy": "2024-10-10T18:16:43.528200Z",
     "iopub.status.idle": "2024-10-10T18:16:43.760817Z",
     "shell.execute_reply": "2024-10-10T18:16:43.759824Z"
    },
    "papermill": {
     "duration": 0.267786,
     "end_time": "2024-10-10T18:16:43.762744",
     "exception": false,
     "start_time": "2024-10-10T18:16:43.494958",
     "status": "completed"
    },
    "tags": []
   },
   "outputs": [
    {
     "data": {
      "text/plain": [
       "SEX\n",
       "M    999438\n",
       "F    725948\n",
       "X    175596\n",
       "Name: count, dtype: int64"
      ]
     },
     "execution_count": 56,
     "metadata": {},
     "output_type": "execute_result"
    }
   ],
   "source": [
    "people['SEX'].value_counts()"
   ]
  },
  {
   "cell_type": "code",
   "execution_count": 57,
   "id": "f651938f",
   "metadata": {
    "execution": {
     "iopub.execute_input": "2024-10-10T18:16:43.829141Z",
     "iopub.status.busy": "2024-10-10T18:16:43.828301Z",
     "iopub.status.idle": "2024-10-10T18:16:43.863104Z",
     "shell.execute_reply": "2024-10-10T18:16:43.862180Z"
    },
    "papermill": {
     "duration": 0.069929,
     "end_time": "2024-10-10T18:16:43.865175",
     "exception": false,
     "start_time": "2024-10-10T18:16:43.795246",
     "status": "completed"
    },
    "tags": []
   },
   "outputs": [
    {
     "data": {
      "text/plain": [
       "AGE\n",
       " 26.0     38330\n",
       " 25.0     38325\n",
       " 27.0     38300\n",
       " 28.0     37713\n",
       " 24.0     37143\n",
       "          ...  \n",
       "-47.0         1\n",
       "-49.0         1\n",
       "-177.0        1\n",
       "-40.0         1\n",
       "-59.0         1\n",
       "Name: count, Length: 117, dtype: int64"
      ]
     },
     "execution_count": 57,
     "metadata": {},
     "output_type": "execute_result"
    }
   ],
   "source": [
    "people['AGE'].value_counts()"
   ]
  },
  {
   "cell_type": "code",
   "execution_count": 58,
   "id": "8e04f452",
   "metadata": {
    "execution": {
     "iopub.execute_input": "2024-10-10T18:16:43.932066Z",
     "iopub.status.busy": "2024-10-10T18:16:43.931033Z",
     "iopub.status.idle": "2024-10-10T18:16:44.151705Z",
     "shell.execute_reply": "2024-10-10T18:16:44.150767Z"
    },
    "papermill": {
     "duration": 0.256079,
     "end_time": "2024-10-10T18:16:44.153630",
     "exception": false,
     "start_time": "2024-10-10T18:16:43.897551",
     "status": "completed"
    },
    "tags": []
   },
   "outputs": [
    {
     "data": {
      "text/plain": [
       "DRIVERS_LICENSE_STATE\n",
       "IL    1035411\n",
       "XX      25688\n",
       "IN      19273\n",
       "WI       6339\n",
       "MI       4827\n",
       "       ...   \n",
       "NN          1\n",
       "TT          1\n",
       "KN          1\n",
       "IR          1\n",
       "EY          1\n",
       "Name: count, Length: 212, dtype: int64"
      ]
     },
     "execution_count": 58,
     "metadata": {},
     "output_type": "execute_result"
    }
   ],
   "source": [
    "people['DRIVERS_LICENSE_STATE'].value_counts()"
   ]
  },
  {
   "cell_type": "code",
   "execution_count": 59,
   "id": "e6a38a4e",
   "metadata": {
    "execution": {
     "iopub.execute_input": "2024-10-10T18:16:44.219202Z",
     "iopub.status.busy": "2024-10-10T18:16:44.218855Z",
     "iopub.status.idle": "2024-10-10T18:16:44.378405Z",
     "shell.execute_reply": "2024-10-10T18:16:44.377520Z"
    },
    "papermill": {
     "duration": 0.194622,
     "end_time": "2024-10-10T18:16:44.380374",
     "exception": false,
     "start_time": "2024-10-10T18:16:44.185752",
     "status": "completed"
    },
    "tags": []
   },
   "outputs": [
    {
     "data": {
      "text/plain": [
       "DRIVERS_LICENSE_CLASS\n",
       "D     819699\n",
       "A      33917\n",
       "B      25860\n",
       "C      25728\n",
       "DM     13965\n",
       "       ...  \n",
       "CF         1\n",
       "12         1\n",
       "B+         1\n",
       "1G         1\n",
       "25         1\n",
       "Name: count, Length: 289, dtype: int64"
      ]
     },
     "execution_count": 59,
     "metadata": {},
     "output_type": "execute_result"
    }
   ],
   "source": [
    "people['DRIVERS_LICENSE_CLASS'].value_counts()"
   ]
  },
  {
   "cell_type": "code",
   "execution_count": 60,
   "id": "c7c2e03a",
   "metadata": {
    "execution": {
     "iopub.execute_input": "2024-10-10T18:16:44.445951Z",
     "iopub.status.busy": "2024-10-10T18:16:44.445593Z",
     "iopub.status.idle": "2024-10-10T18:16:44.747062Z",
     "shell.execute_reply": "2024-10-10T18:16:44.746182Z"
    },
    "papermill": {
     "duration": 0.336446,
     "end_time": "2024-10-10T18:16:44.749025",
     "exception": false,
     "start_time": "2024-10-10T18:16:44.412579",
     "status": "completed"
    },
    "tags": []
   },
   "outputs": [
    {
     "data": {
      "text/plain": [
       "SAFETY_EQUIPMENT\n",
       "USAGE UNKNOWN                                 915385\n",
       "SAFETY BELT USED                              899835\n",
       "NONE PRESENT                                   65194\n",
       "SAFETY BELT NOT USED                           10525\n",
       "HELMET NOT USED                                 9721\n",
       "CHILD RESTRAINT USED                            7822\n",
       "CHILD RESTRAINT - FORWARD FACING                4950\n",
       "BICYCLE HELMET (PEDACYCLIST INVOLVED ONLY)      3814\n",
       "CHILD RESTRAINT - TYPE UNKNOWN                  2601\n",
       "CHILD RESTRAINT - REAR FACING                   2251\n",
       "DOT COMPLIANT MOTORCYCLE HELMET                 1530\n",
       "HELMET USED                                     1358\n",
       "BOOSTER SEAT                                    1286\n",
       "CHILD RESTRAINT NOT USED                         854\n",
       "NOT DOT COMPLIANT MOTORCYCLE HELMET              299\n",
       "SHOULD/LAP BELT USED IMPROPERLY                  270\n",
       "WHEELCHAIR                                       237\n",
       "CHILD RESTRAINT USED IMPROPERLY                  167\n",
       "STRETCHER                                         46\n",
       "Name: count, dtype: int64"
      ]
     },
     "execution_count": 60,
     "metadata": {},
     "output_type": "execute_result"
    }
   ],
   "source": [
    "people['SAFETY_EQUIPMENT'].value_counts()"
   ]
  },
  {
   "cell_type": "code",
   "execution_count": 61,
   "id": "283da4c2",
   "metadata": {
    "execution": {
     "iopub.execute_input": "2024-10-10T18:16:44.816239Z",
     "iopub.status.busy": "2024-10-10T18:16:44.815866Z",
     "iopub.status.idle": "2024-10-10T18:16:45.117355Z",
     "shell.execute_reply": "2024-10-10T18:16:45.116420Z"
    },
    "papermill": {
     "duration": 0.337499,
     "end_time": "2024-10-10T18:16:45.119382",
     "exception": false,
     "start_time": "2024-10-10T18:16:44.781883",
     "status": "completed"
    },
    "tags": []
   },
   "outputs": [
    {
     "data": {
      "text/plain": [
       "AIRBAG_DEPLOYED\n",
       "DID NOT DEPLOY                            970719\n",
       "NOT APPLICABLE                            409073\n",
       "DEPLOYMENT UNKNOWN                        387679\n",
       "DEPLOYED, FRONT                            60306\n",
       "DEPLOYED, COMBINATION                      49304\n",
       "DEPLOYED, SIDE                             17527\n",
       "DEPLOYED OTHER (KNEE, AIR, BELT, ETC.)       950\n",
       "Name: count, dtype: int64"
      ]
     },
     "execution_count": 61,
     "metadata": {},
     "output_type": "execute_result"
    }
   ],
   "source": [
    "people['AIRBAG_DEPLOYED'].value_counts()"
   ]
  },
  {
   "cell_type": "code",
   "execution_count": 62,
   "id": "79706ea1",
   "metadata": {
    "execution": {
     "iopub.execute_input": "2024-10-10T18:16:45.185834Z",
     "iopub.status.busy": "2024-10-10T18:16:45.185485Z",
     "iopub.status.idle": "2024-10-10T18:16:45.485228Z",
     "shell.execute_reply": "2024-10-10T18:16:45.484300Z"
    },
    "papermill": {
     "duration": 0.335318,
     "end_time": "2024-10-10T18:16:45.487272",
     "exception": false,
     "start_time": "2024-10-10T18:16:45.151954",
     "status": "completed"
    },
    "tags": []
   },
   "outputs": [
    {
     "data": {
      "text/plain": [
       "EJECTION\n",
       "NONE                  1779455\n",
       "UNKNOWN                121542\n",
       "TOTALLY EJECTED          5796\n",
       "PARTIALLY EJECTED        1428\n",
       "TRAPPED/EXTRICATED       1169\n",
       "Name: count, dtype: int64"
      ]
     },
     "execution_count": 62,
     "metadata": {},
     "output_type": "execute_result"
    }
   ],
   "source": [
    "people['EJECTION'].value_counts()"
   ]
  },
  {
   "cell_type": "markdown",
   "id": "adf6e21e",
   "metadata": {
    "papermill": {
     "duration": 0.032931,
     "end_time": "2024-10-10T18:16:45.553998",
     "exception": false,
     "start_time": "2024-10-10T18:16:45.521067",
     "status": "completed"
    },
    "tags": []
   },
   "source": []
  },
  {
   "cell_type": "code",
   "execution_count": 63,
   "id": "1dcd03db",
   "metadata": {
    "execution": {
     "iopub.execute_input": "2024-10-10T18:16:45.621865Z",
     "iopub.status.busy": "2024-10-10T18:16:45.621078Z",
     "iopub.status.idle": "2024-10-10T18:16:45.922091Z",
     "shell.execute_reply": "2024-10-10T18:16:45.921197Z"
    },
    "papermill": {
     "duration": 0.337406,
     "end_time": "2024-10-10T18:16:45.924356",
     "exception": false,
     "start_time": "2024-10-10T18:16:45.586950",
     "status": "completed"
    },
    "tags": []
   },
   "outputs": [
    {
     "data": {
      "text/plain": [
       "INJURY_CLASSIFICATION\n",
       "NO INDICATION OF INJURY     1761927\n",
       "NONINCAPACITATING INJURY      95855\n",
       "REPORTED, NOT EVIDENT         56380\n",
       "INCAPACITATING INJURY         17552\n",
       "FATAL                          1066\n",
       "Name: count, dtype: int64"
      ]
     },
     "execution_count": 63,
     "metadata": {},
     "output_type": "execute_result"
    }
   ],
   "source": [
    "people['INJURY_CLASSIFICATION'].value_counts()"
   ]
  },
  {
   "cell_type": "code",
   "execution_count": 64,
   "id": "de8782e5",
   "metadata": {
    "execution": {
     "iopub.execute_input": "2024-10-10T18:16:45.995270Z",
     "iopub.status.busy": "2024-10-10T18:16:45.994510Z",
     "iopub.status.idle": "2024-10-10T18:16:46.251988Z",
     "shell.execute_reply": "2024-10-10T18:16:46.251062Z"
    },
    "papermill": {
     "duration": 0.294006,
     "end_time": "2024-10-10T18:16:46.254401",
     "exception": false,
     "start_time": "2024-10-10T18:16:45.960395",
     "status": "completed"
    },
    "tags": []
   },
   "outputs": [
    {
     "data": {
      "text/plain": [
       "DRIVER_ACTION\n",
       "NONE                                 547933\n",
       "UNKNOWN                              390730\n",
       "FAILED TO YIELD                      139921\n",
       "OTHER                                138385\n",
       "FOLLOWED TOO CLOSELY                  90233\n",
       "IMPROPER BACKING                      45321\n",
       "IMPROPER TURN                         40487\n",
       "IMPROPER LANE CHANGE                  39554\n",
       "IMPROPER PASSING                      34526\n",
       "DISREGARDED CONTROL DEVICES           27230\n",
       "TOO FAST FOR CONDITIONS               22606\n",
       "WRONG WAY/SIDE                         6211\n",
       "IMPROPER PARKING                       5657\n",
       "OVERCORRECTED                          3035\n",
       "EVADING POLICE VEHICLE                 2411\n",
       "CELL PHONE USE OTHER THAN TEXTING      2243\n",
       "EMERGENCY VEHICLE ON CALL              1439\n",
       "TEXTING                                 604\n",
       "STOPPED SCHOOL BUS                      183\n",
       "LICENSE RESTRICTIONS                     66\n",
       "Name: count, dtype: int64"
      ]
     },
     "execution_count": 64,
     "metadata": {},
     "output_type": "execute_result"
    }
   ],
   "source": [
    "people['DRIVER_ACTION'].value_counts()"
   ]
  },
  {
   "cell_type": "code",
   "execution_count": 65,
   "id": "2a9effd1",
   "metadata": {
    "execution": {
     "iopub.execute_input": "2024-10-10T18:16:46.323159Z",
     "iopub.status.busy": "2024-10-10T18:16:46.322422Z",
     "iopub.status.idle": "2024-10-10T18:16:46.579752Z",
     "shell.execute_reply": "2024-10-10T18:16:46.578797Z"
    },
    "papermill": {
     "duration": 0.294353,
     "end_time": "2024-10-10T18:16:46.582238",
     "exception": false,
     "start_time": "2024-10-10T18:16:46.287885",
     "status": "completed"
    },
    "tags": []
   },
   "outputs": [
    {
     "data": {
      "text/plain": [
       "DRIVER_VISION\n",
       "NOT OBSCURED              769160\n",
       "UNKNOWN                   732401\n",
       "OTHER                      15108\n",
       "MOVING VEHICLES             8639\n",
       "PARKED VEHICLES             5309\n",
       "WINDSHIELD (WATER/ICE)      4094\n",
       "BLINDED - SUNLIGHT          1834\n",
       "TREES, PLANTS                610\n",
       "BUILDINGS                    540\n",
       "BLINDED - HEADLIGHTS         164\n",
       "BLOWING MATERIALS            105\n",
       "HILLCREST                    100\n",
       "EMBANKMENT                    83\n",
       "SIGNBOARD                     36\n",
       "Name: count, dtype: int64"
      ]
     },
     "execution_count": 65,
     "metadata": {},
     "output_type": "execute_result"
    }
   ],
   "source": [
    "people['DRIVER_VISION'].value_counts()"
   ]
  },
  {
   "cell_type": "code",
   "execution_count": 66,
   "id": "6c26ad9f",
   "metadata": {
    "execution": {
     "iopub.execute_input": "2024-10-10T18:16:46.655039Z",
     "iopub.status.busy": "2024-10-10T18:16:46.654536Z",
     "iopub.status.idle": "2024-10-10T18:16:46.912544Z",
     "shell.execute_reply": "2024-10-10T18:16:46.911554Z"
    },
    "papermill": {
     "duration": 0.295519,
     "end_time": "2024-10-10T18:16:46.914937",
     "exception": false,
     "start_time": "2024-10-10T18:16:46.619418",
     "status": "completed"
    },
    "tags": []
   },
   "outputs": [
    {
     "data": {
      "text/plain": [
       "PHYSICAL_CONDITION\n",
       "NORMAL                          997785\n",
       "UNKNOWN                         513601\n",
       "IMPAIRED - ALCOHOL                6484\n",
       "REMOVED BY EMS                    5593\n",
       "OTHER                             4483\n",
       "EMOTIONAL                         4052\n",
       "FATIGUED/ASLEEP                   4029\n",
       "ILLNESS/FAINTED                   1382\n",
       "HAD BEEN DRINKING                 1110\n",
       "IMPAIRED - DRUGS                   720\n",
       "IMPAIRED - ALCOHOL AND DRUGS       402\n",
       "MEDICATED                          189\n",
       "Name: count, dtype: int64"
      ]
     },
     "execution_count": 66,
     "metadata": {},
     "output_type": "execute_result"
    }
   ],
   "source": [
    "people['PHYSICAL_CONDITION'].value_counts()"
   ]
  },
  {
   "cell_type": "code",
   "execution_count": 67,
   "id": "32c738fe",
   "metadata": {
    "execution": {
     "iopub.execute_input": "2024-10-10T18:16:46.986477Z",
     "iopub.status.busy": "2024-10-10T18:16:46.986032Z",
     "iopub.status.idle": "2024-10-10T18:16:47.245629Z",
     "shell.execute_reply": "2024-10-10T18:16:47.244677Z"
    },
    "papermill": {
     "duration": 0.296562,
     "end_time": "2024-10-10T18:16:47.247956",
     "exception": false,
     "start_time": "2024-10-10T18:16:46.951394",
     "status": "completed"
    },
    "tags": []
   },
   "outputs": [
    {
     "data": {
      "text/plain": [
       "BAC_RESULT\n",
       "TEST NOT OFFERED                   1517493\n",
       "TEST REFUSED                         15857\n",
       "TEST PERFORMED, RESULTS UNKNOWN       3662\n",
       "TEST TAKEN                            2709\n",
       "Name: count, dtype: int64"
      ]
     },
     "execution_count": 67,
     "metadata": {},
     "output_type": "execute_result"
    }
   ],
   "source": [
    "people['BAC_RESULT'].value_counts()"
   ]
  },
  {
   "cell_type": "code",
   "execution_count": 68,
   "id": "3ea62c4b",
   "metadata": {
    "execution": {
     "iopub.execute_input": "2024-10-10T18:16:47.321257Z",
     "iopub.status.busy": "2024-10-10T18:16:47.320824Z",
     "iopub.status.idle": "2024-10-10T18:16:47.606911Z",
     "shell.execute_reply": "2024-10-10T18:16:47.606120Z"
    },
    "papermill": {
     "duration": 0.325376,
     "end_time": "2024-10-10T18:16:47.609055",
     "exception": false,
     "start_time": "2024-10-10T18:16:47.283679",
     "status": "completed"
    },
    "tags": []
   },
   "outputs": [],
   "source": [
    "people.drop(columns=['VEHICLE_ID','CITY', 'STATE', 'ZIPCODE', 'AGE', 'DRIVERS_LICENSE_STATE','INJURY_CLASSIFICATION'], \n",
    "            inplace=True)"
   ]
  },
  {
   "cell_type": "code",
   "execution_count": 69,
   "id": "6d6b78de",
   "metadata": {
    "execution": {
     "iopub.execute_input": "2024-10-10T18:16:47.676855Z",
     "iopub.status.busy": "2024-10-10T18:16:47.676518Z",
     "iopub.status.idle": "2024-10-10T18:16:49.715140Z",
     "shell.execute_reply": "2024-10-10T18:16:49.714084Z"
    },
    "papermill": {
     "duration": 2.075629,
     "end_time": "2024-10-10T18:16:49.718065",
     "exception": false,
     "start_time": "2024-10-10T18:16:47.642436",
     "status": "completed"
    },
    "tags": []
   },
   "outputs": [],
   "source": [
    "mf_dl_class = people['DRIVERS_LICENSE_CLASS'].mode()[0]\n",
    "mf_bac_result = people['BAC_RESULT'].mode()[0]\n",
    "\n",
    "people['DRIVERS_LICENSE_CLASS'].fillna(mf_dl_class, inplace=True)\n",
    "people['BAC_RESULT'].fillna(mf_bac_result, inplace=True)\n",
    "people['SEX'].fillna('X', inplace=True)\n",
    "people['SAFETY_EQUIPMENT'].fillna('USAGE UNKNOWN', inplace=True)\n",
    "people['AIRBAG_DEPLOYED'].fillna('DEPLOYMENT UNKNOWN', inplace=True)\n",
    "people['EJECTION'].fillna('UNKNOWN', inplace=True)\n",
    "people['DRIVER_ACTION'].fillna('UNKNOWN', inplace=True)\n",
    "people['DRIVER_VISION'].fillna('UNKNOWN', inplace=True)\n",
    "people['PHYSICAL_CONDITION'].fillna('UNKNOWN', inplace=True)"
   ]
  },
  {
   "cell_type": "code",
   "execution_count": 70,
   "id": "04c12282",
   "metadata": {
    "execution": {
     "iopub.execute_input": "2024-10-10T18:16:49.794216Z",
     "iopub.status.busy": "2024-10-10T18:16:49.793215Z",
     "iopub.status.idle": "2024-10-10T18:16:52.080215Z",
     "shell.execute_reply": "2024-10-10T18:16:52.079260Z"
    },
    "papermill": {
     "duration": 2.325427,
     "end_time": "2024-10-10T18:16:52.082715",
     "exception": false,
     "start_time": "2024-10-10T18:16:49.757288",
     "status": "completed"
    },
    "tags": []
   },
   "outputs": [
    {
     "data": {
      "text/plain": [
       "PERSON_ID                0\n",
       "PERSON_TYPE              0\n",
       "CRASH_RECORD_ID          0\n",
       "CRASH_DATE               0\n",
       "SEX                      0\n",
       "DRIVERS_LICENSE_CLASS    0\n",
       "SAFETY_EQUIPMENT         0\n",
       "AIRBAG_DEPLOYED          0\n",
       "EJECTION                 0\n",
       "DRIVER_ACTION            0\n",
       "DRIVER_VISION            0\n",
       "PHYSICAL_CONDITION       0\n",
       "BAC_RESULT               0\n",
       "dtype: int64"
      ]
     },
     "execution_count": 70,
     "metadata": {},
     "output_type": "execute_result"
    }
   ],
   "source": [
    "people.isnull().sum()"
   ]
  },
  {
   "cell_type": "code",
   "execution_count": 71,
   "id": "a260e51f",
   "metadata": {
    "execution": {
     "iopub.execute_input": "2024-10-10T18:16:52.152137Z",
     "iopub.status.busy": "2024-10-10T18:16:52.151766Z",
     "iopub.status.idle": "2024-10-10T18:16:55.718980Z",
     "shell.execute_reply": "2024-10-10T18:16:55.717959Z"
    },
    "papermill": {
     "duration": 3.603899,
     "end_time": "2024-10-10T18:16:55.721434",
     "exception": false,
     "start_time": "2024-10-10T18:16:52.117535",
     "status": "completed"
    },
    "tags": []
   },
   "outputs": [],
   "source": [
    "#merging the datasets\n",
    "df = pd.concat([crashes, vehicles, people], ignore_index=True)"
   ]
  },
  {
   "cell_type": "code",
   "execution_count": 72,
   "id": "b28a10ee",
   "metadata": {
    "execution": {
     "iopub.execute_input": "2024-10-10T18:16:55.791610Z",
     "iopub.status.busy": "2024-10-10T18:16:55.791235Z",
     "iopub.status.idle": "2024-10-10T18:16:55.815740Z",
     "shell.execute_reply": "2024-10-10T18:16:55.814814Z"
    },
    "papermill": {
     "duration": 0.062442,
     "end_time": "2024-10-10T18:16:55.817943",
     "exception": false,
     "start_time": "2024-10-10T18:16:55.755501",
     "status": "completed"
    },
    "tags": []
   },
   "outputs": [
    {
     "data": {
      "text/html": [
       "<div>\n",
       "<style scoped>\n",
       "    .dataframe tbody tr th:only-of-type {\n",
       "        vertical-align: middle;\n",
       "    }\n",
       "\n",
       "    .dataframe tbody tr th {\n",
       "        vertical-align: top;\n",
       "    }\n",
       "\n",
       "    .dataframe thead th {\n",
       "        text-align: right;\n",
       "    }\n",
       "</style>\n",
       "<table border=\"1\" class=\"dataframe\">\n",
       "  <thead>\n",
       "    <tr style=\"text-align: right;\">\n",
       "      <th></th>\n",
       "      <th>CRASH_RECORD_ID</th>\n",
       "      <th>CRASH_DATE</th>\n",
       "      <th>POSTED_SPEED_LIMIT</th>\n",
       "      <th>TRAFFIC_CONTROL_DEVICE</th>\n",
       "      <th>DEVICE_CONDITION</th>\n",
       "      <th>WEATHER_CONDITION</th>\n",
       "      <th>LIGHTING_CONDITION</th>\n",
       "      <th>FIRST_CRASH_TYPE</th>\n",
       "      <th>TRAFFICWAY_TYPE</th>\n",
       "      <th>ALIGNMENT</th>\n",
       "      <th>...</th>\n",
       "      <th>PERSON_TYPE</th>\n",
       "      <th>SEX</th>\n",
       "      <th>DRIVERS_LICENSE_CLASS</th>\n",
       "      <th>SAFETY_EQUIPMENT</th>\n",
       "      <th>AIRBAG_DEPLOYED</th>\n",
       "      <th>EJECTION</th>\n",
       "      <th>DRIVER_ACTION</th>\n",
       "      <th>DRIVER_VISION</th>\n",
       "      <th>PHYSICAL_CONDITION</th>\n",
       "      <th>BAC_RESULT</th>\n",
       "    </tr>\n",
       "  </thead>\n",
       "  <tbody>\n",
       "    <tr>\n",
       "      <th>0</th>\n",
       "      <td>23a79931ef555d54118f64dc9be2cf2dbf59636ce253f7...</td>\n",
       "      <td>09/05/2023 07:05:00 PM</td>\n",
       "      <td>30.0</td>\n",
       "      <td>TRAFFIC SIGNAL</td>\n",
       "      <td>FUNCTIONING PROPERLY</td>\n",
       "      <td>CLEAR</td>\n",
       "      <td>DUSK</td>\n",
       "      <td>ANGLE</td>\n",
       "      <td>FIVE POINT, OR MORE</td>\n",
       "      <td>STRAIGHT AND LEVEL</td>\n",
       "      <td>...</td>\n",
       "      <td>NaN</td>\n",
       "      <td>NaN</td>\n",
       "      <td>NaN</td>\n",
       "      <td>NaN</td>\n",
       "      <td>NaN</td>\n",
       "      <td>NaN</td>\n",
       "      <td>NaN</td>\n",
       "      <td>NaN</td>\n",
       "      <td>NaN</td>\n",
       "      <td>NaN</td>\n",
       "    </tr>\n",
       "    <tr>\n",
       "      <th>1</th>\n",
       "      <td>2675c13fd0f474d730a5b780968b3cafc7c12d7adb661f...</td>\n",
       "      <td>09/22/2023 06:45:00 PM</td>\n",
       "      <td>50.0</td>\n",
       "      <td>NO CONTROLS</td>\n",
       "      <td>NO CONTROLS</td>\n",
       "      <td>CLEAR</td>\n",
       "      <td>DARKNESS, LIGHTED ROAD</td>\n",
       "      <td>REAR END</td>\n",
       "      <td>DIVIDED - W/MEDIAN BARRIER</td>\n",
       "      <td>STRAIGHT AND LEVEL</td>\n",
       "      <td>...</td>\n",
       "      <td>NaN</td>\n",
       "      <td>NaN</td>\n",
       "      <td>NaN</td>\n",
       "      <td>NaN</td>\n",
       "      <td>NaN</td>\n",
       "      <td>NaN</td>\n",
       "      <td>NaN</td>\n",
       "      <td>NaN</td>\n",
       "      <td>NaN</td>\n",
       "      <td>NaN</td>\n",
       "    </tr>\n",
       "    <tr>\n",
       "      <th>2</th>\n",
       "      <td>5f54a59fcb087b12ae5b1acff96a3caf4f2d37e79f8db4...</td>\n",
       "      <td>07/29/2023 02:45:00 PM</td>\n",
       "      <td>30.0</td>\n",
       "      <td>TRAFFIC SIGNAL</td>\n",
       "      <td>FUNCTIONING PROPERLY</td>\n",
       "      <td>CLEAR</td>\n",
       "      <td>DAYLIGHT</td>\n",
       "      <td>PARKED MOTOR VEHICLE</td>\n",
       "      <td>DIVIDED - W/MEDIAN (NOT RAISED)</td>\n",
       "      <td>STRAIGHT AND LEVEL</td>\n",
       "      <td>...</td>\n",
       "      <td>NaN</td>\n",
       "      <td>NaN</td>\n",
       "      <td>NaN</td>\n",
       "      <td>NaN</td>\n",
       "      <td>NaN</td>\n",
       "      <td>NaN</td>\n",
       "      <td>NaN</td>\n",
       "      <td>NaN</td>\n",
       "      <td>NaN</td>\n",
       "      <td>NaN</td>\n",
       "    </tr>\n",
       "    <tr>\n",
       "      <th>3</th>\n",
       "      <td>7ebf015016f83d09b321afd671a836d6b148330535d5df...</td>\n",
       "      <td>08/09/2023 11:00:00 PM</td>\n",
       "      <td>30.0</td>\n",
       "      <td>NO CONTROLS</td>\n",
       "      <td>NO CONTROLS</td>\n",
       "      <td>CLEAR</td>\n",
       "      <td>DARKNESS, LIGHTED ROAD</td>\n",
       "      <td>SIDESWIPE SAME DIRECTION</td>\n",
       "      <td>NOT DIVIDED</td>\n",
       "      <td>STRAIGHT AND LEVEL</td>\n",
       "      <td>...</td>\n",
       "      <td>NaN</td>\n",
       "      <td>NaN</td>\n",
       "      <td>NaN</td>\n",
       "      <td>NaN</td>\n",
       "      <td>NaN</td>\n",
       "      <td>NaN</td>\n",
       "      <td>NaN</td>\n",
       "      <td>NaN</td>\n",
       "      <td>NaN</td>\n",
       "      <td>NaN</td>\n",
       "    </tr>\n",
       "    <tr>\n",
       "      <th>4</th>\n",
       "      <td>6c1659069e9c6285a650e70d6f9b574ed5f64c12888479...</td>\n",
       "      <td>08/18/2023 12:50:00 PM</td>\n",
       "      <td>15.0</td>\n",
       "      <td>OTHER</td>\n",
       "      <td>FUNCTIONING PROPERLY</td>\n",
       "      <td>CLEAR</td>\n",
       "      <td>DAYLIGHT</td>\n",
       "      <td>REAR END</td>\n",
       "      <td>OTHER</td>\n",
       "      <td>STRAIGHT AND LEVEL</td>\n",
       "      <td>...</td>\n",
       "      <td>NaN</td>\n",
       "      <td>NaN</td>\n",
       "      <td>NaN</td>\n",
       "      <td>NaN</td>\n",
       "      <td>NaN</td>\n",
       "      <td>NaN</td>\n",
       "      <td>NaN</td>\n",
       "      <td>NaN</td>\n",
       "      <td>NaN</td>\n",
       "      <td>NaN</td>\n",
       "    </tr>\n",
       "  </tbody>\n",
       "</table>\n",
       "<p>5 rows × 56 columns</p>\n",
       "</div>"
      ],
      "text/plain": [
       "                                     CRASH_RECORD_ID              CRASH_DATE  \\\n",
       "0  23a79931ef555d54118f64dc9be2cf2dbf59636ce253f7...  09/05/2023 07:05:00 PM   \n",
       "1  2675c13fd0f474d730a5b780968b3cafc7c12d7adb661f...  09/22/2023 06:45:00 PM   \n",
       "2  5f54a59fcb087b12ae5b1acff96a3caf4f2d37e79f8db4...  07/29/2023 02:45:00 PM   \n",
       "3  7ebf015016f83d09b321afd671a836d6b148330535d5df...  08/09/2023 11:00:00 PM   \n",
       "4  6c1659069e9c6285a650e70d6f9b574ed5f64c12888479...  08/18/2023 12:50:00 PM   \n",
       "\n",
       "   POSTED_SPEED_LIMIT TRAFFIC_CONTROL_DEVICE      DEVICE_CONDITION  \\\n",
       "0                30.0         TRAFFIC SIGNAL  FUNCTIONING PROPERLY   \n",
       "1                50.0            NO CONTROLS           NO CONTROLS   \n",
       "2                30.0         TRAFFIC SIGNAL  FUNCTIONING PROPERLY   \n",
       "3                30.0            NO CONTROLS           NO CONTROLS   \n",
       "4                15.0                  OTHER  FUNCTIONING PROPERLY   \n",
       "\n",
       "  WEATHER_CONDITION      LIGHTING_CONDITION          FIRST_CRASH_TYPE  \\\n",
       "0             CLEAR                    DUSK                     ANGLE   \n",
       "1             CLEAR  DARKNESS, LIGHTED ROAD                  REAR END   \n",
       "2             CLEAR                DAYLIGHT      PARKED MOTOR VEHICLE   \n",
       "3             CLEAR  DARKNESS, LIGHTED ROAD  SIDESWIPE SAME DIRECTION   \n",
       "4             CLEAR                DAYLIGHT                  REAR END   \n",
       "\n",
       "                   TRAFFICWAY_TYPE           ALIGNMENT  ... PERSON_TYPE  SEX  \\\n",
       "0              FIVE POINT, OR MORE  STRAIGHT AND LEVEL  ...         NaN  NaN   \n",
       "1       DIVIDED - W/MEDIAN BARRIER  STRAIGHT AND LEVEL  ...         NaN  NaN   \n",
       "2  DIVIDED - W/MEDIAN (NOT RAISED)  STRAIGHT AND LEVEL  ...         NaN  NaN   \n",
       "3                      NOT DIVIDED  STRAIGHT AND LEVEL  ...         NaN  NaN   \n",
       "4                            OTHER  STRAIGHT AND LEVEL  ...         NaN  NaN   \n",
       "\n",
       "  DRIVERS_LICENSE_CLASS SAFETY_EQUIPMENT AIRBAG_DEPLOYED EJECTION  \\\n",
       "0                   NaN              NaN             NaN      NaN   \n",
       "1                   NaN              NaN             NaN      NaN   \n",
       "2                   NaN              NaN             NaN      NaN   \n",
       "3                   NaN              NaN             NaN      NaN   \n",
       "4                   NaN              NaN             NaN      NaN   \n",
       "\n",
       "  DRIVER_ACTION  DRIVER_VISION PHYSICAL_CONDITION BAC_RESULT  \n",
       "0           NaN            NaN                NaN        NaN  \n",
       "1           NaN            NaN                NaN        NaN  \n",
       "2           NaN            NaN                NaN        NaN  \n",
       "3           NaN            NaN                NaN        NaN  \n",
       "4           NaN            NaN                NaN        NaN  \n",
       "\n",
       "[5 rows x 56 columns]"
      ]
     },
     "execution_count": 72,
     "metadata": {},
     "output_type": "execute_result"
    }
   ],
   "source": [
    "df.head()"
   ]
  },
  {
   "cell_type": "code",
   "execution_count": 73,
   "id": "2785cad5",
   "metadata": {
    "execution": {
     "iopub.execute_input": "2024-10-10T18:16:55.887536Z",
     "iopub.status.busy": "2024-10-10T18:16:55.887255Z",
     "iopub.status.idle": "2024-10-10T18:16:55.892734Z",
     "shell.execute_reply": "2024-10-10T18:16:55.891924Z"
    },
    "papermill": {
     "duration": 0.041964,
     "end_time": "2024-10-10T18:16:55.894527",
     "exception": false,
     "start_time": "2024-10-10T18:16:55.852563",
     "status": "completed"
    },
    "tags": []
   },
   "outputs": [
    {
     "data": {
      "text/plain": [
       "(4566060, 56)"
      ]
     },
     "execution_count": 73,
     "metadata": {},
     "output_type": "execute_result"
    }
   ],
   "source": [
    "df.shape"
   ]
  },
  {
   "cell_type": "code",
   "execution_count": 74,
   "id": "fe7aa523",
   "metadata": {
    "execution": {
     "iopub.execute_input": "2024-10-10T18:16:55.963537Z",
     "iopub.status.busy": "2024-10-10T18:16:55.962958Z",
     "iopub.status.idle": "2024-10-10T18:17:17.902093Z",
     "shell.execute_reply": "2024-10-10T18:17:17.901145Z"
    },
    "papermill": {
     "duration": 21.976493,
     "end_time": "2024-10-10T18:17:17.904566",
     "exception": false,
     "start_time": "2024-10-10T18:16:55.928073",
     "status": "completed"
    },
    "tags": []
   },
   "outputs": [
    {
     "data": {
      "text/html": [
       "<div>\n",
       "<style scoped>\n",
       "    .dataframe tbody tr th:only-of-type {\n",
       "        vertical-align: middle;\n",
       "    }\n",
       "\n",
       "    .dataframe tbody tr th {\n",
       "        vertical-align: top;\n",
       "    }\n",
       "\n",
       "    .dataframe thead th {\n",
       "        text-align: right;\n",
       "    }\n",
       "</style>\n",
       "<table border=\"1\" class=\"dataframe\">\n",
       "  <thead>\n",
       "    <tr style=\"text-align: right;\">\n",
       "      <th></th>\n",
       "      <th>Column Name</th>\n",
       "      <th>Data Type</th>\n",
       "      <th>Number of Unique Values</th>\n",
       "      <th>Unique Values</th>\n",
       "    </tr>\n",
       "  </thead>\n",
       "  <tbody>\n",
       "    <tr>\n",
       "      <th>0</th>\n",
       "      <td>CRASH_RECORD_ID</td>\n",
       "      <td>object</td>\n",
       "      <td>880397</td>\n",
       "      <td>[23a79931ef555d54118f64dc9be2cf2dbf59636ce253f...</td>\n",
       "    </tr>\n",
       "    <tr>\n",
       "      <th>1</th>\n",
       "      <td>CRASH_DATE</td>\n",
       "      <td>object</td>\n",
       "      <td>578550</td>\n",
       "      <td>[09/05/2023 07:05:00 PM, 09/22/2023 06:45:00 P...</td>\n",
       "    </tr>\n",
       "    <tr>\n",
       "      <th>2</th>\n",
       "      <td>POSTED_SPEED_LIMIT</td>\n",
       "      <td>float64</td>\n",
       "      <td>46</td>\n",
       "      <td>[30.0, 50.0, 15.0, 25.0, 10.0, 35.0, 20.0, 55....</td>\n",
       "    </tr>\n",
       "    <tr>\n",
       "      <th>3</th>\n",
       "      <td>TRAFFIC_CONTROL_DEVICE</td>\n",
       "      <td>object</td>\n",
       "      <td>20</td>\n",
       "      <td>[TRAFFIC SIGNAL, NO CONTROLS, OTHER, UNKNOWN, ...</td>\n",
       "    </tr>\n",
       "    <tr>\n",
       "      <th>4</th>\n",
       "      <td>DEVICE_CONDITION</td>\n",
       "      <td>object</td>\n",
       "      <td>9</td>\n",
       "      <td>[FUNCTIONING PROPERLY, NO CONTROLS, FUNCTIONIN...</td>\n",
       "    </tr>\n",
       "    <tr>\n",
       "      <th>5</th>\n",
       "      <td>WEATHER_CONDITION</td>\n",
       "      <td>object</td>\n",
       "      <td>13</td>\n",
       "      <td>[CLEAR, SNOW, RAIN, UNKNOWN, CLOUDY/OVERCAST, ...</td>\n",
       "    </tr>\n",
       "    <tr>\n",
       "      <th>6</th>\n",
       "      <td>LIGHTING_CONDITION</td>\n",
       "      <td>object</td>\n",
       "      <td>7</td>\n",
       "      <td>[DUSK, DARKNESS, LIGHTED ROAD, DAYLIGHT, DARKN...</td>\n",
       "    </tr>\n",
       "    <tr>\n",
       "      <th>7</th>\n",
       "      <td>FIRST_CRASH_TYPE</td>\n",
       "      <td>object</td>\n",
       "      <td>19</td>\n",
       "      <td>[ANGLE, REAR END, PARKED MOTOR VEHICLE, SIDESW...</td>\n",
       "    </tr>\n",
       "    <tr>\n",
       "      <th>8</th>\n",
       "      <td>TRAFFICWAY_TYPE</td>\n",
       "      <td>object</td>\n",
       "      <td>21</td>\n",
       "      <td>[FIVE POINT, OR MORE, DIVIDED - W/MEDIAN BARRI...</td>\n",
       "    </tr>\n",
       "    <tr>\n",
       "      <th>9</th>\n",
       "      <td>ALIGNMENT</td>\n",
       "      <td>object</td>\n",
       "      <td>7</td>\n",
       "      <td>[STRAIGHT AND LEVEL, CURVE ON GRADE, CURVE, LE...</td>\n",
       "    </tr>\n",
       "    <tr>\n",
       "      <th>10</th>\n",
       "      <td>ROADWAY_SURFACE_COND</td>\n",
       "      <td>object</td>\n",
       "      <td>8</td>\n",
       "      <td>[DRY, SNOW OR SLUSH, WET, UNKNOWN, OTHER, ICE,...</td>\n",
       "    </tr>\n",
       "    <tr>\n",
       "      <th>11</th>\n",
       "      <td>ROAD_DEFECT</td>\n",
       "      <td>object</td>\n",
       "      <td>8</td>\n",
       "      <td>[NO DEFECTS, UNKNOWN, DEBRIS ON ROADWAY, OTHER...</td>\n",
       "    </tr>\n",
       "    <tr>\n",
       "      <th>12</th>\n",
       "      <td>CRASH_TYPE</td>\n",
       "      <td>object</td>\n",
       "      <td>3</td>\n",
       "      <td>[INJURY AND / OR TOW DUE TO CRASH, NO INJURY /...</td>\n",
       "    </tr>\n",
       "    <tr>\n",
       "      <th>13</th>\n",
       "      <td>DAMAGE</td>\n",
       "      <td>object</td>\n",
       "      <td>4</td>\n",
       "      <td>[OVER $1,500, $501 - $1,500, $500 OR LESS, nan]</td>\n",
       "    </tr>\n",
       "    <tr>\n",
       "      <th>14</th>\n",
       "      <td>DATE_POLICE_NOTIFIED</td>\n",
       "      <td>object</td>\n",
       "      <td>665652</td>\n",
       "      <td>[09/05/2023 07:05:00 PM, 09/22/2023 06:50:00 P...</td>\n",
       "    </tr>\n",
       "    <tr>\n",
       "      <th>15</th>\n",
       "      <td>PRIM_CONTRIBUTORY_CAUSE</td>\n",
       "      <td>object</td>\n",
       "      <td>41</td>\n",
       "      <td>[UNABLE TO DETERMINE, FOLLOWING TOO CLOSELY, F...</td>\n",
       "    </tr>\n",
       "    <tr>\n",
       "      <th>16</th>\n",
       "      <td>SEC_CONTRIBUTORY_CAUSE</td>\n",
       "      <td>object</td>\n",
       "      <td>41</td>\n",
       "      <td>[NOT APPLICABLE, FOLLOWING TOO CLOSELY, OPERAT...</td>\n",
       "    </tr>\n",
       "    <tr>\n",
       "      <th>17</th>\n",
       "      <td>STREET_NO</td>\n",
       "      <td>float64</td>\n",
       "      <td>11796</td>\n",
       "      <td>[5500.0, 7900.0, 2101.0, 10020.0, 700.0, 5.0, ...</td>\n",
       "    </tr>\n",
       "    <tr>\n",
       "      <th>18</th>\n",
       "      <td>STREET_DIRECTION</td>\n",
       "      <td>object</td>\n",
       "      <td>5</td>\n",
       "      <td>[S, W, E, N, nan]</td>\n",
       "    </tr>\n",
       "    <tr>\n",
       "      <th>19</th>\n",
       "      <td>STREET_NAME</td>\n",
       "      <td>object</td>\n",
       "      <td>1646</td>\n",
       "      <td>[WENTWORTH AVE, CHICAGO SKYWAY OB, ASHLAND AVE...</td>\n",
       "    </tr>\n",
       "    <tr>\n",
       "      <th>20</th>\n",
       "      <td>NUM_UNITS</td>\n",
       "      <td>float64</td>\n",
       "      <td>18</td>\n",
       "      <td>[2.0, 4.0, 1.0, 3.0, 5.0, 6.0, 7.0, 8.0, 12.0,...</td>\n",
       "    </tr>\n",
       "    <tr>\n",
       "      <th>21</th>\n",
       "      <td>MOST_SEVERE_INJURY</td>\n",
       "      <td>object</td>\n",
       "      <td>6</td>\n",
       "      <td>[INCAPACITATING INJURY, NO INDICATION OF INJUR...</td>\n",
       "    </tr>\n",
       "    <tr>\n",
       "      <th>22</th>\n",
       "      <td>INJURIES_TOTAL</td>\n",
       "      <td>float64</td>\n",
       "      <td>21</td>\n",
       "      <td>[3.0, 0.0, 1.0, 2.0, 5.0, 4.0, 6.0, 15.0, 7.0,...</td>\n",
       "    </tr>\n",
       "    <tr>\n",
       "      <th>23</th>\n",
       "      <td>INJURIES_FATAL</td>\n",
       "      <td>float64</td>\n",
       "      <td>6</td>\n",
       "      <td>[0.0, 1.0, 2.0, 3.0, 4.0, nan]</td>\n",
       "    </tr>\n",
       "    <tr>\n",
       "      <th>24</th>\n",
       "      <td>INJURIES_INCAPACITATING</td>\n",
       "      <td>float64</td>\n",
       "      <td>11</td>\n",
       "      <td>[1.0, 0.0, 5.0, 2.0, 3.0, 4.0, 6.0, 7.0, 10.0,...</td>\n",
       "    </tr>\n",
       "    <tr>\n",
       "      <th>25</th>\n",
       "      <td>INJURIES_NON_INCAPACITATING</td>\n",
       "      <td>float64</td>\n",
       "      <td>20</td>\n",
       "      <td>[2.0, 0.0, 1.0, 5.0, 3.0, 4.0, 6.0, 21.0, 7.0,...</td>\n",
       "    </tr>\n",
       "    <tr>\n",
       "      <th>26</th>\n",
       "      <td>INJURIES_REPORTED_NOT_EVIDENT</td>\n",
       "      <td>float64</td>\n",
       "      <td>14</td>\n",
       "      <td>[0.0, 2.0, 1.0, 3.0, 5.0, 4.0, 10.0, 6.0, 7.0,...</td>\n",
       "    </tr>\n",
       "    <tr>\n",
       "      <th>27</th>\n",
       "      <td>INJURIES_NO_INDICATION</td>\n",
       "      <td>float64</td>\n",
       "      <td>51</td>\n",
       "      <td>[2.0, 1.0, 5.0, 3.0, 0.0, 4.0, 8.0, 7.0, 6.0, ...</td>\n",
       "    </tr>\n",
       "    <tr>\n",
       "      <th>28</th>\n",
       "      <td>INJURIES_UNKNOWN</td>\n",
       "      <td>float64</td>\n",
       "      <td>2</td>\n",
       "      <td>[0.0, nan]</td>\n",
       "    </tr>\n",
       "    <tr>\n",
       "      <th>29</th>\n",
       "      <td>CRASH_HOUR</td>\n",
       "      <td>float64</td>\n",
       "      <td>25</td>\n",
       "      <td>[19.0, 18.0, 14.0, 23.0, 12.0, 8.0, 17.0, 16.0...</td>\n",
       "    </tr>\n",
       "    <tr>\n",
       "      <th>30</th>\n",
       "      <td>CRASH_DAY_OF_WEEK</td>\n",
       "      <td>float64</td>\n",
       "      <td>8</td>\n",
       "      <td>[3.0, 6.0, 7.0, 4.0, 2.0, 1.0, 5.0, nan]</td>\n",
       "    </tr>\n",
       "    <tr>\n",
       "      <th>31</th>\n",
       "      <td>CRASH_MONTH</td>\n",
       "      <td>float64</td>\n",
       "      <td>13</td>\n",
       "      <td>[9.0, 7.0, 8.0, 11.0, 2.0, 1.0, 10.0, 12.0, 5....</td>\n",
       "    </tr>\n",
       "    <tr>\n",
       "      <th>32</th>\n",
       "      <td>CRASH_UNIT_ID</td>\n",
       "      <td>float64</td>\n",
       "      <td>1754083</td>\n",
       "      <td>[nan, 1717556.0, 1717574.0, 1717579.0, 1720118...</td>\n",
       "    </tr>\n",
       "    <tr>\n",
       "      <th>33</th>\n",
       "      <td>UNIT_NO</td>\n",
       "      <td>float64</td>\n",
       "      <td>21</td>\n",
       "      <td>[nan, 1.0, 2.0, 3.0, 4.0, 5.0, 6.0, 7.0, 8.0, ...</td>\n",
       "    </tr>\n",
       "    <tr>\n",
       "      <th>34</th>\n",
       "      <td>UNIT_TYPE</td>\n",
       "      <td>object</td>\n",
       "      <td>6</td>\n",
       "      <td>[nan, DRIVER, PARKED, DRIVERLESS, NON-CONTACT ...</td>\n",
       "    </tr>\n",
       "    <tr>\n",
       "      <th>35</th>\n",
       "      <td>VEHICLE_ID</td>\n",
       "      <td>float64</td>\n",
       "      <td>1754083</td>\n",
       "      <td>[nan, 1634931.0, 1634978.0, 1634948.0, 1637401...</td>\n",
       "    </tr>\n",
       "    <tr>\n",
       "      <th>36</th>\n",
       "      <td>MAKE</td>\n",
       "      <td>object</td>\n",
       "      <td>1382</td>\n",
       "      <td>[nan, NISSAN, CHRYSLER, SUBARU, TOYOTA, FORD, ...</td>\n",
       "    </tr>\n",
       "    <tr>\n",
       "      <th>37</th>\n",
       "      <td>MODEL</td>\n",
       "      <td>object</td>\n",
       "      <td>2772</td>\n",
       "      <td>[nan, SENTRA, SEBRING, OUTBACK, RAV4, ROGUE, M...</td>\n",
       "    </tr>\n",
       "    <tr>\n",
       "      <th>38</th>\n",
       "      <td>VEHICLE_DEFECT</td>\n",
       "      <td>object</td>\n",
       "      <td>18</td>\n",
       "      <td>[nan, UNKNOWN, NONE, OTHER, BRAKES, TIRES, STE...</td>\n",
       "    </tr>\n",
       "    <tr>\n",
       "      <th>39</th>\n",
       "      <td>VEHICLE_TYPE</td>\n",
       "      <td>object</td>\n",
       "      <td>23</td>\n",
       "      <td>[nan, UNKNOWN/NA, PASSENGER, SPORT UTILITY VEH...</td>\n",
       "    </tr>\n",
       "    <tr>\n",
       "      <th>40</th>\n",
       "      <td>VEHICLE_USE</td>\n",
       "      <td>object</td>\n",
       "      <td>26</td>\n",
       "      <td>[nan, UNKNOWN/NA, PERSONAL, AMBULANCE, OTHER, ...</td>\n",
       "    </tr>\n",
       "    <tr>\n",
       "      <th>41</th>\n",
       "      <td>TRAVEL_DIRECTION</td>\n",
       "      <td>object</td>\n",
       "      <td>10</td>\n",
       "      <td>[nan, S, W, E, N, UNKNOWN, NE, SE, NW, SW]</td>\n",
       "    </tr>\n",
       "    <tr>\n",
       "      <th>42</th>\n",
       "      <td>MANEUVER</td>\n",
       "      <td>object</td>\n",
       "      <td>29</td>\n",
       "      <td>[nan, SLOW/STOP IN TRAFFIC, PASSING/OVERTAKING...</td>\n",
       "    </tr>\n",
       "    <tr>\n",
       "      <th>43</th>\n",
       "      <td>OCCUPANT_CNT</td>\n",
       "      <td>float64</td>\n",
       "      <td>48</td>\n",
       "      <td>[nan, 1.0, 2.0, 3.0, 4.0, 0.0, 5.0, 6.0, 31.0,...</td>\n",
       "    </tr>\n",
       "    <tr>\n",
       "      <th>44</th>\n",
       "      <td>FIRST_CONTACT_POINT</td>\n",
       "      <td>object</td>\n",
       "      <td>24</td>\n",
       "      <td>[nan, FRONT, REAR-RIGHT-CORNER, SIDE-LEFT-FRON...</td>\n",
       "    </tr>\n",
       "    <tr>\n",
       "      <th>45</th>\n",
       "      <td>PERSON_ID</td>\n",
       "      <td>object</td>\n",
       "      <td>1933524</td>\n",
       "      <td>[nan, O749947, O871921, O10018, O10038, O10039...</td>\n",
       "    </tr>\n",
       "    <tr>\n",
       "      <th>46</th>\n",
       "      <td>PERSON_TYPE</td>\n",
       "      <td>object</td>\n",
       "      <td>7</td>\n",
       "      <td>[nan, DRIVER, PASSENGER, PEDESTRIAN, BICYCLE, ...</td>\n",
       "    </tr>\n",
       "    <tr>\n",
       "      <th>47</th>\n",
       "      <td>SEX</td>\n",
       "      <td>object</td>\n",
       "      <td>4</td>\n",
       "      <td>[nan, M, X, F]</td>\n",
       "    </tr>\n",
       "    <tr>\n",
       "      <th>48</th>\n",
       "      <td>DRIVERS_LICENSE_CLASS</td>\n",
       "      <td>object</td>\n",
       "      <td>290</td>\n",
       "      <td>[nan, D, B, 9, A, BM, DM, AM, C, 99, CO, DL, D...</td>\n",
       "    </tr>\n",
       "    <tr>\n",
       "      <th>49</th>\n",
       "      <td>SAFETY_EQUIPMENT</td>\n",
       "      <td>object</td>\n",
       "      <td>20</td>\n",
       "      <td>[nan, NONE PRESENT, SAFETY BELT USED, USAGE UN...</td>\n",
       "    </tr>\n",
       "    <tr>\n",
       "      <th>50</th>\n",
       "      <td>AIRBAG_DEPLOYED</td>\n",
       "      <td>object</td>\n",
       "      <td>8</td>\n",
       "      <td>[nan, DEPLOYMENT UNKNOWN, DID NOT DEPLOY, NOT ...</td>\n",
       "    </tr>\n",
       "    <tr>\n",
       "      <th>51</th>\n",
       "      <td>EJECTION</td>\n",
       "      <td>object</td>\n",
       "      <td>6</td>\n",
       "      <td>[nan, NONE, UNKNOWN, TOTALLY EJECTED, TRAPPED/...</td>\n",
       "    </tr>\n",
       "    <tr>\n",
       "      <th>52</th>\n",
       "      <td>DRIVER_ACTION</td>\n",
       "      <td>object</td>\n",
       "      <td>21</td>\n",
       "      <td>[nan, UNKNOWN, NONE, IMPROPER BACKING, IMPROPE...</td>\n",
       "    </tr>\n",
       "    <tr>\n",
       "      <th>53</th>\n",
       "      <td>DRIVER_VISION</td>\n",
       "      <td>object</td>\n",
       "      <td>15</td>\n",
       "      <td>[nan, UNKNOWN, NOT OBSCURED, WINDSHIELD (WATER...</td>\n",
       "    </tr>\n",
       "    <tr>\n",
       "      <th>54</th>\n",
       "      <td>PHYSICAL_CONDITION</td>\n",
       "      <td>object</td>\n",
       "      <td>13</td>\n",
       "      <td>[nan, UNKNOWN, NORMAL, IMPAIRED - DRUGS, REMOV...</td>\n",
       "    </tr>\n",
       "    <tr>\n",
       "      <th>55</th>\n",
       "      <td>BAC_RESULT</td>\n",
       "      <td>object</td>\n",
       "      <td>5</td>\n",
       "      <td>[nan, TEST NOT OFFERED, TEST TAKEN, TEST REFUS...</td>\n",
       "    </tr>\n",
       "  </tbody>\n",
       "</table>\n",
       "</div>"
      ],
      "text/plain": [
       "                      Column Name Data Type  Number of Unique Values  \\\n",
       "0                 CRASH_RECORD_ID    object                   880397   \n",
       "1                      CRASH_DATE    object                   578550   \n",
       "2              POSTED_SPEED_LIMIT   float64                       46   \n",
       "3          TRAFFIC_CONTROL_DEVICE    object                       20   \n",
       "4                DEVICE_CONDITION    object                        9   \n",
       "5               WEATHER_CONDITION    object                       13   \n",
       "6              LIGHTING_CONDITION    object                        7   \n",
       "7                FIRST_CRASH_TYPE    object                       19   \n",
       "8                 TRAFFICWAY_TYPE    object                       21   \n",
       "9                       ALIGNMENT    object                        7   \n",
       "10           ROADWAY_SURFACE_COND    object                        8   \n",
       "11                    ROAD_DEFECT    object                        8   \n",
       "12                     CRASH_TYPE    object                        3   \n",
       "13                         DAMAGE    object                        4   \n",
       "14           DATE_POLICE_NOTIFIED    object                   665652   \n",
       "15        PRIM_CONTRIBUTORY_CAUSE    object                       41   \n",
       "16         SEC_CONTRIBUTORY_CAUSE    object                       41   \n",
       "17                      STREET_NO   float64                    11796   \n",
       "18               STREET_DIRECTION    object                        5   \n",
       "19                    STREET_NAME    object                     1646   \n",
       "20                      NUM_UNITS   float64                       18   \n",
       "21             MOST_SEVERE_INJURY    object                        6   \n",
       "22                 INJURIES_TOTAL   float64                       21   \n",
       "23                 INJURIES_FATAL   float64                        6   \n",
       "24        INJURIES_INCAPACITATING   float64                       11   \n",
       "25    INJURIES_NON_INCAPACITATING   float64                       20   \n",
       "26  INJURIES_REPORTED_NOT_EVIDENT   float64                       14   \n",
       "27         INJURIES_NO_INDICATION   float64                       51   \n",
       "28               INJURIES_UNKNOWN   float64                        2   \n",
       "29                     CRASH_HOUR   float64                       25   \n",
       "30              CRASH_DAY_OF_WEEK   float64                        8   \n",
       "31                    CRASH_MONTH   float64                       13   \n",
       "32                  CRASH_UNIT_ID   float64                  1754083   \n",
       "33                        UNIT_NO   float64                       21   \n",
       "34                      UNIT_TYPE    object                        6   \n",
       "35                     VEHICLE_ID   float64                  1754083   \n",
       "36                           MAKE    object                     1382   \n",
       "37                          MODEL    object                     2772   \n",
       "38                 VEHICLE_DEFECT    object                       18   \n",
       "39                   VEHICLE_TYPE    object                       23   \n",
       "40                    VEHICLE_USE    object                       26   \n",
       "41               TRAVEL_DIRECTION    object                       10   \n",
       "42                       MANEUVER    object                       29   \n",
       "43                   OCCUPANT_CNT   float64                       48   \n",
       "44            FIRST_CONTACT_POINT    object                       24   \n",
       "45                      PERSON_ID    object                  1933524   \n",
       "46                    PERSON_TYPE    object                        7   \n",
       "47                            SEX    object                        4   \n",
       "48          DRIVERS_LICENSE_CLASS    object                      290   \n",
       "49               SAFETY_EQUIPMENT    object                       20   \n",
       "50                AIRBAG_DEPLOYED    object                        8   \n",
       "51                       EJECTION    object                        6   \n",
       "52                  DRIVER_ACTION    object                       21   \n",
       "53                  DRIVER_VISION    object                       15   \n",
       "54             PHYSICAL_CONDITION    object                       13   \n",
       "55                     BAC_RESULT    object                        5   \n",
       "\n",
       "                                        Unique Values  \n",
       "0   [23a79931ef555d54118f64dc9be2cf2dbf59636ce253f...  \n",
       "1   [09/05/2023 07:05:00 PM, 09/22/2023 06:45:00 P...  \n",
       "2   [30.0, 50.0, 15.0, 25.0, 10.0, 35.0, 20.0, 55....  \n",
       "3   [TRAFFIC SIGNAL, NO CONTROLS, OTHER, UNKNOWN, ...  \n",
       "4   [FUNCTIONING PROPERLY, NO CONTROLS, FUNCTIONIN...  \n",
       "5   [CLEAR, SNOW, RAIN, UNKNOWN, CLOUDY/OVERCAST, ...  \n",
       "6   [DUSK, DARKNESS, LIGHTED ROAD, DAYLIGHT, DARKN...  \n",
       "7   [ANGLE, REAR END, PARKED MOTOR VEHICLE, SIDESW...  \n",
       "8   [FIVE POINT, OR MORE, DIVIDED - W/MEDIAN BARRI...  \n",
       "9   [STRAIGHT AND LEVEL, CURVE ON GRADE, CURVE, LE...  \n",
       "10  [DRY, SNOW OR SLUSH, WET, UNKNOWN, OTHER, ICE,...  \n",
       "11  [NO DEFECTS, UNKNOWN, DEBRIS ON ROADWAY, OTHER...  \n",
       "12  [INJURY AND / OR TOW DUE TO CRASH, NO INJURY /...  \n",
       "13    [OVER $1,500, $501 - $1,500, $500 OR LESS, nan]  \n",
       "14  [09/05/2023 07:05:00 PM, 09/22/2023 06:50:00 P...  \n",
       "15  [UNABLE TO DETERMINE, FOLLOWING TOO CLOSELY, F...  \n",
       "16  [NOT APPLICABLE, FOLLOWING TOO CLOSELY, OPERAT...  \n",
       "17  [5500.0, 7900.0, 2101.0, 10020.0, 700.0, 5.0, ...  \n",
       "18                                  [S, W, E, N, nan]  \n",
       "19  [WENTWORTH AVE, CHICAGO SKYWAY OB, ASHLAND AVE...  \n",
       "20  [2.0, 4.0, 1.0, 3.0, 5.0, 6.0, 7.0, 8.0, 12.0,...  \n",
       "21  [INCAPACITATING INJURY, NO INDICATION OF INJUR...  \n",
       "22  [3.0, 0.0, 1.0, 2.0, 5.0, 4.0, 6.0, 15.0, 7.0,...  \n",
       "23                     [0.0, 1.0, 2.0, 3.0, 4.0, nan]  \n",
       "24  [1.0, 0.0, 5.0, 2.0, 3.0, 4.0, 6.0, 7.0, 10.0,...  \n",
       "25  [2.0, 0.0, 1.0, 5.0, 3.0, 4.0, 6.0, 21.0, 7.0,...  \n",
       "26  [0.0, 2.0, 1.0, 3.0, 5.0, 4.0, 10.0, 6.0, 7.0,...  \n",
       "27  [2.0, 1.0, 5.0, 3.0, 0.0, 4.0, 8.0, 7.0, 6.0, ...  \n",
       "28                                         [0.0, nan]  \n",
       "29  [19.0, 18.0, 14.0, 23.0, 12.0, 8.0, 17.0, 16.0...  \n",
       "30           [3.0, 6.0, 7.0, 4.0, 2.0, 1.0, 5.0, nan]  \n",
       "31  [9.0, 7.0, 8.0, 11.0, 2.0, 1.0, 10.0, 12.0, 5....  \n",
       "32  [nan, 1717556.0, 1717574.0, 1717579.0, 1720118...  \n",
       "33  [nan, 1.0, 2.0, 3.0, 4.0, 5.0, 6.0, 7.0, 8.0, ...  \n",
       "34  [nan, DRIVER, PARKED, DRIVERLESS, NON-CONTACT ...  \n",
       "35  [nan, 1634931.0, 1634978.0, 1634948.0, 1637401...  \n",
       "36  [nan, NISSAN, CHRYSLER, SUBARU, TOYOTA, FORD, ...  \n",
       "37  [nan, SENTRA, SEBRING, OUTBACK, RAV4, ROGUE, M...  \n",
       "38  [nan, UNKNOWN, NONE, OTHER, BRAKES, TIRES, STE...  \n",
       "39  [nan, UNKNOWN/NA, PASSENGER, SPORT UTILITY VEH...  \n",
       "40  [nan, UNKNOWN/NA, PERSONAL, AMBULANCE, OTHER, ...  \n",
       "41         [nan, S, W, E, N, UNKNOWN, NE, SE, NW, SW]  \n",
       "42  [nan, SLOW/STOP IN TRAFFIC, PASSING/OVERTAKING...  \n",
       "43  [nan, 1.0, 2.0, 3.0, 4.0, 0.0, 5.0, 6.0, 31.0,...  \n",
       "44  [nan, FRONT, REAR-RIGHT-CORNER, SIDE-LEFT-FRON...  \n",
       "45  [nan, O749947, O871921, O10018, O10038, O10039...  \n",
       "46  [nan, DRIVER, PASSENGER, PEDESTRIAN, BICYCLE, ...  \n",
       "47                                     [nan, M, X, F]  \n",
       "48  [nan, D, B, 9, A, BM, DM, AM, C, 99, CO, DL, D...  \n",
       "49  [nan, NONE PRESENT, SAFETY BELT USED, USAGE UN...  \n",
       "50  [nan, DEPLOYMENT UNKNOWN, DID NOT DEPLOY, NOT ...  \n",
       "51  [nan, NONE, UNKNOWN, TOTALLY EJECTED, TRAPPED/...  \n",
       "52  [nan, UNKNOWN, NONE, IMPROPER BACKING, IMPROPE...  \n",
       "53  [nan, UNKNOWN, NOT OBSCURED, WINDSHIELD (WATER...  \n",
       "54  [nan, UNKNOWN, NORMAL, IMPAIRED - DRUGS, REMOV...  \n",
       "55  [nan, TEST NOT OFFERED, TEST TAKEN, TEST REFUS...  "
      ]
     },
     "execution_count": 74,
     "metadata": {},
     "output_type": "execute_result"
    }
   ],
   "source": [
    "data =  df.copy()\n",
    "\n",
    "column_info = []\n",
    "\n",
    "for column in data.columns:\n",
    "    unique_values = data[column].unique()\n",
    "    num_unique_values = len(unique_values)\n",
    "    data_type = data[column].dtype\n",
    "    column_info.append([column, data_type, num_unique_values, unique_values])\n",
    "\n",
    "column_table = pd.DataFrame(column_info, columns=['Column Name', 'Data Type', 'Number of Unique Values', 'Unique Values'])\n",
    "column_table"
   ]
  },
  {
   "cell_type": "code",
   "execution_count": 75,
   "id": "d30049ad",
   "metadata": {
    "execution": {
     "iopub.execute_input": "2024-10-10T18:17:17.976847Z",
     "iopub.status.busy": "2024-10-10T18:17:17.976480Z",
     "iopub.status.idle": "2024-10-10T18:17:21.786444Z",
     "shell.execute_reply": "2024-10-10T18:17:21.785400Z"
    },
    "papermill": {
     "duration": 3.848881,
     "end_time": "2024-10-10T18:17:21.788712",
     "exception": false,
     "start_time": "2024-10-10T18:17:17.939831",
     "status": "completed"
    },
    "tags": []
   },
   "outputs": [
    {
     "data": {
      "text/html": [
       "<div>\n",
       "<style scoped>\n",
       "    .dataframe tbody tr th:only-of-type {\n",
       "        vertical-align: middle;\n",
       "    }\n",
       "\n",
       "    .dataframe tbody tr th {\n",
       "        vertical-align: top;\n",
       "    }\n",
       "\n",
       "    .dataframe thead th {\n",
       "        text-align: right;\n",
       "    }\n",
       "</style>\n",
       "<table border=\"1\" class=\"dataframe\">\n",
       "  <thead>\n",
       "    <tr style=\"text-align: right;\">\n",
       "      <th></th>\n",
       "      <th>POSTED_SPEED_LIMIT</th>\n",
       "      <th>STREET_NO</th>\n",
       "      <th>NUM_UNITS</th>\n",
       "      <th>INJURIES_TOTAL</th>\n",
       "      <th>INJURIES_FATAL</th>\n",
       "      <th>INJURIES_INCAPACITATING</th>\n",
       "      <th>INJURIES_NON_INCAPACITATING</th>\n",
       "      <th>INJURIES_REPORTED_NOT_EVIDENT</th>\n",
       "      <th>INJURIES_NO_INDICATION</th>\n",
       "      <th>INJURIES_UNKNOWN</th>\n",
       "      <th>CRASH_HOUR</th>\n",
       "      <th>CRASH_DAY_OF_WEEK</th>\n",
       "      <th>CRASH_MONTH</th>\n",
       "      <th>CRASH_UNIT_ID</th>\n",
       "      <th>UNIT_NO</th>\n",
       "      <th>VEHICLE_ID</th>\n",
       "      <th>OCCUPANT_CNT</th>\n",
       "    </tr>\n",
       "  </thead>\n",
       "  <tbody>\n",
       "    <tr>\n",
       "      <th>count</th>\n",
       "      <td>878455.000000</td>\n",
       "      <td>878455.000000</td>\n",
       "      <td>878455.000000</td>\n",
       "      <td>878455.000000</td>\n",
       "      <td>878455.000000</td>\n",
       "      <td>878455.000000</td>\n",
       "      <td>878455.000000</td>\n",
       "      <td>878455.000000</td>\n",
       "      <td>878455.000000</td>\n",
       "      <td>878455.0</td>\n",
       "      <td>878455.000000</td>\n",
       "      <td>878455.000000</td>\n",
       "      <td>878455.000000</td>\n",
       "      <td>1.754082e+06</td>\n",
       "      <td>1.754082e+06</td>\n",
       "      <td>1.754082e+06</td>\n",
       "      <td>1.754082e+06</td>\n",
       "    </tr>\n",
       "    <tr>\n",
       "      <th>mean</th>\n",
       "      <td>28.423662</td>\n",
       "      <td>3686.718992</td>\n",
       "      <td>2.035979</td>\n",
       "      <td>0.193559</td>\n",
       "      <td>0.001190</td>\n",
       "      <td>0.019827</td>\n",
       "      <td>0.108623</td>\n",
       "      <td>0.063920</td>\n",
       "      <td>2.001335</td>\n",
       "      <td>0.0</td>\n",
       "      <td>13.208981</td>\n",
       "      <td>4.122246</td>\n",
       "      <td>6.642409</td>\n",
       "      <td>9.595878e+05</td>\n",
       "      <td>3.711733e+00</td>\n",
       "      <td>9.133817e+05</td>\n",
       "      <td>1.079370e+00</td>\n",
       "    </tr>\n",
       "    <tr>\n",
       "      <th>std</th>\n",
       "      <td>6.115410</td>\n",
       "      <td>2880.237823</td>\n",
       "      <td>0.450958</td>\n",
       "      <td>0.571516</td>\n",
       "      <td>0.037385</td>\n",
       "      <td>0.164965</td>\n",
       "      <td>0.425052</td>\n",
       "      <td>0.325037</td>\n",
       "      <td>1.157204</td>\n",
       "      <td>0.0</td>\n",
       "      <td>5.567805</td>\n",
       "      <td>1.981014</td>\n",
       "      <td>3.363519</td>\n",
       "      <td>5.561452e+05</td>\n",
       "      <td>2.852600e+03</td>\n",
       "      <td>5.277574e+05</td>\n",
       "      <td>7.823897e-01</td>\n",
       "    </tr>\n",
       "    <tr>\n",
       "      <th>min</th>\n",
       "      <td>0.000000</td>\n",
       "      <td>0.000000</td>\n",
       "      <td>1.000000</td>\n",
       "      <td>0.000000</td>\n",
       "      <td>0.000000</td>\n",
       "      <td>0.000000</td>\n",
       "      <td>0.000000</td>\n",
       "      <td>0.000000</td>\n",
       "      <td>0.000000</td>\n",
       "      <td>0.0</td>\n",
       "      <td>0.000000</td>\n",
       "      <td>1.000000</td>\n",
       "      <td>1.000000</td>\n",
       "      <td>2.000000e+00</td>\n",
       "      <td>0.000000e+00</td>\n",
       "      <td>2.000000e+00</td>\n",
       "      <td>0.000000e+00</td>\n",
       "    </tr>\n",
       "    <tr>\n",
       "      <th>25%</th>\n",
       "      <td>30.000000</td>\n",
       "      <td>1250.000000</td>\n",
       "      <td>2.000000</td>\n",
       "      <td>0.000000</td>\n",
       "      <td>0.000000</td>\n",
       "      <td>0.000000</td>\n",
       "      <td>0.000000</td>\n",
       "      <td>0.000000</td>\n",
       "      <td>1.000000</td>\n",
       "      <td>0.0</td>\n",
       "      <td>9.000000</td>\n",
       "      <td>2.000000</td>\n",
       "      <td>4.000000</td>\n",
       "      <td>4.771032e+05</td>\n",
       "      <td>1.000000e+00</td>\n",
       "      <td>4.566912e+05</td>\n",
       "      <td>1.000000e+00</td>\n",
       "    </tr>\n",
       "    <tr>\n",
       "      <th>50%</th>\n",
       "      <td>30.000000</td>\n",
       "      <td>3201.000000</td>\n",
       "      <td>2.000000</td>\n",
       "      <td>0.000000</td>\n",
       "      <td>0.000000</td>\n",
       "      <td>0.000000</td>\n",
       "      <td>0.000000</td>\n",
       "      <td>0.000000</td>\n",
       "      <td>2.000000</td>\n",
       "      <td>0.0</td>\n",
       "      <td>14.000000</td>\n",
       "      <td>4.000000</td>\n",
       "      <td>7.000000</td>\n",
       "      <td>9.618725e+05</td>\n",
       "      <td>2.000000e+00</td>\n",
       "      <td>9.116525e+05</td>\n",
       "      <td>1.000000e+00</td>\n",
       "    </tr>\n",
       "    <tr>\n",
       "      <th>75%</th>\n",
       "      <td>30.000000</td>\n",
       "      <td>5560.000000</td>\n",
       "      <td>2.000000</td>\n",
       "      <td>0.000000</td>\n",
       "      <td>0.000000</td>\n",
       "      <td>0.000000</td>\n",
       "      <td>0.000000</td>\n",
       "      <td>0.000000</td>\n",
       "      <td>2.000000</td>\n",
       "      <td>0.0</td>\n",
       "      <td>17.000000</td>\n",
       "      <td>6.000000</td>\n",
       "      <td>9.000000</td>\n",
       "      <td>1.441323e+06</td>\n",
       "      <td>2.000000e+00</td>\n",
       "      <td>1.369841e+06</td>\n",
       "      <td>1.000000e+00</td>\n",
       "    </tr>\n",
       "    <tr>\n",
       "      <th>max</th>\n",
       "      <td>99.000000</td>\n",
       "      <td>451100.000000</td>\n",
       "      <td>18.000000</td>\n",
       "      <td>21.000000</td>\n",
       "      <td>4.000000</td>\n",
       "      <td>10.000000</td>\n",
       "      <td>21.000000</td>\n",
       "      <td>15.000000</td>\n",
       "      <td>61.000000</td>\n",
       "      <td>0.0</td>\n",
       "      <td>23.000000</td>\n",
       "      <td>7.000000</td>\n",
       "      <td>12.000000</td>\n",
       "      <td>1.921950e+06</td>\n",
       "      <td>3.778035e+06</td>\n",
       "      <td>1.830999e+06</td>\n",
       "      <td>9.900000e+01</td>\n",
       "    </tr>\n",
       "  </tbody>\n",
       "</table>\n",
       "</div>"
      ],
      "text/plain": [
       "       POSTED_SPEED_LIMIT      STREET_NO      NUM_UNITS  INJURIES_TOTAL  \\\n",
       "count       878455.000000  878455.000000  878455.000000   878455.000000   \n",
       "mean            28.423662    3686.718992       2.035979        0.193559   \n",
       "std              6.115410    2880.237823       0.450958        0.571516   \n",
       "min              0.000000       0.000000       1.000000        0.000000   \n",
       "25%             30.000000    1250.000000       2.000000        0.000000   \n",
       "50%             30.000000    3201.000000       2.000000        0.000000   \n",
       "75%             30.000000    5560.000000       2.000000        0.000000   \n",
       "max             99.000000  451100.000000      18.000000       21.000000   \n",
       "\n",
       "       INJURIES_FATAL  INJURIES_INCAPACITATING  INJURIES_NON_INCAPACITATING  \\\n",
       "count   878455.000000            878455.000000                878455.000000   \n",
       "mean         0.001190                 0.019827                     0.108623   \n",
       "std          0.037385                 0.164965                     0.425052   \n",
       "min          0.000000                 0.000000                     0.000000   \n",
       "25%          0.000000                 0.000000                     0.000000   \n",
       "50%          0.000000                 0.000000                     0.000000   \n",
       "75%          0.000000                 0.000000                     0.000000   \n",
       "max          4.000000                10.000000                    21.000000   \n",
       "\n",
       "       INJURIES_REPORTED_NOT_EVIDENT  INJURIES_NO_INDICATION  \\\n",
       "count                  878455.000000           878455.000000   \n",
       "mean                        0.063920                2.001335   \n",
       "std                         0.325037                1.157204   \n",
       "min                         0.000000                0.000000   \n",
       "25%                         0.000000                1.000000   \n",
       "50%                         0.000000                2.000000   \n",
       "75%                         0.000000                2.000000   \n",
       "max                        15.000000               61.000000   \n",
       "\n",
       "       INJURIES_UNKNOWN     CRASH_HOUR  CRASH_DAY_OF_WEEK    CRASH_MONTH  \\\n",
       "count          878455.0  878455.000000      878455.000000  878455.000000   \n",
       "mean                0.0      13.208981           4.122246       6.642409   \n",
       "std                 0.0       5.567805           1.981014       3.363519   \n",
       "min                 0.0       0.000000           1.000000       1.000000   \n",
       "25%                 0.0       9.000000           2.000000       4.000000   \n",
       "50%                 0.0      14.000000           4.000000       7.000000   \n",
       "75%                 0.0      17.000000           6.000000       9.000000   \n",
       "max                 0.0      23.000000           7.000000      12.000000   \n",
       "\n",
       "       CRASH_UNIT_ID       UNIT_NO    VEHICLE_ID  OCCUPANT_CNT  \n",
       "count   1.754082e+06  1.754082e+06  1.754082e+06  1.754082e+06  \n",
       "mean    9.595878e+05  3.711733e+00  9.133817e+05  1.079370e+00  \n",
       "std     5.561452e+05  2.852600e+03  5.277574e+05  7.823897e-01  \n",
       "min     2.000000e+00  0.000000e+00  2.000000e+00  0.000000e+00  \n",
       "25%     4.771032e+05  1.000000e+00  4.566912e+05  1.000000e+00  \n",
       "50%     9.618725e+05  2.000000e+00  9.116525e+05  1.000000e+00  \n",
       "75%     1.441323e+06  2.000000e+00  1.369841e+06  1.000000e+00  \n",
       "max     1.921950e+06  3.778035e+06  1.830999e+06  9.900000e+01  "
      ]
     },
     "execution_count": 75,
     "metadata": {},
     "output_type": "execute_result"
    }
   ],
   "source": [
    "df.describe()"
   ]
  },
  {
   "cell_type": "markdown",
   "id": "0dd55ee1",
   "metadata": {
    "papermill": {
     "duration": 0.035943,
     "end_time": "2024-10-10T18:17:21.861750",
     "exception": false,
     "start_time": "2024-10-10T18:17:21.825807",
     "status": "completed"
    },
    "tags": []
   },
   "source": [
    "The primary contributory cause of a car accident is our target variable. As we are only interested in predicting causes of the crash, columns  not relevant to the model's predictions and should be removed."
   ]
  },
  {
   "cell_type": "code",
   "execution_count": 76,
   "id": "bd6ceebb",
   "metadata": {
    "execution": {
     "iopub.execute_input": "2024-10-10T18:17:21.935358Z",
     "iopub.status.busy": "2024-10-10T18:17:21.934941Z",
     "iopub.status.idle": "2024-10-10T18:17:21.941874Z",
     "shell.execute_reply": "2024-10-10T18:17:21.940850Z"
    },
    "papermill": {
     "duration": 0.045938,
     "end_time": "2024-10-10T18:17:21.943933",
     "exception": false,
     "start_time": "2024-10-10T18:17:21.897995",
     "status": "completed"
    },
    "tags": []
   },
   "outputs": [
    {
     "data": {
      "text/plain": [
       "Index(['CRASH_RECORD_ID', 'CRASH_DATE', 'POSTED_SPEED_LIMIT',\n",
       "       'TRAFFIC_CONTROL_DEVICE', 'DEVICE_CONDITION', 'WEATHER_CONDITION',\n",
       "       'LIGHTING_CONDITION', 'FIRST_CRASH_TYPE', 'TRAFFICWAY_TYPE',\n",
       "       'ALIGNMENT', 'ROADWAY_SURFACE_COND', 'ROAD_DEFECT', 'CRASH_TYPE',\n",
       "       'DAMAGE', 'DATE_POLICE_NOTIFIED', 'PRIM_CONTRIBUTORY_CAUSE',\n",
       "       'SEC_CONTRIBUTORY_CAUSE', 'STREET_NO', 'STREET_DIRECTION',\n",
       "       'STREET_NAME', 'NUM_UNITS', 'MOST_SEVERE_INJURY', 'INJURIES_TOTAL',\n",
       "       'INJURIES_FATAL', 'INJURIES_INCAPACITATING',\n",
       "       'INJURIES_NON_INCAPACITATING', 'INJURIES_REPORTED_NOT_EVIDENT',\n",
       "       'INJURIES_NO_INDICATION', 'INJURIES_UNKNOWN', 'CRASH_HOUR',\n",
       "       'CRASH_DAY_OF_WEEK', 'CRASH_MONTH', 'CRASH_UNIT_ID', 'UNIT_NO',\n",
       "       'UNIT_TYPE', 'VEHICLE_ID', 'MAKE', 'MODEL', 'VEHICLE_DEFECT',\n",
       "       'VEHICLE_TYPE', 'VEHICLE_USE', 'TRAVEL_DIRECTION', 'MANEUVER',\n",
       "       'OCCUPANT_CNT', 'FIRST_CONTACT_POINT', 'PERSON_ID', 'PERSON_TYPE',\n",
       "       'SEX', 'DRIVERS_LICENSE_CLASS', 'SAFETY_EQUIPMENT', 'AIRBAG_DEPLOYED',\n",
       "       'EJECTION', 'DRIVER_ACTION', 'DRIVER_VISION', 'PHYSICAL_CONDITION',\n",
       "       'BAC_RESULT'],\n",
       "      dtype='object')"
      ]
     },
     "execution_count": 76,
     "metadata": {},
     "output_type": "execute_result"
    }
   ],
   "source": [
    "df.columns"
   ]
  },
  {
   "cell_type": "code",
   "execution_count": 77,
   "id": "bd0f8e67",
   "metadata": {
    "execution": {
     "iopub.execute_input": "2024-10-10T18:17:22.017095Z",
     "iopub.status.busy": "2024-10-10T18:17:22.016718Z",
     "iopub.status.idle": "2024-10-10T18:17:22.021341Z",
     "shell.execute_reply": "2024-10-10T18:17:22.020434Z"
    },
    "papermill": {
     "duration": 0.043294,
     "end_time": "2024-10-10T18:17:22.023287",
     "exception": false,
     "start_time": "2024-10-10T18:17:21.979993",
     "status": "completed"
    },
    "tags": []
   },
   "outputs": [],
   "source": [
    "columns_to_drop = ['CRASH_DATE','DATE_POLICE_NOTIFIED','STREET_NO', 'STREET_DIRECTION', 'STREET_NAME', 'CRASH_UNIT_ID', \n",
    "                   'VEHICLE_ID', 'PERSON_ID']"
   ]
  },
  {
   "cell_type": "code",
   "execution_count": 78,
   "id": "bc58cc3c",
   "metadata": {
    "execution": {
     "iopub.execute_input": "2024-10-10T18:17:22.097559Z",
     "iopub.status.busy": "2024-10-10T18:17:22.097226Z",
     "iopub.status.idle": "2024-10-10T18:17:24.114971Z",
     "shell.execute_reply": "2024-10-10T18:17:24.114133Z"
    },
    "papermill": {
     "duration": 2.058226,
     "end_time": "2024-10-10T18:17:24.117254",
     "exception": false,
     "start_time": "2024-10-10T18:17:22.059028",
     "status": "completed"
    },
    "tags": []
   },
   "outputs": [],
   "source": [
    "df.drop(columns=columns_to_drop, inplace=True)"
   ]
  },
  {
   "cell_type": "code",
   "execution_count": 79,
   "id": "5369db71",
   "metadata": {
    "execution": {
     "iopub.execute_input": "2024-10-10T18:17:24.191113Z",
     "iopub.status.busy": "2024-10-10T18:17:24.190372Z",
     "iopub.status.idle": "2024-10-10T18:17:47.205264Z",
     "shell.execute_reply": "2024-10-10T18:17:47.204240Z"
    },
    "papermill": {
     "duration": 23.054344,
     "end_time": "2024-10-10T18:17:47.207413",
     "exception": false,
     "start_time": "2024-10-10T18:17:24.153069",
     "status": "completed"
    },
    "tags": []
   },
   "outputs": [
    {
     "data": {
      "text/plain": [
       "True"
      ]
     },
     "execution_count": 79,
     "metadata": {},
     "output_type": "execute_result"
    }
   ],
   "source": [
    "df.duplicated().values.any()"
   ]
  },
  {
   "cell_type": "code",
   "execution_count": 80,
   "id": "87b9611c",
   "metadata": {
    "execution": {
     "iopub.execute_input": "2024-10-10T18:17:47.282067Z",
     "iopub.status.busy": "2024-10-10T18:17:47.281517Z",
     "iopub.status.idle": "2024-10-10T18:18:12.990233Z",
     "shell.execute_reply": "2024-10-10T18:18:12.989417Z"
    },
    "papermill": {
     "duration": 25.7484,
     "end_time": "2024-10-10T18:18:12.992564",
     "exception": false,
     "start_time": "2024-10-10T18:17:47.244164",
     "status": "completed"
    },
    "tags": []
   },
   "outputs": [],
   "source": [
    "df = df.drop_duplicates(keep='first')"
   ]
  },
  {
   "cell_type": "code",
   "execution_count": 81,
   "id": "84f1cb0e",
   "metadata": {
    "execution": {
     "iopub.execute_input": "2024-10-10T18:18:13.066270Z",
     "iopub.status.busy": "2024-10-10T18:18:13.065361Z",
     "iopub.status.idle": "2024-10-10T18:18:35.680693Z",
     "shell.execute_reply": "2024-10-10T18:18:35.679678Z"
    },
    "papermill": {
     "duration": 22.65421,
     "end_time": "2024-10-10T18:18:35.682793",
     "exception": false,
     "start_time": "2024-10-10T18:18:13.028583",
     "status": "completed"
    },
    "tags": []
   },
   "outputs": [
    {
     "data": {
      "text/plain": [
       "False"
      ]
     },
     "execution_count": 81,
     "metadata": {},
     "output_type": "execute_result"
    }
   ],
   "source": [
    "df.duplicated().values.any()"
   ]
  },
  {
   "cell_type": "code",
   "execution_count": 82,
   "id": "a74fbff5",
   "metadata": {
    "execution": {
     "iopub.execute_input": "2024-10-10T18:18:35.756520Z",
     "iopub.status.busy": "2024-10-10T18:18:35.756149Z",
     "iopub.status.idle": "2024-10-10T18:18:35.781412Z",
     "shell.execute_reply": "2024-10-10T18:18:35.780099Z"
    },
    "papermill": {
     "duration": 0.065029,
     "end_time": "2024-10-10T18:18:35.783859",
     "exception": false,
     "start_time": "2024-10-10T18:18:35.718830",
     "status": "completed"
    },
    "tags": []
   },
   "outputs": [
    {
     "data": {
      "text/html": [
       "<div>\n",
       "<style scoped>\n",
       "    .dataframe tbody tr th:only-of-type {\n",
       "        vertical-align: middle;\n",
       "    }\n",
       "\n",
       "    .dataframe tbody tr th {\n",
       "        vertical-align: top;\n",
       "    }\n",
       "\n",
       "    .dataframe thead th {\n",
       "        text-align: right;\n",
       "    }\n",
       "</style>\n",
       "<table border=\"1\" class=\"dataframe\">\n",
       "  <thead>\n",
       "    <tr style=\"text-align: right;\">\n",
       "      <th></th>\n",
       "      <th>CRASH_RECORD_ID</th>\n",
       "      <th>POSTED_SPEED_LIMIT</th>\n",
       "      <th>TRAFFIC_CONTROL_DEVICE</th>\n",
       "      <th>DEVICE_CONDITION</th>\n",
       "      <th>WEATHER_CONDITION</th>\n",
       "      <th>LIGHTING_CONDITION</th>\n",
       "      <th>FIRST_CRASH_TYPE</th>\n",
       "      <th>TRAFFICWAY_TYPE</th>\n",
       "      <th>ALIGNMENT</th>\n",
       "      <th>ROADWAY_SURFACE_COND</th>\n",
       "      <th>...</th>\n",
       "      <th>PERSON_TYPE</th>\n",
       "      <th>SEX</th>\n",
       "      <th>DRIVERS_LICENSE_CLASS</th>\n",
       "      <th>SAFETY_EQUIPMENT</th>\n",
       "      <th>AIRBAG_DEPLOYED</th>\n",
       "      <th>EJECTION</th>\n",
       "      <th>DRIVER_ACTION</th>\n",
       "      <th>DRIVER_VISION</th>\n",
       "      <th>PHYSICAL_CONDITION</th>\n",
       "      <th>BAC_RESULT</th>\n",
       "    </tr>\n",
       "  </thead>\n",
       "  <tbody>\n",
       "    <tr>\n",
       "      <th>0</th>\n",
       "      <td>23a79931ef555d54118f64dc9be2cf2dbf59636ce253f7...</td>\n",
       "      <td>30.0</td>\n",
       "      <td>TRAFFIC SIGNAL</td>\n",
       "      <td>FUNCTIONING PROPERLY</td>\n",
       "      <td>CLEAR</td>\n",
       "      <td>DUSK</td>\n",
       "      <td>ANGLE</td>\n",
       "      <td>FIVE POINT, OR MORE</td>\n",
       "      <td>STRAIGHT AND LEVEL</td>\n",
       "      <td>DRY</td>\n",
       "      <td>...</td>\n",
       "      <td>NaN</td>\n",
       "      <td>NaN</td>\n",
       "      <td>NaN</td>\n",
       "      <td>NaN</td>\n",
       "      <td>NaN</td>\n",
       "      <td>NaN</td>\n",
       "      <td>NaN</td>\n",
       "      <td>NaN</td>\n",
       "      <td>NaN</td>\n",
       "      <td>NaN</td>\n",
       "    </tr>\n",
       "    <tr>\n",
       "      <th>1</th>\n",
       "      <td>2675c13fd0f474d730a5b780968b3cafc7c12d7adb661f...</td>\n",
       "      <td>50.0</td>\n",
       "      <td>NO CONTROLS</td>\n",
       "      <td>NO CONTROLS</td>\n",
       "      <td>CLEAR</td>\n",
       "      <td>DARKNESS, LIGHTED ROAD</td>\n",
       "      <td>REAR END</td>\n",
       "      <td>DIVIDED - W/MEDIAN BARRIER</td>\n",
       "      <td>STRAIGHT AND LEVEL</td>\n",
       "      <td>DRY</td>\n",
       "      <td>...</td>\n",
       "      <td>NaN</td>\n",
       "      <td>NaN</td>\n",
       "      <td>NaN</td>\n",
       "      <td>NaN</td>\n",
       "      <td>NaN</td>\n",
       "      <td>NaN</td>\n",
       "      <td>NaN</td>\n",
       "      <td>NaN</td>\n",
       "      <td>NaN</td>\n",
       "      <td>NaN</td>\n",
       "    </tr>\n",
       "    <tr>\n",
       "      <th>2</th>\n",
       "      <td>5f54a59fcb087b12ae5b1acff96a3caf4f2d37e79f8db4...</td>\n",
       "      <td>30.0</td>\n",
       "      <td>TRAFFIC SIGNAL</td>\n",
       "      <td>FUNCTIONING PROPERLY</td>\n",
       "      <td>CLEAR</td>\n",
       "      <td>DAYLIGHT</td>\n",
       "      <td>PARKED MOTOR VEHICLE</td>\n",
       "      <td>DIVIDED - W/MEDIAN (NOT RAISED)</td>\n",
       "      <td>STRAIGHT AND LEVEL</td>\n",
       "      <td>DRY</td>\n",
       "      <td>...</td>\n",
       "      <td>NaN</td>\n",
       "      <td>NaN</td>\n",
       "      <td>NaN</td>\n",
       "      <td>NaN</td>\n",
       "      <td>NaN</td>\n",
       "      <td>NaN</td>\n",
       "      <td>NaN</td>\n",
       "      <td>NaN</td>\n",
       "      <td>NaN</td>\n",
       "      <td>NaN</td>\n",
       "    </tr>\n",
       "    <tr>\n",
       "      <th>3</th>\n",
       "      <td>7ebf015016f83d09b321afd671a836d6b148330535d5df...</td>\n",
       "      <td>30.0</td>\n",
       "      <td>NO CONTROLS</td>\n",
       "      <td>NO CONTROLS</td>\n",
       "      <td>CLEAR</td>\n",
       "      <td>DARKNESS, LIGHTED ROAD</td>\n",
       "      <td>SIDESWIPE SAME DIRECTION</td>\n",
       "      <td>NOT DIVIDED</td>\n",
       "      <td>STRAIGHT AND LEVEL</td>\n",
       "      <td>DRY</td>\n",
       "      <td>...</td>\n",
       "      <td>NaN</td>\n",
       "      <td>NaN</td>\n",
       "      <td>NaN</td>\n",
       "      <td>NaN</td>\n",
       "      <td>NaN</td>\n",
       "      <td>NaN</td>\n",
       "      <td>NaN</td>\n",
       "      <td>NaN</td>\n",
       "      <td>NaN</td>\n",
       "      <td>NaN</td>\n",
       "    </tr>\n",
       "    <tr>\n",
       "      <th>4</th>\n",
       "      <td>6c1659069e9c6285a650e70d6f9b574ed5f64c12888479...</td>\n",
       "      <td>15.0</td>\n",
       "      <td>OTHER</td>\n",
       "      <td>FUNCTIONING PROPERLY</td>\n",
       "      <td>CLEAR</td>\n",
       "      <td>DAYLIGHT</td>\n",
       "      <td>REAR END</td>\n",
       "      <td>OTHER</td>\n",
       "      <td>STRAIGHT AND LEVEL</td>\n",
       "      <td>DRY</td>\n",
       "      <td>...</td>\n",
       "      <td>NaN</td>\n",
       "      <td>NaN</td>\n",
       "      <td>NaN</td>\n",
       "      <td>NaN</td>\n",
       "      <td>NaN</td>\n",
       "      <td>NaN</td>\n",
       "      <td>NaN</td>\n",
       "      <td>NaN</td>\n",
       "      <td>NaN</td>\n",
       "      <td>NaN</td>\n",
       "    </tr>\n",
       "  </tbody>\n",
       "</table>\n",
       "<p>5 rows × 48 columns</p>\n",
       "</div>"
      ],
      "text/plain": [
       "                                     CRASH_RECORD_ID  POSTED_SPEED_LIMIT  \\\n",
       "0  23a79931ef555d54118f64dc9be2cf2dbf59636ce253f7...                30.0   \n",
       "1  2675c13fd0f474d730a5b780968b3cafc7c12d7adb661f...                50.0   \n",
       "2  5f54a59fcb087b12ae5b1acff96a3caf4f2d37e79f8db4...                30.0   \n",
       "3  7ebf015016f83d09b321afd671a836d6b148330535d5df...                30.0   \n",
       "4  6c1659069e9c6285a650e70d6f9b574ed5f64c12888479...                15.0   \n",
       "\n",
       "  TRAFFIC_CONTROL_DEVICE      DEVICE_CONDITION WEATHER_CONDITION  \\\n",
       "0         TRAFFIC SIGNAL  FUNCTIONING PROPERLY             CLEAR   \n",
       "1            NO CONTROLS           NO CONTROLS             CLEAR   \n",
       "2         TRAFFIC SIGNAL  FUNCTIONING PROPERLY             CLEAR   \n",
       "3            NO CONTROLS           NO CONTROLS             CLEAR   \n",
       "4                  OTHER  FUNCTIONING PROPERLY             CLEAR   \n",
       "\n",
       "       LIGHTING_CONDITION          FIRST_CRASH_TYPE  \\\n",
       "0                    DUSK                     ANGLE   \n",
       "1  DARKNESS, LIGHTED ROAD                  REAR END   \n",
       "2                DAYLIGHT      PARKED MOTOR VEHICLE   \n",
       "3  DARKNESS, LIGHTED ROAD  SIDESWIPE SAME DIRECTION   \n",
       "4                DAYLIGHT                  REAR END   \n",
       "\n",
       "                   TRAFFICWAY_TYPE           ALIGNMENT ROADWAY_SURFACE_COND  \\\n",
       "0              FIVE POINT, OR MORE  STRAIGHT AND LEVEL                  DRY   \n",
       "1       DIVIDED - W/MEDIAN BARRIER  STRAIGHT AND LEVEL                  DRY   \n",
       "2  DIVIDED - W/MEDIAN (NOT RAISED)  STRAIGHT AND LEVEL                  DRY   \n",
       "3                      NOT DIVIDED  STRAIGHT AND LEVEL                  DRY   \n",
       "4                            OTHER  STRAIGHT AND LEVEL                  DRY   \n",
       "\n",
       "   ... PERSON_TYPE  SEX DRIVERS_LICENSE_CLASS SAFETY_EQUIPMENT  \\\n",
       "0  ...         NaN  NaN                   NaN              NaN   \n",
       "1  ...         NaN  NaN                   NaN              NaN   \n",
       "2  ...         NaN  NaN                   NaN              NaN   \n",
       "3  ...         NaN  NaN                   NaN              NaN   \n",
       "4  ...         NaN  NaN                   NaN              NaN   \n",
       "\n",
       "  AIRBAG_DEPLOYED  EJECTION DRIVER_ACTION  DRIVER_VISION  PHYSICAL_CONDITION  \\\n",
       "0             NaN       NaN           NaN            NaN                 NaN   \n",
       "1             NaN       NaN           NaN            NaN                 NaN   \n",
       "2             NaN       NaN           NaN            NaN                 NaN   \n",
       "3             NaN       NaN           NaN            NaN                 NaN   \n",
       "4             NaN       NaN           NaN            NaN                 NaN   \n",
       "\n",
       "   BAC_RESULT  \n",
       "0         NaN  \n",
       "1         NaN  \n",
       "2         NaN  \n",
       "3         NaN  \n",
       "4         NaN  \n",
       "\n",
       "[5 rows x 48 columns]"
      ]
     },
     "execution_count": 82,
     "metadata": {},
     "output_type": "execute_result"
    }
   ],
   "source": [
    "df.head()"
   ]
  },
  {
   "cell_type": "code",
   "execution_count": 83,
   "id": "8399c7f7",
   "metadata": {
    "execution": {
     "iopub.execute_input": "2024-10-10T18:18:35.864621Z",
     "iopub.status.busy": "2024-10-10T18:18:35.863703Z",
     "iopub.status.idle": "2024-10-10T18:18:36.139274Z",
     "shell.execute_reply": "2024-10-10T18:18:36.138029Z"
    },
    "papermill": {
     "duration": 0.31593,
     "end_time": "2024-10-10T18:18:36.141474",
     "exception": false,
     "start_time": "2024-10-10T18:18:35.825544",
     "status": "completed"
    },
    "tags": []
   },
   "outputs": [
    {
     "data": {
      "text/plain": [
       "PRIM_CONTRIBUTORY_CAUSE\n",
       "UNABLE TO DETERMINE                                                                 342907\n",
       "FAILING TO YIELD RIGHT-OF-WAY                                                        97036\n",
       "FOLLOWING TOO CLOSELY                                                                85019\n",
       "NOT APPLICABLE                                                                       46319\n",
       "IMPROPER OVERTAKING/PASSING                                                          43784\n",
       "FAILING TO REDUCE SPEED TO AVOID CRASH                                               36950\n",
       "IMPROPER BACKING                                                                     34164\n",
       "IMPROPER LANE USAGE                                                                  31359\n",
       "DRIVING SKILLS/KNOWLEDGE/EXPERIENCE                                                  29787\n",
       "IMPROPER TURNING/NO SIGNAL                                                           29425\n",
       "DISREGARDING TRAFFIC SIGNALS                                                         17227\n",
       "WEATHER                                                                              12593\n",
       "OPERATING VEHICLE IN ERRATIC, RECKLESS, CARELESS, NEGLIGENT OR AGGRESSIVE MANNER     11067\n",
       "DISREGARDING STOP SIGN                                                                9429\n",
       "DISTRACTION - FROM INSIDE VEHICLE                                                     5976\n",
       "EQUIPMENT - VEHICLE CONDITION                                                         5395\n",
       "PHYSICAL CONDITION OF DRIVER                                                          5181\n",
       "VISION OBSCURED (SIGNS, TREE LIMBS, BUILDINGS, ETC.)                                  5007\n",
       "DRIVING ON WRONG SIDE/WRONG WAY                                                       4756\n",
       "UNDER THE INFLUENCE OF ALCOHOL/DRUGS (USE WHEN ARREST IS EFFECTED)                    4085\n",
       "DISTRACTION - FROM OUTSIDE VEHICLE                                                    3567\n",
       "ROAD ENGINEERING/SURFACE/MARKING DEFECTS                                              2110\n",
       "EXCEEDING AUTHORIZED SPEED LIMIT                                                      1971\n",
       "DISREGARDING OTHER TRAFFIC SIGNS                                                      1878\n",
       "ROAD CONSTRUCTION/MAINTENANCE                                                         1855\n",
       "EXCEEDING SAFE SPEED FOR CONDITIONS                                                   1681\n",
       "EVASIVE ACTION DUE TO ANIMAL, OBJECT, NONMOTORIST                                     1603\n",
       "CELL PHONE USE OTHER THAN TEXTING                                                     1163\n",
       "DISREGARDING ROAD MARKINGS                                                            1072\n",
       "HAD BEEN DRINKING (USE WHEN ARREST IS NOT MADE)                                        877\n",
       "ANIMAL                                                                                 744\n",
       "TURNING RIGHT ON RED                                                                   671\n",
       "RELATED TO BUS STOP                                                                    456\n",
       "DISTRACTION - OTHER ELECTRONIC DEVICE (NAVIGATION DEVICE, DVD PLAYER, ETC.)            417\n",
       "TEXTING                                                                                335\n",
       "DISREGARDING YIELD SIGN                                                                276\n",
       "PASSING STOPPED SCHOOL BUS                                                             109\n",
       "OBSTRUCTED CROSSWALKS                                                                   95\n",
       "BICYCLE ADVANCING LEGALLY ON RED LIGHT                                                  86\n",
       "MOTORCYCLE ADVANCING LEGALLY ON RED LIGHT                                               23\n",
       "Name: count, dtype: int64"
      ]
     },
     "execution_count": 83,
     "metadata": {},
     "output_type": "execute_result"
    }
   ],
   "source": [
    "df['PRIM_CONTRIBUTORY_CAUSE'].value_counts()"
   ]
  },
  {
   "cell_type": "code",
   "execution_count": 84,
   "id": "fc62967f",
   "metadata": {
    "execution": {
     "iopub.execute_input": "2024-10-10T18:18:36.220005Z",
     "iopub.status.busy": "2024-10-10T18:18:36.219100Z",
     "iopub.status.idle": "2024-10-10T18:18:36.226208Z",
     "shell.execute_reply": "2024-10-10T18:18:36.225323Z"
    },
    "papermill": {
     "duration": 0.046847,
     "end_time": "2024-10-10T18:18:36.228147",
     "exception": false,
     "start_time": "2024-10-10T18:18:36.181300",
     "status": "completed"
    },
    "tags": []
   },
   "outputs": [],
   "source": [
    "#creating categories of the target variable since it has too many unique values\n",
    "target_dict = {\n",
    "    'reckless driving': ['FOLLOWING TOO CLOSELY', 'IMPROPER OVERTAKING/PASSING', 'FAILING TO REDUCE SPEED TO AVOID CRASH',\n",
    "        'IMPROPER BACKING', 'IMPROPER LANE USAGE','IMPROPER TURNING/NO SIGNAL',\n",
    "        'OPERATING VEHICLE IN ERRATIC, RECKLESS,CARELESS, NEGLIGENT OR AGGRESSIVE MANNER',\n",
    "        'DISTRACTION - FROM INSIDE VEHICLE','DRIVING ON WRONG SIDE/WRONG WAY', 'EXCEEDING AUTHORIZED SPEED LIMIT',\n",
    "        'EXCEEDING SAFE SPEED FOR CONDITIONS', 'DISTRACTION - OTHER ELECTRONIC DEVICE (NAVIGATION DEVICE, DVD PLAYER, ETC.)',  \n",
    "        'TEXTING','TURNING RIGHT ON RED', 'CELL PHONE USE OTHER THAN TEXTING'],\n",
    "    \n",
    "\n",
    "    'missed traffic signs': ['FAILING TO YIELD RIGHT-OF-WAY', 'DISREGARDING TRAFFIC SIGNALS',\n",
    "         'DISREGARDING STOP SIGN', 'DISREGARDING OTHER TRAFFIC SIGNS', 'DISREGARDING ROAD MARKINGS',\n",
    "         'DISREGARDING YIELD SIGN'],\n",
    "\n",
    "    'issue with the driver or vehicle': ['DRIVING SKILLS/KNOWLEDGE/EXPERIENCE', 'EQUIPMENT - VEHICLE CONDITION',\n",
    "        'PHYSICAL CONDITION OF DRIVER', 'UNDER THE INFLUENCE OF ALCOHOL/DRUGS (USE WHEN ARREST IS EFFECTED)',\n",
    "        'HAD BEEN DRINKING (USE WHEN ARREST IS NOT MADE)'],\n",
    "\n",
    "    'external factors': ['WEATHER', 'DISTRACTION - FROM OUTSIDE VEHICLE','VISION OBSCURED (SIGNS, TREE LIMBS, BUILDINGS, ETC.)', \n",
    "        'EVASIVE ACTION DUE TO ANIMAL, OBJECT, NONMOTORIST', 'ROAD ENGINEERING/SURFACE/MARKING DEFECTS', \n",
    "        'ROAD CONSTRUCTION/MAINTENANCE','ANIMAL', 'OBSTRUCTED CROSSWALKS'],\n",
    "\n",
    "    'other': ['PASSING STOPPED SCHOOL BUS', 'MOTORCYCLE ADVANCING LEGALLY ON RED LIGHT', 'RELATED TO BUS STOP',\n",
    "             'BICYCLE ADVANCING LEGALLY ON RED LIGHT']\n",
    "}"
   ]
  },
  {
   "cell_type": "code",
   "execution_count": 85,
   "id": "0812c797",
   "metadata": {
    "execution": {
     "iopub.execute_input": "2024-10-10T18:18:36.304096Z",
     "iopub.status.busy": "2024-10-10T18:18:36.303193Z",
     "iopub.status.idle": "2024-10-10T18:18:36.308067Z",
     "shell.execute_reply": "2024-10-10T18:18:36.307181Z"
    },
    "papermill": {
     "duration": 0.045395,
     "end_time": "2024-10-10T18:18:36.310044",
     "exception": false,
     "start_time": "2024-10-10T18:18:36.264649",
     "status": "completed"
    },
    "tags": []
   },
   "outputs": [],
   "source": [
    "new_target = {value: key for key in target_dict for value in target_dict[key]}"
   ]
  },
  {
   "cell_type": "code",
   "execution_count": 86,
   "id": "9565f8e8",
   "metadata": {
    "execution": {
     "iopub.execute_input": "2024-10-10T18:18:36.387423Z",
     "iopub.status.busy": "2024-10-10T18:18:36.386501Z",
     "iopub.status.idle": "2024-10-10T18:18:36.991227Z",
     "shell.execute_reply": "2024-10-10T18:18:36.990113Z"
    },
    "papermill": {
     "duration": 0.64545,
     "end_time": "2024-10-10T18:18:36.993836",
     "exception": false,
     "start_time": "2024-10-10T18:18:36.348386",
     "status": "completed"
    },
    "tags": []
   },
   "outputs": [],
   "source": [
    "df['CAUSE'] = df['PRIM_CONTRIBUTORY_CAUSE']\n",
    "df['CAUSE'] = df['CAUSE'].map(new_target)"
   ]
  },
  {
   "cell_type": "code",
   "execution_count": 87,
   "id": "a72d0017",
   "metadata": {
    "execution": {
     "iopub.execute_input": "2024-10-10T18:18:37.070582Z",
     "iopub.status.busy": "2024-10-10T18:18:37.069892Z",
     "iopub.status.idle": "2024-10-10T18:18:37.280234Z",
     "shell.execute_reply": "2024-10-10T18:18:37.279235Z"
    },
    "papermill": {
     "duration": 0.251227,
     "end_time": "2024-10-10T18:18:37.282190",
     "exception": false,
     "start_time": "2024-10-10T18:18:37.030963",
     "status": "completed"
    },
    "tags": []
   },
   "outputs": [
    {
     "data": {
      "text/plain": [
       "CAUSE\n",
       "reckless driving                    277671\n",
       "missed traffic signs                126918\n",
       "issue with the driver or vehicle     45325\n",
       "external factors                     27574\n",
       "other                                  674\n",
       "Name: count, dtype: int64"
      ]
     },
     "execution_count": 87,
     "metadata": {},
     "output_type": "execute_result"
    }
   ],
   "source": [
    "df['CAUSE'].value_counts()"
   ]
  },
  {
   "cell_type": "code",
   "execution_count": 88,
   "id": "4c22edaa",
   "metadata": {
    "execution": {
     "iopub.execute_input": "2024-10-10T18:18:37.359866Z",
     "iopub.status.busy": "2024-10-10T18:18:37.358845Z",
     "iopub.status.idle": "2024-10-10T18:18:51.034289Z",
     "shell.execute_reply": "2024-10-10T18:18:51.033359Z"
    },
    "papermill": {
     "duration": 13.717978,
     "end_time": "2024-10-10T18:18:51.037015",
     "exception": false,
     "start_time": "2024-10-10T18:18:37.319037",
     "status": "completed"
    },
    "tags": []
   },
   "outputs": [
    {
     "name": "stdout",
     "output_type": "stream",
     "text": [
      "Column: CRASH_RECORD_ID\n",
      "CRASH_RECORD_ID\n",
      "645cdd6fd3ed2f043eefdc48230464a8ad66127691a2a2781240f5c7570ff5a87aaa6cf887bc1f76e93cfcb770359fb8136d59a40d8c18b62133fec286670279    25\n",
      "d71effb95c9fa25c60c5f5b5d925de5e79bb5ba483d84e1b9009d49f13917e4d89ec3837e540368e76e6eea434376205d590b00cd7c36ac235907668e05e51d7    22\n",
      "b886d724e9788995a2f0855589591adefd3687379f3990ca78be09a23955a6dc710568b267cfd5c0f5924361197bebf9fc222f476f10873ddd1881b61b4890fb    21\n",
      "e4f07da854d2b7be0c4c0903296e6f1a1f0109ddebca9d5b5dc399ffc698f2118f0f658ad5b1e3559714e0a3e2550720e3cb88e9753ce9a93ca3a20fa553fed7    21\n",
      "376a09193852b2ec09fdbad0da0b82943e932ce95372c9907d086ec82ab25cbaaf79a0d84e6f880e064a6622b7b58bb3401c538b124692d1709b8edfcf67ef22    20\n",
      "                                                                                                                                    ..\n",
      "0b2a21cecc1f4edb56fdd4614ba60a7d776471329292266553073f5ed809b68f02194250f19b84f2404aee3c89c9b1e49eec771fa4ee25b7a351896a0a28d2d1     1\n",
      "74885348851081db4ccccf5834256bd27708dd4eda8c0c646d2a56d142eb964cef1a78d408f975bc3fdcebcf399ac0f067a9f9f94676b75c60b3721c4b3081a0     1\n",
      "64e24773f01c64705bc0cc7098d23190e61a6fc725d059ebd11d3dfd1f7c448734e4c33c54151c50732beb828bb26e14c8b51a57582bc970ce3d924d77c957fc     1\n",
      "e95b832104a5dc3634cdc84dc0142cd0b39542079bfc648b4fdaa01e10f52b852a875055c9c906bedb6ab30eb3d9ce873347c397e9a5d242df045b115964d897     1\n",
      "49d533ed2bd7b64d100c03fe37629619de8aa5ef42c42f67309b94a95ab2f84a6d5ba5d5a9271785d27042afdb35c020f3cb6104b72ab6879a18795f24a07659     1\n",
      "Name: count, Length: 880397, dtype: int64\n",
      "\n",
      "\n",
      "Column: POSTED_SPEED_LIMIT\n",
      "POSTED_SPEED_LIMIT\n",
      "30.0    647144\n",
      "35.0     58366\n",
      "25.0     56084\n",
      "20.0     36624\n",
      "15.0     31243\n",
      "10.0     20477\n",
      "40.0      8376\n",
      "0.0       7525\n",
      "45.0      5840\n",
      "5.0       4863\n",
      "55.0       860\n",
      "50.0       273\n",
      "3.0        216\n",
      "9.0         96\n",
      "39.0        92\n",
      "99.0        66\n",
      "60.0        52\n",
      "1.0         40\n",
      "24.0        38\n",
      "2.0         30\n",
      "65.0        20\n",
      "32.0        20\n",
      "34.0        16\n",
      "33.0        14\n",
      "11.0        11\n",
      "26.0        10\n",
      "36.0         8\n",
      "6.0          7\n",
      "70.0         6\n",
      "7.0          6\n",
      "14.0         4\n",
      "22.0         4\n",
      "18.0         3\n",
      "29.0         3\n",
      "12.0         3\n",
      "23.0         2\n",
      "8.0          2\n",
      "31.0         2\n",
      "38.0         2\n",
      "4.0          2\n",
      "49.0         1\n",
      "44.0         1\n",
      "63.0         1\n",
      "62.0         1\n",
      "46.0         1\n",
      "Name: count, dtype: int64\n",
      "\n",
      "\n",
      "Column: TRAFFIC_CONTROL_DEVICE\n",
      "TRAFFIC_CONTROL_DEVICE\n",
      "NO CONTROLS                 497472\n",
      "TRAFFIC SIGNAL              243922\n",
      "STOP SIGN/FLASHER            87135\n",
      "UNKNOWN                      36699\n",
      "OTHER                         5950\n",
      "YIELD                         1332\n",
      "LANE USE MARKING              1223\n",
      "OTHER REG. SIGN               1039\n",
      "OTHER WARNING SIGN             701\n",
      "PEDESTRIAN CROSSING SIGN       605\n",
      "RAILROAD CROSSING GATE         566\n",
      "FLASHING CONTROL SIGNAL        357\n",
      "DELINEATORS                    350\n",
      "SCHOOL ZONE                    338\n",
      "POLICE/FLAGMAN                 300\n",
      "OTHER RAILROAD CROSSING        191\n",
      "RR CROSSING SIGN               187\n",
      "NO PASSING                      55\n",
      "BICYCLE CROSSING SIGN           33\n",
      "Name: count, dtype: int64\n",
      "\n",
      "\n",
      "Column: DEVICE_CONDITION\n",
      "DEVICE_CONDITION\n",
      "NO CONTROLS                 503380\n",
      "FUNCTIONING PROPERLY        300458\n",
      "UNKNOWN                      61014\n",
      "OTHER                         6653\n",
      "FUNCTIONING IMPROPERLY        4048\n",
      "NOT FUNCTIONING               2511\n",
      "WORN REFLECTIVE MATERIAL       292\n",
      "MISSING                         99\n",
      "Name: count, dtype: int64\n",
      "\n",
      "\n",
      "Column: WEATHER_CONDITION\n",
      "WEATHER_CONDITION\n",
      "CLEAR                       691582\n",
      "RAIN                         76071\n",
      "UNKNOWN                      49569\n",
      "SNOW                         28336\n",
      "CLOUDY/OVERCAST              25526\n",
      "OTHER                         2705\n",
      "FREEZING RAIN/DRIZZLE         1733\n",
      "FOG/SMOKE/HAZE                1345\n",
      "SLEET/HAIL                    1007\n",
      "BLOWING SNOW                   441\n",
      "SEVERE CROSS WIND GATE         133\n",
      "BLOWING SAND, SOIL, DIRT         7\n",
      "Name: count, dtype: int64\n",
      "\n",
      "\n",
      "Column: LIGHTING_CONDITION\n",
      "LIGHTING_CONDITION\n",
      "DAYLIGHT                  565895\n",
      "DARKNESS, LIGHTED ROAD    190962\n",
      "DARKNESS                   41082\n",
      "UNKNOWN                    40963\n",
      "DUSK                       24990\n",
      "DAWN                       14563\n",
      "Name: count, dtype: int64\n",
      "\n",
      "\n",
      "Column: FIRST_CRASH_TYPE\n",
      "FIRST_CRASH_TYPE\n",
      "PARKED MOTOR VEHICLE            203211\n",
      "REAR END                        195141\n",
      "SIDESWIPE SAME DIRECTION        134898\n",
      "TURNING                         126333\n",
      "ANGLE                            95674\n",
      "FIXED OBJECT                     40443\n",
      "PEDESTRIAN                       20678\n",
      "PEDALCYCLIST                     13901\n",
      "SIDESWIPE OPPOSITE DIRECTION     12253\n",
      "REAR TO FRONT                     8938\n",
      "OTHER OBJECT                      8524\n",
      "HEAD ON                           7497\n",
      "REAR TO SIDE                      5332\n",
      "OTHER NONCOLLISION                2579\n",
      "REAR TO REAR                      1854\n",
      "ANIMAL                             632\n",
      "OVERTURNED                         523\n",
      "TRAIN                               44\n",
      "Name: count, dtype: int64\n",
      "\n",
      "\n",
      "Column: TRAFFICWAY_TYPE\n",
      "TRAFFICWAY_TYPE\n",
      "NOT DIVIDED                        379195\n",
      "DIVIDED - W/MEDIAN (NOT RAISED)    139195\n",
      "ONE-WAY                            111263\n",
      "FOUR WAY                            59828\n",
      "PARKING LOT                         59450\n",
      "DIVIDED - W/MEDIAN BARRIER          49812\n",
      "OTHER                               23753\n",
      "ALLEY                               14431\n",
      "T-INTERSECTION                      11883\n",
      "UNKNOWN                             10292\n",
      "CENTER TURN LANE                     6255\n",
      "DRIVEWAY                             2833\n",
      "RAMP                                 2757\n",
      "UNKNOWN INTERSECTION TYPE            2679\n",
      "FIVE POINT, OR MORE                  1316\n",
      "Y-INTERSECTION                       1298\n",
      "TRAFFIC ROUTE                        1088\n",
      "NOT REPORTED                          650\n",
      "ROUNDABOUT                            294\n",
      "L-INTERSECTION                        183\n",
      "Name: count, dtype: int64\n",
      "\n",
      "\n",
      "Column: ALIGNMENT\n",
      "ALIGNMENT\n",
      "STRAIGHT AND LEVEL       857665\n",
      "STRAIGHT ON GRADE         10720\n",
      "CURVE, LEVEL               6188\n",
      "STRAIGHT ON HILLCREST      2220\n",
      "CURVE ON GRADE             1286\n",
      "CURVE ON HILLCREST          376\n",
      "Name: count, dtype: int64\n",
      "\n",
      "\n",
      "Column: ROADWAY_SURFACE_COND\n",
      "ROADWAY_SURFACE_COND\n",
      "DRY                650507\n",
      "WET                114794\n",
      "UNKNOWN             76926\n",
      "SNOW OR SLUSH       28058\n",
      "ICE                  5650\n",
      "OTHER                2205\n",
      "SAND, MUD, DIRT       315\n",
      "Name: count, dtype: int64\n",
      "\n",
      "\n",
      "Column: ROAD_DEFECT\n",
      "ROAD_DEFECT\n",
      "NO DEFECTS           701507\n",
      "UNKNOWN              160088\n",
      "RUT, HOLES             6293\n",
      "OTHER                  4756\n",
      "WORN SURFACE           3633\n",
      "SHOULDER DEFECT        1533\n",
      "DEBRIS ON ROADWAY       645\n",
      "Name: count, dtype: int64\n",
      "\n",
      "\n",
      "Column: CRASH_TYPE\n",
      "CRASH_TYPE\n",
      "NO INJURY / DRIVE AWAY              642713\n",
      "INJURY AND / OR TOW DUE TO CRASH    235742\n",
      "Name: count, dtype: int64\n",
      "\n",
      "\n",
      "Column: DAMAGE\n",
      "DAMAGE\n",
      "OVER $1,500      551017\n",
      "$501 - $1,500    228471\n",
      "$500 OR LESS      98967\n",
      "Name: count, dtype: int64\n",
      "\n",
      "\n",
      "Column: PRIM_CONTRIBUTORY_CAUSE\n",
      "PRIM_CONTRIBUTORY_CAUSE\n",
      "UNABLE TO DETERMINE                                                                 342907\n",
      "FAILING TO YIELD RIGHT-OF-WAY                                                        97036\n",
      "FOLLOWING TOO CLOSELY                                                                85019\n",
      "NOT APPLICABLE                                                                       46319\n",
      "IMPROPER OVERTAKING/PASSING                                                          43784\n",
      "FAILING TO REDUCE SPEED TO AVOID CRASH                                               36950\n",
      "IMPROPER BACKING                                                                     34164\n",
      "IMPROPER LANE USAGE                                                                  31359\n",
      "DRIVING SKILLS/KNOWLEDGE/EXPERIENCE                                                  29787\n",
      "IMPROPER TURNING/NO SIGNAL                                                           29425\n",
      "DISREGARDING TRAFFIC SIGNALS                                                         17227\n",
      "WEATHER                                                                              12593\n",
      "OPERATING VEHICLE IN ERRATIC, RECKLESS, CARELESS, NEGLIGENT OR AGGRESSIVE MANNER     11067\n",
      "DISREGARDING STOP SIGN                                                                9429\n",
      "DISTRACTION - FROM INSIDE VEHICLE                                                     5976\n",
      "EQUIPMENT - VEHICLE CONDITION                                                         5395\n",
      "PHYSICAL CONDITION OF DRIVER                                                          5181\n",
      "VISION OBSCURED (SIGNS, TREE LIMBS, BUILDINGS, ETC.)                                  5007\n",
      "DRIVING ON WRONG SIDE/WRONG WAY                                                       4756\n",
      "UNDER THE INFLUENCE OF ALCOHOL/DRUGS (USE WHEN ARREST IS EFFECTED)                    4085\n",
      "DISTRACTION - FROM OUTSIDE VEHICLE                                                    3567\n",
      "ROAD ENGINEERING/SURFACE/MARKING DEFECTS                                              2110\n",
      "EXCEEDING AUTHORIZED SPEED LIMIT                                                      1971\n",
      "DISREGARDING OTHER TRAFFIC SIGNS                                                      1878\n",
      "ROAD CONSTRUCTION/MAINTENANCE                                                         1855\n",
      "EXCEEDING SAFE SPEED FOR CONDITIONS                                                   1681\n",
      "EVASIVE ACTION DUE TO ANIMAL, OBJECT, NONMOTORIST                                     1603\n",
      "CELL PHONE USE OTHER THAN TEXTING                                                     1163\n",
      "DISREGARDING ROAD MARKINGS                                                            1072\n",
      "HAD BEEN DRINKING (USE WHEN ARREST IS NOT MADE)                                        877\n",
      "ANIMAL                                                                                 744\n",
      "TURNING RIGHT ON RED                                                                   671\n",
      "RELATED TO BUS STOP                                                                    456\n",
      "DISTRACTION - OTHER ELECTRONIC DEVICE (NAVIGATION DEVICE, DVD PLAYER, ETC.)            417\n",
      "TEXTING                                                                                335\n",
      "DISREGARDING YIELD SIGN                                                                276\n",
      "PASSING STOPPED SCHOOL BUS                                                             109\n",
      "OBSTRUCTED CROSSWALKS                                                                   95\n",
      "BICYCLE ADVANCING LEGALLY ON RED LIGHT                                                  86\n",
      "MOTORCYCLE ADVANCING LEGALLY ON RED LIGHT                                               23\n",
      "Name: count, dtype: int64\n",
      "\n",
      "\n",
      "Column: SEC_CONTRIBUTORY_CAUSE\n",
      "SEC_CONTRIBUTORY_CAUSE\n",
      "NOT APPLICABLE                                                                      361834\n",
      "UNABLE TO DETERMINE                                                                 316688\n",
      "FAILING TO REDUCE SPEED TO AVOID CRASH                                               32442\n",
      "FAILING TO YIELD RIGHT-OF-WAY                                                        28108\n",
      "DRIVING SKILLS/KNOWLEDGE/EXPERIENCE                                                  27281\n",
      "FOLLOWING TOO CLOSELY                                                                23197\n",
      "IMPROPER OVERTAKING/PASSING                                                          13653\n",
      "IMPROPER LANE USAGE                                                                  12384\n",
      "WEATHER                                                                               9689\n",
      "IMPROPER TURNING/NO SIGNAL                                                            9104\n",
      "IMPROPER BACKING                                                                      7031\n",
      "OPERATING VEHICLE IN ERRATIC, RECKLESS, CARELESS, NEGLIGENT OR AGGRESSIVE MANNER      5458\n",
      "DISREGARDING TRAFFIC SIGNALS                                                          3576\n",
      "VISION OBSCURED (SIGNS, TREE LIMBS, BUILDINGS, ETC.)                                  2734\n",
      "PHYSICAL CONDITION OF DRIVER                                                          2651\n",
      "DISTRACTION - FROM INSIDE VEHICLE                                                     2635\n",
      "DISREGARDING STOP SIGN                                                                2556\n",
      "DRIVING ON WRONG SIDE/WRONG WAY                                                       1850\n",
      "EQUIPMENT - VEHICLE CONDITION                                                         1767\n",
      "EXCEEDING AUTHORIZED SPEED LIMIT                                                      1469\n",
      "DISTRACTION - FROM OUTSIDE VEHICLE                                                    1445\n",
      "EXCEEDING SAFE SPEED FOR CONDITIONS                                                   1436\n",
      "UNDER THE INFLUENCE OF ALCOHOL/DRUGS (USE WHEN ARREST IS EFFECTED)                    1417\n",
      "HAD BEEN DRINKING (USE WHEN ARREST IS NOT MADE)                                       1040\n",
      "ROAD CONSTRUCTION/MAINTENANCE                                                         1011\n",
      "DISREGARDING OTHER TRAFFIC SIGNS                                                       902\n",
      "DISREGARDING ROAD MARKINGS                                                             863\n",
      "ROAD ENGINEERING/SURFACE/MARKING DEFECTS                                               826\n",
      "CELL PHONE USE OTHER THAN TEXTING                                                      659\n",
      "EVASIVE ACTION DUE TO ANIMAL, OBJECT, NONMOTORIST                                      466\n",
      "RELATED TO BUS STOP                                                                    421\n",
      "ANIMAL                                                                                 417\n",
      "TURNING RIGHT ON RED                                                                   342\n",
      "DISTRACTION - OTHER ELECTRONIC DEVICE (NAVIGATION DEVICE, DVD PLAYER, ETC.)            250\n",
      "BICYCLE ADVANCING LEGALLY ON RED LIGHT                                                 230\n",
      "DISREGARDING YIELD SIGN                                                                220\n",
      "TEXTING                                                                                158\n",
      "OBSTRUCTED CROSSWALKS                                                                   96\n",
      "PASSING STOPPED SCHOOL BUS                                                              91\n",
      "MOTORCYCLE ADVANCING LEGALLY ON RED LIGHT                                               58\n",
      "Name: count, dtype: int64\n",
      "\n",
      "\n",
      "Column: NUM_UNITS\n",
      "NUM_UNITS\n",
      "2.0     769892\n",
      "3.0      48459\n",
      "1.0      47412\n",
      "4.0       9355\n",
      "5.0       2286\n",
      "6.0        651\n",
      "7.0        221\n",
      "8.0         99\n",
      "9.0         38\n",
      "10.0        18\n",
      "11.0         8\n",
      "12.0         5\n",
      "18.0         5\n",
      "14.0         2\n",
      "16.0         2\n",
      "13.0         1\n",
      "15.0         1\n",
      "Name: count, dtype: int64\n",
      "\n",
      "\n",
      "Column: MOST_SEVERE_INJURY\n",
      "MOST_SEVERE_INJURY\n",
      "NO INDICATION OF INJURY     755184\n",
      "NONINCAPACITATING INJURY     69320\n",
      "REPORTED, NOT EVIDENT        38189\n",
      "INCAPACITATING INJURY        14798\n",
      "FATAL                          964\n",
      "Name: count, dtype: int64\n",
      "\n",
      "\n",
      "Column: INJURIES_TOTAL\n",
      "INJURIES_TOTAL\n",
      "0.0     755184\n",
      "1.0      92645\n",
      "2.0      20700\n",
      "3.0       6303\n",
      "4.0       2250\n",
      "5.0        804\n",
      "6.0        312\n",
      "7.0        129\n",
      "8.0         52\n",
      "9.0         27\n",
      "10.0        16\n",
      "11.0         9\n",
      "15.0         7\n",
      "12.0         6\n",
      "21.0         4\n",
      "13.0         3\n",
      "14.0         1\n",
      "17.0         1\n",
      "19.0         1\n",
      "16.0         1\n",
      "Name: count, dtype: int64\n",
      "\n",
      "\n",
      "Column: INJURIES_FATAL\n",
      "INJURIES_FATAL\n",
      "0.0    877491\n",
      "1.0       893\n",
      "2.0        62\n",
      "3.0         8\n",
      "4.0         1\n",
      "Name: count, dtype: int64\n",
      "\n",
      "\n",
      "Column: INJURIES_INCAPACITATING\n",
      "INJURIES_INCAPACITATING\n",
      "0.0     863510\n",
      "1.0      13122\n",
      "2.0       1377\n",
      "3.0        302\n",
      "4.0        104\n",
      "5.0         29\n",
      "6.0          7\n",
      "7.0          2\n",
      "10.0         1\n",
      "8.0          1\n",
      "Name: count, dtype: int64\n",
      "\n",
      "\n",
      "Column: INJURIES_NON_INCAPACITATING\n",
      "INJURIES_NON_INCAPACITATING\n",
      "0.0     806436\n",
      "1.0      56402\n",
      "2.0      10754\n",
      "3.0       3134\n",
      "4.0       1091\n",
      "5.0        376\n",
      "6.0        154\n",
      "7.0         52\n",
      "8.0         22\n",
      "10.0         9\n",
      "9.0          8\n",
      "11.0         6\n",
      "12.0         4\n",
      "21.0         2\n",
      "14.0         1\n",
      "19.0         1\n",
      "18.0         1\n",
      "15.0         1\n",
      "16.0         1\n",
      "Name: count, dtype: int64\n",
      "\n",
      "\n",
      "Column: INJURIES_REPORTED_NOT_EVIDENT\n",
      "INJURIES_REPORTED_NOT_EVIDENT\n",
      "0.0     835857\n",
      "1.0      33104\n",
      "2.0       6849\n",
      "3.0       1780\n",
      "4.0        561\n",
      "5.0        192\n",
      "6.0         53\n",
      "7.0         27\n",
      "8.0         12\n",
      "9.0         10\n",
      "10.0         6\n",
      "11.0         2\n",
      "15.0         2\n",
      "Name: count, dtype: int64\n",
      "\n",
      "\n",
      "Column: INJURIES_NO_INDICATION\n",
      "INJURIES_NO_INDICATION\n",
      "2.0     408230\n",
      "1.0     269430\n",
      "3.0     110734\n",
      "4.0      41350\n",
      "0.0      18827\n",
      "5.0      17382\n",
      "6.0       7222\n",
      "7.0       2807\n",
      "8.0       1251\n",
      "9.0        517\n",
      "10.0       251\n",
      "11.0       117\n",
      "12.0        77\n",
      "13.0        45\n",
      "14.0        41\n",
      "15.0        23\n",
      "16.0        22\n",
      "17.0        18\n",
      "20.0        13\n",
      "19.0         9\n",
      "21.0         7\n",
      "29.0         7\n",
      "26.0         6\n",
      "37.0         6\n",
      "22.0         6\n",
      "18.0         5\n",
      "27.0         5\n",
      "30.0         5\n",
      "24.0         4\n",
      "31.0         4\n",
      "36.0         4\n",
      "25.0         3\n",
      "28.0         3\n",
      "42.0         3\n",
      "32.0         2\n",
      "40.0         2\n",
      "33.0         2\n",
      "34.0         2\n",
      "45.0         2\n",
      "61.0         1\n",
      "46.0         1\n",
      "50.0         1\n",
      "38.0         1\n",
      "43.0         1\n",
      "48.0         1\n",
      "41.0         1\n",
      "23.0         1\n",
      "35.0         1\n",
      "39.0         1\n",
      "49.0         1\n",
      "Name: count, dtype: int64\n",
      "\n",
      "\n",
      "Column: INJURIES_UNKNOWN\n",
      "INJURIES_UNKNOWN\n",
      "0.0    878455\n",
      "Name: count, dtype: int64\n",
      "\n",
      "\n",
      "Column: CRASH_HOUR\n",
      "CRASH_HOUR\n",
      "15.0    68053\n",
      "16.0    67346\n",
      "17.0    65474\n",
      "14.0    58810\n",
      "18.0    53994\n",
      "13.0    53280\n",
      "12.0    51533\n",
      "8.0     46331\n",
      "11.0    44557\n",
      "9.0     40147\n",
      "10.0    39833\n",
      "19.0    39754\n",
      "7.0     37122\n",
      "20.0    32155\n",
      "21.0    28793\n",
      "22.0    26490\n",
      "23.0    22912\n",
      "0.0     19104\n",
      "6.0     18929\n",
      "1.0     16307\n",
      "2.0     13927\n",
      "5.0     12023\n",
      "3.0     11453\n",
      "4.0     10128\n",
      "Name: count, dtype: int64\n",
      "\n",
      "\n",
      "Column: CRASH_DAY_OF_WEEK\n",
      "CRASH_DAY_OF_WEEK\n",
      "6.0    142558\n",
      "7.0    130200\n",
      "5.0    126124\n",
      "3.0    125032\n",
      "4.0    124584\n",
      "2.0    120451\n",
      "1.0    109506\n",
      "Name: count, dtype: int64\n",
      "\n",
      "\n",
      "Column: CRASH_MONTH\n",
      "CRASH_MONTH\n",
      "9.0     81995\n",
      "8.0     80624\n",
      "7.0     78368\n",
      "10.0    78040\n",
      "6.0     77526\n",
      "5.0     77129\n",
      "12.0    70671\n",
      "11.0    69090\n",
      "3.0     67666\n",
      "4.0     66265\n",
      "1.0     65929\n",
      "2.0     65152\n",
      "Name: count, dtype: int64\n",
      "\n",
      "\n",
      "Column: UNIT_NO\n",
      "UNIT_NO\n",
      "1.0          874813\n",
      "2.0          801034\n",
      "3.0           58152\n",
      "4.0           12014\n",
      "5.0            3188\n",
      "6.0            1003\n",
      "7.0             382\n",
      "8.0             169\n",
      "9.0              77\n",
      "10.0             40\n",
      "11.0             23\n",
      "12.0             15\n",
      "0.0              11\n",
      "13.0             10\n",
      "14.0              9\n",
      "15.0              8\n",
      "16.0              7\n",
      "17.0              5\n",
      "18.0              5\n",
      "3778035.0         1\n",
      "Name: count, dtype: int64\n",
      "\n",
      "\n",
      "Column: UNIT_TYPE\n",
      "UNIT_TYPE\n",
      "DRIVER                 1499909\n",
      "PARKED                  236302\n",
      "DRIVERLESS               14302\n",
      "DISABLED VEHICLE           271\n",
      "NON-CONTACT VEHICLE        182\n",
      "Name: count, dtype: int64\n",
      "\n",
      "\n",
      "Column: MAKE\n",
      "MAKE\n",
      "CHEVROLET                                    202199\n",
      "FORD                                         174873\n",
      "UNKNOWN                                      174437\n",
      "NISSAN                                       141210\n",
      "HONDA                                        129051\n",
      "                                              ...  \n",
      "NEW IDEA ELECTRIC LAWN GARDEN TRACTOR             1\n",
      "REX                                               1\n",
      "TRAIL MASTER TRAILERS, INC., COLEMAN, OK          1\n",
      "TRANSPORT SYSTEMS, INC., DENTON, TEXAS            1\n",
      "CORN BELT MANUFACTURING, INC. (EARLY, IA)         1\n",
      "Name: count, Length: 1381, dtype: int64\n",
      "\n",
      "\n",
      "Column: MODEL\n",
      "MODEL\n",
      "UNKNOWN                         180698\n",
      "OTHER (EXPLAIN IN NARRATIVE)    166972\n",
      "CAMRY                            55761\n",
      "COROLLA                          35292\n",
      "CIVIC                            33593\n",
      "                                 ...  \n",
      "BRAT                                 1\n",
      "DUKE MOBILE HOMES                    1\n",
      "FERGUSON MFG. CO., INC.              1\n",
      "WAYSIDE CAMPERS                      1\n",
      "CENTURY ENGINEERING CORP.            1\n",
      "Name: count, Length: 2771, dtype: int64\n",
      "\n",
      "\n",
      "Column: VEHICLE_DEFECT\n",
      "VEHICLE_DEFECT\n",
      "NONE                937884\n",
      "UNKNOWN             794124\n",
      "OTHER                10270\n",
      "BRAKES                5408\n",
      "TIRES                  883\n",
      "STEERING               798\n",
      "WHEELS                 436\n",
      "SUSPENSION             279\n",
      "FUEL SYSTEM            260\n",
      "ENGINE/MOTOR           223\n",
      "WINDOWS                115\n",
      "LIGHTS                 108\n",
      "CARGO                   64\n",
      "SIGNALS                 42\n",
      "RESTRAINT SYSTEM        27\n",
      "TRAILER COUPLING        24\n",
      "EXHAUST                 21\n",
      "Name: count, dtype: int64\n",
      "\n",
      "\n",
      "Column: VEHICLE_TYPE\n",
      "VEHICLE_TYPE\n",
      "PASSENGER                                 1099425\n",
      "SPORT UTILITY VEHICLE (SUV)                242688\n",
      "UNKNOWN/NA                                 160293\n",
      "VAN/MINI-VAN                                82331\n",
      "PICKUP                                      57225\n",
      "TRUCK - SINGLE UNIT                         32886\n",
      "OTHER                                       21477\n",
      "BUS OVER 15 PASS.                           19086\n",
      "TRACTOR W/ SEMI-TRAILER                     16544\n",
      "BUS UP TO 15 PASS.                           5128\n",
      "MOTORCYCLE (OVER 150CC)                      4278\n",
      "SINGLE UNIT TRUCK WITH TRAILER               2953\n",
      "OTHER VEHICLE WITH TRAILER                   2414\n",
      "TRACTOR W/O SEMI-TRAILER                     2181\n",
      "AUTOCYCLE                                     678\n",
      "MOPED OR MOTORIZED BICYCLE                    657\n",
      "MOTOR DRIVEN CYCLE                            328\n",
      "ALL-TERRAIN VEHICLE (ATV)                     199\n",
      "FARM EQUIPMENT                                 87\n",
      "3-WHEELED MOTORCYCLE (2 REAR WHEELS)           70\n",
      "RECREATIONAL OFF-HIGHWAY VEHICLE (ROV)         30\n",
      "SNOWMOBILE                                      8\n",
      "Name: count, dtype: int64\n",
      "\n",
      "\n",
      "Column: VEHICLE_USE\n",
      "VEHICLE_USE\n",
      "PERSONAL                        1131187\n",
      "UNKNOWN/NA                       357751\n",
      "NOT IN USE                        90275\n",
      "OTHER                             55375\n",
      "TAXI/FOR HIRE                     21221\n",
      "COMMERCIAL - SINGLE UNIT          21016\n",
      "RIDESHARE SERVICE                 14426\n",
      "CTA                               12620\n",
      "POLICE                            11518\n",
      "CONSTRUCTION/MAINTENANCE           7783\n",
      "COMMERCIAL - MULTI-UNIT            7000\n",
      "SCHOOL BUS                         4823\n",
      "OTHER TRANSIT                      3962\n",
      "TOW TRUCK                          3376\n",
      "AMBULANCE                          2122\n",
      "FIRE                               1790\n",
      "STATE OWNED                        1507\n",
      "DRIVER EDUCATION                   1339\n",
      "MASS TRANSIT                        831\n",
      "LAWN CARE/LANDSCAPING               627\n",
      "AGRICULTURE                         189\n",
      "CAMPER/RV - SINGLE UNIT             111\n",
      "MILITARY                             68\n",
      "HOUSE TRAILER                        30\n",
      "CAMPER/RV - TOWED/MULTI-UNIT         19\n",
      "Name: count, dtype: int64\n",
      "\n",
      "\n",
      "Column: TRAVEL_DIRECTION\n",
      "TRAVEL_DIRECTION\n",
      "N          411266\n",
      "S          402684\n",
      "W          363869\n",
      "E          356638\n",
      "UNKNOWN    140213\n",
      "SE          22379\n",
      "NW          20536\n",
      "SW          16951\n",
      "NE          16430\n",
      "Name: count, dtype: int64\n",
      "\n",
      "\n",
      "Column: MANEUVER\n",
      "MANEUVER\n",
      "STRAIGHT AHEAD                        810085\n",
      "PARKED                                240620\n",
      "UNKNOWN/NA                            133315\n",
      "SLOW/STOP IN TRAFFIC                  128056\n",
      "TURNING LEFT                          104396\n",
      "BACKING                                70562\n",
      "TURNING RIGHT                          58430\n",
      "PASSING/OVERTAKING                     42625\n",
      "CHANGING LANES                         33483\n",
      "OTHER                                  29449\n",
      "ENTERING TRAFFIC LANE FROM PARKING     20617\n",
      "MERGING                                12301\n",
      "U-TURN                                 10043\n",
      "STARTING IN TRAFFIC                     9814\n",
      "LEAVING TRAFFIC LANE TO PARK            8431\n",
      "AVOIDING VEHICLES/OBJECTS               7372\n",
      "SKIDDING/CONTROL LOSS                   6475\n",
      "ENTER FROM DRIVE/ALLEY                  6202\n",
      "PARKED IN TRAFFIC LANE                  5424\n",
      "SLOW/STOP - LEFT TURN                   3042\n",
      "DRIVING WRONG WAY                       2629\n",
      "NEGOTIATING A CURVE                     2135\n",
      "SLOW/STOP - RIGHT TURN                  1928\n",
      "SLOW/STOP - LOAD/UNLOAD                 1663\n",
      "TURNING ON RED                           664\n",
      "DRIVERLESS                               659\n",
      "DISABLED                                 273\n",
      "DIVERGING                                273\n",
      "Name: count, dtype: int64\n",
      "\n",
      "\n",
      "Column: OCCUPANT_CNT\n",
      "OCCUPANT_CNT\n",
      "1.0     1268453\n",
      "0.0      231535\n",
      "2.0      176982\n",
      "3.0       46455\n",
      "4.0       18478\n",
      "5.0        6052\n",
      "6.0        1615\n",
      "7.0         641\n",
      "8.0         244\n",
      "9.0         112\n",
      "11.0         74\n",
      "10.0         69\n",
      "12.0         44\n",
      "13.0         39\n",
      "15.0         20\n",
      "14.0         17\n",
      "16.0         16\n",
      "18.0         13\n",
      "20.0         11\n",
      "19.0         10\n",
      "28.0          8\n",
      "17.0          8\n",
      "25.0          6\n",
      "26.0          6\n",
      "29.0          5\n",
      "36.0          5\n",
      "21.0          5\n",
      "44.0          4\n",
      "27.0          4\n",
      "35.0          3\n",
      "33.0          3\n",
      "41.0          3\n",
      "30.0          3\n",
      "22.0          3\n",
      "31.0          2\n",
      "39.0          2\n",
      "23.0          2\n",
      "34.0          2\n",
      "43.0          2\n",
      "99.0          2\n",
      "47.0          2\n",
      "37.0          1\n",
      "32.0          1\n",
      "60.0          1\n",
      "24.0          1\n",
      "38.0          1\n",
      "53.0          1\n",
      "Name: count, dtype: int64\n",
      "\n",
      "\n",
      "Column: FIRST_CONTACT_POINT\n",
      "FIRST_CONTACT_POINT\n",
      "FRONT                 343365\n",
      "REAR                  231443\n",
      "UNKNOWN               170220\n",
      "SIDE-LEFT             120502\n",
      "FRONT-LEFT-CORNER     115497\n",
      "SIDE-RIGHT            114620\n",
      "FRONT-RIGHT-CORNER    113180\n",
      "FRONT-LEFT             81476\n",
      "FRONT-RIGHT            76873\n",
      "REAR-LEFT              67985\n",
      "REAR-LEFT-CORNER       51426\n",
      "OTHER                  41461\n",
      "REAR-RIGHT-CORNER      37580\n",
      "REAR-RIGHT             36471\n",
      "SIDE-LEFT-REAR         29362\n",
      "TOTAL (ALL AREAS)      27907\n",
      "SIDE-RIGHT-REAR        22235\n",
      "SIDE-LEFT-FRONT        19133\n",
      "SIDE-RIGHT-FRONT       16529\n",
      "NONE                   13786\n",
      "ROOF                   11902\n",
      "UNDER CARRIAGE          5824\n",
      "TOP                     2189\n",
      "Name: count, dtype: int64\n",
      "\n",
      "\n",
      "Column: PERSON_TYPE\n",
      "PERSON_TYPE\n",
      "DRIVER                 1472282\n",
      "PASSENGER               315782\n",
      "PEDESTRIAN               22264\n",
      "BICYCLE                  14188\n",
      "NON-MOTOR VEHICLE         1607\n",
      "NON-CONTACT VEHICLE        325\n",
      "Name: count, dtype: int64\n",
      "\n",
      "\n",
      "Column: SEX\n",
      "SEX\n",
      "M    951147\n",
      "F    679651\n",
      "X    195650\n",
      "Name: count, dtype: int64\n",
      "\n",
      "\n",
      "Column: DRIVERS_LICENSE_CLASS\n",
      "DRIVERS_LICENSE_CLASS\n",
      "D     1704716\n",
      "A       33731\n",
      "B       25767\n",
      "C       25585\n",
      "DM      13914\n",
      "       ...   \n",
      "CF          1\n",
      "12          1\n",
      "B+          1\n",
      "1G          1\n",
      "25          1\n",
      "Name: count, Length: 289, dtype: int64\n",
      "\n",
      "\n",
      "Column: SAFETY_EQUIPMENT\n",
      "SAFETY_EQUIPMENT\n",
      "USAGE UNKNOWN                                 875739\n",
      "SAFETY BELT USED                              845196\n",
      "NONE PRESENT                                   60258\n",
      "SAFETY BELT NOT USED                            9974\n",
      "HELMET NOT USED                                 9670\n",
      "CHILD RESTRAINT USED                            6956\n",
      "CHILD RESTRAINT - FORWARD FACING                4574\n",
      "BICYCLE HELMET (PEDACYCLIST INVOLVED ONLY)      3772\n",
      "CHILD RESTRAINT - TYPE UNKNOWN                  2299\n",
      "CHILD RESTRAINT - REAR FACING                   2181\n",
      "DOT COMPLIANT MOTORCYCLE HELMET                 1516\n",
      "HELMET USED                                     1351\n",
      "BOOSTER SEAT                                    1192\n",
      "CHILD RESTRAINT NOT USED                         769\n",
      "NOT DOT COMPLIANT MOTORCYCLE HELMET              298\n",
      "SHOULD/LAP BELT USED IMPROPERLY                  269\n",
      "WHEELCHAIR                                       226\n",
      "CHILD RESTRAINT USED IMPROPERLY                  162\n",
      "STRETCHER                                         46\n",
      "Name: count, dtype: int64\n",
      "\n",
      "\n",
      "Column: AIRBAG_DEPLOYED\n",
      "AIRBAG_DEPLOYED\n",
      "DID NOT DEPLOY                            909230\n",
      "DEPLOYMENT UNKNOWN                        417147\n",
      "NOT APPLICABLE                            378358\n",
      "DEPLOYED, FRONT                            58509\n",
      "DEPLOYED, COMBINATION                      45613\n",
      "DEPLOYED, SIDE                             16681\n",
      "DEPLOYED OTHER (KNEE, AIR, BELT, ETC.)       910\n",
      "Name: count, dtype: int64\n",
      "\n",
      "\n",
      "Column: EJECTION\n",
      "EJECTION\n",
      "NONE                  1676941\n",
      "UNKNOWN                141181\n",
      "TOTALLY EJECTED          5761\n",
      "PARTIALLY EJECTED        1423\n",
      "TRAPPED/EXTRICATED       1142\n",
      "Name: count, dtype: int64\n",
      "\n",
      "\n",
      "Column: DRIVER_ACTION\n",
      "DRIVER_ACTION\n",
      "UNKNOWN                              697340\n",
      "NONE                                 534230\n",
      "FAILED TO YIELD                      138868\n",
      "OTHER                                135788\n",
      "FOLLOWED TOO CLOSELY                  89735\n",
      "IMPROPER BACKING                      45107\n",
      "IMPROPER TURN                         40313\n",
      "IMPROPER LANE CHANGE                  39343\n",
      "IMPROPER PASSING                      34384\n",
      "DISREGARDED CONTROL DEVICES           27070\n",
      "TOO FAST FOR CONDITIONS               22497\n",
      "WRONG WAY/SIDE                         6178\n",
      "IMPROPER PARKING                       5647\n",
      "OVERCORRECTED                          3025\n",
      "EVADING POLICE VEHICLE                 2409\n",
      "CELL PHONE USE OTHER THAN TEXTING      2239\n",
      "EMERGENCY VEHICLE ON CALL              1425\n",
      "TEXTING                                 602\n",
      "STOPPED SCHOOL BUS                      182\n",
      "LICENSE RESTRICTIONS                     66\n",
      "Name: count, dtype: int64\n",
      "\n",
      "\n",
      "Column: DRIVER_VISION\n",
      "DRIVER_VISION\n",
      "UNKNOWN                   1039352\n",
      "NOT OBSCURED               750796\n",
      "OTHER                       15012\n",
      "MOVING VEHICLES              8534\n",
      "PARKED VEHICLES              5255\n",
      "WINDSHIELD (WATER/ICE)       4041\n",
      "BLINDED - SUNLIGHT           1829\n",
      "TREES, PLANTS                 608\n",
      "BUILDINGS                     537\n",
      "BLINDED - HEADLIGHTS          163\n",
      "BLOWING MATERIALS             105\n",
      "HILLCREST                      98\n",
      "EMBANKMENT                     82\n",
      "SIGNBOARD                      36\n",
      "Name: count, dtype: int64\n",
      "\n",
      "\n",
      "Column: PHYSICAL_CONDITION\n",
      "PHYSICAL_CONDITION\n",
      "NORMAL                          972901\n",
      "UNKNOWN                         825270\n",
      "IMPAIRED - ALCOHOL                6460\n",
      "REMOVED BY EMS                    5529\n",
      "OTHER                             4458\n",
      "EMOTIONAL                         4028\n",
      "FATIGUED/ASLEEP                   4019\n",
      "ILLNESS/FAINTED                   1377\n",
      "HAD BEEN DRINKING                 1100\n",
      "IMPAIRED - DRUGS                   718\n",
      "IMPAIRED - ALCOHOL AND DRUGS       400\n",
      "MEDICATED                          188\n",
      "Name: count, dtype: int64\n",
      "\n",
      "\n",
      "Column: BAC_RESULT\n",
      "BAC_RESULT\n",
      "TEST NOT OFFERED                   1804333\n",
      "TEST REFUSED                         15776\n",
      "TEST PERFORMED, RESULTS UNKNOWN       3641\n",
      "TEST TAKEN                            2698\n",
      "Name: count, dtype: int64\n",
      "\n",
      "\n",
      "Column: CAUSE\n",
      "CAUSE\n",
      "reckless driving                    277671\n",
      "missed traffic signs                126918\n",
      "issue with the driver or vehicle     45325\n",
      "external factors                     27574\n",
      "other                                  674\n",
      "Name: count, dtype: int64\n",
      "\n",
      "\n"
     ]
    }
   ],
   "source": [
    "#OVERVIEW OF CLEANED COLUMNS\n",
    "for column in df.columns:\n",
    "    print(f\"Column: {column}\")\n",
    "    print(df[column].value_counts())\n",
    "    print(\"\\n\")"
   ]
  },
  {
   "cell_type": "code",
   "execution_count": 89,
   "id": "8c975786",
   "metadata": {
    "execution": {
     "iopub.execute_input": "2024-10-10T18:18:51.118507Z",
     "iopub.status.busy": "2024-10-10T18:18:51.118141Z",
     "iopub.status.idle": "2024-10-10T18:18:57.813235Z",
     "shell.execute_reply": "2024-10-10T18:18:57.812124Z"
    },
    "papermill": {
     "duration": 6.736691,
     "end_time": "2024-10-10T18:18:57.815680",
     "exception": false,
     "start_time": "2024-10-10T18:18:51.078989",
     "status": "completed"
    },
    "tags": []
   },
   "outputs": [],
   "source": [
    "cat_df = df.copy()"
   ]
  },
  {
   "cell_type": "code",
   "execution_count": 90,
   "id": "fbde4007",
   "metadata": {
    "execution": {
     "iopub.execute_input": "2024-10-10T18:18:57.894234Z",
     "iopub.status.busy": "2024-10-10T18:18:57.893441Z",
     "iopub.status.idle": "2024-10-10T18:19:00.994653Z",
     "shell.execute_reply": "2024-10-10T18:19:00.993586Z"
    },
    "papermill": {
     "duration": 3.142619,
     "end_time": "2024-10-10T18:19:00.996981",
     "exception": false,
     "start_time": "2024-10-10T18:18:57.854362",
     "status": "completed"
    },
    "tags": []
   },
   "outputs": [],
   "source": [
    "#Alignment column\n",
    "# Change to binary: 1 if road was straight, 0 if curved\n",
    "def is_straight(x):\n",
    "    if isinstance(x, str):  \n",
    "        return 1 if 'STRAIGHT' in x else 0\n",
    "    else:\n",
    "        return 0\n",
    "    \n",
    "\n",
    "cat_df['ALIGNMENT_STRAIGHT'] = cat_df['ALIGNMENT'].apply(is_straight)"
   ]
  },
  {
   "cell_type": "code",
   "execution_count": 91,
   "id": "8571ad3f",
   "metadata": {
    "execution": {
     "iopub.execute_input": "2024-10-10T18:19:01.076472Z",
     "iopub.status.busy": "2024-10-10T18:19:01.075518Z",
     "iopub.status.idle": "2024-10-10T18:19:01.121827Z",
     "shell.execute_reply": "2024-10-10T18:19:01.120962Z"
    },
    "papermill": {
     "duration": 0.088164,
     "end_time": "2024-10-10T18:19:01.123814",
     "exception": false,
     "start_time": "2024-10-10T18:19:01.035650",
     "status": "completed"
    },
    "tags": []
   },
   "outputs": [
    {
     "data": {
      "text/plain": [
       "ALIGNMENT_STRAIGHT\n",
       "0    3585264\n",
       "1     870605\n",
       "Name: count, dtype: int64"
      ]
     },
     "execution_count": 91,
     "metadata": {},
     "output_type": "execute_result"
    }
   ],
   "source": [
    "cat_df['ALIGNMENT_STRAIGHT'].value_counts()"
   ]
  },
  {
   "cell_type": "code",
   "execution_count": 92,
   "id": "57b28189",
   "metadata": {
    "execution": {
     "iopub.execute_input": "2024-10-10T18:19:01.201317Z",
     "iopub.status.busy": "2024-10-10T18:19:01.200975Z",
     "iopub.status.idle": "2024-10-10T18:19:04.387830Z",
     "shell.execute_reply": "2024-10-10T18:19:04.386830Z"
    },
    "papermill": {
     "duration": 3.227919,
     "end_time": "2024-10-10T18:19:04.390155",
     "exception": false,
     "start_time": "2024-10-10T18:19:01.162236",
     "status": "completed"
    },
    "tags": []
   },
   "outputs": [],
   "source": [
    "#Crash type \n",
    "# 1 if crash did not result in injury, 0 if crash resulted in injury and/or tow\n",
    "def no_injury(x):\n",
    "    if isinstance(x, str):  \n",
    "        return 1 if 'NO INJURY' in x else 0\n",
    "    else:\n",
    "        return 0 \n",
    "\n",
    "cat_df['CRASH_TYPE_NO_INJURY'] = cat_df['CRASH_TYPE'].apply(no_injury)"
   ]
  },
  {
   "cell_type": "code",
   "execution_count": 93,
   "id": "af3f6a7d",
   "metadata": {
    "execution": {
     "iopub.execute_input": "2024-10-10T18:19:04.470439Z",
     "iopub.status.busy": "2024-10-10T18:19:04.470083Z",
     "iopub.status.idle": "2024-10-10T18:19:04.513359Z",
     "shell.execute_reply": "2024-10-10T18:19:04.512423Z"
    },
    "papermill": {
     "duration": 0.085908,
     "end_time": "2024-10-10T18:19:04.515257",
     "exception": false,
     "start_time": "2024-10-10T18:19:04.429349",
     "status": "completed"
    },
    "tags": []
   },
   "outputs": [
    {
     "data": {
      "text/plain": [
       "CRASH_TYPE_NO_INJURY\n",
       "0    3813156\n",
       "1     642713\n",
       "Name: count, dtype: int64"
      ]
     },
     "execution_count": 93,
     "metadata": {},
     "output_type": "execute_result"
    }
   ],
   "source": [
    "cat_df['CRASH_TYPE_NO_INJURY'].value_counts()"
   ]
  },
  {
   "cell_type": "code",
   "execution_count": 94,
   "id": "99455f7e",
   "metadata": {
    "execution": {
     "iopub.execute_input": "2024-10-10T18:19:04.591979Z",
     "iopub.status.busy": "2024-10-10T18:19:04.591627Z",
     "iopub.status.idle": "2024-10-10T18:19:04.602669Z",
     "shell.execute_reply": "2024-10-10T18:19:04.601839Z"
    },
    "papermill": {
     "duration": 0.052229,
     "end_time": "2024-10-10T18:19:04.605208",
     "exception": false,
     "start_time": "2024-10-10T18:19:04.552979",
     "status": "completed"
    },
    "tags": []
   },
   "outputs": [
    {
     "name": "stdout",
     "output_type": "stream",
     "text": [
      "<class 'pandas.core.frame.DataFrame'>\n",
      "Index: 4455869 entries, 0 to 4566059\n",
      "Data columns (total 51 columns):\n",
      " #   Column                         Dtype  \n",
      "---  ------                         -----  \n",
      " 0   CRASH_RECORD_ID                object \n",
      " 1   POSTED_SPEED_LIMIT             float64\n",
      " 2   TRAFFIC_CONTROL_DEVICE         object \n",
      " 3   DEVICE_CONDITION               object \n",
      " 4   WEATHER_CONDITION              object \n",
      " 5   LIGHTING_CONDITION             object \n",
      " 6   FIRST_CRASH_TYPE               object \n",
      " 7   TRAFFICWAY_TYPE                object \n",
      " 8   ALIGNMENT                      object \n",
      " 9   ROADWAY_SURFACE_COND           object \n",
      " 10  ROAD_DEFECT                    object \n",
      " 11  CRASH_TYPE                     object \n",
      " 12  DAMAGE                         object \n",
      " 13  PRIM_CONTRIBUTORY_CAUSE        object \n",
      " 14  SEC_CONTRIBUTORY_CAUSE         object \n",
      " 15  NUM_UNITS                      float64\n",
      " 16  MOST_SEVERE_INJURY             object \n",
      " 17  INJURIES_TOTAL                 float64\n",
      " 18  INJURIES_FATAL                 float64\n",
      " 19  INJURIES_INCAPACITATING        float64\n",
      " 20  INJURIES_NON_INCAPACITATING    float64\n",
      " 21  INJURIES_REPORTED_NOT_EVIDENT  float64\n",
      " 22  INJURIES_NO_INDICATION         float64\n",
      " 23  INJURIES_UNKNOWN               float64\n",
      " 24  CRASH_HOUR                     float64\n",
      " 25  CRASH_DAY_OF_WEEK              float64\n",
      " 26  CRASH_MONTH                    float64\n",
      " 27  UNIT_NO                        float64\n",
      " 28  UNIT_TYPE                      object \n",
      " 29  MAKE                           object \n",
      " 30  MODEL                          object \n",
      " 31  VEHICLE_DEFECT                 object \n",
      " 32  VEHICLE_TYPE                   object \n",
      " 33  VEHICLE_USE                    object \n",
      " 34  TRAVEL_DIRECTION               object \n",
      " 35  MANEUVER                       object \n",
      " 36  OCCUPANT_CNT                   float64\n",
      " 37  FIRST_CONTACT_POINT            object \n",
      " 38  PERSON_TYPE                    object \n",
      " 39  SEX                            object \n",
      " 40  DRIVERS_LICENSE_CLASS          object \n",
      " 41  SAFETY_EQUIPMENT               object \n",
      " 42  AIRBAG_DEPLOYED                object \n",
      " 43  EJECTION                       object \n",
      " 44  DRIVER_ACTION                  object \n",
      " 45  DRIVER_VISION                  object \n",
      " 46  PHYSICAL_CONDITION             object \n",
      " 47  BAC_RESULT                     object \n",
      " 48  CAUSE                          object \n",
      " 49  ALIGNMENT_STRAIGHT             int64  \n",
      " 50  CRASH_TYPE_NO_INJURY           int64  \n",
      "dtypes: float64(14), int64(2), object(35)\n",
      "memory usage: 1.7+ GB\n"
     ]
    }
   ],
   "source": [
    "cat_df.info()"
   ]
  },
  {
   "cell_type": "code",
   "execution_count": 95,
   "id": "0dd241ae",
   "metadata": {
    "execution": {
     "iopub.execute_input": "2024-10-10T18:19:04.684395Z",
     "iopub.status.busy": "2024-10-10T18:19:04.683640Z",
     "iopub.status.idle": "2024-10-10T18:19:05.272646Z",
     "shell.execute_reply": "2024-10-10T18:19:05.271712Z"
    },
    "papermill": {
     "duration": 0.630418,
     "end_time": "2024-10-10T18:19:05.274754",
     "exception": false,
     "start_time": "2024-10-10T18:19:04.644336",
     "status": "completed"
    },
    "tags": []
   },
   "outputs": [
    {
     "data": {
      "image/png": "[encoded data removed]",
      "text/plain": [
       "<Figure size 1200x600 with 1 Axes>"
      ]
     },
     "metadata": {},
     "output_type": "display_data"
    }
   ],
   "source": [
    "# Top 10 most common weather conditions\n",
    "weather_counts = df['WEATHER_CONDITION'].value_counts().head(10)\n",
    "plt.figure(figsize=(12, 6))\n",
    "weather_counts.plot(kind='bar')\n",
    "plt.title('Top 10 Most Common Weather Conditions')\n",
    "plt.xlabel('Weather Condition')\n",
    "plt.ylabel('Count')\n",
    "plt.xticks(rotation=45, ha='right')\n",
    "plt.tight_layout()\n",
    "plt.show()"
   ]
  },
  {
   "cell_type": "code",
   "execution_count": 96,
   "id": "711ffbd3",
   "metadata": {
    "execution": {
     "iopub.execute_input": "2024-10-10T18:19:05.355687Z",
     "iopub.status.busy": "2024-10-10T18:19:05.354866Z",
     "iopub.status.idle": "2024-10-10T18:19:05.794290Z",
     "shell.execute_reply": "2024-10-10T18:19:05.793364Z"
    },
    "papermill": {
     "duration": 0.48203,
     "end_time": "2024-10-10T18:19:05.796424",
     "exception": false,
     "start_time": "2024-10-10T18:19:05.314394",
     "status": "completed"
    },
    "tags": []
   },
   "outputs": [
    {
     "data": {
      "image/png": "[encoded data removed]",
      "text/plain": [
       "<Figure size 1200x600 with 1 Axes>"
      ]
     },
     "metadata": {},
     "output_type": "display_data"
    }
   ],
   "source": [
    "# Distribution of causes\n",
    "cause_counts = df['CAUSE'].value_counts()\n",
    "plt.figure(figsize=(12, 6))\n",
    "cause_counts.plot(kind='bar')\n",
    "plt.title('Distribution of Causes')\n",
    "plt.xlabel('Cause of Crash')\n",
    "plt.ylabel('Count')\n",
    "plt.xticks(rotation=45, ha='right')\n",
    "plt.tight_layout()\n",
    "plt.show()"
   ]
  },
  {
   "cell_type": "code",
   "execution_count": 97,
   "id": "6d4c5c69",
   "metadata": {
    "execution": {
     "iopub.execute_input": "2024-10-10T18:19:05.878400Z",
     "iopub.status.busy": "2024-10-10T18:19:05.877442Z",
     "iopub.status.idle": "2024-10-10T18:19:08.350040Z",
     "shell.execute_reply": "2024-10-10T18:19:08.348952Z"
    },
    "papermill": {
     "duration": 2.515457,
     "end_time": "2024-10-10T18:19:08.352205",
     "exception": false,
     "start_time": "2024-10-10T18:19:05.836748",
     "status": "completed"
    },
    "tags": []
   },
   "outputs": [
    {
     "data": {
      "image/png": "[encoded data removed]",
      "text/plain": [
       "<Figure size 1000x600 with 1 Axes>"
      ]
     },
     "metadata": {},
     "output_type": "display_data"
    }
   ],
   "source": [
    "# Relationship between speed limit and causes\n",
    "plt.figure(figsize=(10, 6))\n",
    "sns.boxplot(x='POSTED_SPEED_LIMIT', y='CAUSE', data=cat_df)\n",
    "plt.title('Relationship between Posted Speed Limit and Causes')\n",
    "plt.xlabel('Posted Speed Limit')\n",
    "plt.ylabel('Causes Of Crash')\n",
    "plt.show()"
   ]
  },
  {
   "cell_type": "code",
   "execution_count": 98,
   "id": "75984012",
   "metadata": {
    "execution": {
     "iopub.execute_input": "2024-10-10T18:19:08.435556Z",
     "iopub.status.busy": "2024-10-10T18:19:08.435226Z",
     "iopub.status.idle": "2024-10-10T18:19:08.468022Z",
     "shell.execute_reply": "2024-10-10T18:19:08.466947Z"
    },
    "papermill": {
     "duration": 0.076802,
     "end_time": "2024-10-10T18:19:08.470168",
     "exception": false,
     "start_time": "2024-10-10T18:19:08.393366",
     "status": "completed"
    },
    "tags": []
   },
   "outputs": [
    {
     "name": "stdout",
     "output_type": "stream",
     "text": [
      "28.42366199748422\n"
     ]
    }
   ],
   "source": [
    "print(cat_df['POSTED_SPEED_LIMIT'].mean())"
   ]
  },
  {
   "cell_type": "markdown",
   "id": "51352ed9",
   "metadata": {
    "papermill": {
     "duration": 0.040434,
     "end_time": "2024-10-10T18:19:08.551351",
     "exception": false,
     "start_time": "2024-10-10T18:19:08.510917",
     "status": "completed"
    },
    "tags": []
   },
   "source": [
    "Most accidents surely fall in the reckless driving category. But driving fast does not necessarily lead to  crash."
   ]
  },
  {
   "cell_type": "code",
   "execution_count": 99,
   "id": "244e1a6c",
   "metadata": {
    "execution": {
     "iopub.execute_input": "2024-10-10T18:19:08.634310Z",
     "iopub.status.busy": "2024-10-10T18:19:08.633916Z",
     "iopub.status.idle": "2024-10-10T18:19:09.109084Z",
     "shell.execute_reply": "2024-10-10T18:19:09.108023Z"
    },
    "papermill": {
     "duration": 0.519293,
     "end_time": "2024-10-10T18:19:09.111351",
     "exception": false,
     "start_time": "2024-10-10T18:19:08.592058",
     "status": "completed"
    },
    "tags": []
   },
   "outputs": [
    {
     "name": "stdout",
     "output_type": "stream",
     "text": [
      "FIRST_CRASH_TYPE\n",
      "PEDESTRIAN                      0.933698\n",
      "PEDALCYCLIST                    0.718006\n",
      "TRAIN                           0.613636\n",
      "OVERTURNED                      0.592734\n",
      "HEAD ON                         0.568894\n",
      "ANGLE                           0.367707\n",
      "TURNING                         0.249317\n",
      "FIXED OBJECT                    0.226244\n",
      "REAR END                        0.187398\n",
      "OTHER NONCOLLISION              0.183792\n",
      "SIDESWIPE OPPOSITE DIRECTION    0.164858\n",
      "OTHER OBJECT                    0.162365\n",
      "REAR TO SIDE                    0.100900\n",
      "SIDESWIPE SAME DIRECTION        0.073203\n",
      "ANIMAL                          0.069620\n",
      "REAR TO FRONT                   0.063885\n",
      "PARKED MOTOR VEHICLE            0.043300\n",
      "REAR TO REAR                    0.022654\n",
      "Name: INJURIES_TOTAL, dtype: float64\n"
     ]
    }
   ],
   "source": [
    "#types of crashes that result in the most injuries\n",
    "# Group by crash type and calculate the mean number of injuries\n",
    "crash_type_injuries = cat_df.groupby('FIRST_CRASH_TYPE')['INJURIES_TOTAL'].mean().sort_values(ascending=False)\n",
    "\n",
    "print(crash_type_injuries)"
   ]
  },
  {
   "cell_type": "code",
   "execution_count": 100,
   "id": "78d1b134",
   "metadata": {
    "execution": {
     "iopub.execute_input": "2024-10-10T18:19:09.193809Z",
     "iopub.status.busy": "2024-10-10T18:19:09.193447Z",
     "iopub.status.idle": "2024-10-10T18:19:09.454264Z",
     "shell.execute_reply": "2024-10-10T18:19:09.453243Z"
    },
    "papermill": {
     "duration": 0.30422,
     "end_time": "2024-10-10T18:19:09.456397",
     "exception": false,
     "start_time": "2024-10-10T18:19:09.152177",
     "status": "completed"
    },
    "tags": []
   },
   "outputs": [
    {
     "data": {
      "image/png": "[encoded data removed]",
      "text/plain": [
       "<Figure size 1200x600 with 1 Axes>"
      ]
     },
     "metadata": {},
     "output_type": "display_data"
    }
   ],
   "source": [
    "plt.figure(figsize=(12, 6))\n",
    "crash_type_injuries.head(10).plot(kind='bar')\n",
    "plt.title('Top 10 Crash Types by Mean Injuries')\n",
    "plt.xlabel('Crash Type')\n",
    "plt.ylabel('Mean Number of Injuries')\n",
    "plt.xticks(rotation=45, ha='right')\n",
    "plt.tight_layout()\n",
    "plt.show()"
   ]
  },
  {
   "cell_type": "code",
   "execution_count": 101,
   "id": "675232ea",
   "metadata": {
    "execution": {
     "iopub.execute_input": "2024-10-10T18:19:09.544647Z",
     "iopub.status.busy": "2024-10-10T18:19:09.543727Z",
     "iopub.status.idle": "2024-10-10T18:19:10.704880Z",
     "shell.execute_reply": "2024-10-10T18:19:10.703909Z"
    },
    "papermill": {
     "duration": 1.207626,
     "end_time": "2024-10-10T18:19:10.707247",
     "exception": false,
     "start_time": "2024-10-10T18:19:09.499621",
     "status": "completed"
    },
    "tags": []
   },
   "outputs": [],
   "source": [
    "encoder = LabelEncoder()\n",
    "\n",
    "cat_df['CAUSE'] = encoder.fit_transform(cat_df['CAUSE'])"
   ]
  },
  {
   "cell_type": "code",
   "execution_count": 102,
   "id": "05b4ea54",
   "metadata": {
    "execution": {
     "iopub.execute_input": "2024-10-10T18:19:10.793631Z",
     "iopub.status.busy": "2024-10-10T18:19:10.792886Z",
     "iopub.status.idle": "2024-10-10T18:19:10.805007Z",
     "shell.execute_reply": "2024-10-10T18:19:10.804166Z"
    },
    "papermill": {
     "duration": 0.058007,
     "end_time": "2024-10-10T18:19:10.807420",
     "exception": false,
     "start_time": "2024-10-10T18:19:10.749413",
     "status": "completed"
    },
    "tags": []
   },
   "outputs": [
    {
     "name": "stdout",
     "output_type": "stream",
     "text": [
      "<class 'pandas.core.frame.DataFrame'>\n",
      "Index: 4455869 entries, 0 to 4566059\n",
      "Data columns (total 51 columns):\n",
      " #   Column                         Dtype  \n",
      "---  ------                         -----  \n",
      " 0   CRASH_RECORD_ID                object \n",
      " 1   POSTED_SPEED_LIMIT             float64\n",
      " 2   TRAFFIC_CONTROL_DEVICE         object \n",
      " 3   DEVICE_CONDITION               object \n",
      " 4   WEATHER_CONDITION              object \n",
      " 5   LIGHTING_CONDITION             object \n",
      " 6   FIRST_CRASH_TYPE               object \n",
      " 7   TRAFFICWAY_TYPE                object \n",
      " 8   ALIGNMENT                      object \n",
      " 9   ROADWAY_SURFACE_COND           object \n",
      " 10  ROAD_DEFECT                    object \n",
      " 11  CRASH_TYPE                     object \n",
      " 12  DAMAGE                         object \n",
      " 13  PRIM_CONTRIBUTORY_CAUSE        object \n",
      " 14  SEC_CONTRIBUTORY_CAUSE         object \n",
      " 15  NUM_UNITS                      float64\n",
      " 16  MOST_SEVERE_INJURY             object \n",
      " 17  INJURIES_TOTAL                 float64\n",
      " 18  INJURIES_FATAL                 float64\n",
      " 19  INJURIES_INCAPACITATING        float64\n",
      " 20  INJURIES_NON_INCAPACITATING    float64\n",
      " 21  INJURIES_REPORTED_NOT_EVIDENT  float64\n",
      " 22  INJURIES_NO_INDICATION         float64\n",
      " 23  INJURIES_UNKNOWN               float64\n",
      " 24  CRASH_HOUR                     float64\n",
      " 25  CRASH_DAY_OF_WEEK              float64\n",
      " 26  CRASH_MONTH                    float64\n",
      " 27  UNIT_NO                        float64\n",
      " 28  UNIT_TYPE                      object \n",
      " 29  MAKE                           object \n",
      " 30  MODEL                          object \n",
      " 31  VEHICLE_DEFECT                 object \n",
      " 32  VEHICLE_TYPE                   object \n",
      " 33  VEHICLE_USE                    object \n",
      " 34  TRAVEL_DIRECTION               object \n",
      " 35  MANEUVER                       object \n",
      " 36  OCCUPANT_CNT                   float64\n",
      " 37  FIRST_CONTACT_POINT            object \n",
      " 38  PERSON_TYPE                    object \n",
      " 39  SEX                            object \n",
      " 40  DRIVERS_LICENSE_CLASS          object \n",
      " 41  SAFETY_EQUIPMENT               object \n",
      " 42  AIRBAG_DEPLOYED                object \n",
      " 43  EJECTION                       object \n",
      " 44  DRIVER_ACTION                  object \n",
      " 45  DRIVER_VISION                  object \n",
      " 46  PHYSICAL_CONDITION             object \n",
      " 47  BAC_RESULT                     object \n",
      " 48  CAUSE                          int64  \n",
      " 49  ALIGNMENT_STRAIGHT             int64  \n",
      " 50  CRASH_TYPE_NO_INJURY           int64  \n",
      "dtypes: float64(14), int64(3), object(34)\n",
      "memory usage: 1.7+ GB\n"
     ]
    }
   ],
   "source": [
    "cat_df.info()"
   ]
  },
  {
   "cell_type": "code",
   "execution_count": 103,
   "id": "528236c3",
   "metadata": {
    "execution": {
     "iopub.execute_input": "2024-10-10T18:19:10.892997Z",
     "iopub.status.busy": "2024-10-10T18:19:10.892541Z",
     "iopub.status.idle": "2024-10-10T18:19:11.378227Z",
     "shell.execute_reply": "2024-10-10T18:19:11.377258Z"
    },
    "papermill": {
     "duration": 0.531543,
     "end_time": "2024-10-10T18:19:11.380969",
     "exception": false,
     "start_time": "2024-10-10T18:19:10.849426",
     "status": "completed"
    },
    "tags": []
   },
   "outputs": [
    {
     "name": "stdout",
     "output_type": "stream",
     "text": [
      "FIRST_CRASH_TYPE\n",
      "PARKED MOTOR VEHICLE            4.304806\n",
      "REAR TO REAR                    4.291262\n",
      "REAR END                        4.111606\n",
      "REAR TO FRONT                   4.111211\n",
      "SIDESWIPE OPPOSITE DIRECTION    3.994369\n",
      "SIDESWIPE SAME DIRECTION        3.971393\n",
      "REAR TO SIDE                    3.851275\n",
      "HEAD ON                         3.799653\n",
      "OVERTURNED                      3.646272\n",
      "OTHER OBJECT                    3.641483\n",
      "PEDALCYCLIST                    3.605424\n",
      "FIXED OBJECT                    3.563831\n",
      "TURNING                         3.557796\n",
      "PEDESTRIAN                      3.523261\n",
      "ANGLE                           3.126252\n",
      "OTHER NONCOLLISION              3.078713\n",
      "TRAIN                           3.068182\n",
      "ANIMAL                          1.757911\n",
      "Name: CAUSE, dtype: float64\n"
     ]
    }
   ],
   "source": [
    "crash_type_cause = cat_df.groupby('FIRST_CRASH_TYPE')['CAUSE'].mean().sort_values(ascending=False)\n",
    "\n",
    "print(crash_type_cause)"
   ]
  },
  {
   "cell_type": "code",
   "execution_count": 104,
   "id": "8fa9a2ac",
   "metadata": {
    "execution": {
     "iopub.execute_input": "2024-10-10T18:19:11.468864Z",
     "iopub.status.busy": "2024-10-10T18:19:11.468368Z",
     "iopub.status.idle": "2024-10-10T18:19:11.749380Z",
     "shell.execute_reply": "2024-10-10T18:19:11.748435Z"
    },
    "papermill": {
     "duration": 0.328095,
     "end_time": "2024-10-10T18:19:11.751568",
     "exception": false,
     "start_time": "2024-10-10T18:19:11.423473",
     "status": "completed"
    },
    "tags": []
   },
   "outputs": [
    {
     "data": {
      "image/png": "[encoded data removed]",
      "text/plain": [
       "<Figure size 1200x600 with 1 Axes>"
      ]
     },
     "metadata": {},
     "output_type": "display_data"
    }
   ],
   "source": [
    "plt.figure(figsize=(12, 6))\n",
    "crash_type_cause.head(10).plot(kind='bar')\n",
    "plt.title('Top 10 Crash Types by Cause')\n",
    "plt.xlabel('Crash Type')\n",
    "plt.ylabel('Mean Number of Causes')\n",
    "plt.xticks(rotation=45, ha='right')\n",
    "plt.tight_layout()\n",
    "plt.show()"
   ]
  }
 ],
 "metadata": {
  "kaggle": {
   "accelerator": "gpu",
   "dataSources": [
    {
     "datasetId": 5848063,
     "sourceId": 9588897,
     "sourceType": "datasetVersion"
    }
   ],
   "dockerImageVersionId": 30786,
   "isGpuEnabled": true,
   "isInternetEnabled": true,
   "language": "python",
   "sourceType": "notebook"
  },
  "kernelspec": {
   "display_name": "Python 3",
   "language": "python",
   "name": "python3"
  },
  "language_info": {
   "codemirror_mode": {
    "name": "ipython",
    "version": 3
   },
   "file_extension": ".py",
   "mimetype": "text/x-python",
   "name": "python",
   "nbconvert_exporter": "python",
   "pygments_lexer": "ipython3",
   "version": "3.10.14"
  },
  "papermill": {
   "default_parameters": {},
   "duration": 270.107879,
   "end_time": "2024-10-10T18:19:14.613694",
   "environment_variables": {},
   "exception": null,
   "input_path": "__notebook__.ipynb",
   "output_path": "__notebook__.ipynb",
   "parameters": {},
   "start_time": "2024-10-10T18:14:44.505815",
   "version": "2.6.0"
  }
 },
 "nbformat": 4,
 "nbformat_minor": 5
}
